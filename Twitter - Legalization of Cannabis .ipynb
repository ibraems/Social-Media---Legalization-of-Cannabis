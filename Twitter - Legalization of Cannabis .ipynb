{
 "cells": [
  {
   "cell_type": "markdown",
   "metadata": {},
   "source": [
    "# Social Media Twitter - Legalization of Cannabis"
   ]
  },
  {
   "cell_type": "markdown",
   "metadata": {},
   "source": [
    "    This project was completed in collaboration: Ahmad Mian, Hyun Choi, Ibrahim Said, Roberto Jimenez"
   ]
  },
  {
   "cell_type": "markdown",
   "metadata": {},
   "source": [
    "### Downloading tweetter data"
   ]
  },
  {
   "cell_type": "code",
   "execution_count": 1,
   "metadata": {},
   "outputs": [],
   "source": [
    "from tweepy.streaming import StreamListener\n",
    "from tweepy import OAuthHandler\n",
    "from tweepy import Stream"
   ]
  },
  {
   "cell_type": "code",
   "execution_count": null,
   "metadata": {},
   "outputs": [],
   "source": [
    "#Variables that contains the user credentials to access Twitter API \n",
    "access_token = \"XXXXXXXXXXXXXXXX\"\n",
    "access_token_secret = \"XXXXXXXXXXXXXXXX\"\n",
    "consumer_key = \"XXXXXXXXXXXXXXXX\"\n",
    "consumer_secret = \"XXXXXXXXXXXXXXXX\"\n",
    "\n",
    "class StdOutListener(StreamListener):\n",
    "    def on_data(self, data):\n",
    "        with open(\"cannabis_tweets.json\", 'a') as outputResult:\n",
    "            outputResult.write(data+'\\n')\n",
    "            print (data)\n",
    "        return True\n",
    "\n",
    "    def on_error(self, status):\n",
    "        print (status)\n",
    "\n",
    "if __name__ == '__main__':\n",
    "\n",
    "    l = StdOutListener()\n",
    "    auth = OAuthHandler(consumer_key, consumer_secret)\n",
    "    auth.set_access_token(access_token, access_token_secret)\n",
    "    stream = Stream(auth, l)\n",
    "    stream.filter(track=['cannibas', 'pot'])"
   ]
  },
  {
   "cell_type": "markdown",
   "metadata": {},
   "source": [
    "### General analysis of the raw data (Tweets)"
   ]
  },
  {
   "cell_type": "code",
   "execution_count": 1,
   "metadata": {},
   "outputs": [],
   "source": [
    "import json\n",
    "import pandas as pd"
   ]
  },
  {
   "cell_type": "markdown",
   "metadata": {},
   "source": [
    "#### Reading the Json data and append it to list"
   ]
  },
  {
   "cell_type": "code",
   "execution_count": 2,
   "metadata": {},
   "outputs": [],
   "source": [
    "tweets_data = []\n",
    "tweets_file = open('cannabis_tweets.json', \"r\")\n",
    "for line in tweets_file:\n",
    "    try:\n",
    "        tweet = json.loads(line)\n",
    "        tweets_data.append(tweet)\n",
    "    except:\n",
    "        continue"
   ]
  },
  {
   "cell_type": "code",
   "execution_count": 3,
   "metadata": {},
   "outputs": [
    {
     "data": {
      "text/plain": [
       "23818"
      ]
     },
     "execution_count": 3,
     "metadata": {},
     "output_type": "execute_result"
    }
   ],
   "source": [
    "len(tweets_data)"
   ]
  },
  {
   "cell_type": "markdown",
   "metadata": {},
   "source": [
    "#### Convert the list to DataFrame"
   ]
  },
  {
   "cell_type": "code",
   "execution_count": 4,
   "metadata": {},
   "outputs": [],
   "source": [
    "data = pd.DataFrame(tweets_data)"
   ]
  },
  {
   "cell_type": "code",
   "execution_count": 5,
   "metadata": {},
   "outputs": [
    {
     "data": {
      "text/html": [
       "<div>\n",
       "<style scoped>\n",
       "    .dataframe tbody tr th:only-of-type {\n",
       "        vertical-align: middle;\n",
       "    }\n",
       "\n",
       "    .dataframe tbody tr th {\n",
       "        vertical-align: top;\n",
       "    }\n",
       "\n",
       "    .dataframe thead th {\n",
       "        text-align: right;\n",
       "    }\n",
       "</style>\n",
       "<table border=\"1\" class=\"dataframe\">\n",
       "  <thead>\n",
       "    <tr style=\"text-align: right;\">\n",
       "      <th></th>\n",
       "      <th>contributors</th>\n",
       "      <th>coordinates</th>\n",
       "      <th>created_at</th>\n",
       "      <th>display_text_range</th>\n",
       "      <th>entities</th>\n",
       "      <th>extended_entities</th>\n",
       "      <th>extended_tweet</th>\n",
       "      <th>favorite_count</th>\n",
       "      <th>favorited</th>\n",
       "      <th>filter_level</th>\n",
       "      <th>...</th>\n",
       "      <th>quoted_status_permalink</th>\n",
       "      <th>reply_count</th>\n",
       "      <th>retweet_count</th>\n",
       "      <th>retweeted</th>\n",
       "      <th>retweeted_status</th>\n",
       "      <th>source</th>\n",
       "      <th>text</th>\n",
       "      <th>timestamp_ms</th>\n",
       "      <th>truncated</th>\n",
       "      <th>user</th>\n",
       "    </tr>\n",
       "  </thead>\n",
       "  <tbody>\n",
       "    <tr>\n",
       "      <th>0</th>\n",
       "      <td>None</td>\n",
       "      <td>None</td>\n",
       "      <td>Tue Nov 27 14:05:03 +0000 2018</td>\n",
       "      <td>NaN</td>\n",
       "      <td>{'hashtags': [], 'urls': [], 'user_mentions': ...</td>\n",
       "      <td>NaN</td>\n",
       "      <td>NaN</td>\n",
       "      <td>0</td>\n",
       "      <td>False</td>\n",
       "      <td>low</td>\n",
       "      <td>...</td>\n",
       "      <td>NaN</td>\n",
       "      <td>0</td>\n",
       "      <td>0</td>\n",
       "      <td>False</td>\n",
       "      <td>{'created_at': 'Mon Nov 26 12:00:25 +0000 2018...</td>\n",
       "      <td>&lt;a href=\"http://twitter.com\" rel=\"nofollow\"&gt;Tw...</td>\n",
       "      <td>RT @HIGH_TIMES_Mag: Silver Heads: Medical Cann...</td>\n",
       "      <td>1543327503773</td>\n",
       "      <td>False</td>\n",
       "      <td>{'id': 213401002, 'id_str': '213401002', 'name...</td>\n",
       "    </tr>\n",
       "    <tr>\n",
       "      <th>1</th>\n",
       "      <td>None</td>\n",
       "      <td>None</td>\n",
       "      <td>Tue Nov 27 14:05:08 +0000 2018</td>\n",
       "      <td>NaN</td>\n",
       "      <td>{'hashtags': [], 'urls': [{'url': 'https://t.c...</td>\n",
       "      <td>NaN</td>\n",
       "      <td>NaN</td>\n",
       "      <td>0</td>\n",
       "      <td>False</td>\n",
       "      <td>low</td>\n",
       "      <td>...</td>\n",
       "      <td>NaN</td>\n",
       "      <td>0</td>\n",
       "      <td>0</td>\n",
       "      <td>False</td>\n",
       "      <td>NaN</td>\n",
       "      <td>&lt;a href=\"http://www.facebook.com/twitter\" rel=...</td>\n",
       "      <td>เข้าชิงอีก 1 ประเทศ กัญชาทางการแพทย์ ใครจะเป็น...</td>\n",
       "      <td>1543327508461</td>\n",
       "      <td>False</td>\n",
       "      <td>{'id': 360133801, 'id_str': '360133801', 'name...</td>\n",
       "    </tr>\n",
       "    <tr>\n",
       "      <th>2</th>\n",
       "      <td>None</td>\n",
       "      <td>None</td>\n",
       "      <td>Tue Nov 27 14:05:09 +0000 2018</td>\n",
       "      <td>[0, 140]</td>\n",
       "      <td>{'hashtags': [], 'urls': [{'url': 'https://t.c...</td>\n",
       "      <td>NaN</td>\n",
       "      <td>{'full_text': 'Se lleva a cabo el \"Primer Foro...</td>\n",
       "      <td>0</td>\n",
       "      <td>False</td>\n",
       "      <td>low</td>\n",
       "      <td>...</td>\n",
       "      <td>NaN</td>\n",
       "      <td>0</td>\n",
       "      <td>0</td>\n",
       "      <td>False</td>\n",
       "      <td>NaN</td>\n",
       "      <td>&lt;a href=\"http://twitter.com/download/android\" ...</td>\n",
       "      <td>Se lleva a cabo el \"Primer Foro Internacional....</td>\n",
       "      <td>1543327509172</td>\n",
       "      <td>True</td>\n",
       "      <td>{'id': 975064051767234560, 'id_str': '97506405...</td>\n",
       "    </tr>\n",
       "  </tbody>\n",
       "</table>\n",
       "<p>3 rows × 36 columns</p>\n",
       "</div>"
      ],
      "text/plain": [
       "  contributors coordinates                      created_at display_text_range  \\\n",
       "0         None        None  Tue Nov 27 14:05:03 +0000 2018                NaN   \n",
       "1         None        None  Tue Nov 27 14:05:08 +0000 2018                NaN   \n",
       "2         None        None  Tue Nov 27 14:05:09 +0000 2018           [0, 140]   \n",
       "\n",
       "                                            entities extended_entities  \\\n",
       "0  {'hashtags': [], 'urls': [], 'user_mentions': ...               NaN   \n",
       "1  {'hashtags': [], 'urls': [{'url': 'https://t.c...               NaN   \n",
       "2  {'hashtags': [], 'urls': [{'url': 'https://t.c...               NaN   \n",
       "\n",
       "                                      extended_tweet  favorite_count  \\\n",
       "0                                                NaN               0   \n",
       "1                                                NaN               0   \n",
       "2  {'full_text': 'Se lleva a cabo el \"Primer Foro...               0   \n",
       "\n",
       "   favorited filter_level                        ...                          \\\n",
       "0      False          low                        ...                           \n",
       "1      False          low                        ...                           \n",
       "2      False          low                        ...                           \n",
       "\n",
       "  quoted_status_permalink  reply_count retweet_count retweeted  \\\n",
       "0                     NaN            0             0     False   \n",
       "1                     NaN            0             0     False   \n",
       "2                     NaN            0             0     False   \n",
       "\n",
       "                                    retweeted_status  \\\n",
       "0  {'created_at': 'Mon Nov 26 12:00:25 +0000 2018...   \n",
       "1                                                NaN   \n",
       "2                                                NaN   \n",
       "\n",
       "                                              source  \\\n",
       "0  <a href=\"http://twitter.com\" rel=\"nofollow\">Tw...   \n",
       "1  <a href=\"http://www.facebook.com/twitter\" rel=...   \n",
       "2  <a href=\"http://twitter.com/download/android\" ...   \n",
       "\n",
       "                                                text   timestamp_ms  \\\n",
       "0  RT @HIGH_TIMES_Mag: Silver Heads: Medical Cann...  1543327503773   \n",
       "1  เข้าชิงอีก 1 ประเทศ กัญชาทางการแพทย์ ใครจะเป็น...  1543327508461   \n",
       "2  Se lleva a cabo el \"Primer Foro Internacional....  1543327509172   \n",
       "\n",
       "   truncated                                               user  \n",
       "0      False  {'id': 213401002, 'id_str': '213401002', 'name...  \n",
       "1      False  {'id': 360133801, 'id_str': '360133801', 'name...  \n",
       "2       True  {'id': 975064051767234560, 'id_str': '97506405...  \n",
       "\n",
       "[3 rows x 36 columns]"
      ]
     },
     "execution_count": 5,
     "metadata": {},
     "output_type": "execute_result"
    }
   ],
   "source": [
    "data.head(3)"
   ]
  },
  {
   "cell_type": "markdown",
   "metadata": {},
   "source": [
    "#### Show the discirption and variables in the DataFrame"
   ]
  },
  {
   "cell_type": "code",
   "execution_count": 6,
   "metadata": {},
   "outputs": [
    {
     "name": "stdout",
     "output_type": "stream",
     "text": [
      "<class 'pandas.core.frame.DataFrame'>\n",
      "RangeIndex: 23818 entries, 0 to 23817\n",
      "Data columns (total 36 columns):\n",
      "contributors                 0 non-null object\n",
      "coordinates                  16 non-null object\n",
      "created_at                   23818 non-null object\n",
      "display_text_range           2447 non-null object\n",
      "entities                     23818 non-null object\n",
      "extended_entities            1323 non-null object\n",
      "extended_tweet               4535 non-null object\n",
      "favorite_count               23818 non-null int64\n",
      "favorited                    23818 non-null bool\n",
      "filter_level                 23818 non-null object\n",
      "geo                          16 non-null object\n",
      "id                           23818 non-null int64\n",
      "id_str                       23818 non-null object\n",
      "in_reply_to_screen_name      1323 non-null object\n",
      "in_reply_to_status_id        1039 non-null float64\n",
      "in_reply_to_status_id_str    1039 non-null object\n",
      "in_reply_to_user_id          1323 non-null float64\n",
      "in_reply_to_user_id_str      1323 non-null object\n",
      "is_quote_status              23818 non-null bool\n",
      "lang                         23818 non-null object\n",
      "place                        246 non-null object\n",
      "possibly_sensitive           11533 non-null object\n",
      "quote_count                  23818 non-null int64\n",
      "quoted_status                5640 non-null object\n",
      "quoted_status_id             5640 non-null float64\n",
      "quoted_status_id_str         5640 non-null object\n",
      "quoted_status_permalink      5640 non-null object\n",
      "reply_count                  23818 non-null int64\n",
      "retweet_count                23818 non-null int64\n",
      "retweeted                    23818 non-null bool\n",
      "retweeted_status             13758 non-null object\n",
      "source                       23818 non-null object\n",
      "text                         23818 non-null object\n",
      "timestamp_ms                 23818 non-null object\n",
      "truncated                    23818 non-null bool\n",
      "user                         23818 non-null object\n",
      "dtypes: bool(4), float64(3), int64(5), object(24)\n",
      "memory usage: 5.9+ MB\n"
     ]
    }
   ],
   "source": [
    "data.info()"
   ]
  },
  {
   "cell_type": "code",
   "execution_count": 7,
   "metadata": {},
   "outputs": [
    {
     "data": {
      "text/plain": [
       "0    en\n",
       "1    th\n",
       "2    es\n",
       "3    en\n",
       "4    en\n",
       "Name: lang, dtype: object"
      ]
     },
     "execution_count": 7,
     "metadata": {},
     "output_type": "execute_result"
    }
   ],
   "source": [
    "data.lang.head()"
   ]
  },
  {
   "cell_type": "markdown",
   "metadata": {},
   "source": [
    "### Grouping by some different variables"
   ]
  },
  {
   "cell_type": "code",
   "execution_count": 8,
   "metadata": {},
   "outputs": [
    {
     "data": {
      "text/html": [
       "<div>\n",
       "<style scoped>\n",
       "    .dataframe tbody tr th:only-of-type {\n",
       "        vertical-align: middle;\n",
       "    }\n",
       "\n",
       "    .dataframe tbody tr th {\n",
       "        vertical-align: top;\n",
       "    }\n",
       "\n",
       "    .dataframe thead th {\n",
       "        text-align: right;\n",
       "    }\n",
       "</style>\n",
       "<table border=\"1\" class=\"dataframe\">\n",
       "  <thead>\n",
       "    <tr style=\"text-align: right;\">\n",
       "      <th></th>\n",
       "      <th>count</th>\n",
       "      <th>unique</th>\n",
       "      <th>top</th>\n",
       "      <th>freq</th>\n",
       "    </tr>\n",
       "    <tr>\n",
       "      <th>lang</th>\n",
       "      <th></th>\n",
       "      <th></th>\n",
       "      <th></th>\n",
       "      <th></th>\n",
       "    </tr>\n",
       "  </thead>\n",
       "  <tbody>\n",
       "    <tr>\n",
       "      <th>ar</th>\n",
       "      <td>30</td>\n",
       "      <td>1</td>\n",
       "      <td>ar</td>\n",
       "      <td>30</td>\n",
       "    </tr>\n",
       "    <tr>\n",
       "      <th>ca</th>\n",
       "      <td>27</td>\n",
       "      <td>1</td>\n",
       "      <td>ca</td>\n",
       "      <td>27</td>\n",
       "    </tr>\n",
       "    <tr>\n",
       "      <th>cs</th>\n",
       "      <td>1</td>\n",
       "      <td>1</td>\n",
       "      <td>cs</td>\n",
       "      <td>1</td>\n",
       "    </tr>\n",
       "    <tr>\n",
       "      <th>cy</th>\n",
       "      <td>2</td>\n",
       "      <td>1</td>\n",
       "      <td>cy</td>\n",
       "      <td>2</td>\n",
       "    </tr>\n",
       "    <tr>\n",
       "      <th>da</th>\n",
       "      <td>3</td>\n",
       "      <td>1</td>\n",
       "      <td>da</td>\n",
       "      <td>3</td>\n",
       "    </tr>\n",
       "    <tr>\n",
       "      <th>de</th>\n",
       "      <td>3</td>\n",
       "      <td>1</td>\n",
       "      <td>de</td>\n",
       "      <td>3</td>\n",
       "    </tr>\n",
       "    <tr>\n",
       "      <th>el</th>\n",
       "      <td>3</td>\n",
       "      <td>1</td>\n",
       "      <td>el</td>\n",
       "      <td>3</td>\n",
       "    </tr>\n",
       "    <tr>\n",
       "      <th>en</th>\n",
       "      <td>20810</td>\n",
       "      <td>1</td>\n",
       "      <td>en</td>\n",
       "      <td>20810</td>\n",
       "    </tr>\n",
       "    <tr>\n",
       "      <th>es</th>\n",
       "      <td>1161</td>\n",
       "      <td>1</td>\n",
       "      <td>es</td>\n",
       "      <td>1161</td>\n",
       "    </tr>\n",
       "    <tr>\n",
       "      <th>et</th>\n",
       "      <td>5</td>\n",
       "      <td>1</td>\n",
       "      <td>et</td>\n",
       "      <td>5</td>\n",
       "    </tr>\n",
       "    <tr>\n",
       "      <th>eu</th>\n",
       "      <td>3</td>\n",
       "      <td>1</td>\n",
       "      <td>eu</td>\n",
       "      <td>3</td>\n",
       "    </tr>\n",
       "    <tr>\n",
       "      <th>fi</th>\n",
       "      <td>9</td>\n",
       "      <td>1</td>\n",
       "      <td>fi</td>\n",
       "      <td>9</td>\n",
       "    </tr>\n",
       "    <tr>\n",
       "      <th>fr</th>\n",
       "      <td>250</td>\n",
       "      <td>1</td>\n",
       "      <td>fr</td>\n",
       "      <td>250</td>\n",
       "    </tr>\n",
       "    <tr>\n",
       "      <th>ht</th>\n",
       "      <td>5</td>\n",
       "      <td>1</td>\n",
       "      <td>ht</td>\n",
       "      <td>5</td>\n",
       "    </tr>\n",
       "    <tr>\n",
       "      <th>in</th>\n",
       "      <td>280</td>\n",
       "      <td>1</td>\n",
       "      <td>in</td>\n",
       "      <td>280</td>\n",
       "    </tr>\n",
       "    <tr>\n",
       "      <th>is</th>\n",
       "      <td>2</td>\n",
       "      <td>1</td>\n",
       "      <td>is</td>\n",
       "      <td>2</td>\n",
       "    </tr>\n",
       "    <tr>\n",
       "      <th>it</th>\n",
       "      <td>17</td>\n",
       "      <td>1</td>\n",
       "      <td>it</td>\n",
       "      <td>17</td>\n",
       "    </tr>\n",
       "    <tr>\n",
       "      <th>ja</th>\n",
       "      <td>219</td>\n",
       "      <td>1</td>\n",
       "      <td>ja</td>\n",
       "      <td>219</td>\n",
       "    </tr>\n",
       "    <tr>\n",
       "      <th>ko</th>\n",
       "      <td>5</td>\n",
       "      <td>1</td>\n",
       "      <td>ko</td>\n",
       "      <td>5</td>\n",
       "    </tr>\n",
       "    <tr>\n",
       "      <th>lt</th>\n",
       "      <td>4</td>\n",
       "      <td>1</td>\n",
       "      <td>lt</td>\n",
       "      <td>4</td>\n",
       "    </tr>\n",
       "    <tr>\n",
       "      <th>lv</th>\n",
       "      <td>4</td>\n",
       "      <td>1</td>\n",
       "      <td>lv</td>\n",
       "      <td>4</td>\n",
       "    </tr>\n",
       "    <tr>\n",
       "      <th>ne</th>\n",
       "      <td>1</td>\n",
       "      <td>1</td>\n",
       "      <td>ne</td>\n",
       "      <td>1</td>\n",
       "    </tr>\n",
       "    <tr>\n",
       "      <th>nl</th>\n",
       "      <td>13</td>\n",
       "      <td>1</td>\n",
       "      <td>nl</td>\n",
       "      <td>13</td>\n",
       "    </tr>\n",
       "    <tr>\n",
       "      <th>no</th>\n",
       "      <td>2</td>\n",
       "      <td>1</td>\n",
       "      <td>no</td>\n",
       "      <td>2</td>\n",
       "    </tr>\n",
       "    <tr>\n",
       "      <th>pl</th>\n",
       "      <td>7</td>\n",
       "      <td>1</td>\n",
       "      <td>pl</td>\n",
       "      <td>7</td>\n",
       "    </tr>\n",
       "    <tr>\n",
       "      <th>pt</th>\n",
       "      <td>295</td>\n",
       "      <td>1</td>\n",
       "      <td>pt</td>\n",
       "      <td>295</td>\n",
       "    </tr>\n",
       "    <tr>\n",
       "      <th>ro</th>\n",
       "      <td>13</td>\n",
       "      <td>1</td>\n",
       "      <td>ro</td>\n",
       "      <td>13</td>\n",
       "    </tr>\n",
       "    <tr>\n",
       "      <th>ru</th>\n",
       "      <td>9</td>\n",
       "      <td>1</td>\n",
       "      <td>ru</td>\n",
       "      <td>9</td>\n",
       "    </tr>\n",
       "    <tr>\n",
       "      <th>sl</th>\n",
       "      <td>1</td>\n",
       "      <td>1</td>\n",
       "      <td>sl</td>\n",
       "      <td>1</td>\n",
       "    </tr>\n",
       "    <tr>\n",
       "      <th>sv</th>\n",
       "      <td>24</td>\n",
       "      <td>1</td>\n",
       "      <td>sv</td>\n",
       "      <td>24</td>\n",
       "    </tr>\n",
       "    <tr>\n",
       "      <th>th</th>\n",
       "      <td>6</td>\n",
       "      <td>1</td>\n",
       "      <td>th</td>\n",
       "      <td>6</td>\n",
       "    </tr>\n",
       "    <tr>\n",
       "      <th>tl</th>\n",
       "      <td>60</td>\n",
       "      <td>1</td>\n",
       "      <td>tl</td>\n",
       "      <td>60</td>\n",
       "    </tr>\n",
       "    <tr>\n",
       "      <th>tr</th>\n",
       "      <td>8</td>\n",
       "      <td>1</td>\n",
       "      <td>tr</td>\n",
       "      <td>8</td>\n",
       "    </tr>\n",
       "    <tr>\n",
       "      <th>und</th>\n",
       "      <td>534</td>\n",
       "      <td>1</td>\n",
       "      <td>und</td>\n",
       "      <td>534</td>\n",
       "    </tr>\n",
       "    <tr>\n",
       "      <th>vi</th>\n",
       "      <td>2</td>\n",
       "      <td>1</td>\n",
       "      <td>vi</td>\n",
       "      <td>2</td>\n",
       "    </tr>\n",
       "  </tbody>\n",
       "</table>\n",
       "</div>"
      ],
      "text/plain": [
       "      count unique  top   freq\n",
       "lang                          \n",
       "ar       30      1   ar     30\n",
       "ca       27      1   ca     27\n",
       "cs        1      1   cs      1\n",
       "cy        2      1   cy      2\n",
       "da        3      1   da      3\n",
       "de        3      1   de      3\n",
       "el        3      1   el      3\n",
       "en    20810      1   en  20810\n",
       "es     1161      1   es   1161\n",
       "et        5      1   et      5\n",
       "eu        3      1   eu      3\n",
       "fi        9      1   fi      9\n",
       "fr      250      1   fr    250\n",
       "ht        5      1   ht      5\n",
       "in      280      1   in    280\n",
       "is        2      1   is      2\n",
       "it       17      1   it     17\n",
       "ja      219      1   ja    219\n",
       "ko        5      1   ko      5\n",
       "lt        4      1   lt      4\n",
       "lv        4      1   lv      4\n",
       "ne        1      1   ne      1\n",
       "nl       13      1   nl     13\n",
       "no        2      1   no      2\n",
       "pl        7      1   pl      7\n",
       "pt      295      1   pt    295\n",
       "ro       13      1   ro     13\n",
       "ru        9      1   ru      9\n",
       "sl        1      1   sl      1\n",
       "sv       24      1   sv     24\n",
       "th        6      1   th      6\n",
       "tl       60      1   tl     60\n",
       "tr        8      1   tr      8\n",
       "und     534      1  und    534\n",
       "vi        2      1   vi      2"
      ]
     },
     "execution_count": 8,
     "metadata": {},
     "output_type": "execute_result"
    }
   ],
   "source": [
    "data['lang'].groupby(data['lang']).describe()"
   ]
  },
  {
   "cell_type": "code",
   "execution_count": 9,
   "metadata": {},
   "outputs": [
    {
     "data": {
      "text/html": [
       "<div>\n",
       "<style scoped>\n",
       "    .dataframe tbody tr th:only-of-type {\n",
       "        vertical-align: middle;\n",
       "    }\n",
       "\n",
       "    .dataframe tbody tr th {\n",
       "        vertical-align: top;\n",
       "    }\n",
       "\n",
       "    .dataframe thead th {\n",
       "        text-align: right;\n",
       "    }\n",
       "</style>\n",
       "<table border=\"1\" class=\"dataframe\">\n",
       "  <thead>\n",
       "    <tr style=\"text-align: right;\">\n",
       "      <th></th>\n",
       "      <th>count</th>\n",
       "      <th>mean</th>\n",
       "      <th>std</th>\n",
       "      <th>min</th>\n",
       "      <th>25%</th>\n",
       "      <th>50%</th>\n",
       "      <th>75%</th>\n",
       "      <th>max</th>\n",
       "    </tr>\n",
       "    <tr>\n",
       "      <th>retweet_count</th>\n",
       "      <th></th>\n",
       "      <th></th>\n",
       "      <th></th>\n",
       "      <th></th>\n",
       "      <th></th>\n",
       "      <th></th>\n",
       "      <th></th>\n",
       "      <th></th>\n",
       "    </tr>\n",
       "  </thead>\n",
       "  <tbody>\n",
       "    <tr>\n",
       "      <th>0</th>\n",
       "      <td>23818.0</td>\n",
       "      <td>0.0</td>\n",
       "      <td>0.0</td>\n",
       "      <td>0.0</td>\n",
       "      <td>0.0</td>\n",
       "      <td>0.0</td>\n",
       "      <td>0.0</td>\n",
       "      <td>0.0</td>\n",
       "    </tr>\n",
       "  </tbody>\n",
       "</table>\n",
       "</div>"
      ],
      "text/plain": [
       "                 count  mean  std  min  25%  50%  75%  max\n",
       "retweet_count                                             \n",
       "0              23818.0   0.0  0.0  0.0  0.0  0.0  0.0  0.0"
      ]
     },
     "execution_count": 9,
     "metadata": {},
     "output_type": "execute_result"
    }
   ],
   "source": [
    "data['retweet_count'].groupby(data['retweet_count']).describe()"
   ]
  },
  {
   "cell_type": "code",
   "execution_count": 10,
   "metadata": {},
   "outputs": [
    {
     "data": {
      "text/html": [
       "<div>\n",
       "<style scoped>\n",
       "    .dataframe tbody tr th:only-of-type {\n",
       "        vertical-align: middle;\n",
       "    }\n",
       "\n",
       "    .dataframe tbody tr th {\n",
       "        vertical-align: top;\n",
       "    }\n",
       "\n",
       "    .dataframe thead th {\n",
       "        text-align: right;\n",
       "    }\n",
       "</style>\n",
       "<table border=\"1\" class=\"dataframe\">\n",
       "  <thead>\n",
       "    <tr style=\"text-align: right;\">\n",
       "      <th></th>\n",
       "      <th>count</th>\n",
       "      <th>unique</th>\n",
       "      <th>top</th>\n",
       "      <th>freq</th>\n",
       "    </tr>\n",
       "    <tr>\n",
       "      <th>retweeted</th>\n",
       "      <th></th>\n",
       "      <th></th>\n",
       "      <th></th>\n",
       "      <th></th>\n",
       "    </tr>\n",
       "  </thead>\n",
       "  <tbody>\n",
       "    <tr>\n",
       "      <th>False</th>\n",
       "      <td>23818</td>\n",
       "      <td>1</td>\n",
       "      <td>False</td>\n",
       "      <td>23818</td>\n",
       "    </tr>\n",
       "  </tbody>\n",
       "</table>\n",
       "</div>"
      ],
      "text/plain": [
       "           count unique    top   freq\n",
       "retweeted                            \n",
       "False      23818      1  False  23818"
      ]
     },
     "execution_count": 10,
     "metadata": {},
     "output_type": "execute_result"
    }
   ],
   "source": [
    "data['retweeted'].groupby(data['retweeted']).describe()"
   ]
  },
  {
   "cell_type": "code",
   "execution_count": 11,
   "metadata": {},
   "outputs": [
    {
     "data": {
      "text/html": [
       "<div>\n",
       "<style scoped>\n",
       "    .dataframe tbody tr th:only-of-type {\n",
       "        vertical-align: middle;\n",
       "    }\n",
       "\n",
       "    .dataframe tbody tr th {\n",
       "        vertical-align: top;\n",
       "    }\n",
       "\n",
       "    .dataframe thead th {\n",
       "        text-align: right;\n",
       "    }\n",
       "</style>\n",
       "<table border=\"1\" class=\"dataframe\">\n",
       "  <thead>\n",
       "    <tr style=\"text-align: right;\">\n",
       "      <th></th>\n",
       "      <th>count</th>\n",
       "      <th>unique</th>\n",
       "      <th>top</th>\n",
       "      <th>freq</th>\n",
       "    </tr>\n",
       "    <tr>\n",
       "      <th>possibly_sensitive</th>\n",
       "      <th></th>\n",
       "      <th></th>\n",
       "      <th></th>\n",
       "      <th></th>\n",
       "    </tr>\n",
       "  </thead>\n",
       "  <tbody>\n",
       "    <tr>\n",
       "      <th>False</th>\n",
       "      <td>11291</td>\n",
       "      <td>1</td>\n",
       "      <td>False</td>\n",
       "      <td>11291</td>\n",
       "    </tr>\n",
       "    <tr>\n",
       "      <th>True</th>\n",
       "      <td>242</td>\n",
       "      <td>1</td>\n",
       "      <td>True</td>\n",
       "      <td>242</td>\n",
       "    </tr>\n",
       "  </tbody>\n",
       "</table>\n",
       "</div>"
      ],
      "text/plain": [
       "                    count unique    top   freq\n",
       "possibly_sensitive                            \n",
       "False               11291      1  False  11291\n",
       "True                  242      1   True    242"
      ]
     },
     "execution_count": 11,
     "metadata": {},
     "output_type": "execute_result"
    }
   ],
   "source": [
    "data['possibly_sensitive'].groupby(data['possibly_sensitive']).describe()"
   ]
  },
  {
   "cell_type": "code",
   "execution_count": 12,
   "metadata": {},
   "outputs": [
    {
     "data": {
      "text/html": [
       "<div>\n",
       "<style scoped>\n",
       "    .dataframe tbody tr th:only-of-type {\n",
       "        vertical-align: middle;\n",
       "    }\n",
       "\n",
       "    .dataframe tbody tr th {\n",
       "        vertical-align: top;\n",
       "    }\n",
       "\n",
       "    .dataframe thead th {\n",
       "        text-align: right;\n",
       "    }\n",
       "</style>\n",
       "<table border=\"1\" class=\"dataframe\">\n",
       "  <thead>\n",
       "    <tr style=\"text-align: right;\">\n",
       "      <th></th>\n",
       "      <th>count</th>\n",
       "      <th>mean</th>\n",
       "      <th>std</th>\n",
       "      <th>min</th>\n",
       "      <th>25%</th>\n",
       "      <th>50%</th>\n",
       "      <th>75%</th>\n",
       "      <th>max</th>\n",
       "    </tr>\n",
       "    <tr>\n",
       "      <th>reply_count</th>\n",
       "      <th></th>\n",
       "      <th></th>\n",
       "      <th></th>\n",
       "      <th></th>\n",
       "      <th></th>\n",
       "      <th></th>\n",
       "      <th></th>\n",
       "      <th></th>\n",
       "    </tr>\n",
       "  </thead>\n",
       "  <tbody>\n",
       "    <tr>\n",
       "      <th>0</th>\n",
       "      <td>23818.0</td>\n",
       "      <td>0.0</td>\n",
       "      <td>0.0</td>\n",
       "      <td>0.0</td>\n",
       "      <td>0.0</td>\n",
       "      <td>0.0</td>\n",
       "      <td>0.0</td>\n",
       "      <td>0.0</td>\n",
       "    </tr>\n",
       "  </tbody>\n",
       "</table>\n",
       "</div>"
      ],
      "text/plain": [
       "               count  mean  std  min  25%  50%  75%  max\n",
       "reply_count                                             \n",
       "0            23818.0   0.0  0.0  0.0  0.0  0.0  0.0  0.0"
      ]
     },
     "execution_count": 12,
     "metadata": {},
     "output_type": "execute_result"
    }
   ],
   "source": [
    "data['reply_count'].groupby(data['reply_count']).describe()"
   ]
  },
  {
   "cell_type": "markdown",
   "metadata": {},
   "source": [
    "## Processing the Data for modeling"
   ]
  },
  {
   "cell_type": "code",
   "execution_count": 13,
   "metadata": {},
   "outputs": [],
   "source": [
    "import numpy as np\n",
    "import re\n",
    "import nltk\n",
    "import os"
   ]
  },
  {
   "cell_type": "code",
   "execution_count": 14,
   "metadata": {},
   "outputs": [],
   "source": [
    "tweets = pd.DataFrame(data.text)"
   ]
  },
  {
   "cell_type": "code",
   "execution_count": 15,
   "metadata": {},
   "outputs": [
    {
     "data": {
      "text/html": [
       "<div>\n",
       "<style scoped>\n",
       "    .dataframe tbody tr th:only-of-type {\n",
       "        vertical-align: middle;\n",
       "    }\n",
       "\n",
       "    .dataframe tbody tr th {\n",
       "        vertical-align: top;\n",
       "    }\n",
       "\n",
       "    .dataframe thead th {\n",
       "        text-align: right;\n",
       "    }\n",
       "</style>\n",
       "<table border=\"1\" class=\"dataframe\">\n",
       "  <thead>\n",
       "    <tr style=\"text-align: right;\">\n",
       "      <th></th>\n",
       "      <th>text</th>\n",
       "    </tr>\n",
       "  </thead>\n",
       "  <tbody>\n",
       "    <tr>\n",
       "      <th>0</th>\n",
       "      <td>RT @HIGH_TIMES_Mag: Silver Heads: Medical Cann...</td>\n",
       "    </tr>\n",
       "    <tr>\n",
       "      <th>1</th>\n",
       "      <td>เข้าชิงอีก 1 ประเทศ กัญชาทางการแพทย์ ใครจะเป็น...</td>\n",
       "    </tr>\n",
       "    <tr>\n",
       "      <th>2</th>\n",
       "      <td>Se lleva a cabo el \"Primer Foro Internacional....</td>\n",
       "    </tr>\n",
       "    <tr>\n",
       "      <th>3</th>\n",
       "      <td>RT @CamBattley: Aurora Cannabis to Ship Medica...</td>\n",
       "    </tr>\n",
       "    <tr>\n",
       "      <th>4</th>\n",
       "      <td>Kush For Sale In Usa\\nhttps://t.co/cn7nYNbrqg\\...</td>\n",
       "    </tr>\n",
       "  </tbody>\n",
       "</table>\n",
       "</div>"
      ],
      "text/plain": [
       "                                                text\n",
       "0  RT @HIGH_TIMES_Mag: Silver Heads: Medical Cann...\n",
       "1  เข้าชิงอีก 1 ประเทศ กัญชาทางการแพทย์ ใครจะเป็น...\n",
       "2  Se lleva a cabo el \"Primer Foro Internacional....\n",
       "3  RT @CamBattley: Aurora Cannabis to Ship Medica...\n",
       "4  Kush For Sale In Usa\\nhttps://t.co/cn7nYNbrqg\\..."
      ]
     },
     "execution_count": 15,
     "metadata": {},
     "output_type": "execute_result"
    }
   ],
   "source": [
    "tweets.head()"
   ]
  },
  {
   "cell_type": "markdown",
   "metadata": {},
   "source": [
    "## Processing the Data for modeling"
   ]
  },
  {
   "cell_type": "markdown",
   "metadata": {},
   "source": [
    "#### Importing the classified Data"
   ]
  },
  {
   "cell_type": "markdown",
   "metadata": {},
   "source": [
    "#### Read file which contain positive and negative tweets"
   ]
  },
  {
   "cell_type": "code",
   "execution_count": 16,
   "metadata": {},
   "outputs": [],
   "source": [
    "tweets = pd.read_csv(\"cannabistweets.csv\")"
   ]
  },
  {
   "cell_type": "code",
   "execution_count": 17,
   "metadata": {},
   "outputs": [
    {
     "data": {
      "text/html": [
       "<div>\n",
       "<style scoped>\n",
       "    .dataframe tbody tr th:only-of-type {\n",
       "        vertical-align: middle;\n",
       "    }\n",
       "\n",
       "    .dataframe tbody tr th {\n",
       "        vertical-align: top;\n",
       "    }\n",
       "\n",
       "    .dataframe thead th {\n",
       "        text-align: right;\n",
       "    }\n",
       "</style>\n",
       "<table border=\"1\" class=\"dataframe\">\n",
       "  <thead>\n",
       "    <tr style=\"text-align: right;\">\n",
       "      <th></th>\n",
       "      <th>text</th>\n",
       "      <th>sentiment</th>\n",
       "    </tr>\n",
       "  </thead>\n",
       "  <tbody>\n",
       "    <tr>\n",
       "      <th>0</th>\n",
       "      <td>@RickMoraller @CNN Marijuana has caused zero d...</td>\n",
       "      <td>1</td>\n",
       "    </tr>\n",
       "    <tr>\n",
       "      <th>1</th>\n",
       "      <td>making his own choices good or bad. I understa...</td>\n",
       "      <td>1</td>\n",
       "    </tr>\n",
       "    <tr>\n",
       "      <th>2</th>\n",
       "      <td>South Korea Passes Bill Legalizing Cannabis fo...</td>\n",
       "      <td>1</td>\n",
       "    </tr>\n",
       "    <tr>\n",
       "      <th>3</th>\n",
       "      <td>After Canada became the second nation in the w...</td>\n",
       "      <td>1</td>\n",
       "    </tr>\n",
       "    <tr>\n",
       "      <th>4</th>\n",
       "      <td>South Korea - First East Asian Country to Lega...</td>\n",
       "      <td>1</td>\n",
       "    </tr>\n",
       "  </tbody>\n",
       "</table>\n",
       "</div>"
      ],
      "text/plain": [
       "                                                text  sentiment\n",
       "0  @RickMoraller @CNN Marijuana has caused zero d...          1\n",
       "1  making his own choices good or bad. I understa...          1\n",
       "2  South Korea Passes Bill Legalizing Cannabis fo...          1\n",
       "3  After Canada became the second nation in the w...          1\n",
       "4  South Korea - First East Asian Country to Lega...          1"
      ]
     },
     "execution_count": 17,
     "metadata": {},
     "output_type": "execute_result"
    }
   ],
   "source": [
    "tweets.head()"
   ]
  },
  {
   "cell_type": "markdown",
   "metadata": {},
   "source": [
    "#### Preprocess that data"
   ]
  },
  {
   "cell_type": "code",
   "execution_count": 18,
   "metadata": {},
   "outputs": [
    {
     "data": {
      "text/html": [
       "<div>\n",
       "<style scoped>\n",
       "    .dataframe tbody tr th:only-of-type {\n",
       "        vertical-align: middle;\n",
       "    }\n",
       "\n",
       "    .dataframe tbody tr th {\n",
       "        vertical-align: top;\n",
       "    }\n",
       "\n",
       "    .dataframe thead th {\n",
       "        text-align: right;\n",
       "    }\n",
       "</style>\n",
       "<table border=\"1\" class=\"dataframe\">\n",
       "  <thead>\n",
       "    <tr style=\"text-align: right;\">\n",
       "      <th></th>\n",
       "      <th>text</th>\n",
       "      <th>sentiment</th>\n",
       "    </tr>\n",
       "  </thead>\n",
       "  <tbody>\n",
       "    <tr>\n",
       "      <th>0</th>\n",
       "      <td>@RickMoraller @CNN Marijuana has caused zero d...</td>\n",
       "      <td>1</td>\n",
       "    </tr>\n",
       "    <tr>\n",
       "      <th>1</th>\n",
       "      <td>making his own choices good or bad. I understa...</td>\n",
       "      <td>1</td>\n",
       "    </tr>\n",
       "    <tr>\n",
       "      <th>2</th>\n",
       "      <td>South Korea Passes Bill Legalizing Cannabis fo...</td>\n",
       "      <td>1</td>\n",
       "    </tr>\n",
       "    <tr>\n",
       "      <th>3</th>\n",
       "      <td>After Canada became the second nation in the w...</td>\n",
       "      <td>1</td>\n",
       "    </tr>\n",
       "    <tr>\n",
       "      <th>4</th>\n",
       "      <td>South Korea - First East Asian Country to Lega...</td>\n",
       "      <td>1</td>\n",
       "    </tr>\n",
       "  </tbody>\n",
       "</table>\n",
       "</div>"
      ],
      "text/plain": [
       "                                                text  sentiment\n",
       "0  @RickMoraller @CNN Marijuana has caused zero d...          1\n",
       "1  making his own choices good or bad. I understa...          1\n",
       "2  South Korea Passes Bill Legalizing Cannabis fo...          1\n",
       "3  After Canada became the second nation in the w...          1\n",
       "4  South Korea - First East Asian Country to Lega...          1"
      ]
     },
     "execution_count": 18,
     "metadata": {},
     "output_type": "execute_result"
    }
   ],
   "source": [
    "# remove urls on dataset\n",
    "tweets['text'] = tweets.text.str.replace(r'http\\S+', '')\n",
    "tweets = tweets.reset_index().drop(['index'],axis=1)\n",
    "tweets.head()"
   ]
  },
  {
   "cell_type": "code",
   "execution_count": 19,
   "metadata": {},
   "outputs": [
    {
     "data": {
      "text/html": [
       "<div>\n",
       "<style scoped>\n",
       "    .dataframe tbody tr th:only-of-type {\n",
       "        vertical-align: middle;\n",
       "    }\n",
       "\n",
       "    .dataframe tbody tr th {\n",
       "        vertical-align: top;\n",
       "    }\n",
       "\n",
       "    .dataframe thead th {\n",
       "        text-align: right;\n",
       "    }\n",
       "</style>\n",
       "<table border=\"1\" class=\"dataframe\">\n",
       "  <thead>\n",
       "    <tr style=\"text-align: right;\">\n",
       "      <th></th>\n",
       "      <th>text</th>\n",
       "      <th>sentiment</th>\n",
       "    </tr>\n",
       "  </thead>\n",
       "  <tbody>\n",
       "    <tr>\n",
       "      <th>0</th>\n",
       "      <td>RickMoraller CNN Marijuana has caused zero dea...</td>\n",
       "      <td>1</td>\n",
       "    </tr>\n",
       "    <tr>\n",
       "      <th>1</th>\n",
       "      <td>making his own choices good or bad I understan...</td>\n",
       "      <td>1</td>\n",
       "    </tr>\n",
       "    <tr>\n",
       "      <th>2</th>\n",
       "      <td>South Korea Passes Bill Legalizing Cannabis fo...</td>\n",
       "      <td>1</td>\n",
       "    </tr>\n",
       "    <tr>\n",
       "      <th>3</th>\n",
       "      <td>After Canada became the second nation in the w...</td>\n",
       "      <td>1</td>\n",
       "    </tr>\n",
       "    <tr>\n",
       "      <th>4</th>\n",
       "      <td>South Korea  First East Asian Country to Legal...</td>\n",
       "      <td>1</td>\n",
       "    </tr>\n",
       "  </tbody>\n",
       "</table>\n",
       "</div>"
      ],
      "text/plain": [
       "                                                text  sentiment\n",
       "0  RickMoraller CNN Marijuana has caused zero dea...          1\n",
       "1  making his own choices good or bad I understan...          1\n",
       "2  South Korea Passes Bill Legalizing Cannabis fo...          1\n",
       "3  After Canada became the second nation in the w...          1\n",
       "4  South Korea  First East Asian Country to Legal...          1"
      ]
     },
     "execution_count": 19,
     "metadata": {},
     "output_type": "execute_result"
    }
   ],
   "source": [
    "# remove special characters and numbers on dataset\n",
    "tweets['text'] = tweets.text.str.replace('[^A-Za-z\\s]+', '')\n",
    "tweets= tweets.reset_index().drop(['index'],axis=1)\n",
    "tweets.head()"
   ]
  },
  {
   "cell_type": "code",
   "execution_count": 20,
   "metadata": {},
   "outputs": [
    {
     "data": {
      "text/html": [
       "<div>\n",
       "<style scoped>\n",
       "    .dataframe tbody tr th:only-of-type {\n",
       "        vertical-align: middle;\n",
       "    }\n",
       "\n",
       "    .dataframe tbody tr th {\n",
       "        vertical-align: top;\n",
       "    }\n",
       "\n",
       "    .dataframe thead th {\n",
       "        text-align: right;\n",
       "    }\n",
       "</style>\n",
       "<table border=\"1\" class=\"dataframe\">\n",
       "  <thead>\n",
       "    <tr style=\"text-align: right;\">\n",
       "      <th></th>\n",
       "      <th>text</th>\n",
       "      <th>sentiment</th>\n",
       "    </tr>\n",
       "  </thead>\n",
       "  <tbody>\n",
       "    <tr>\n",
       "      <th>0</th>\n",
       "      <td>rickmoraller cnn marijuana has caused zero dea...</td>\n",
       "      <td>1</td>\n",
       "    </tr>\n",
       "    <tr>\n",
       "      <th>1</th>\n",
       "      <td>making his own choices good or bad i understan...</td>\n",
       "      <td>1</td>\n",
       "    </tr>\n",
       "    <tr>\n",
       "      <th>2</th>\n",
       "      <td>south korea passes bill legalizing cannabis fo...</td>\n",
       "      <td>1</td>\n",
       "    </tr>\n",
       "    <tr>\n",
       "      <th>3</th>\n",
       "      <td>after canada became the second nation in the w...</td>\n",
       "      <td>1</td>\n",
       "    </tr>\n",
       "    <tr>\n",
       "      <th>4</th>\n",
       "      <td>south korea  first east asian country to legal...</td>\n",
       "      <td>1</td>\n",
       "    </tr>\n",
       "  </tbody>\n",
       "</table>\n",
       "</div>"
      ],
      "text/plain": [
       "                                                text  sentiment\n",
       "0  rickmoraller cnn marijuana has caused zero dea...          1\n",
       "1  making his own choices good or bad i understan...          1\n",
       "2  south korea passes bill legalizing cannabis fo...          1\n",
       "3  after canada became the second nation in the w...          1\n",
       "4  south korea  first east asian country to legal...          1"
      ]
     },
     "execution_count": 20,
     "metadata": {},
     "output_type": "execute_result"
    }
   ],
   "source": [
    "# change to lower case characters on dataset\n",
    "tweets['text'] = tweets.text.apply(lambda x: x.lower())\n",
    "tweets = tweets.reset_index().drop(['index'],axis=1)\n",
    "tweets.head()"
   ]
  },
  {
   "cell_type": "markdown",
   "metadata": {},
   "source": [
    "#### Remove stopwords"
   ]
  },
  {
   "cell_type": "code",
   "execution_count": 21,
   "metadata": {},
   "outputs": [],
   "source": [
    "from nltk.corpus import stopwords\n",
    "\n",
    "stop = stopwords.words('english')\n",
    "\n",
    "def remove_stop_words(words):\n",
    "    words_split=words.split()\n",
    "    tokenized_text=[]\n",
    "    return \" \".join(list(x for x in words_split if x not in stop))    "
   ]
  },
  {
   "cell_type": "code",
   "execution_count": 22,
   "metadata": {},
   "outputs": [
    {
     "data": {
      "text/html": [
       "<div>\n",
       "<style scoped>\n",
       "    .dataframe tbody tr th:only-of-type {\n",
       "        vertical-align: middle;\n",
       "    }\n",
       "\n",
       "    .dataframe tbody tr th {\n",
       "        vertical-align: top;\n",
       "    }\n",
       "\n",
       "    .dataframe thead th {\n",
       "        text-align: right;\n",
       "    }\n",
       "</style>\n",
       "<table border=\"1\" class=\"dataframe\">\n",
       "  <thead>\n",
       "    <tr style=\"text-align: right;\">\n",
       "      <th></th>\n",
       "      <th>text</th>\n",
       "      <th>sentiment</th>\n",
       "    </tr>\n",
       "  </thead>\n",
       "  <tbody>\n",
       "    <tr>\n",
       "      <th>0</th>\n",
       "      <td>rickmoraller cnn marijuana caused zero deaths ...</td>\n",
       "      <td>1</td>\n",
       "    </tr>\n",
       "    <tr>\n",
       "      <th>1</th>\n",
       "      <td>making choices good bad understand world watch...</td>\n",
       "      <td>1</td>\n",
       "    </tr>\n",
       "    <tr>\n",
       "      <th>2</th>\n",
       "      <td>south korea passes bill legalizing cannabis me...</td>\n",
       "      <td>1</td>\n",
       "    </tr>\n",
       "    <tr>\n",
       "      <th>3</th>\n",
       "      <td>canada became second nation world legalize rec...</td>\n",
       "      <td>1</td>\n",
       "    </tr>\n",
       "    <tr>\n",
       "      <th>4</th>\n",
       "      <td>south korea first east asian country legalize ...</td>\n",
       "      <td>1</td>\n",
       "    </tr>\n",
       "    <tr>\n",
       "      <th>5</th>\n",
       "      <td>push legalize pot nj became debate race fairne...</td>\n",
       "      <td>1</td>\n",
       "    </tr>\n",
       "    <tr>\n",
       "      <th>6</th>\n",
       "      <td>learn medical marijuana inc applauds new marke...</td>\n",
       "      <td>1</td>\n",
       "    </tr>\n",
       "    <tr>\n",
       "      <th>7</th>\n",
       "      <td>icymi ontario government start distributing mi...</td>\n",
       "      <td>1</td>\n",
       "    </tr>\n",
       "    <tr>\n",
       "      <th>8</th>\n",
       "      <td>south korea becomes first east asian country l...</td>\n",
       "      <td>1</td>\n",
       "    </tr>\n",
       "    <tr>\n",
       "      <th>9</th>\n",
       "      <td>medical marijuana kill viability melanoma canc...</td>\n",
       "      <td>1</td>\n",
       "    </tr>\n",
       "  </tbody>\n",
       "</table>\n",
       "</div>"
      ],
      "text/plain": [
       "                                                text  sentiment\n",
       "0  rickmoraller cnn marijuana caused zero deaths ...          1\n",
       "1  making choices good bad understand world watch...          1\n",
       "2  south korea passes bill legalizing cannabis me...          1\n",
       "3  canada became second nation world legalize rec...          1\n",
       "4  south korea first east asian country legalize ...          1\n",
       "5  push legalize pot nj became debate race fairne...          1\n",
       "6  learn medical marijuana inc applauds new marke...          1\n",
       "7  icymi ontario government start distributing mi...          1\n",
       "8  south korea becomes first east asian country l...          1\n",
       "9  medical marijuana kill viability melanoma canc...          1"
      ]
     },
     "execution_count": 22,
     "metadata": {},
     "output_type": "execute_result"
    }
   ],
   "source": [
    "tweets = tweets.copy()\n",
    "tweets['text'] = tweets.text.map(lambda w: remove_stop_words(w))\n",
    "tweets = tweets.reset_index().drop(['index'],axis=1)\n",
    "tweets.head(10)"
   ]
  },
  {
   "cell_type": "markdown",
   "metadata": {},
   "source": [
    "#### Identify the traget and the data "
   ]
  },
  {
   "cell_type": "code",
   "execution_count": 23,
   "metadata": {},
   "outputs": [],
   "source": [
    "X = pd.DataFrame(tweets.text)"
   ]
  },
  {
   "cell_type": "code",
   "execution_count": 24,
   "metadata": {
    "scrolled": true
   },
   "outputs": [
    {
     "data": {
      "text/html": [
       "<div>\n",
       "<style scoped>\n",
       "    .dataframe tbody tr th:only-of-type {\n",
       "        vertical-align: middle;\n",
       "    }\n",
       "\n",
       "    .dataframe tbody tr th {\n",
       "        vertical-align: top;\n",
       "    }\n",
       "\n",
       "    .dataframe thead th {\n",
       "        text-align: right;\n",
       "    }\n",
       "</style>\n",
       "<table border=\"1\" class=\"dataframe\">\n",
       "  <thead>\n",
       "    <tr style=\"text-align: right;\">\n",
       "      <th></th>\n",
       "      <th>text</th>\n",
       "    </tr>\n",
       "  </thead>\n",
       "  <tbody>\n",
       "    <tr>\n",
       "      <th>0</th>\n",
       "      <td>rickmoraller cnn marijuana caused zero deaths ...</td>\n",
       "    </tr>\n",
       "    <tr>\n",
       "      <th>1</th>\n",
       "      <td>making choices good bad understand world watch...</td>\n",
       "    </tr>\n",
       "    <tr>\n",
       "      <th>2</th>\n",
       "      <td>south korea passes bill legalizing cannabis me...</td>\n",
       "    </tr>\n",
       "    <tr>\n",
       "      <th>3</th>\n",
       "      <td>canada became second nation world legalize rec...</td>\n",
       "    </tr>\n",
       "    <tr>\n",
       "      <th>4</th>\n",
       "      <td>south korea first east asian country legalize ...</td>\n",
       "    </tr>\n",
       "  </tbody>\n",
       "</table>\n",
       "</div>"
      ],
      "text/plain": [
       "                                                text\n",
       "0  rickmoraller cnn marijuana caused zero deaths ...\n",
       "1  making choices good bad understand world watch...\n",
       "2  south korea passes bill legalizing cannabis me...\n",
       "3  canada became second nation world legalize rec...\n",
       "4  south korea first east asian country legalize ..."
      ]
     },
     "execution_count": 24,
     "metadata": {},
     "output_type": "execute_result"
    }
   ],
   "source": [
    "X.head()"
   ]
  },
  {
   "cell_type": "code",
   "execution_count": 25,
   "metadata": {},
   "outputs": [],
   "source": [
    "y = pd.DataFrame(tweets.sentiment)"
   ]
  },
  {
   "cell_type": "code",
   "execution_count": 26,
   "metadata": {},
   "outputs": [
    {
     "data": {
      "text/html": [
       "<div>\n",
       "<style scoped>\n",
       "    .dataframe tbody tr th:only-of-type {\n",
       "        vertical-align: middle;\n",
       "    }\n",
       "\n",
       "    .dataframe tbody tr th {\n",
       "        vertical-align: top;\n",
       "    }\n",
       "\n",
       "    .dataframe thead th {\n",
       "        text-align: right;\n",
       "    }\n",
       "</style>\n",
       "<table border=\"1\" class=\"dataframe\">\n",
       "  <thead>\n",
       "    <tr style=\"text-align: right;\">\n",
       "      <th></th>\n",
       "      <th>sentiment</th>\n",
       "    </tr>\n",
       "  </thead>\n",
       "  <tbody>\n",
       "    <tr>\n",
       "      <th>0</th>\n",
       "      <td>1</td>\n",
       "    </tr>\n",
       "    <tr>\n",
       "      <th>1</th>\n",
       "      <td>1</td>\n",
       "    </tr>\n",
       "    <tr>\n",
       "      <th>2</th>\n",
       "      <td>1</td>\n",
       "    </tr>\n",
       "    <tr>\n",
       "      <th>3</th>\n",
       "      <td>1</td>\n",
       "    </tr>\n",
       "    <tr>\n",
       "      <th>4</th>\n",
       "      <td>1</td>\n",
       "    </tr>\n",
       "  </tbody>\n",
       "</table>\n",
       "</div>"
      ],
      "text/plain": [
       "   sentiment\n",
       "0          1\n",
       "1          1\n",
       "2          1\n",
       "3          1\n",
       "4          1"
      ]
     },
     "execution_count": 26,
     "metadata": {},
     "output_type": "execute_result"
    }
   ],
   "source": [
    "y.head()"
   ]
  },
  {
   "cell_type": "markdown",
   "metadata": {},
   "source": [
    "#### Split the data into train and test"
   ]
  },
  {
   "cell_type": "code",
   "execution_count": 27,
   "metadata": {},
   "outputs": [],
   "source": [
    "from sklearn.model_selection import train_test_split"
   ]
  },
  {
   "cell_type": "code",
   "execution_count": 28,
   "metadata": {},
   "outputs": [],
   "source": [
    "X_train, X_test, y_train, y_test = train_test_split(X, y, test_size=0.30, random_state=123)"
   ]
  },
  {
   "cell_type": "code",
   "execution_count": 29,
   "metadata": {},
   "outputs": [
    {
     "data": {
      "text/html": [
       "<div>\n",
       "<style scoped>\n",
       "    .dataframe tbody tr th:only-of-type {\n",
       "        vertical-align: middle;\n",
       "    }\n",
       "\n",
       "    .dataframe tbody tr th {\n",
       "        vertical-align: top;\n",
       "    }\n",
       "\n",
       "    .dataframe thead th {\n",
       "        text-align: right;\n",
       "    }\n",
       "</style>\n",
       "<table border=\"1\" class=\"dataframe\">\n",
       "  <thead>\n",
       "    <tr style=\"text-align: right;\">\n",
       "      <th></th>\n",
       "      <th>text</th>\n",
       "    </tr>\n",
       "  </thead>\n",
       "  <tbody>\n",
       "    <tr>\n",
       "      <th>498</th>\n",
       "      <td>learn different types pens available market be...</td>\n",
       "    </tr>\n",
       "    <tr>\n",
       "      <th>243</th>\n",
       "      <td>capitol report recreational marijuana legalize...</td>\n",
       "    </tr>\n",
       "    <tr>\n",
       "      <th>314</th>\n",
       "      <td>getting hang ao hobi</td>\n",
       "    </tr>\n",
       "    <tr>\n",
       "      <th>202</th>\n",
       "      <td>specialist holistic medicine eastside holistic...</td>\n",
       "    </tr>\n",
       "    <tr>\n",
       "      <th>300</th>\n",
       "      <td>oh okay korea see</td>\n",
       "    </tr>\n",
       "  </tbody>\n",
       "</table>\n",
       "</div>"
      ],
      "text/plain": [
       "                                                  text\n",
       "498  learn different types pens available market be...\n",
       "243  capitol report recreational marijuana legalize...\n",
       "314                               getting hang ao hobi\n",
       "202  specialist holistic medicine eastside holistic...\n",
       "300                                  oh okay korea see"
      ]
     },
     "execution_count": 29,
     "metadata": {},
     "output_type": "execute_result"
    }
   ],
   "source": [
    "X_train.head()"
   ]
  },
  {
   "cell_type": "code",
   "execution_count": 30,
   "metadata": {
    "scrolled": true
   },
   "outputs": [
    {
     "data": {
      "text/html": [
       "<div>\n",
       "<style scoped>\n",
       "    .dataframe tbody tr th:only-of-type {\n",
       "        vertical-align: middle;\n",
       "    }\n",
       "\n",
       "    .dataframe tbody tr th {\n",
       "        vertical-align: top;\n",
       "    }\n",
       "\n",
       "    .dataframe thead th {\n",
       "        text-align: right;\n",
       "    }\n",
       "</style>\n",
       "<table border=\"1\" class=\"dataframe\">\n",
       "  <thead>\n",
       "    <tr style=\"text-align: right;\">\n",
       "      <th></th>\n",
       "      <th>sentiment</th>\n",
       "    </tr>\n",
       "  </thead>\n",
       "  <tbody>\n",
       "    <tr>\n",
       "      <th>988</th>\n",
       "      <td>-1</td>\n",
       "    </tr>\n",
       "    <tr>\n",
       "      <th>322</th>\n",
       "      <td>1</td>\n",
       "    </tr>\n",
       "    <tr>\n",
       "      <th>382</th>\n",
       "      <td>1</td>\n",
       "    </tr>\n",
       "    <tr>\n",
       "      <th>365</th>\n",
       "      <td>1</td>\n",
       "    </tr>\n",
       "    <tr>\n",
       "      <th>510</th>\n",
       "      <td>1</td>\n",
       "    </tr>\n",
       "  </tbody>\n",
       "</table>\n",
       "</div>"
      ],
      "text/plain": [
       "     sentiment\n",
       "988         -1\n",
       "322          1\n",
       "382          1\n",
       "365          1\n",
       "510          1"
      ]
     },
     "execution_count": 30,
     "metadata": {},
     "output_type": "execute_result"
    }
   ],
   "source": [
    "y_train.tail()"
   ]
  },
  {
   "cell_type": "markdown",
   "metadata": {},
   "source": [
    "#### Bag of Words"
   ]
  },
  {
   "cell_type": "code",
   "execution_count": 31,
   "metadata": {
    "scrolled": true
   },
   "outputs": [
    {
     "data": {
      "text/plain": [
       "['learn different types pens available market benefits using co oil shelter vape pens top pick among vaping enthusiasts visit cannabis education page',\n",
       " 'capitol report recreational marijuana legalized massachusetts',\n",
       " 'getting hang ao hobi',\n",
       " 'specialist holistic medicine eastside holistic helped many patients decrease pain symptoms use medical cannabis interested obtaining medical marijuana authorization contact us information',\n",
       " 'oh okay korea see']"
      ]
     },
     "execution_count": 31,
     "metadata": {},
     "output_type": "execute_result"
    }
   ],
   "source": [
    "X_trainclean=X_train['text'].values.tolist()\n",
    "X_trainclean[0:5]"
   ]
  },
  {
   "cell_type": "code",
   "execution_count": 32,
   "metadata": {
    "scrolled": true
   },
   "outputs": [
    {
     "data": {
      "text/plain": [
       "['understand someone would dont think itd bad thing everyone came increasingly spurious reasons need able bring dog everywhere like medical marijuana works california slowly normalize dogs everywhere',\n",
       " 'great news south korea strictest drug policies world country laden alcoholism great step forward',\n",
       " 'audio mdedge daily news available todays stories include marijuana pain falling abortion rates relationship anxietydepression amp type diabetes colon cancer screening medtwitter medicalmarijuana crc internalmed',\n",
       " 'rt seedbankme effect adding medical cannabis analgesic treatment patients low back pain related fibromyalgia observ',\n",
       " 'high quality medicalcannabiscbd cannabis products chronic pain multiplesclerosis crohnsdisease alzheimersdisease epilepsy chronicpain psychoticdisorder weightloss appetitestimulator anti nausea depression anxiety stresscancer ptsd visit']"
      ]
     },
     "execution_count": 32,
     "metadata": {},
     "output_type": "execute_result"
    }
   ],
   "source": [
    "X_testclean=X_test['text'].values.tolist()\n",
    "X_testclean[0:5]"
   ]
  },
  {
   "cell_type": "markdown",
   "metadata": {},
   "source": [
    "#### Create Vocabulary"
   ]
  },
  {
   "cell_type": "code",
   "execution_count": 33,
   "metadata": {},
   "outputs": [],
   "source": [
    "from nltk.corpus import stopwords"
   ]
  },
  {
   "cell_type": "code",
   "execution_count": 34,
   "metadata": {},
   "outputs": [],
   "source": [
    "from sklearn.feature_extraction.text import CountVectorizer\n",
    "vectorizer=CountVectorizer(stop_words='english')\n",
    "X_traintext=vectorizer.fit_transform(X_trainclean)"
   ]
  },
  {
   "cell_type": "code",
   "execution_count": 35,
   "metadata": {},
   "outputs": [
    {
     "name": "stdout",
     "output_type": "stream",
     "text": [
      "{'learn': 1649, 'different': 808, 'types': 3174, 'pens': 2216, 'available': 202, 'market': 1812, 'benefits': 252, 'using': 3221, 'oil': 2098, 'shelter': 2732, 'vape': 3235, 'pick': 2249, 'vaping': 3237, 'enthusiasts': 971, 'visit': 3262, 'cannabis': 378, 'education': 932, 'page': 2172, 'capitol': 409, 'report': 2537, 'recreational': 2483, 'marijuana': 1803, 'legalized': 1666, 'massachusetts': 1826, 'getting': 1190, 'hang': 1275, 'ao': 140, 'hobi': 1355, 'specialist': 2836, 'holistic': 1360, 'medicine': 1867, 'eastside': 921, 'helped': 1321, 'patients': 2206, 'decrease': 747, 'pain': 2175, 'symptoms': 2989, 'use': 3215, 'medical': 1857, 'interested': 1484, 'obtaining': 2074, 'authorization': 199, 'contact': 617, 'information': 1461, 'oh': 2093, 'okay': 2102, 'korea': 1610, 'support': 2964, 'wake': 3273, 'bake': 213, 'day': 727, 'everyday': 1001, 'mentality': 1882, 'like': 1706, 'substance': 2934, 'addictive': 39, 'unlike': 3199, 'alcohol': 84, 'cigarettes': 499, 'killed': 1593, 'millions': 1915, 'responsive': 2563, 'single': 2768, 'death': 736, 'thats': 3046, 'stoner': 2896, 'logic': 1735, 'south': 2824, 'country': 649, 'east': 920, 'asia': 172, 'legalize': 1665, 'legalizes': 1671, 'build': 342, 'cathedral': 428, 'hell': 1318, 'yeah': 3401, 'harshest': 1289, 'policies': 2287, 'penalties': 2215, 'represents': 2541, 'tremendous': 3143, 'victory': 3252, 'received': 2472, 'life': 1702, 'sentence': 2702, 'know': 1605, 'ct': 688, 'cought': 642, 'growing': 1250, 'treat': 3139, 'qualifing': 2428, 'conditions': 588, 'face': 1040, 'years': 3405, 'wrong': 3385, 'murder': 1975, 'connecticut': 601, 'step': 2883, 'closer': 522, 'legal': 1658, 'new': 2019, 'jersey': 1535, 'story': 2904, 'canadian': 365, 'licensed': 1697, 'producer': 2357, 'aurora': 196, 'completed': 573, 'shipment': 2737, 'products': 2360, 'czech': 706, 'republic': 2544, 'st': 2860, 'import': 1423, 'canada': 363, 'asian': 173, 'come': 546, 'stop': 2898, 'wax': 3291, 'wednesdays': 3301, 'dogo': 850, 'cali': 354, 'crumble': 684, 'cannabisculture': 387, 'medicinal': 1864, 'cannabiscommunity': 385, 'green': 1240, 'hi': 1334, 'good': 1215, 'came': 360, 'yesterday': 3408, 'thanksgiving': 3045, 'corner': 636, 'best': 257, 'things': 3067, 'thankful': 3042, 'kill': 1592, 'viability': 3249, 'melanoma': 1875, 'cancer': 369, 'cells': 451, 'fresh': 1142, 'toast': 3097, 'legalization': 1664, 'legalizing': 1672, 'tightly': 3084, 'controlled': 628, 'limited': 1709, 'product': 2358, 'selection': 2689, 'significant': 2760, 'breakthrough': 325, 'global': 1204, 'industry': 1456, 'cannabislegalization': 394, 'southkorea': 2826, 'cautioned': 434, 'male': 1786, 'possession': 2304, 'small': 2785, 'search': 2666, 'myotherlife': 1981, 'year': 3402, 'history': 1349, 'science': 2661, 'finally': 1095, 'catching': 425, 'activists': 29, 'known': 1608, 'yrs': 3421, 'according': 20, 'latest': 1626, 'department': 777, 'health': 1305, 'mmj': 1935, 'ny': 2065, 'older': 2106, 'suffering': 2950, 'chronic': 495, 'mmjprogram': 1936, 'restricted': 2566, 'approve': 152, 'need': 2006, 'receive': 2471, 'prescription': 2330, 'practitioner': 2319, 'approval': 151, 'granted': 1232, 'casebycase': 422, 'basis': 227, 'week': 3309, 'national': 1989, 'addictions': 37, 'awareness': 206, 'addiction': 36, 'discriminate': 825, 'affects': 61, 'allwalksoflife': 98, 'reduce': 2490, 'risks': 2586, 'thisispublichealth': 3072, 'publichealth': 2411, 'eventually': 999, 'hip': 1347, 'trends': 3144, 'offer': 2081, 'cbd': 436, 'massage': 1827, 'teach': 3014, 'legalities': 1663, 'topical': 3112, 'message': 1888, 'info': 1459, 'got': 1218, 'encourage': 961, 'weed': 3302, 'people': 2218, 'eliminated': 946, 'daughters': 722, 'daily': 709, 'seizures': 2688, 'speaks': 2833, 'longer': 1740, 'sentences': 2703, 'better': 259, 'memory': 1879, 'needs': 2009, 'wheelchair': 3327, 'weedthepplfilm': 3308, 'periscopetv': 2226, 'rickilake': 2576, 'abbyepstein': 2, 'terry': 3029, 'think': 3069, 'lps': 1760, 'diverting': 842, 'supply': 2963, 'rec': 2469, 'contracts': 626, 'dont': 857, 'right': 2580, 'nichecioc': 2031, 'vancouvercannabis': 3234, 'cdnpoli': 449, 'bcpoli': 232, 'yvr': 3422, 'drg': 879, 'rteprimetime': 2615, 'non': 2043, 'high': 1336, 'purpose': 2418, 'raise': 2442, 'revenue': 2571, 'federal': 1081, 'state': 2872, 'governments': 1221, 'create': 664, 'lot': 1749, 'jobs': 1542, 'investors': 1503, 'benefit': 251, 'longterm': 1742, 'growth': 1252, 'billions': 267, 'saved': 2645, 'law': 1632, 'enforcement': 967, 'costs': 641, 'williamlamberth': 3339, 'prohibitionists': 2374, 'black': 277, 'economically': 924, 'sound': 2822, 'gangs': 1165, 'cartels': 417, 'creepypotlawyers': 669, 'tngop': 3095, 'majority': 1779, 'say': 2647, 'establishment': 988, 'tnleg': 3096, 'minority': 1919, 'status': 2878, 'quo': 2438, 'arrest': 166, 'ruin': 2617, 'kelly': 1581, 'jones': 1553, 'attendee': 190, 'public': 2410, 'hearing': 1311, 'held': 1317, 'said': 2634, 'utahns': 3224, 'knew': 1602, 'passed': 2197, 'prop': 2383, 'voted': 3266, 'meaning': 1846, 'vote': 3265, 'utpol': 3228, 'doctors': 845, 'tried': 3148, 'suggested': 2953, 'professionals': 2363, 'laughed': 1627, 'decision': 744, 'save': 2644, 'months': 1948, 'seizure': 2687, 'counting': 647, 'im': 1413, 'laughing': 1628, 'october': 2077, 'drivers': 890, 'impaired': 1419, 'drug': 899, 'charged': 469, 'york': 3411, 'region': 2500, 'despite': 786, 'insist': 1473, 'youre': 3416, 'driver': 889, 'taking': 2997, 'couple': 650, 'hits': 1351, 'bong': 300, 'drivingistoughenough': 894, 'pictwittercomklwuuxsnt': 2251, 'evidence': 1002, 'emerged': 955, 'cbdbased': 437, 'contaminated': 621, 'dangerous': 713, 'harmful': 1288, 'compounds': 578, 'maximum': 1838, 'risk': 2585, 'intoxication': 1491, 'unmixed': 3201, 'drugs': 903, 'appears': 143, 'comparable': 566, 'talking': 3000, 'handsfree': 1272, 'cellphone': 450, 'mom': 1941, 'lack': 1618, 'seeds': 2679, 'fuels': 1152, 'spike': 2846, 'blackmarket': 278, 'sales': 2637, 'run': 2622, 'looking': 1745, 'anybody': 137, 'horrormovie': 1378, 'twitter': 3173, 'really': 2462, 'loving': 1755, 'rt': 2614, 'cannaspecialist': 403, 'ignorance': 1407, 'continues': 625, 'properly': 2386, 'tested': 3030, 'used': 3216, 'poses': 2300, 'transplantation': 3133, 'desperate': 785, 'wendover': 3319, 'legislative': 1680, 'body': 292, 'refuses': 2498, 'listen': 1716, 'truceutahs': 3156, 'christine': 493, 'stenquist': 2882, 'told': 3102, 'west': 3322, 'wendovers': 3320, 'utlegs': 3226, 'replacement': 2534, 'fox': 1135, 'kosher': 1612, 'kush': 1614, 'strain': 2906, 'indica': 1450, 'hybrid': 1398, 'times': 3088, 'cup': 692, 'kk': 1600, 'honorable': 1369, 'distinction': 838, 'read': 2454, 'herbworthy': 1328, 'important': 1425, 'hugely': 1388, 'beneficial': 249, 'mental': 1881, 'criminalizing': 675, 'plant': 2268, 'suppress': 2968, 'communities': 560, 'speaking': 2832, 'huge': 1387, 'moment': 1942, 'aaro': 0, 'louisiana': 1752, 'trying': 3164, 'harder': 1284, 'sounds': 2823, 'great': 1235, 'dedicated': 752, 'local': 1731, 'officers': 2086, 'camdentown': 359, 'proactivepolicing': 2350, 'stopandsearch': 2899, 'lawfully': 1633, 'circumstances': 500, 'tools': 3111, 'help': 1320, 'deter': 791, 'crime': 671, 'court': 653, 'rules': 2620, 'users': 3219, 'dui': 910, 'prime': 2343, 'minister': 1918, 'theresa': 3059, 'nhs': 2028, 'denying': 775, 'access': 15, 'currently': 700, 'signatures': 2759, 'sign': 2758, 'petition': 2235, 'ukchange': 3178, 'citizentvkenya': 504, 'husseinmohamedg': 1395, 'lets': 1686, 'diversify': 841, 'maize': 1777, 'bloomthc': 288, 'sllizs': 2782, 'dispensary': 835, 'buy': 349, 'potent': 2310, 'edible': 928, 'cut': 704, 'half': 1267, 'thirds': 3071, 'omohtee': 2109, 'tinatinny': 3089, 'promiscuous': 2376, 'yoruba': 3412, 'ogogorodelta': 2092, 'guess': 1256, 'expect': 1017, 'heart': 1312, 'attack': 188, 'beating': 233, 'depression': 780, 'fucking': 1149, 'early': 917, 'check': 473, 'delta': 766, 'mans': 1798, 'wife': 3337, 'dies': 805, 'blames': 280, 'goes': 1209, 'man': 1790, 'appointment': 148, 'scheduled': 2655, 'look': 1743, 'making': 1783, 'moves': 1963, 'incentive': 1432, 'korean': 1611, 'ago': 71, 'young': 3415, 'boy': 313, 'recall': 2470, 'correctly': 637, 'epilepsy': 976, 'mother': 1954, 'doctor': 844, 'order': 2139, 'overseas': 2163, 'useful': 3217, 'sons': 2817, 'treatment': 3142, 'prevented': 2338, 'consume': 611, 'avoid': 203, 'detection': 790, 'opp': 2128, 'skills': 2775, 'enable': 960, 'alcoholimpaired': 86, 'roads': 2593, 'impairedisimpaired': 1420, 'festiveride': 1090, 'kpopkhh': 1613, 'clown': 525, 'faves': 1074, 'jail': 1524, 'morean': 1950, 'era': 984, 'dead': 733, 'rip': 2583, 'strong': 2920, 'continue': 623, 'dispensaries': 834, 'business': 346, 'sweeping': 2985, 'client': 517, 'sjkwealthmanage': 2773, 'tips': 3090, 'invest': 1497, 'stoneddadlife': 2895, 'love': 1753, 'starting': 2869, 'research': 2548, 'bet': 258, 'smart': 2786, 'lady': 1620, 'makes': 1782, 'happy': 1280, 'seeing': 2681, 'drfranklive': 878, 'american': 113, 'expert': 1023, 'dr': 875, 'frank': 1138, 'dambrosio': 710, 'urged': 3213, 'uk': 3176, 'government': 1220, 'relax': 2514, 'regulatory': 2506, 'laws': 1635, 'medicinalcannab': 1865, 'hemp': 1325, 'lifeline': 1703, 'kentucky': 1582, 'farmers': 1067, 'havent': 1295, 'regulated': 2504, 'paying': 2208, 'taxes': 3012, 'crumbles': 685, 'theyre': 3065, 'finna': 1100, 'open': 2116, 'floodgates': 1108, 'soon': 2818, 'covered': 658, 'insurance': 1480, 'monday': 1943, 'newjersey': 2021, 'lawmakers': 1634, 'discussed': 827, 'governor': 1222, 'philmurphy': 2244, 'supports': 2967, 'richzeoli': 2575, 'gives': 1195, 'pot': 2309, 'pairsonnalitesu': 2180, 'stigmabase': 2886, 'hong': 1368, 'kong': 1609, 'elite': 947, 'schools': 2660, 'anxiety': 136, 'led': 1653, 'pair': 2179, 'coke': 537, 'xanax': 3393, 'america': 112, 'alexis': 90, 'bortel': 307, 'shes': 2733, 'lines': 1711, 'movement': 1962, 'relief': 2517, 'effectively': 936, 'provides': 2398, 'manage': 1792, 'jesus': 1537, 'wants': 3281, 'deny': 774, 'cross': 682, 'follow': 1120, 'luke': 1764, 'healthycoins': 1308, 'liked': 1707, 'youtube': 3418, 'video': 3253, 'news': 2022, 'going': 1210, 'crib': 670, 'studies': 2927, 'shown': 2750, 'glaucoma': 1203, 'kind': 1595, 'funny': 1158, 'hear': 1309, 'talk': 2998, 'experience': 1020, 'cofcdevsci': 534, 'join': 1547, 'soba': 2802, 'fight': 1092, 'sober': 2803, 'treatement': 3140, 'intervention': 1488, 'mma': 1934, 'dependency': 779, 'detox': 793, 'relapse': 2509, 'bitcoin': 275, 'recovery': 2481, 'wsj': 3388, 'nytimes': 2070, 'reuters': 2569, 'blockchain': 284, 'cnn': 530, 'opitox': 2126, 'foxnews': 1136, 'crypto': 687, 'newyork': 2026, 'miami': 1898, 'la': 1617, 'ukcannabisclubs': 3177, 'ukhomeoffice': 3179, 'ive': 1519, 'sent': 2701, 'email': 950, 'mp': 1965, 'benmlake': 253, 'positive': 2302, 'response': 2559, 'emailed': 951, 'regarding': 2499, 'specifically': 2840, 'alfie': 91, 'dingleys': 814, 'case': 421, 'confident': 594, 'ill': 1408, 'simila': 2764, 'toronto': 3114, 'strict': 2915, 'limiting': 1710, 'promotion': 2381, 'effect': 934, 'promotions': 2382, 'pop': 2295, 'amid': 114, 'loopholes': 1747, 'clarity': 510, 'socialmedia': 2808, 'propensity': 2385, 'arfonj': 161, 'condidered': 586, 'evedence': 994, 'prohibition': 2373, 'maryland': 1822, 'surpasses': 2973, 'expectations': 1018, 'reach': 2452, 'hate': 1294, 'headlines': 1301, 'consider': 605, 'pump': 2416, 'dangling': 715, 'shiney': 2735, 'keys': 1587, 'tell': 3020, 'rate': 2446, 'project': 2375, 'shipments': 2738, 'grow': 1248, 'chesterfield': 484, 'routine': 2612, 'traffic': 3127, 'brake': 318, 'light': 1704, 'van': 3233, 'stinks': 2888, 'tub': 3166, 'inside': 1471, 'unsurprisingly': 3203, 'drugwipeuk': 905, 'arrested': 167, 'evidential': 1003, 'blood': 287, 'sample': 2641, 'obtained': 2073, 'dontdrugdrive': 861, 'fatal': 1071, 'wednesday': 3300, 'mexicos': 1895, 'supreme': 2970, 'ruled': 2619, 'absolute': 9, 'ban': 216, 'unconstitutional': 3181, 'leaves': 1652, 'regulate': 2503, 'consumption': 616, 'superblink': 2959, 'ohmes': 2097, 'substitution': 2938, 'opioids': 2125, 'especially': 987, 'skorea': 2777, 'definitely': 756, 'thing': 3066, 'debate': 738, 'speech': 2842, 'class': 512, 'group': 1247, 'debating': 739, 'ended': 964, 'cons': 603, 'wut': 3390, 'kip': 1596, 'offers': 2083, 'multiple': 1971, 'ways': 3294, 'associated': 183, 'decreased': 748, 'opioid': 2124, 'overdose': 2159, 'deaths': 737, 'holidays': 1359, 'total': 3116, 'views': 3255, 'cbdhemp': 438, 'cbdworld': 443, 'cbdlife': 439, 'unlocks': 3200, 'creative': 667, 'potential': 2311, 'thc': 3047, 'ganjalove': 1169, 'bud': 341, 'medicalmarijuana': 1859, 'recreationalmarijuana': 2486, 'trichromes': 3146, 'terpenes': 3027, 'fueledbythc': 1150, 'ganjagirls': 1167, 'ganjaguys': 1168, 'weedporn': 3304, 'stickyicky': 2885, 'smokeweedeveryday': 2793, 'weedsmoke': 3306, 'thailands': 3039, 'parliament': 2189, 'unanimously': 3180, 'accepted': 14, 'reading': 2455, 'legalise': 1660, 'fear': 1078, 'foreign': 1127, 'companies': 563, 'monopolise': 1946, 'youth': 3417, 'allowed': 96, 'meet': 1872, 'folks': 1119, 'teens': 3018, 'kept': 1583, 'confidential': 595, 'unless': 3198, 'harm': 1286, 'harmed': 1287, 'billdittrich': 265, 'discover': 822, 'zero': 3425, 'effects': 937, 'oils': 2099, 'canna': 371, 'shelbaaabe': 2731, 'amanda': 107, 'bynes': 351, 'sad': 2627, 'realize': 2460, 'leicester': 1682, 'residents': 2553, 'concerns': 583, 'widest': 3336, 'variety': 3239, 'flower': 1111, 'edibles': 929, 'concentrates': 580, 'apparel': 141, 'glass': 1201, 'mission': 1926, 'supplier': 2962, 'providing': 2399, 'highest': 1338, 'quality': 2429, 'customer': 702, 'norml': 2047, 'canadas': 364, 'abi': 5, 'roach': 2591, 'thousands': 3075, 'calling': 357, 'prescribed': 2329, 'severely': 2717, 'epileptic': 979, 'kilbride': 1591, 'underbelly': 3183, 'loved': 1754, 'time': 3087, 'spent': 2845, 'seoul': 2705, 'cannabisbiznews': 381, 'conference': 592, 'brings': 333, 'markstacey': 1816, 'apparently': 142, 'asking': 176, 'rd': 2451, 'december': 743, 'ounce': 2150, 'fine': 1098, 'ha': 1265, 'sentencing': 2704, 'awaits': 204, 'father': 1072, 'son': 2816, 'recover': 2480, 'pounds': 2315, 'stolen': 2892, 'noxignorance': 2060, 'live': 1721, 'educate': 930, 'promote': 2378, 'healthy': 1307, 'culture': 691, 'incredible': 1442, 'fucken': 1148, 'trash': 3136, 'ruining': 2618, 'society': 2810, 'ofc': 2078, 'pizarro': 2261, 'conducted': 590, 'inv': 1495, 'grams': 1229, 'concealed': 579, 'handgun': 1270, 'previously': 2341, 'reported': 2538, 'assault': 181, 'rifle': 2579, 'located': 1733, 'veh': 3243, 'delete': 760, 'kid': 1588, 'netflix': 2015, 'seed': 2678, 'planted': 2270, 'head': 1299, 'straight': 2905, 'definition': 757, 'complication': 575, 'means': 1847, 'die': 803, 'legalizers': 1670, 'misconception': 1923, 'propaganda': 2384, 'make': 1780, 'safe': 2628, 'magaamericangal': 1772, 'michael': 1900, 'myfox': 1980, 'followers': 1122, 'profitable': 2366, 'investment': 1501, 'kaitlyn': 1573, 'gary': 1173, 'nearly': 2004, 'elliminated': 948, 'grand': 1230, 'mal': 1784, 'began': 238, 'trulieves': 3159, 'trustory': 3161, 'trustorytuesday': 3162, 'epilepsyawarenessmonth': 978, 'nj': 2040, 'grant': 1231, 'easier': 919, 'allowable': 95, 'quantity': 2430, 'raised': 2443, 'oz': 2169, 'month': 1947, 'hopefully': 1373, 'governortomwolf': 1223, 'negatives': 2010, 'proven': 2396, 'multitude': 1973, 'study': 2928, 'results': 2567, 'surfacing': 2972, 'uneducated': 3188, 'took': 3109, 'rocket': 2597, 'blowing': 289, 'past': 2201, 'previous': 2340, 'estimates': 990, 'million': 1914, 'hot': 1381, 'world': 3362, 'chicago': 485, 'mayoral': 1841, 'candidate': 370, 'says': 2650, 'bring': 332, 'illinois': 1410, 'annual': 130, 'suntimes': 2957, 'medmarijcardaz': 1869, 'actually': 30, 'lead': 1642, 'workplace': 3360, 'accidents': 19, 'maryjanes': 1821, 'duckgang': 909, 'weedporns': 3305, 'nikolaspham': 2038, 'kylelapp': 1616, 'stay': 2879, 'away': 207, 'struggling': 2924, 'surpassing': 2974, 'forecast': 1126, 'republican': 2545, 'caught': 430, 'smoking': 2794, 'gun': 1261, 'joint': 1549, 'blame': 279, 'clintons': 520, 'breaking': 323, 'boston': 311, 'mayor': 1840, 'marty': 1818, 'walsh': 3276, 'worried': 3364, 'begin': 239, 'greece': 1238, 'issues': 1515, 'licenses': 1698, 'yahoosg': 3395, 'way': 3292, 'conf': 591, 'cdn': 448, 'adapt': 33, 'countries': 648, 'online': 2111, 'nichecanada': 2030, 'hexo': 1332, 'tanyaplibersek': 3002, 'announce': 127, 'legalisation': 1659, 'removable': 2527, 'schedules': 2656, 'place': 2262, 'narcotic': 1985, 'poison': 2285, 'dependence': 778, 'cures': 696, 'pharmaceuticals': 2240, 'profession': 2361, 'po': 2279, 'compassion': 569, 'increase': 1438, 'understanding': 3186, 'advocacy': 57, 'gift': 1192, 'matter': 1834, 'big': 263, 'real': 2456, 'difference': 807, 'greatly': 1237, 'appreciated': 150, 'givingtuesday': 1197, 'mycompassioninc': 1979, 'driving': 893, 'tilbury': 3085, 'xmas': 3394, 'drinkdrug': 884, 'drive': 887, 'campaign': 361, 'afternoon': 62, 'team': 3015, 'hit': 1350, 'car': 411, 'failed': 1052, 'unfortunately': 3190, 'prior': 2345, 'collision': 541, 'drugdrive': 900, 'lsac': 1761, 'townspeople': 3121, 'adult': 50, 'rmd': 2589, 'coming': 549, 'town': 3120, 'change': 466, 'dighton': 811, 'sehrbear': 2685, 'decriminalize': 750, 'want': 3279, 'bs': 339, 'ptsd': 2409, 'carlcannova': 415, 'breitbartnews': 330, 'neighborhood': 2012, 'favor': 1075, 'christmas': 494, 'stoned': 2894, 'chill': 488, 'selling': 2692, 'doses': 870, 'suffer': 2949, 'andrewkittle': 122, 'changed': 467, 'reality': 2459, 'efficacious': 938, 'nypmetro': 2069, 'huuuuge': 1396, 'congrats': 597, 'japan': 1526, 'gangsterism': 1166, 'sure': 2971, 'private': 2347, 'fully': 1153, 'vetted': 3248, 'connecton': 602, 'organized': 2144, 'nspoli': 2061, 'hannah': 1276, 'deacon': 732, 'alfies': 92, 'pleased': 2277, 'wayland': 3293, 'working': 3359, 'theros': 3061, 'pet': 2233, 'owners': 2166, 'signs': 2761, 'accidental': 17, 'ingestion': 1464, 'keepthemsafe': 1580, 'abbygoodnough': 3, 'successfully': 2944, 'opiate': 2121, 'included': 1434, 'fdaapproved': 1077, 'reduced': 2491, 'lower': 1757, 'petermartin': 2234, 'margokingston': 1800, 'knausc': 1601, 'trishhepworth': 3153, 'ozhemprocks': 2170, 'mrobertsqld': 1967, 'greghuntmp': 1242, 'wonder': 3353, 'lnp': 1729, 'opposed': 2131, 'paid': 2173, 'block': 283, 'usa': 3214, 'legalising': 1662, 'red': 2487, 'cbdus': 442, 'migraines': 1907, 'stress': 2913, 'pains': 2176, 'insomnia': 1474, 'let': 1685, 'text': 3035, 'feel': 1082, 'free': 1140, 'home': 1363, 'bed': 236, 'starvation': 2871, 'gastroparesis': 1175, 'wont': 3355, 'horrific': 1377, 'chemo': 481, 'hospice': 1379, 'comfort': 548, 'sweet': 2986, 'comments': 551, 'tweet': 3172, 'thank': 3041, 'prevent': 2337, 'alzheimers': 105, 'disease': 828, 'miracle': 1920, 'votes': 3268, 'dontcha': 858, 'concerned': 582, 'widespread': 3335, 'arent': 160, 'ritalin': 2588, 'aderol': 44, 'prozac': 2403, 'oxycontin': 2168, 'vicadin': 3250, 'matthayescfb': 1835, 'clinic': 519, 'rmsawakening': 2590, 'remembering': 2524, 'demi': 769, 'mckechnie': 1843, 'claimed': 508, 'lives': 1723, 'drunkdriver': 907, 'ladies': 1619, 'audacity': 195, 'write': 3382, 'rest': 2564, 'peacefully': 2213, 'hearts': 1313, 'robmkendall': 2596, 'indianas': 1449, 'tax': 3010, 'spend': 2844, 'speaker': 2831, 'house': 1383, 'increases': 1440, 'brian': 331, 'bosma': 308, 'thinks': 3070, 'stupid': 2931, 'saksithcna': 2635, 'thai': 3037, 'military': 1912, 'govts': 1226, 'plan': 2266, 'sudden': 2947, 'patents': 2202, 'nationals': 1990, 'tak': 2994, 'jongiftosmd': 1554, 'success': 2942, 'opiates': 2122, 'hardly': 1285, 'unusual': 3206, 'severe': 2716, 'cases': 423, 'legacy': 1657, 'wish': 3346, 'transition': 3131, 'herbs': 1327, 'pulls': 2415, 'liter': 1718, 'jar': 1527, 'duterte': 913, 'admitting': 48, 'fentanyl': 1088, 'hypocritical': 1399, 'war': 3282, 'michigan': 1901, 'dec': 741, 'wdiv': 3297, 'clickondetroit': 516, 'approves': 154, 'delivery': 765, 'amp': 117, 'pretty': 2336, 'cure': 695, 'resist': 2555, 'temptation': 3023, 'god': 1207, 'equals': 983, 'freedom': 1141, 'adolescents': 49, 'changing': 468, 'structure': 2922, 'brain': 315, 'maturing': 1837, 'presenters': 2333, 'josephs': 1556, 'healthcare': 1306, 'hamilton': 1269, 'factor': 1046, 'developing': 795, 'psychosis': 2406, 'direct': 815, 'secondary': 2672, 'equal': 982, 'madonnai': 1771, 'lupusra': 1766, 'sjogrens': 2774, 'igg': 1406, 'deficiency': 755, 'meds': 1870, 'including': 1436, 'gfm': 1191, 'allow': 94, 'ask': 174, 'updates': 3208, 'yay': 3398, 'remember': 2523, 'cos': 639, 'second': 2671, 'didnt': 802, 'customs': 703, 'kiddo': 1589, 'maybe': 1839, 'police': 2286, 'commissioner': 554, 'visiting': 3263, 'clubs': 527, 'shows': 2751, 'absolutely': 10, 'pointless': 2282, 'prohibiting': 2372, 'personal': 2230, 'learnaboutsam': 1650, 'data': 719, 'died': 804, 'emergency': 956, 'room': 2606, 'visits': 3264, 'legalregulated': 1674, 'dosage': 869, 'pr': 2318, 'pays': 2209, 'entire': 972, 'debt': 740, 'joerogan': 1543, 'shzamm': 2753, 'jordanbpeterson': 1555, 'martywalsh': 1819, 'mass': 1825, 'masslivenews': 1830, 'gt': 1255, 'bospoli': 309, 'mapoli': 1799, 'alcoholism': 87, 'socialequity': 2806, 'restorativejustice': 2565, 'consumerrights': 613, 'theyoungjurks': 3064, 'masscann': 1828, 'macannabis': 1770, 'events': 998, 'happening': 1279, 'tomorrow': 3105, 'brampton': 319, 'produce': 2355, 'greeces': 1239, 'syriza': 2991, 'believes': 245, 'cultivation': 690, 'attract': 193, 'domestic': 855, 'post': 2306, 'aspects': 178, 'dig': 810, 'hallucinogens': 1268, 'olds': 2107, 'prescriptions': 2331, 'bohemians': 295, 'employers': 958, 'employees': 957, 'purposes': 2419, 'attorney': 192, 'marylou': 1824, 'fabbo': 1038, 'tired': 3091, 'wpain': 3376, 'rxs': 2626, 'wexcruciating': 3323, 'theres': 3058, 'reason': 2465, 'professional': 2362, 'sports': 2853, 'athlete': 185, 'banning': 220, 'athletes': 186, 'outright': 2155, 'discrimination': 826, 'eliastheodorou': 945, 'miamicannabis': 1899, 'florida': 1110, 'rep': 2533, 'matt': 1833, 'gaetz': 1161, 'democratic': 770, 'ally': 99, 'bills': 268, 'veterans': 3246, 'orlando': 2148, 'weekly': 3311, 'blog': 286, 'hey': 1333, 'list': 1715, 'spread': 2855, 'word': 3356, 'far': 1065, 'wide': 3334, 'hollyweed': 1361, 'low': 1756, 'prices': 2342, 'snuff': 2801, 'plants': 2272, 'indoors': 1453, 'certainly': 458, 'kimguadagnonj': 1594, 'billspadea': 269, 'problem': 2352, 'parts': 2195, 'cbds': 441, 'lawsregulations': 1636, 'intrainter': 1493, 'commerce': 552, 'based': 225, 'wthc': 3389, 'trillion': 3150, 'socially': 2807, 'responsible': 2561, 'grappling': 1233, 'question': 2432, 'states': 2875, 'pushing': 2424, 'sin': 2767, 'stocks': 2891, 'tobacco': 3098, 'ethically': 993, 'focused': 1117, 'av': 201, 'realdonaldtrump': 2458, 'money': 1944, 'plans': 2267, 'seminars': 2693, 'convert': 630, 'pilot': 2256, 'initiated': 1467, 'donate': 856, 'instagram': 1476, 'qs': 2427, 'lol': 1737, 'wolf': 3351, 'answered': 131, 'questions': 2433, 'decriminalizing': 751, 'hes': 1331, 'mentioned': 1885, 'opposes': 2132, 'redistricting': 2488, 'reform': 2496, 'yes': 3407, 'uni': 3191, 'background': 210, 'checksassault': 477, 'mexico': 1894, 'number': 2062, 'leftward': 1656, 'push': 2421, 'expanded': 1015, 'coverage': 657, 'control': 627, 'funding': 1156, 'democrats': 771, 'gained': 1162, 'stronger': 2921, 'powers': 2317, 'midterm': 1904, 'elections': 943, 'documentary': 846, 'roll': 2601, 'spliff': 2848, 'wit': 3348, 'bubble': 340, 'hash': 1293, 'san': 2642, 'francisco': 1137, 'clear': 514, 'misdemeanour': 1924, 'convictions': 632, 'dating': 721, 'work': 3357, 'legalizeit': 1667, 'smoke': 2791, 'moved': 1961, 'forward': 1134, 'floor': 1109, 'outweigh': 2157, 'gblainny': 1179, 'nydailynews': 2067, 'estimate': 989, 'catecholamine': 426, 'profound': 2368, 'physiological': 2248, 'pre': 2321, 'fluid': 1113, 'bolus': 297, 'nanosphere': 1984, 'develops': 798, 'intraoral': 1494, 'revolutionise': 2574, 'therapies': 3055, 'absorbed': 11, 'gums': 1260, 'provide': 2397, 'faster': 1070, 'onset': 2114, 'greater': 1236, 'bioavailability': 272, 'precise': 2322, 'endourpain': 966, 'blaming': 281, 'actions': 25, 'youll': 3414, 'fun': 1154, 'weedstagram': 3307, 'instaweed': 1478, 'cannabissubscriptionbox': 398, 'cannabakebox': 373, 'getbaked': 1186, 'getlit': 1187, 'cannaessentials': 401, 'today': 3099, 'asked': 175, 'leader': 1643, 'condemn': 585, 'northwalespcc': 2051, 'irresponsible': 1508, 'behaviour': 241, 'club': 526, 'london': 1738, 'north': 2048, 'wales': 3274, 'upholds': 3209, 'encourages': 962, 'break': 322, 'policing': 2288, 'barmpot': 223, 'little': 1720, 'impact': 1416, 'calgary': 353, 'stats': 2877, 'star': 2865, 'strains': 2908, 'safest': 2632, 'effective': 935, 'options': 2135, 'utahs': 3225, 'legislation': 1679, 'efforts': 941, 'advance': 54, 'reductions': 2494, 'jacobi': 1523, 'thekuhnerreport': 3054, 'pay': 2207, 'mentally': 1883, 'addicted': 35, 'develop': 794, 'alcoholics': 85, 'dysfunctional': 915, 'behavior': 240, 'libertarian': 1693, 'weight': 3314, 'placed': 2263, 'rickmoraller': 2577, 'caused': 433, 'cars': 416, 'safety': 2633, 'features': 1079, 'checks': 476, 'angry': 124, 'company': 565, 'creating': 666, 'addictionyoure': 38, 'shouting': 2749, 'clouds': 524, 'instead': 1479, 'job': 1541, 'washington': 3286, 'dc': 730, 'executive': 1011, 'director': 818, 'mpp': 1966, 'patient': 2205, 'advocates': 59, 'adv': 53, 'marijuanarelated': 1809, 'lush': 1768, 'facing': 1044, 'iteam': 1518, 'cbs': 445, 'graijoseph': 1228, 'saw': 2646, 'political': 2289, 'ad': 31, 'opposing': 2133, 'whos': 3331, 'yea': 3400, 'foremost': 1128, 'anticancer': 134, 'researcher': 2549, 'joins': 1548, 'journey': 1559, 'uncover': 3182, 'canakush': 368, 'cannabiscanada': 383, 'dump': 911, 'scheme': 2657, 'trucking': 3157, 'firm': 1103, 'draft': 876, 'thailand': 3038, 'breezed': 328, 'key': 1586, 'hurdle': 1393, 'assembly': 182, 'proposed': 2388, 'spatience': 2829, 'medicinally': 1866, 'sense': 2698, 'guide': 1258, 'thankfully': 3043, 'embrace': 953, 'experts': 1025, 'field': 1091, 'shouldnt': 2748, 'agains': 64, 'malta': 1789, 'hosts': 1380, 'forum': 1133, 'attracts': 194, 'major': 1778, 'firms': 1104, 'eying': 1037, 'fast': 1069, 'route': 2610, 'training': 3128, 'giving': 1196, 'statistic': 2876, 'able': 7, 'believe': 243, 'economy': 925, 'cannabisculturepoll': 388, 'civilizedlife': 507, 'pharmacists': 2241, 'interactions': 1483, 'provincial': 2400, 'network': 2016, 'accessible': 16, 'care': 414, 'pro': 2349, 'tells': 3022, 'miraculous': 1921, 'sunshine': 2956, 'coast': 532, 'redseattlebot': 2489, 'worst': 3370, 'autism': 200, 'meltdowns': 1877, 'reas': 2464, 'theczech': 3050, 'cannabisnews': 395, 'eyes': 1036, 'gold': 1211, 'northlandvapor': 2050, 'prageru': 2320, 'boggles': 294, 'mind': 1916, 'throat': 3082, 'deleterious': 761, 'individuals': 1452, 'bore': 306, 'recreatio': 2482, 'firstineastasia': 1105, 'chc': 471, 'malibu': 1788, 'ca': 352, 'worries': 3365, 'human': 1390, 'toll': 3103, 'position': 2301, 'cura': 693, 'midyear': 1906, 'start': 2867, 'competitors': 570, 'multi': 1970, 'billion': 266, 'dollar': 852, 'forced': 1125, 'transact': 3129, 'entirely': 973, 'cash': 424, 'logistical': 1736, 'nightmare': 2036, 'tokes': 3101, 'merchant': 1886, 'gateway': 1176, 'facilitating': 1042, 'digital': 812, 'transactions': 3130, 'tks': 3093, 'mgalekgalek': 1896, 'thingsll': 3068, 'affect': 60, 'esp': 986, 'whove': 3332, 'survived': 2979, 'abuse': 12, 'bad': 212, 'checked': 474, 'psych': 2404, 'ward': 3283, 'yikes': 3409, 'smoked': 2792, 'weedmedical': 3303, 'marijuanathen': 1810, 'watched': 3287, 'johnny': 1545, 'aaron': 1, 'alexandre': 89, 'breezes': 329, 'cbdoil': 440, 'arguing': 162, 'huh': 1389, 'id': 1401, 'relieves': 2519, 'person': 2229, 'feeling': 1083, 'fabulous': 1039, 'mark': 1811, 'end': 963, 'epilepsyawareness': 977, 'explores': 1029, 'path': 2204, 'continued': 624, 'investigation': 1498, 'efficacy': 939, 'demonstrated': 772, 'antiepileptic': 135, 'australia': 197, 'panel': 2181, 'oks': 2104, 'issued': 1514, 'april': 158, 'cannabinoids': 376, 'psychotic': 2407, 'disorders': 833, 'thecbdinsider': 3048, 'authorities': 198, 'spreading': 2856, 'point': 2281, 'garden': 1171, 'tough': 3118, 'thumbs': 3083, 'collect': 539, 'revegging': 2570, 'hpra': 1384, 'doesnt': 848, 'smell': 2788, 'fame': 1060, 'hungry': 1392, 'nc': 2000, 'representative': 2540, 'wncn': 3349, 'reliever': 2518, 'reflect': 2495, 'inadvertently': 1431, 'suppressing': 2969, 'feelings': 1084, 'deal': 734, 'wwolf': 3392, 'midas': 1902, 'legalthey': 1675, 'context': 622, 'males': 1787, 'prison': 2346, 'surprised': 2975, 'saying': 2649, 'shit': 2739, 'bcomes': 231, 'seen': 2684, 'harassment': 1282, 'agreeing': 74, 'bc': 230, 'miss': 1925, 'called': 356, 'rent': 2532, 'papas': 2183, 'billboards': 264, 'trade': 3124, 'hopegrown': 1374, 'flowers': 1112, 'amazing': 109, 'beauty': 235, 'dried': 881, 'manicured': 1795, 'related': 2510, 'increased': 1439, 'percent': 2220, 'colorado': 543, 'jayweber': 1528, 'mirandajwillson': 1922, 'contacted': 618, 'medfordmass': 1853, 'express': 1032, 'opening': 2117, 'retail': 2568, 'facility': 1043, 'medford': 1852, 'hopes': 1375, 'nickkovacevich': 2033, 'popularity': 2298, 'wellness': 3318, 'increasingly': 1441, 'website': 3299, 'link': 1712, 'address': 42, 'bio': 270, 'heres': 1329, 'touch': 3117, 'missouri': 1927, 'beware': 262, 'cost': 640, 'drunk': 906, 'places': 2264, 'abroad': 8, 'utmost': 3227, 'importance': 1424, 'scientific': 2662, 'rigor': 2582, 'applied': 147, 'analyzing': 119, 'whats': 3326, 'ingested': 1463, 'welcome': 3316, 'booth': 304, 'lights': 1705, 'cannabisampmarijuana': 379, 'politicians': 2292, 'herb': 1326, 'treating': 3141, 'criminals': 676, 'pictwittercomtrbhgqbc': 2253, 'nbclindsay': 1997, 'phew': 2242, 'helping': 1323, 'difficult': 809, 'incureable': 1445, 'diseases': 829, 'women': 3352, 'gets': 1189, 'isis': 1510, 'basically': 226, 'reasons': 2468, 'jvprny': 1572, 'davidrheins': 726, 'liza': 1725, 'enters': 970, 'politically': 2290, 'connected': 600, 'nycanna': 2066, 'flips': 1107, 'license': 1696, 'acreage': 22, 'holdings': 1358, 'dizzy': 843, 'bitch': 274, 'threatening': 3079, 'fake': 1055, 'deputy': 781, 'ammo': 115, 'openly': 2118, 'cool': 634, 'ahead': 75, 'reply': 2536, 'losers': 1748, 'committees': 557, 'testimony': 3031, 'recreationalcannabis': 2484, 'passes': 2198, 'mikephager': 1909, 'wow': 3375, 'lived': 1722, 'unthinkable': 3205, 'hours': 1382, 'morning': 1952, 'remanded': 2522, 'custody': 701, 'failing': 1053, 'aggravated': 70, 'vehicle': 3244, 'drink': 883, 'cocaine': 533, 'voting': 3269, 'yall': 3396, 'wanna': 3278, 'ballot': 215, 'mssen': 1969, 'msrunoff': 1968, 'justblaisee': 1567, 'play': 2273, 'comes': 547, 'fact': 1045, 'allowing': 97, 'sir': 2770, 'choose': 490, 'nd': 2001, 'amendment': 111, 'schedule': 2654, 'period': 2225, 'shot': 2746, 'pulling': 2414, 'trigger': 3149, 'senate': 2695, 'committee': 556, 'approved': 153, 'brazil': 321, 'pass': 2196, 'units': 3195, 'cannabisbased': 380, 'legally': 1673, 'brought': 338, 'choosing': 491, 'glasscartridge': 1202, 'sioux': 2769, 'citys': 506, 'dyk': 914, 'parentsguardians': 2188, 'drugimpaired': 902, 'nationalsafedrivingweek': 1991, 'influence': 1458, 'thalidomide': 3040, 'british': 334, 'journal': 1558, 'warned': 3285, 'disaster': 821, 'suburban': 2939, 'voters': 3267, 'saycannabischicago': 2648, 'cannabisbusiness': 382, 'homedelivery': 1364, 'jut': 1571, 'fuck': 1147, 'congratulations': 598, 'areas': 159, 'hippocampus': 1348, 'store': 2902, 'undeveloped': 3187, 'extensive': 1034, 'ages': 68, 'physical': 2246, 'council': 643, 'condition': 587, 'cause': 432, 'neuropathic': 2017, 'visible': 3261, 'natural': 1992, 'plantbased': 2269, 'alternative': 102, 'naturalhealth': 1993, 'sobermovement': 2804, 'na': 1982, 'justfortoday': 1568, 'yoooo': 3410, 'hiv': 1352, 'direction': 816, 'days': 728, 'op': 2115, 'vulture': 3270, 'shropshire': 2752, 'div': 840, 'arrests': 169, 'approx': 156, 'possible': 2305, 'seized': 2686, 'protect': 2390, 'inspsouthshrops': 1475, 'profits': 2367, 'teenagers': 3017, 'try': 3163, 'till': 3086, 'drinking': 885, 'lies': 1701, 'perpetuated': 2228, 'safer': 2630, 'weakest': 3298, 'count': 644, 'hazards': 1297, 'cmwmedia': 529, 'unexpected': 3189, 'resignation': 2554, 'general': 1181, 'jeff': 1530, 'sessions': 2712, 'event': 997, 'industr': 1455, 'documented': 847, 'fraud': 1139, 'fed': 1080, 'gov': 1219, 'politician': 2291, 'remind': 2525, 'ammonia': 116, 'mjna': 1932, 'incs': 1444, 'exceeded': 1008, 'mil': 1910, 'dollars': 853, 'ending': 965, 'sept': 2706, 'medicate': 1861, 'evenings': 996, 'sell': 2691, 'silly': 2762, 'happen': 1278, 'scapegoating': 2652, 'impair': 1418, 'drivethru': 892, 'opens': 2119, 'brattleboro': 320, 'reformer': 2497, 'winnipeg': 3343, 'checkstop': 478, 'program': 2369, 'launches': 1630, 'straincentral': 2907, 'josh': 1557, 'videos': 3254, 'started': 2868, 'nervous': 2014, 'educational': 933, 'stuff': 2930, 'talked': 2999, 'helpful': 1322, 'thanks': 3044, 'ton': 3106, 'alternatemeded': 101, 'focuses': 1118, 'sensible': 2699, 'lists': 1717, 'act': 23, 'designed': 783, 'canadiansto': 367, 'hands': 1271, 'criminal': 673, 'offence': 2079, 'overwhelmed': 2164, 'cleaning': 513, 'kitchen': 1598, 'package': 2171, 'gardener': 1172, 'waves': 3290, 'neighbors': 2013, 'yard': 3397, 'wave': 3289, 'smile': 2790, 'completely': 574, 'topless': 3113, 'titsup': 3092, 'hineighbor': 1346, 'helpmeplease': 1324, 'imnotevenstoned': 1415, 'waiting': 3272, 'cheap': 472, 'therapy': 3056, 'modest': 1938, 'mouse': 1959, 'isaac': 1509, 'brock': 335, 'jeremiah': 1532, 'crazy': 663, 'interesting': 1485, 'admits': 46, 'oregon': 2141, 'admitted': 47, 'ed': 927, 'overdoses': 2160, 'hooray': 1371, 'specified': 2841, 'limit': 1708, 'kits': 1599, 'worth': 3371, 'file': 1094, 'submitted': 2933, 'offences': 2080, 'saferroads': 2631, 'fyi': 1160, 'ur': 3211, 'med': 1850, 'card': 412, 'isnt': 1512, 'taxed': 3011, 'renewing': 2531, 'johno': 1546, 'normalnow': 2046, 'daveweigel': 723, 'scientifically': 2663, 'narrow': 1987, 'issue': 1513, 'applauds': 145, 'opportunities': 2129, 'sen': 2694, 'mitch': 1929, 'mcconnell': 1842, 'pushes': 2423, 'leading': 1645, 'acb': 13, 'ship': 2736, 'incredibly': 1443, 'gross': 1245, 'par': 2185, 'course': 652, 'concern': 581, 'center': 452, 'medicalcannabis': 1858, 'following': 1123, 'trick': 3147, 'pony': 2293, 'locally': 1732, 'requires': 2547, 'brains': 316, 'succeed': 2940, 'specialized': 2838, 'knowledge': 1607, 'officially': 2088, 'resources': 2556, 'supervisors': 2960, 'impairment': 1421, 'toolbox': 3110, 'constructionsafety': 608, 'excited': 1010, 'consuming': 615, 'expensive': 1019, 'monitored': 1945, 'protection': 2391, 'melaniatrump': 1874, 'opiod': 2123, 'epidemic': 974, 'potus': 2314, 'remove': 2528, 'yr': 3420, 'old': 2105, 'vet': 3245, 'painsleepanxiety': 2177, 'curaleaf': 694, 'smartnews': 2787, 'courier': 651, 'forgot': 1131, 'share': 2728, 'tuesday': 3167, 'friends': 1146, 'sam': 2638, 'girl': 1193, 'eric': 985, 'sex': 2718, 'masturbation': 1831, 'clue': 528, 'learned': 1651, 'friend': 1145, 'needed': 2007, 'mustard': 1977, 'gasand': 1174, 'hope': 1372, 'healsnot': 1304, 'radiationthose': 2439, 'compare': 567, 'vaccines': 3230, 'pregnancy': 2325, 'extremely': 1035, 'barriers': 224, 'healing': 1303, 'cannabisimpaired': 390, 'various': 3240, 'strictly': 2916, 'lazy': 1639, 'cousin': 655, 'hockey': 1356, 'player': 2274, 'hs': 1385, 'pothead': 2312, 'potheads': 2313, 'wcrime': 3296, 'vampires': 3232, 'slee': 2779, 'getongab': 1188, 'true': 3158, 'works': 3361, 'living': 1724, 'left': 1655, 'sitting': 2772, 'telling': 3021, 'welfare': 3317, 'illegal': 1409, 'aliens': 93, 'oise': 2100, 'hm': 1353, 'mean': 1845, 'literally': 1719, 'threequarters': 3080, 'canadians': 366, 'minimum': 1917, 'age': 65, 'purchase': 2417, 'angusreidorg': 125, 'wrightpatt': 3381, 'credit': 668, 'union': 3192, 'services': 2709, 'businesses': 347, 'whiff': 3328, 'heads': 1302, 'dad': 707, 'forget': 1130, 'sniffing': 2797, 'dog': 849, 'hasbeensports': 1292, 'leads': 1646, 'yearold': 3403, 'faces': 1041, 'felony': 1086, 'charges': 470, 'dolly': 854, 'highway': 1345, 'common': 558, 'terpinolene': 3028, 'terpene': 3026, 'exhibits': 1013, 'pineycitrus': 2259, 'aroma': 165, 'sedative': 2677, 'sleep': 2780, 'trilogy': 3151, 'profiles': 2365, 'favorite': 1076, 'cannmart': 405, 'sameday': 2639, 'pineapple': 2257, 'efficient': 940, 'methods': 1892, 'eat': 922, 'reasoning': 2467, 'marijuanalegalization': 1808, 'multiplesclerosis': 1972, 'neuropathicpain': 2018, 'crohnsdisease': 679, 'alzheimersdisease': 106, 'chronicpain': 496, 'psychoticdisorder': 2408, 'weightloss': 3315, 'appetitestimulator': 144, 'anti': 133, 'nausea': 1995, 'presidentelect': 2334, 'respect': 2557, 'courts': 654, 'strike': 2917, 'fighting': 1093, 'nyhammond': 2068, 'board': 291, 'navigated': 1996, 'murky': 1976, 'crutch': 686, 'worse': 3367, 'steals': 2881, 'tallahassees': 3001, 'newest': 2020, 'midtowngtgt': 1905, 'postlegalization': 2307, 'surprising': 2976, 'consumed': 612, 'gd': 1180, 'dfcrorg': 799, 'nation': 1988, 'serves': 2708, 'experiment': 1022, 'guidance': 1257, 'official': 2087, 'th': 3036, 'expresscbd': 1033, 'reactions': 2453, 'inform': 1460, 'maker': 1781, 'points': 2283, 'gonna': 1214, 'doritos': 868, 'funions': 1157, 'choices': 489, 'understand': 3185, 'watching': 3288, 'obviously': 2075, 'judged': 1562, 'rumor': 2621, 'sltrib': 2784, 'supporters': 2965, 'recentlypassed': 2474, 'initiative': 1468, 'sue': 2948, 'lds': 1641, 'church': 497, 'interfering': 1486, 'legi': 1676, 'sky': 2778, 'fallen': 1057, 'ohio': 2096, 'relying': 2521, 'outofstate': 2154, 'workers': 3358, 'ground': 1246, 'article': 170, 'busboystakoma': 345, 'reps': 2543, 'theyll': 3063, 'answering': 132, 'swag': 2984, 'register': 2501, 'details': 788, 'doovers': 865, 'youve': 3419, 'stuck': 2925, 'forever': 1129, 'memesyndrome': 1878, 'investing': 1500, 'stock': 2890, 'illnesses': 1412, 'citizens': 503, 'albeit': 83, 'therealmannwell': 3057, 'looooong': 1746, 'overdue': 2161, 'pd': 2211, 'jac': 1520, 'earlier': 916, 'hidden': 1335, 'seat': 2669, 'proved': 2395, 'locating': 1734, 'drinks': 886, 'happyhandler': 1281, 'secondshiftoutwithnewhandler': 2673, 'pictwittercomsbvbfqrw': 2252, 'ganjaoklahoma': 1170, 'helloive': 1319, 'moon': 1949, 'rocks': 2598, 'shatterwax': 2730, 'vapescartridges': 3236, 'stoners': 2897, 'tex': 3033, 'goldmanvision': 1212, 'laurahday': 1631, 'purrrcell': 2420, 'amandabynes': 108, 'clothing': 523, 'wouldnt': 3373, 'injury': 1469, 'note': 2052, 'self': 2690, 'border': 305, 'lmao': 1727, 'clarkemicah': 511, 'powerful': 2316, 'fashionable': 1068, 'lobbydriven': 1730, 'rush': 2625, 'jackson': 1521, 'opts': 2136, 'fails': 1054, 'wsbt': 3387, 'canvassers': 408, 'certi': 459, 'festival': 1089, 'kids': 1590, 'sold': 2813, 'ketamine': 1584, 'ecstasy': 926, 'lied': 1700, 'knowing': 1606, 'conviction': 631, 'threatened': 3078, 'violence': 3258, 'drove': 898, 'takers': 2995, 'jacktemp': 1522, 'mustweed': 1978, 'wh': 3324, 'nice': 2029, 'piece': 2254, 'rollingstone': 2603, 'highlighting': 1340, 'main': 1774, 'child': 486, 'lynnpaltrow': 1769, 'drcarlhart': 877, 'hurting': 1394, 'mothers': 1955, 'omg': 2108, 'truly': 3160, 'moron': 1953, 'risen': 2584, 'gone': 1213, 'hard': 1283, 'letterkenny': 1687, 'unit': 3194, 'agency': 66, 'checkpoint': 475, 'running': 2624, 'diesel': 806, 'thommenjose': 3073, 'milestone': 1911, 'perceived': 2219, 'traditionally': 3126, 'conservative': 604, 'societies': 2809, 'worsened': 3368, 'fad': 1050, 'justify': 1569, 'mainstreaming': 1776, 'promoting': 2380, 'thread': 3077, 'tonywi': 3108, 'panic': 2182, 'hoping': 1376, 'passing': 2199, 'wi': 3333, 'popping': 2296, 'pills': 2255, 'varvel': 3241, 'indystar': 1457, 'exact': 1005, 'snakeoil': 2796, 'cartoon': 418, 'ailments': 77, 'needlessly': 2008, 'arkansas': 164, 'speedweed': 2843, 'fall': 1056, 'asleep': 177, 'night': 2035, 'nights': 2037, 'recommend': 2477, 'thought': 3074, 'theft': 3051, 'motor': 1958, 'licence': 1695, 'realjeffholiday': 2461, 'stream': 2910, 'starts': 2870, 'alright': 100, 'david': 724, 'baker': 214, 'agreed': 73, 'beneficialmedical': 250, 'medication': 1862, 'repression': 2542, 'honourablehappy': 1370, 'battle': 229, 'succeeds': 2941, 'winning': 3342, 'indust': 1454, 'writes': 3384, 'paper': 2184, 'mormon': 1951, 'lawsuit': 1637, 'opposition': 2134, 'discovery': 824, 'manipulate': 1797, 'levels': 1690, 'intoxicating': 1490, 'contained': 620, 'suit': 2955, 'varied': 3238, 'preferences': 2324, 'radio': 2440, 'dopey': 866, 'grass': 1234, 'greener': 1241, 'sputnikint': 2858, 'india': 1446, 'lots': 1750, 'sick': 2754, 'adults': 51, 'regulation': 2505, 'children': 487, 'tackle': 2992, 'street': 2911, 'dealing': 735, 'poor': 2294, 'drugspolicy': 904, 'delawaregov': 759, 'colour': 544, 'win': 3340, 'rcs': 2450, 'suspect': 2980, 'farm': 1066, 'near': 2003, 'destroy': 787, 'prevents': 2339, 'stops': 2901, 'community': 561, 'junglestrikeguy': 1565, 'mary': 1820, 'highlights': 1341, 'niece': 2034, 'suffers': 2951, 'felonies': 1085, 'aka': 80, 'victimless': 3251, 'quite': 2437, 'bit': 273, 'epionymous': 980, 'drlindadykes': 896, 'notoriousbeg': 2055, 'huwpenylan': 1397, 'wrexhamcote': 3380, 'staff': 2861, 'rubbish': 2616, 'noticed': 2053, 'rarely': 2445, 'breath': 326, 'cherylnunn': 482, 'dozens': 874, 'plead': 2276, 'meeting': 1873, 'special': 2835, 'session': 2711, 'approving': 155, 'city': 505, 'leaders': 1644, 'quick': 2434, 'transporting': 3134, 'danielcoronanv': 716, 'legislature': 1681, 'officer': 2085, 'determines': 792, 'include': 1433, 'immediate': 1414, 'suspension': 2981, 'impoundment': 1428, 'fines': 1099, 'andor': 121, 'dontdriveimpaired': 860, 'drivesober': 891, 'slicecomm': 2781, 'inve': 1496, 'glad': 1199, 'claims': 509, 'cannibis': 404, 'curing': 697, 'promising': 2377, 'cessation': 462, 'discovering': 823, 'cannabidoil': 375, 'passionate': 2200, 'offering': 2082, 'current': 699, 'routes': 2611, 'criminalisation': 674, 'cannabisconversations': 386, 'recommended': 2479, 'cooking': 633, 'implications': 1422, 'medium': 1868, 'tumbled': 3168, 'weeks': 3312, 'offset': 2090, 'valuations': 3231, 'trouble': 3154, 'acted': 24, 'later': 1625, 'mistake': 1928, 'parents': 2187, 'underestimate': 3184, 'puttin': 2425, 'ssaaddiction': 2859, 'university': 3197, 'columbia': 545, 'appoints': 149, 'professor': 2364, 'role': 2600, 'mariju': 1802, 'legislating': 1677, 'believing': 246, 'notkyla': 2054, 'lee': 1654, 'defence': 754, 'lawyer': 1638, 'podcast': 2280, 'staytuned': 2880, 'irplawyer': 1507, 'cannabislawtm': 393, 'mikedevillaer': 1908, 'cannalawblog': 402, 'elevating': 944, 'unitymarguerite': 3196, 'denver': 773, 'directly': 817, 'dan': 712, 'rowland': 2613, 'principal': 2344, 'advisory': 56, 'announces': 129, 'largest': 1623, 'quarter': 2431, 'international': 1487, 'bermuda': 255, 'set': 2713, 'door': 863, 'investments': 1502, 'rollodeq': 2604, 'booming': 303, 'stores': 2903, 'exploding': 1027, 'demand': 767, 'fuelling': 1151, 'boom': 301, 'importing': 1426, 'trenton': 3145, 'cbsnewyork': 446, 'turtle': 3170, 'island': 1511, 'indigenous': 1451, 'naturals': 1994, 'alternatives': 103, 'pharmaceutical': 2239, 'sokor': 2812, 'cannabisindustry': 391, 'shotgun': 2747, 'blast': 282, 'critical': 678, 'fresno': 1143, 'robbery': 2595, 'attempt': 189, 'aid': 76, 'proud': 2393, 'seei': 2680, 'perform': 2223, 'mana': 1791, 'guys': 1264, 'midnight': 1903, 'takes': 2996, 'taxit': 3013, 'setourbrothersfree': 2714, 'legalizemarijuanainky': 1669, 'marijuanalawreform': 1807, 'crains': 662, 'explored': 1028, 'banking': 218, 'surrounding': 2978, 'biz': 276, 'quietly': 2436, 'serving': 2710, 'cannabusinesses': 400, 'respond': 2558, 'interview': 1489, 'banks': 219, 'clients': 518, 'ndas': 2002, 'ok': 2101, 'mandyland': 1794, 'beds': 237, 'painting': 2178, 'wana': 3277, 'marry': 1817, 'handsome': 1273, 'owner': 2165, 'hometown': 1366, 'newton': 2025, 'rejecting': 2508, 'shabby': 2724, 'scare': 2653, 'tactics': 2993, 'liquor': 1714, 'sensibly': 2700, 'worry': 3366, 'onpoli': 2112, 'katvmarine': 1577, 'katvnews': 1578, 'disgrace': 831, 'wishes': 3347, 'oklahoma': 2103, 'november': 2059, 'damn': 711, 'marylands': 1823, 'reporting': 2539, 'numbers': 2063, 'coworker': 659, 'calph': 358, 'distance': 837, 'gambling': 1163, 'central': 454, 'believed': 244, 'lowthc': 1759, 'exactly': 1006, 'jurisdictions': 1566, 'issuing': 1516, 'fail': 1051, 'season': 2668, 'swing': 2987, 'belts': 247, 'nhl': 2027, 'stance': 2862, 'players': 2275, 'recent': 2473, 'municipalities': 1974, 'cultivating': 689, 'engagement': 968, 'weigh': 3313, 'shaping': 2727, 'communityengagement': 562, 'transparency': 3132, 'communication': 559, 'promotes': 2379, 'outcomes': 2153, 'lbs': 1640, 'sort': 2820, 'false': 1059, 'investigations': 1499, 'yeg': 3406, 'bolhuis': 296, 'et': 991, 'al': 81, 'examined': 1007, 'relationship': 2512, 'parental': 2186, 'experiences': 1021, 'ples': 2278, 'offspring': 2091, 'cohort': 536, 'maternal': 1832, 'paternal': 2203, 'judge': 1561, 'highlife': 1339, 'highereducation': 1337, 'ideal': 1403, 'evening': 995, 'cannabiscbd': 384, 'consultant': 609, 'confidence': 593, 'emailmsgtweet': 952, 'wwe': 3391, 'vincemcmahon': 3256, 'tripleh': 3152, 'super': 2958, 'stars': 2866, 'bodys': 293, 'heel': 1316, 'concussions': 584, 'injurys': 1470, 'studys': 2929, 'process': 2354, 'zaidyns': 3423, 'wait': 3271, 'genuinely': 1184, 'shocked': 2741, 'gruntlelife': 1254, 'advocate': 58, 'kardcanada': 1576, 'gm': 1206, 'closed': 521, 'oshawaontariocanada': 2149, 'plantnowi': 2271, 'worlds': 3363, 'operation': 2120, 'outside': 2156, 'box': 312, 'boss': 310, 'medica': 1856, 'origin': 2146, 'lessadvanced': 1684, 'infrastructure': 1462, 'actively': 27, 'exporing': 1030, 'earlystage': 918, 'relationships': 2513, 'originhouseoh': 2147, 'afzalutely': 63, 'putting': 2426, 'ohigho': 2095, 'uoft': 3207, 'campuses': 362, 'premiladsa': 2327, 'torontostar': 3115, 'production': 2359, 'mjbiztraining': 1931, 'slog': 2783, 'shiiid': 2734, 'kansas': 1575, 'soooo': 2819, 'letting': 1688, 'rcmp': 2449, 'usual': 3222, 'thewire': 3062, 'harvest': 1290, 'sale': 2636, 'episode': 981, 'melissabone': 1876, 'met': 1889, 'social': 2805, 'model': 1937, 'wrestle': 3379, 'organised': 2143, 'reduces': 2492, 'stroke': 2919, 'cannabidiol': 374, 'toxicreverend': 3122, 'gknapp': 1198, 'dea': 731, 'heroin': 1330, 'mi': 1897, 'sets': 2715, 'date': 720, 'apps': 157, 'late': 1624, 'stlthward': 2889, 'louis': 1751, 'sponsored': 2852, 'eckerts': 923, 'apples': 146, 'kevinsabet': 1585, 'fo': 1116, 'decisions': 745, 'successful': 2943, 'overcame': 2158, 'petty': 2237, 'complain': 571, 'seek': 2682, 'religion': 2520, 'dunno': 912, 'analyze': 118, 'normalize': 2045, 'mexican': 1893, 'cannabisderived': 389, 'contain': 619, 'lt': 1762, 'orgcouncil': 2145, 'perspective': 2231, 'growers': 1249, 'incorporating': 1437, 'companion': 564, 'unique': 3193, 'secure': 2675, 'employment': 959, 'rights': 2581, 'seeking': 2683, 'govinslee': 1224, 'consumers': 614, 'everybody': 1000, 'seattletimes': 2670, 'sucks': 2946, 'cartridge': 419, 'scam': 2651, 'tasted': 3008, 'pinesol': 2258, 'gave': 1177, 'added': 34, 'lemon': 1683, 'solvents': 2815, 'andrxwlxnn': 123, 'mari': 1801, 'bank': 217, 'runner': 2623, 'tourism': 3119, 'rolls': 2605, 'kalw': 1574, 'went': 3321, 'california': 355, 'travelers': 3137, 'chance': 465, 'sfolks': 2720, 'boomers': 302, 'toninobologny': 3107, 'hmmm': 1354, 'meth': 1890, 'perfectly': 2222, 'ugly': 3175, 'anymore': 138, 'justine': 1570, 'removing': 2529, 'excise': 1009, 'donttaxmedicine': 862, 'drhartweek': 880, 'speakup': 2834, 'drmikehart': 897, 'cbinsights': 444, 'cb': 435, 'insights': 1472, 'advisor': 55, 'kishan': 1597, 'mahabir': 1773, 'shares': 2729, 'pros': 2389, 'capsules': 410, 'form': 1132, 'weekend': 3310, 'heavy': 1314, 'churchgoin': 498, 'family': 1062, 'suspicions': 2983, 'split': 2849, 'confirmation': 596, 'bonding': 298, 'level': 1689, 'disabilities': 820, 'scoping': 2665, 'review': 2572, 'disabil': 819, 'rehabil': 2507, 'nov': 2057, 'lkekannabis': 1726, 'tutkimuskatsaus': 3171, 'exfighter': 1012, 'finds': 1097, 'wind': 3341, 'phoenix': 2245, 'roop': 2607, 'menopause': 1880, 'grueling': 1253, 'tracys': 3123, 'spoiler': 2850, 'alert': 88, 'youareunltd': 3413, 'ran': 2444, 'quickly': 2435, 'detained': 789, 'revoked': 2573, 'wipe': 3344, 'opmoonshotcity': 2127, 'distupt': 839, 'pc': 2210, 'norfolkpolice': 2044, 'massive': 1829, 'joethepikr': 1544, 'rodales': 2599, 'organic': 2142, 'hightimesmag': 1344, 'forbidden': 1124, 'cbtmag': 447, 'indian': 1447, 'scientists': 2664, 'tap': 3004, 'uses': 3220, 'management': 1793, 'epilep': 975, 'countable': 645, 'ocasio': 2076, 'required': 2546, 'firearms': 1101, 'residence': 2551, 'aisle': 79, 'gop': 1216, 'legislatio': 1678, 'leafly': 1647, 'centurylong': 456, 'curious': 698, 'facts': 1048, 'pinned': 2260, 'alabama': 82, 'georgia': 1185, 'indiana': 1448, 'texas': 3034, 'traveling': 3138, 'marijuanadoctors': 1805, 'medicalmarijuanapatient': 1860, 'marijuanadoctor': 1804, 'wrap': 3377, 'moving': 1964, 'intractable': 1492, 'broke': 336, 'usveteran': 3223, 'bioactive': 271, 'substances': 2936, 'produced': 2356, 'sought': 2821, 'sprung': 2857, 'ancient': 120, 'colonization': 542, 'genome': 1183, 'viruses': 3260, 'researchers': 2550, 'pushback': 2422, 'expertise': 1024, 'wouldve': 3374, 'speak': 2830, 'specific': 2839, 'scholar': 2658, 'heard': 1310, 'complete': 572, 'display': 836, 'njcannabismedia': 2041, 'newsletter': 2024, 'adultuse': 52, 'thr': 3076, 'sicklecell': 2755, 'standrewsroad': 2864, 'maingate': 1775, 'junction': 1564, 'roadside': 2594, 'wanted': 3280, 'cheshirepolice': 483, 'arrestedx': 168, 'portpolice': 2299, 'wndu': 3350, 'permanent': 2227, 'licensing': 1699, 'provision': 2401, 'deli': 762, 'headdock': 1300, 'medscape': 1871, 'sgottliebfda': 2721, 'agree': 72, 'reasonable': 2466, 'risksbenefits': 2587, 'clearly': 515, 'stated': 2873, 'crack': 660, 'falls': 1058, 'categor': 427, 'benyiju': 254, 'cfalerts': 463, 'drjaneofficial': 895, 'tanzanian': 3003, 'citizen': 502, 'switzerland': 2988, 'prepares': 2328, 'liberalization': 1692, 'medcann': 1851, 'parliamentary': 2190, 'motion': 1956, 'seriously': 2707, 'demands': 768, 'export': 1031, 'dayton': 729, 'marking': 1814, 'turning': 3169, 'sovereignty': 2827, 'admit': 45, 'jerk': 1534, 'smells': 2789, 'awesome': 208, 'writer': 3383, 'opportunity': 2130, 'imposing': 1427, 'cannabisrelated': 397, 'crimes': 672, 'commit': 555, 'resident': 2552, 'ability': 6, 'fans': 1064, 'cheering': 479, 'guts': 1263, 'mention': 1884, 'idol': 1405, 'names': 1983, 'joke': 1551, 'crooksandliars': 681, 'mebi': 1849, 'tarrr': 3006, 'worship': 3369, 'tar': 3005, 'replaces': 2535, 'rendering': 2530, 'barbarian': 222, 'leverage': 1691, 'worthless': 3372, 'beneath': 248, 'desert': 782, 'dries': 882, 'lure': 1767, 'recognize': 2476, 'cgc': 464, 'nbev': 1999, 'cron': 680, 'tlry': 3094, 'searchlight': 2667, 'ethical': 992, 'considerations': 606, 'stvincent': 2932, 'grenadines': 1243, 'progressing': 2370, 'peace': 2212, 'mattpmaurer': 1836, 'looked': 1744, 'rolling': 2602, 'stone': 2893, 'probably': 2351, 'anyways': 139, 'technically': 3016, 'recreationali': 2485, 'shamanicreiki': 2725, 'explanation': 1026, 'cyprusmail': 705, 'friday': 1144, 'bye': 350, 'psychopharmacology': 2405, 'component': 576, 'inhibit': 1466, 'motivation': 1957, 'methamphetamine': 1891, 'rats': 2448, 'preliminary': 2326, 'findings': 1096, 'suggest': 2952, 'whateversusan': 3325, 'betting': 260, 'beverages': 261, 'future': 1159, 'breaks': 324, 'idiotic': 1404, 'statement': 2874, 'wise': 3345, 'responses': 2560, 'enjoy': 969, 'daherbmon': 708, 'silver': 2763, 'seniors': 2697, 'cheers': 480, 'hightimes': 1343, 'activism': 28, 'realpaigewwe': 2463, 'paige': 2174, 'fan': 1063, 'neck': 2005, 'vincent': 3257, 'poised': 2284, 'knots': 1604, 'untangle': 3204, 'existing': 1014, 'grey': 1244, 'presence': 2332, 'thegarden': 3052, 'improves': 1430, 'function': 1155, 'southern': 2825, 'struggle': 2923, 'shortages': 2745, 'darren': 717, 'millar': 1913, 'blocked': 285, 'cruel': 683, 'unnecessary': 3202, 'stigmatisation': 2887, 'outburst': 2152, 'viral': 3259, 'urge': 3212, 'downingstreet': 873, 'theresamay': 3060, 'legalised': 1661, 'aggravate': 69, 'long': 1739, 'hanyak': 1277, 'traditional': 3125, 'picks': 2250, 'large': 1622, 'snowbla': 2800, 'shame': 2726, 'uproot': 3210, 'families': 1061, 'crisishas': 677, 'addicts': 40, 'solution': 2814, 'gladly': 1200, 'substitute': 2937, 'wall': 3275, 'partially': 2191, 'fault': 1073, 'aware': 205, 'lowkey': 1758, 'dangers': 714, 'glyphosate': 1205, 'aspertame': 179, 'bpa': 314, 'mercury': 1887, 'aluminum': 104, 'teeth': 3019, 'bone': 299, 'strengthening': 2912, 'properties': 2387, 'fluoride': 1114, 'additives': 41, 'press': 2335, 'release': 2515, 'marijuanaincposted': 1806, 'hdrpf': 1298, 'expands': 1016, 'zealand': 3424, 'bar': 221, 'female': 1087, 'honestly': 1367, 'grown': 1251, 'agent': 67, 'orange': 2138, 'smooth': 2795, 'mouth': 1960, 'round': 2609, 'soft': 2811, 'taste': 3007, 'stretch': 2914, 'mediaicov': 1855, 'published': 2413, 'gordonslife': 1217, 'riedle': 2578, 'decriminalization': 749, 'gaming': 1164, 'idea': 1402, 'ky': 1615, 'fixing': 1106, 'pensionamp': 2217, 'nbcwashington': 1998, 'decades': 742, 'coffee': 535, 'meatloaf': 1848, 'tastee': 3009, 'diner': 813, 'medi': 1854, 'supportive': 2966, 'lmfao': 1728, 'provisioning': 2402, 'centers': 453, 'deliver': 763, 'ounces': 2151, 'deliveries': 764, 'nuneaton': 2064, 'centre': 455, 'knife': 1603, 'wrench': 3378, 'constables': 607, 'stopandsearchworks': 2900, 'spartygirl': 2828, 'maninthehoody': 1796, 'students': 2926, 'cannabisuse': 399, 'road': 2592, 'onroadsafety': 2113, 'dontdrivehigh': 859, 'hollyweednorth': 1362, 'ht': 1386, 'elroraps': 949, 'habitual': 1266, 'spoke': 2851, 'lungs': 1765, 'sh': 2723, 'dogs': 851, 'laid': 1621, 'launched': 1629, 'northampton': 2049, 'doors': 864, 'securing': 2676, 'sampb': 2640, 'thrilled': 3081, 'bmav': 290, 'realcamdavies': 2457, 'adamschefter': 32, 'wrote': 3386, 'malavemark': 1785, 'thecryptohippo': 3049, 'keebler': 1579, 'catmarqueelv': 429, 'juanrojas': 1560, 'nickjvar': 2032, 'iamcnnu': 1400, 'christiansarkis': 492, 'davidhogg': 725, 'guns': 1262, 'shoot': 2742, 'school': 2659, 'wondering': 3354, 'sho': 2740, 'whod': 3329, 'embracing': 954, 'compound': 577, 'darrenmillaram': 718, 'julie': 1563, 'james': 1525, 'followed': 1121, 'plaids': 2265, 'leannewood': 1648, 'stringent': 2918, 'guidelines': 1259, 'heckled': 1315, 'fmqs': 1115, 'ohamkrw': 2094, 'collecting': 540, 'snl': 2798, 'jokes': 1552, 'snoopdogg': 2799, 'govmurphy': 1225, 'senatorscutari': 2696, 'stevesweeneynj': 2884, 'aint': 78, 'reduction': 2493, 'receptors': 2475, 'brainstem': 317, 'breathing': 327, 'rates': 2447, 'disentangling': 830, 'longitudinal': 1741, 'relations': 2511, 'peer': 2214, 'conduct': 589, 'problems': 2353, 'developmental': 797, 'cascading': 420, 'links': 1713, 'disorder': 832, 'defoe': 758, 'wiley': 3338, 'library': 1694, 'progressive': 2371, 'generation': 1182, 'medications': 1863, 'terminally': 3025, 'besos': 256, 'jeremyolander': 1533, 'yearoveryear': 3404, 'declines': 746, 'jlohouls': 1539, 'trap': 3135, 'notwill': 2056, 'ownership': 2167, 'hawaii': 1296, 'ordered': 2140, 'surrender': 2977, 'marketplace': 1813, 'vegas': 3242, 'beautiful': 234, 'suck': 2945, 'gay': 1178, 'ass': 180, 'bullshit': 343, 'jimmoran': 1538, 'tomangell': 3104, 'todaynew': 3100, 'jerseys': 1536, 'overhaul': 2162, 'addresss': 43, 'ongoing': 2110, 'controversy': 629, 'popular': 2297, 'belief': 242, 'highly': 1342, 'neglected': 2011, 'marksaplang': 1815, 'cannabislawohio': 392, 'released': 2516, 'roster': 2608, 'physicians': 2247, 'hold': 1357, 'active': 26, 'certificate': 460, 'harvesting': 1291, 'announcements': 128, 'jb': 1529, 'warn': 3284, 'evil': 1004, 'nixons': 2039, 'humanity': 1391, 'cardholders': 413, 'homes': 1365, 'attention': 191, 'acmpr': 21, 'jeopardy': 1531, 'simple': 2766, 'newsian': 2023, 'crackmacs': 661, 'suggestion': 2954, 'publicly': 2412, 'user': 3218, 'ires': 1506, 'posts': 2308, 'factual': 1049, 'backup': 211, 'obtainable': 2072, 'legalizemarijuana': 1668, 'doriandargan': 867, 'suspicion': 2982, 'drugdriving': 901, 'sgtchrisharris': 2722, 'va': 3229, 'creates': 665, 'safemedicine': 2629, 'positively': 2303, 'impacts': 1417, 'cannabispolicy': 396, 'ayyyyyyyyy': 209, 'yayayyy': 3399, 'njleg': 2042, 'duchessk': 908, 'moh': 1939, 'diagnosis': 801, 'substancerelated': 2935, 'includes': 1435, 'perfect': 2221, 'comparison': 568, 'synthetic': 2990, 'cannab': 372, 'arizona': 163, 'pesticides': 2232, 'mold': 1940, 'hanf': 1274, 'cnw': 531, 'battelle': 228, 'canopy': 407, 'strategic': 2909, 'collaboration': 538, 'novel': 2058, 'development': 796, 'recommendations': 2478, 'testingstandards': 3032, 'similar': 2765, 'partnering': 2194, 'canntrust': 406, 'tsx': 3165, 'trst': 3155, 'partnered': 2193, 'mcmaster': 1844, 'designing': 784, 'protocols': 2392, 'ireland': 1505, 'depart': 776, 'thejournalie': 3053, 'prnewswire': 2348, 'mjba': 1930, 'mjnews': 1933, 'regular': 2502, 'particularly': 2192, 'factors': 1047, 'spin': 2847, 'offs': 2089, 'short': 2744, 'sighted': 2757, 'driven': 888, 'pharma': 2238, 'comment': 550, 'atlantic': 187, 'fires': 1102, 'involved': 1504, 'butt': 348, 'deep': 753, 'ashtrays': 171, 'responsibly': 2562, 'jointed': 1550, 'phillys': 2243, 'integrative': 1482, 'cannabinol': 377, 'consultation': 610, 'skincarefacials': 2776, 'supplements': 2961, 'stand': 2863, 'association': 184, 'specialists': 2837, 'educatio': 931, 'abc': 4, 'bullshitting': 344, 'illness': 1411, 'sickness': 2756, 'gods': 1208, 'radiobenparker': 2441, 'wbznewsradio': 3295, 'commission': 553, 'shops': 2743, 'secret': 2674, 'amend': 110, 'narcotics': 1986, 'cools': 635, 'improve': 1429, 'sexual': 2719, 'performance': 2224, 'correlation': 638, 'prove': 2394, 'causation': 431, 'counties': 646, 'connect': 599, 'dots': 871, 'grade': 1227, 'dfs': 800, 'reminds': 2526, 'insurers': 1481, 'obligation': 2071, 'cover': 656, 'office': 2084, 'certification': 461, 'jmvan': 1540, 'isuckatpicking': 1517, 'whomeless': 3330, 'tent': 3024, 'cities': 501, 'installing': 1477, 'sites': 2771, 'zone': 3426, 'given': 1194, 'ek': 942, 'pets': 2236, 'animal': 126, 'veterinarian': 3247, 'accidentally': 18, 'ingests': 1465, 'predicted': 2323, 'dougpolkpoker': 872, 'certain': 457, 'brother': 337, 'lucky': 1763, 'oral': 2137, 'spray': 2854, 'sativex': 2643}\n"
     ]
    }
   ],
   "source": [
    "print(vectorizer.vocabulary_)"
   ]
  },
  {
   "cell_type": "code",
   "execution_count": 36,
   "metadata": {},
   "outputs": [
    {
     "data": {
      "text/plain": [
       "matrix([[0, 0, 0, ..., 0, 0, 0],\n",
       "        [0, 0, 0, ..., 0, 0, 0],\n",
       "        [0, 0, 0, ..., 0, 0, 0],\n",
       "        ...,\n",
       "        [0, 0, 0, ..., 0, 0, 0],\n",
       "        [0, 0, 0, ..., 0, 0, 0],\n",
       "        [0, 0, 0, ..., 0, 0, 0]], dtype=int64)"
      ]
     },
     "execution_count": 36,
     "metadata": {},
     "output_type": "execute_result"
    }
   ],
   "source": [
    "X_traintext.todense()"
   ]
  },
  {
   "cell_type": "code",
   "execution_count": 37,
   "metadata": {},
   "outputs": [
    {
     "data": {
      "text/plain": [
       "array([[0, 0, 0, ..., 0, 0, 0],\n",
       "       [0, 0, 0, ..., 0, 0, 0],\n",
       "       [0, 0, 0, ..., 0, 0, 0],\n",
       "       ...,\n",
       "       [0, 0, 0, ..., 0, 0, 0],\n",
       "       [0, 0, 0, ..., 0, 0, 0],\n",
       "       [0, 0, 0, ..., 0, 0, 0]])"
      ]
     },
     "execution_count": 37,
     "metadata": {},
     "output_type": "execute_result"
    }
   ],
   "source": [
    "vectorizer.transform(X_testclean).toarray()"
   ]
  },
  {
   "cell_type": "code",
   "execution_count": 38,
   "metadata": {},
   "outputs": [],
   "source": [
    "dftrain=pd.DataFrame(vectorizer.fit_transform(X_trainclean).toarray(),columns=vectorizer.get_feature_names())\n",
    "dftest=pd.DataFrame(vectorizer.transform(X_testclean).toarray(),columns=vectorizer.get_feature_names())"
   ]
  },
  {
   "cell_type": "code",
   "execution_count": 39,
   "metadata": {},
   "outputs": [
    {
     "data": {
      "text/html": [
       "<div>\n",
       "<style scoped>\n",
       "    .dataframe tbody tr th:only-of-type {\n",
       "        vertical-align: middle;\n",
       "    }\n",
       "\n",
       "    .dataframe tbody tr th {\n",
       "        vertical-align: top;\n",
       "    }\n",
       "\n",
       "    .dataframe thead th {\n",
       "        text-align: right;\n",
       "    }\n",
       "</style>\n",
       "<table border=\"1\" class=\"dataframe\">\n",
       "  <thead>\n",
       "    <tr style=\"text-align: right;\">\n",
       "      <th></th>\n",
       "      <th>aaro</th>\n",
       "      <th>aaron</th>\n",
       "      <th>abbyepstein</th>\n",
       "      <th>abbygoodnough</th>\n",
       "      <th>abc</th>\n",
       "      <th>abi</th>\n",
       "      <th>ability</th>\n",
       "      <th>able</th>\n",
       "      <th>abroad</th>\n",
       "      <th>absolute</th>\n",
       "      <th>...</th>\n",
       "      <th>youth</th>\n",
       "      <th>youtube</th>\n",
       "      <th>youve</th>\n",
       "      <th>yr</th>\n",
       "      <th>yrs</th>\n",
       "      <th>yvr</th>\n",
       "      <th>zaidyns</th>\n",
       "      <th>zealand</th>\n",
       "      <th>zero</th>\n",
       "      <th>zone</th>\n",
       "    </tr>\n",
       "  </thead>\n",
       "  <tbody>\n",
       "    <tr>\n",
       "      <th>0</th>\n",
       "      <td>0</td>\n",
       "      <td>0</td>\n",
       "      <td>0</td>\n",
       "      <td>0</td>\n",
       "      <td>0</td>\n",
       "      <td>0</td>\n",
       "      <td>0</td>\n",
       "      <td>0</td>\n",
       "      <td>0</td>\n",
       "      <td>0</td>\n",
       "      <td>...</td>\n",
       "      <td>0</td>\n",
       "      <td>0</td>\n",
       "      <td>0</td>\n",
       "      <td>0</td>\n",
       "      <td>0</td>\n",
       "      <td>0</td>\n",
       "      <td>0</td>\n",
       "      <td>0</td>\n",
       "      <td>0</td>\n",
       "      <td>0</td>\n",
       "    </tr>\n",
       "    <tr>\n",
       "      <th>1</th>\n",
       "      <td>0</td>\n",
       "      <td>0</td>\n",
       "      <td>0</td>\n",
       "      <td>0</td>\n",
       "      <td>0</td>\n",
       "      <td>0</td>\n",
       "      <td>0</td>\n",
       "      <td>0</td>\n",
       "      <td>0</td>\n",
       "      <td>0</td>\n",
       "      <td>...</td>\n",
       "      <td>0</td>\n",
       "      <td>0</td>\n",
       "      <td>0</td>\n",
       "      <td>0</td>\n",
       "      <td>0</td>\n",
       "      <td>0</td>\n",
       "      <td>0</td>\n",
       "      <td>0</td>\n",
       "      <td>0</td>\n",
       "      <td>0</td>\n",
       "    </tr>\n",
       "    <tr>\n",
       "      <th>2</th>\n",
       "      <td>0</td>\n",
       "      <td>0</td>\n",
       "      <td>0</td>\n",
       "      <td>0</td>\n",
       "      <td>0</td>\n",
       "      <td>0</td>\n",
       "      <td>0</td>\n",
       "      <td>0</td>\n",
       "      <td>0</td>\n",
       "      <td>0</td>\n",
       "      <td>...</td>\n",
       "      <td>0</td>\n",
       "      <td>0</td>\n",
       "      <td>0</td>\n",
       "      <td>0</td>\n",
       "      <td>0</td>\n",
       "      <td>0</td>\n",
       "      <td>0</td>\n",
       "      <td>0</td>\n",
       "      <td>0</td>\n",
       "      <td>0</td>\n",
       "    </tr>\n",
       "    <tr>\n",
       "      <th>3</th>\n",
       "      <td>0</td>\n",
       "      <td>0</td>\n",
       "      <td>0</td>\n",
       "      <td>0</td>\n",
       "      <td>0</td>\n",
       "      <td>0</td>\n",
       "      <td>0</td>\n",
       "      <td>0</td>\n",
       "      <td>0</td>\n",
       "      <td>0</td>\n",
       "      <td>...</td>\n",
       "      <td>0</td>\n",
       "      <td>0</td>\n",
       "      <td>0</td>\n",
       "      <td>0</td>\n",
       "      <td>0</td>\n",
       "      <td>0</td>\n",
       "      <td>0</td>\n",
       "      <td>0</td>\n",
       "      <td>0</td>\n",
       "      <td>0</td>\n",
       "    </tr>\n",
       "    <tr>\n",
       "      <th>4</th>\n",
       "      <td>0</td>\n",
       "      <td>0</td>\n",
       "      <td>0</td>\n",
       "      <td>0</td>\n",
       "      <td>0</td>\n",
       "      <td>0</td>\n",
       "      <td>0</td>\n",
       "      <td>0</td>\n",
       "      <td>0</td>\n",
       "      <td>0</td>\n",
       "      <td>...</td>\n",
       "      <td>0</td>\n",
       "      <td>0</td>\n",
       "      <td>0</td>\n",
       "      <td>0</td>\n",
       "      <td>0</td>\n",
       "      <td>0</td>\n",
       "      <td>0</td>\n",
       "      <td>0</td>\n",
       "      <td>0</td>\n",
       "      <td>0</td>\n",
       "    </tr>\n",
       "  </tbody>\n",
       "</table>\n",
       "<p>5 rows × 3427 columns</p>\n",
       "</div>"
      ],
      "text/plain": [
       "   aaro  aaron  abbyepstein  abbygoodnough  abc  abi  ability  able  abroad  \\\n",
       "0     0      0            0              0    0    0        0     0       0   \n",
       "1     0      0            0              0    0    0        0     0       0   \n",
       "2     0      0            0              0    0    0        0     0       0   \n",
       "3     0      0            0              0    0    0        0     0       0   \n",
       "4     0      0            0              0    0    0        0     0       0   \n",
       "\n",
       "   absolute  ...   youth  youtube  youve  yr  yrs  yvr  zaidyns  zealand  \\\n",
       "0         0  ...       0        0      0   0    0    0        0        0   \n",
       "1         0  ...       0        0      0   0    0    0        0        0   \n",
       "2         0  ...       0        0      0   0    0    0        0        0   \n",
       "3         0  ...       0        0      0   0    0    0        0        0   \n",
       "4         0  ...       0        0      0   0    0    0        0        0   \n",
       "\n",
       "   zero  zone  \n",
       "0     0     0  \n",
       "1     0     0  \n",
       "2     0     0  \n",
       "3     0     0  \n",
       "4     0     0  \n",
       "\n",
       "[5 rows x 3427 columns]"
      ]
     },
     "execution_count": 39,
     "metadata": {},
     "output_type": "execute_result"
    }
   ],
   "source": [
    "dftrain.head()"
   ]
  },
  {
   "cell_type": "code",
   "execution_count": 40,
   "metadata": {},
   "outputs": [
    {
     "data": {
      "text/html": [
       "<div>\n",
       "<style scoped>\n",
       "    .dataframe tbody tr th:only-of-type {\n",
       "        vertical-align: middle;\n",
       "    }\n",
       "\n",
       "    .dataframe tbody tr th {\n",
       "        vertical-align: top;\n",
       "    }\n",
       "\n",
       "    .dataframe thead th {\n",
       "        text-align: right;\n",
       "    }\n",
       "</style>\n",
       "<table border=\"1\" class=\"dataframe\">\n",
       "  <thead>\n",
       "    <tr style=\"text-align: right;\">\n",
       "      <th></th>\n",
       "      <th>aaro</th>\n",
       "      <th>aaron</th>\n",
       "      <th>abbyepstein</th>\n",
       "      <th>abbygoodnough</th>\n",
       "      <th>abc</th>\n",
       "      <th>abi</th>\n",
       "      <th>ability</th>\n",
       "      <th>able</th>\n",
       "      <th>abroad</th>\n",
       "      <th>absolute</th>\n",
       "      <th>...</th>\n",
       "      <th>youth</th>\n",
       "      <th>youtube</th>\n",
       "      <th>youve</th>\n",
       "      <th>yr</th>\n",
       "      <th>yrs</th>\n",
       "      <th>yvr</th>\n",
       "      <th>zaidyns</th>\n",
       "      <th>zealand</th>\n",
       "      <th>zero</th>\n",
       "      <th>zone</th>\n",
       "    </tr>\n",
       "  </thead>\n",
       "  <tbody>\n",
       "    <tr>\n",
       "      <th>0</th>\n",
       "      <td>0</td>\n",
       "      <td>0</td>\n",
       "      <td>0</td>\n",
       "      <td>0</td>\n",
       "      <td>0</td>\n",
       "      <td>0</td>\n",
       "      <td>0</td>\n",
       "      <td>1</td>\n",
       "      <td>0</td>\n",
       "      <td>0</td>\n",
       "      <td>...</td>\n",
       "      <td>0</td>\n",
       "      <td>0</td>\n",
       "      <td>0</td>\n",
       "      <td>0</td>\n",
       "      <td>0</td>\n",
       "      <td>0</td>\n",
       "      <td>0</td>\n",
       "      <td>0</td>\n",
       "      <td>0</td>\n",
       "      <td>0</td>\n",
       "    </tr>\n",
       "    <tr>\n",
       "      <th>1</th>\n",
       "      <td>0</td>\n",
       "      <td>0</td>\n",
       "      <td>0</td>\n",
       "      <td>0</td>\n",
       "      <td>0</td>\n",
       "      <td>0</td>\n",
       "      <td>0</td>\n",
       "      <td>0</td>\n",
       "      <td>0</td>\n",
       "      <td>0</td>\n",
       "      <td>...</td>\n",
       "      <td>0</td>\n",
       "      <td>0</td>\n",
       "      <td>0</td>\n",
       "      <td>0</td>\n",
       "      <td>0</td>\n",
       "      <td>0</td>\n",
       "      <td>0</td>\n",
       "      <td>0</td>\n",
       "      <td>0</td>\n",
       "      <td>0</td>\n",
       "    </tr>\n",
       "    <tr>\n",
       "      <th>2</th>\n",
       "      <td>0</td>\n",
       "      <td>0</td>\n",
       "      <td>0</td>\n",
       "      <td>0</td>\n",
       "      <td>0</td>\n",
       "      <td>0</td>\n",
       "      <td>0</td>\n",
       "      <td>0</td>\n",
       "      <td>0</td>\n",
       "      <td>0</td>\n",
       "      <td>...</td>\n",
       "      <td>0</td>\n",
       "      <td>0</td>\n",
       "      <td>0</td>\n",
       "      <td>0</td>\n",
       "      <td>0</td>\n",
       "      <td>0</td>\n",
       "      <td>0</td>\n",
       "      <td>0</td>\n",
       "      <td>0</td>\n",
       "      <td>0</td>\n",
       "    </tr>\n",
       "    <tr>\n",
       "      <th>3</th>\n",
       "      <td>0</td>\n",
       "      <td>0</td>\n",
       "      <td>0</td>\n",
       "      <td>0</td>\n",
       "      <td>0</td>\n",
       "      <td>0</td>\n",
       "      <td>0</td>\n",
       "      <td>0</td>\n",
       "      <td>0</td>\n",
       "      <td>0</td>\n",
       "      <td>...</td>\n",
       "      <td>0</td>\n",
       "      <td>0</td>\n",
       "      <td>0</td>\n",
       "      <td>0</td>\n",
       "      <td>0</td>\n",
       "      <td>0</td>\n",
       "      <td>0</td>\n",
       "      <td>0</td>\n",
       "      <td>0</td>\n",
       "      <td>0</td>\n",
       "    </tr>\n",
       "    <tr>\n",
       "      <th>4</th>\n",
       "      <td>0</td>\n",
       "      <td>0</td>\n",
       "      <td>0</td>\n",
       "      <td>0</td>\n",
       "      <td>0</td>\n",
       "      <td>0</td>\n",
       "      <td>0</td>\n",
       "      <td>0</td>\n",
       "      <td>0</td>\n",
       "      <td>0</td>\n",
       "      <td>...</td>\n",
       "      <td>0</td>\n",
       "      <td>0</td>\n",
       "      <td>0</td>\n",
       "      <td>0</td>\n",
       "      <td>0</td>\n",
       "      <td>0</td>\n",
       "      <td>0</td>\n",
       "      <td>0</td>\n",
       "      <td>0</td>\n",
       "      <td>0</td>\n",
       "    </tr>\n",
       "  </tbody>\n",
       "</table>\n",
       "<p>5 rows × 3427 columns</p>\n",
       "</div>"
      ],
      "text/plain": [
       "   aaro  aaron  abbyepstein  abbygoodnough  abc  abi  ability  able  abroad  \\\n",
       "0     0      0            0              0    0    0        0     1       0   \n",
       "1     0      0            0              0    0    0        0     0       0   \n",
       "2     0      0            0              0    0    0        0     0       0   \n",
       "3     0      0            0              0    0    0        0     0       0   \n",
       "4     0      0            0              0    0    0        0     0       0   \n",
       "\n",
       "   absolute  ...   youth  youtube  youve  yr  yrs  yvr  zaidyns  zealand  \\\n",
       "0         0  ...       0        0      0   0    0    0        0        0   \n",
       "1         0  ...       0        0      0   0    0    0        0        0   \n",
       "2         0  ...       0        0      0   0    0    0        0        0   \n",
       "3         0  ...       0        0      0   0    0    0        0        0   \n",
       "4         0  ...       0        0      0   0    0    0        0        0   \n",
       "\n",
       "   zero  zone  \n",
       "0     0     0  \n",
       "1     0     0  \n",
       "2     0     0  \n",
       "3     0     0  \n",
       "4     0     0  \n",
       "\n",
       "[5 rows x 3427 columns]"
      ]
     },
     "execution_count": 40,
     "metadata": {},
     "output_type": "execute_result"
    }
   ],
   "source": [
    "dftest.head()"
   ]
  },
  {
   "cell_type": "code",
   "execution_count": 41,
   "metadata": {},
   "outputs": [],
   "source": [
    "x_train=dftrain\n",
    "x_test=dftest"
   ]
  },
  {
   "cell_type": "code",
   "execution_count": 42,
   "metadata": {},
   "outputs": [
    {
     "data": {
      "text/plain": [
       "131    1\n",
       "203    1\n",
       "50     1\n",
       "585    1\n",
       "138    1\n",
       "Name: sentiment, dtype: int64"
      ]
     },
     "execution_count": 42,
     "metadata": {},
     "output_type": "execute_result"
    }
   ],
   "source": [
    "y_train = y_train.sentiment\n",
    "y_test = y_test.sentiment\n",
    "y_test.head()"
   ]
  },
  {
   "cell_type": "code",
   "execution_count": 43,
   "metadata": {},
   "outputs": [
    {
     "name": "stdout",
     "output_type": "stream",
     "text": [
      "(700, 3427)\n",
      "(700,)\n",
      "(300, 3427)\n",
      "(300,)\n"
     ]
    }
   ],
   "source": [
    "print(x_train.shape)\n",
    "print(y_train.shape)\n",
    "print(x_test.shape)\n",
    "print(y_test.shape)"
   ]
  },
  {
   "cell_type": "markdown",
   "metadata": {},
   "source": [
    "## Random Forest Classifier"
   ]
  },
  {
   "cell_type": "code",
   "execution_count": 44,
   "metadata": {},
   "outputs": [],
   "source": [
    "from sklearn.ensemble import RandomForestClassifier\n",
    "from sklearn.metrics import classification_report, confusion_matrix, accuracy_score\n",
    "from sklearn import preprocessing, metrics"
   ]
  },
  {
   "cell_type": "code",
   "execution_count": 45,
   "metadata": {},
   "outputs": [
    {
     "data": {
      "text/plain": [
       "RandomForestClassifier(bootstrap=True, class_weight=None, criterion='gini',\n",
       "            max_depth=None, max_features='auto', max_leaf_nodes=None,\n",
       "            min_impurity_decrease=0.0, min_impurity_split=None,\n",
       "            min_samples_leaf=1, min_samples_split=2,\n",
       "            min_weight_fraction_leaf=0.0, n_estimators=1000, n_jobs=None,\n",
       "            oob_score=False, random_state=0, verbose=0, warm_start=False)"
      ]
     },
     "execution_count": 45,
     "metadata": {},
     "output_type": "execute_result"
    }
   ],
   "source": [
    "classifier = RandomForestClassifier(n_estimators=1000, random_state=0)  \n",
    "classifier.fit(x_train, y_train)  "
   ]
  },
  {
   "cell_type": "code",
   "execution_count": 46,
   "metadata": {},
   "outputs": [],
   "source": [
    "y_pred = classifier.predict(x_test)  "
   ]
  },
  {
   "cell_type": "code",
   "execution_count": 47,
   "metadata": {},
   "outputs": [
    {
     "name": "stdout",
     "output_type": "stream",
     "text": [
      "              precision    recall  f1-score   support\n",
      "\n",
      "          -1       0.84      0.22      0.35        96\n",
      "           1       0.73      0.98      0.84       204\n",
      "\n",
      "   micro avg       0.74      0.74      0.74       300\n",
      "   macro avg       0.78      0.60      0.59       300\n",
      "weighted avg       0.76      0.74      0.68       300\n",
      "\n",
      "Accuracy of Random Forest classifier on test set: 0.74\n"
     ]
    }
   ],
   "source": [
    "print(classification_report(y_test,y_pred))  \n",
    "print('Accuracy of Random Forest classifier on test set: {:.2f}'.format(accuracy_score(y_test, y_pred)))"
   ]
  },
  {
   "cell_type": "markdown",
   "metadata": {},
   "source": [
    "## Logistic Regression Classifier"
   ]
  },
  {
   "cell_type": "code",
   "execution_count": 1,
   "metadata": {},
   "outputs": [],
   "source": [
    "from sklearn.linear_model import LogisticRegression"
   ]
  },
  {
   "cell_type": "code",
   "execution_count": 49,
   "metadata": {},
   "outputs": [
    {
     "name": "stderr",
     "output_type": "stream",
     "text": [
      "/anaconda3/lib/python3.6/site-packages/sklearn/linear_model/logistic.py:433: FutureWarning: Default solver will be changed to 'lbfgs' in 0.22. Specify a solver to silence this warning.\n",
      "  FutureWarning)\n"
     ]
    },
    {
     "data": {
      "text/plain": [
       "LogisticRegression(C=1.0, class_weight=None, dual=False, fit_intercept=True,\n",
       "          intercept_scaling=1, max_iter=100, multi_class='warn',\n",
       "          n_jobs=None, penalty='l2', random_state=None, solver='warn',\n",
       "          tol=0.0001, verbose=0, warm_start=False)"
      ]
     },
     "execution_count": 49,
     "metadata": {},
     "output_type": "execute_result"
    }
   ],
   "source": [
    "logreg = LogisticRegression()\n",
    "logreg.fit(x_train, y_train)"
   ]
  },
  {
   "cell_type": "code",
   "execution_count": 50,
   "metadata": {},
   "outputs": [],
   "source": [
    "y_pred1 = logreg.predict(x_test)"
   ]
  },
  {
   "cell_type": "code",
   "execution_count": 51,
   "metadata": {},
   "outputs": [
    {
     "name": "stdout",
     "output_type": "stream",
     "text": [
      "[[ 34  62]\n",
      " [ 12 192]]\n",
      "              precision    recall  f1-score   support\n",
      "\n",
      "          -1       0.74      0.35      0.48        96\n",
      "           1       0.76      0.94      0.84       204\n",
      "\n",
      "   micro avg       0.75      0.75      0.75       300\n",
      "   macro avg       0.75      0.65      0.66       300\n",
      "weighted avg       0.75      0.75      0.72       300\n",
      "\n",
      "Accuracy of logistic regression classifier on test set: 0.75\n"
     ]
    }
   ],
   "source": [
    "confusion_matrix = confusion_matrix(y_test, y_pred1)\n",
    "print(confusion_matrix)\n",
    "print(classification_report(y_test,y_pred1))  \n",
    "print('Accuracy of logistic regression classifier on test set: {:.2f}'.format(accuracy_score(y_test, y_pred1)))"
   ]
  },
  {
   "cell_type": "markdown",
   "metadata": {},
   "source": [
    "## Stochastic Gradient Classifier"
   ]
  },
  {
   "cell_type": "code",
   "execution_count": 5,
   "metadata": {},
   "outputs": [],
   "source": [
    "from sklearn.linear_model import SGDClassifier\n",
    "from sklearn.metrics import classification_report,accuracy_score"
   ]
  },
  {
   "cell_type": "code",
   "execution_count": 53,
   "metadata": {},
   "outputs": [],
   "source": [
    "sg = SGDClassifier(random_state=42)"
   ]
  },
  {
   "cell_type": "code",
   "execution_count": 6,
   "metadata": {},
   "outputs": [],
   "source": [
    "SGDClassifier?"
   ]
  },
  {
   "cell_type": "code",
   "execution_count": 54,
   "metadata": {},
   "outputs": [
    {
     "name": "stderr",
     "output_type": "stream",
     "text": [
      "/anaconda3/lib/python3.6/site-packages/sklearn/linear_model/stochastic_gradient.py:166: FutureWarning: max_iter and tol parameters have been added in SGDClassifier in 0.19. If both are left unset, they default to max_iter=5 and tol=None. If tol is not None, max_iter defaults to max_iter=1000. From 0.21, default max_iter will be 1000, and default tol will be 1e-3.\n",
      "  FutureWarning)\n"
     ]
    },
    {
     "data": {
      "text/plain": [
       "SGDClassifier(alpha=0.0001, average=False, class_weight=None,\n",
       "       early_stopping=False, epsilon=0.1, eta0=0.0, fit_intercept=True,\n",
       "       l1_ratio=0.15, learning_rate='optimal', loss='hinge', max_iter=None,\n",
       "       n_iter=None, n_iter_no_change=5, n_jobs=None, penalty='l2',\n",
       "       power_t=0.5, random_state=42, shuffle=True, tol=None,\n",
       "       validation_fraction=0.1, verbose=0, warm_start=False)"
      ]
     },
     "execution_count": 54,
     "metadata": {},
     "output_type": "execute_result"
    }
   ],
   "source": [
    "sg.fit(x_train,y_train)"
   ]
  },
  {
   "cell_type": "code",
   "execution_count": 55,
   "metadata": {},
   "outputs": [],
   "source": [
    "pred = sg.predict(x_test)"
   ]
  },
  {
   "cell_type": "code",
   "execution_count": 56,
   "metadata": {
    "scrolled": true
   },
   "outputs": [
    {
     "name": "stdout",
     "output_type": "stream",
     "text": [
      "              precision    recall  f1-score   support\n",
      "\n",
      "          -1       0.62      0.56      0.59        96\n",
      "           1       0.80      0.84      0.82       204\n",
      "\n",
      "   micro avg       0.75      0.75      0.75       300\n",
      "   macro avg       0.71      0.70      0.71       300\n",
      "weighted avg       0.74      0.75      0.75       300\n",
      "\n",
      "Accuracy of Stochastic Gradient Classifier on test set: 0.75\n"
     ]
    }
   ],
   "source": [
    "print(classification_report(y_test, pred))\n",
    "print('Accuracy of Stochastic Gradient Classifier on test set: {:.2f}'.format(accuracy_score(y_test, pred)))"
   ]
  },
  {
   "cell_type": "markdown",
   "metadata": {},
   "source": [
    "## Decision Tree Classifier"
   ]
  },
  {
   "cell_type": "code",
   "execution_count": 57,
   "metadata": {},
   "outputs": [],
   "source": [
    "from sklearn.tree import DecisionTreeClassifier"
   ]
  },
  {
   "cell_type": "code",
   "execution_count": 58,
   "metadata": {},
   "outputs": [],
   "source": [
    "dtree = DecisionTreeClassifier()"
   ]
  },
  {
   "cell_type": "code",
   "execution_count": 59,
   "metadata": {},
   "outputs": [
    {
     "data": {
      "text/plain": [
       "DecisionTreeClassifier(class_weight=None, criterion='gini', max_depth=None,\n",
       "            max_features=None, max_leaf_nodes=None,\n",
       "            min_impurity_decrease=0.0, min_impurity_split=None,\n",
       "            min_samples_leaf=1, min_samples_split=2,\n",
       "            min_weight_fraction_leaf=0.0, presort=False, random_state=None,\n",
       "            splitter='best')"
      ]
     },
     "execution_count": 59,
     "metadata": {},
     "output_type": "execute_result"
    }
   ],
   "source": [
    "dtree.fit(x_train,y_train)"
   ]
  },
  {
   "cell_type": "code",
   "execution_count": 60,
   "metadata": {},
   "outputs": [],
   "source": [
    "predictions = dtree.predict(x_test)"
   ]
  },
  {
   "cell_type": "code",
   "execution_count": 61,
   "metadata": {},
   "outputs": [
    {
     "name": "stdout",
     "output_type": "stream",
     "text": [
      "              precision    recall  f1-score   support\n",
      "\n",
      "          -1       0.66      0.43      0.52        96\n",
      "           1       0.77      0.90      0.83       204\n",
      "\n",
      "   micro avg       0.75      0.75      0.75       300\n",
      "   macro avg       0.72      0.66      0.67       300\n",
      "weighted avg       0.73      0.75      0.73       300\n",
      "\n",
      "Accuracy of Decision Tree on test set: 0.75\n"
     ]
    }
   ],
   "source": [
    "print(classification_report(y_test,predictions))\n",
    "print('Accuracy of Decision Tree on test set: {:.2f}'.format(accuracy_score(y_test, predictions)))"
   ]
  },
  {
   "cell_type": "markdown",
   "metadata": {},
   "source": [
    "## Naive Bayes Classifier"
   ]
  },
  {
   "cell_type": "code",
   "execution_count": 62,
   "metadata": {},
   "outputs": [],
   "source": [
    "from sklearn.naive_bayes import GaussianNB \n",
    "from sklearn.naive_bayes import MultinomialNB"
   ]
  },
  {
   "cell_type": "code",
   "execution_count": 63,
   "metadata": {},
   "outputs": [],
   "source": [
    "algorithm_a=MultinomialNB()"
   ]
  },
  {
   "cell_type": "code",
   "execution_count": 64,
   "metadata": {},
   "outputs": [
    {
     "data": {
      "text/plain": [
       "MultinomialNB(alpha=1.0, class_prior=None, fit_prior=True)"
      ]
     },
     "execution_count": 64,
     "metadata": {},
     "output_type": "execute_result"
    }
   ],
   "source": [
    "algorithm_a.fit(x_train,y_train)"
   ]
  },
  {
   "cell_type": "code",
   "execution_count": 65,
   "metadata": {},
   "outputs": [],
   "source": [
    "y_pred2=algorithm_a.predict(x_test)"
   ]
  },
  {
   "cell_type": "code",
   "execution_count": 66,
   "metadata": {},
   "outputs": [
    {
     "name": "stdout",
     "output_type": "stream",
     "text": [
      "              precision    recall  f1-score   support\n",
      "\n",
      "          -1       0.77      0.43      0.55        96\n",
      "           1       0.78      0.94      0.85       204\n",
      "\n",
      "   micro avg       0.78      0.78      0.78       300\n",
      "   macro avg       0.78      0.68      0.70       300\n",
      "weighted avg       0.78      0.78      0.76       300\n",
      "\n",
      "Accuracy of Naive Bayes classifier on test set: 0.78\n"
     ]
    }
   ],
   "source": [
    "print(classification_report(y_test,y_pred2))  \n",
    "print('Accuracy of Naive Bayes classifier on test set: {:.2f}'.format(accuracy_score(y_test, y_pred2)))"
   ]
  },
  {
   "cell_type": "markdown",
   "metadata": {},
   "source": [
    "## Decision Tree with Bagging Classifier"
   ]
  },
  {
   "cell_type": "code",
   "execution_count": 67,
   "metadata": {},
   "outputs": [],
   "source": [
    "from sklearn import model_selection\n",
    "from sklearn.ensemble import BaggingClassifier\n",
    "from sklearn.tree import DecisionTreeClassifier"
   ]
  },
  {
   "cell_type": "code",
   "execution_count": 68,
   "metadata": {},
   "outputs": [],
   "source": [
    "seed = 7\n",
    "kfold = model_selection.KFold(n_splits=10,random_state=seed)"
   ]
  },
  {
   "cell_type": "code",
   "execution_count": 69,
   "metadata": {},
   "outputs": [],
   "source": [
    "cart = DecisionTreeClassifier()"
   ]
  },
  {
   "cell_type": "code",
   "execution_count": 70,
   "metadata": {},
   "outputs": [],
   "source": [
    "num_trees = 100"
   ]
  },
  {
   "cell_type": "code",
   "execution_count": 71,
   "metadata": {},
   "outputs": [],
   "source": [
    "model = BaggingClassifier(base_estimator=cart,n_estimators=num_trees,random_state=seed)"
   ]
  },
  {
   "cell_type": "code",
   "execution_count": 74,
   "metadata": {},
   "outputs": [],
   "source": [
    "results = model_selection.cross_val_score(model,x_train,y_train,cv=kfold)"
   ]
  },
  {
   "cell_type": "code",
   "execution_count": 75,
   "metadata": {},
   "outputs": [
    {
     "name": "stdout",
     "output_type": "stream",
     "text": [
      "0.7728571428571429\n"
     ]
    }
   ],
   "source": [
    "print(results.mean())"
   ]
  },
  {
   "cell_type": "markdown",
   "metadata": {},
   "source": [
    "## Naive Bayes Classifier using n-grams"
   ]
  },
  {
   "cell_type": "code",
   "execution_count": 145,
   "metadata": {},
   "outputs": [
    {
     "name": "stdout",
     "output_type": "stream",
     "text": [
      "(1000, 14693)\n",
      "['aaro', 'aaron', 'aaron alexandre', 'ab', 'abbyepstein', 'abbygoodnough', 'abbygoodnough marijuana', 'abbygoodnough theory', 'abc', 'abi', 'abi roach', 'ability', 'ability visit', 'able', 'able bring', 'able deliver', 'able help', 'able manage', 'able prevent', 'able take', 'able use', 'able work', 'abn', 'abn provide', 'abortion', 'abortion rates', 'abroad', 'abroad think', 'absolute', 'absolute ban', 'absolutely', 'absolutely agree', 'absolutely pointless', 'absolutely reason', 'absorbed', 'absorbed gums', 'abuse', 'abuse got', 'abuse please', 'abusive', 'abusive son', 'academic', 'academic talk', 'acb', 'acb aurora', 'acb cgc', 'acb globaldomination', 'accepted', 'accepted anything', 'accepted first', 'access', 'access cannabis', 'access help', 'access medical', 'access treatment', 'accessible', 'accessible health', 'accessible reckon', 'accident', 'accident nearly', 'accident serious', 'accidental', 'accidental ingestion', 'accidentally', 'accidentally ingests', 'accidents', 'accidents happen', 'accidents maryjanes', 'accidents otherwise', 'according', 'according article', 'according latest', 'according moh', 'accounts', 'accounts sell', 'acknowledges', 'acknowledges cannabis', 'acmpr', 'acmpr putting', 'acreage', 'acreage holdings', 'acres', 'across', 'across aisle', 'across atlantic', 'across board', 'across border', 'across country', 'across demographic', 'across greater', 'across usa', 'act', 'act designed', 'act like', 'acted', 'acted first', 'acting', 'acting suspiciously', 'actions', 'actions many', 'actions youll', 'active', 'active certificate', 'actively', 'actively exporing', 'activism', 'activism seniors', 'activists', 'activists known', 'actually', 'actually aggravate', 'actually completely', 'actually lead', 'actually supportive', 'ad', 'ad opposing', 'adamschefter', 'adamschefter im', 'adapt', 'adapt countries', 'added', 'added lemon', 'added video', 'addict', 'addict couldnt', 'addicted', 'addicted develop', 'addicted guns', 'addicted losers', 'addiction', 'addiction commercialization', 'addiction crutch', 'addiction dependence', 'addiction depression', 'addiction discriminate', 'addiction expertise', 'addiction hong', 'addiction included', 'addiction legal', 'addiction legalize', 'addiction meth', 'addiction mma', 'addiction never', 'addiction playing', 'addiction please', 'addiction politicians', 'addiction recovery', 'addiction removing', 'addiction resist', 'addiction sent', 'addiction sites', 'addiction sober', 'addiction study', 'addiction wcrime', 'addiction wiley', 'addictions', 'addictions awareness', 'addictionyoure', 'addictionyoure shouting', 'addictive', 'addictive multibillion', 'addictive similar', 'addictive unlike', 'addicts', 'addicts adults', 'addicts safe', 'addicts solution', 'adding', 'adding medical', 'additionally', 'additionally please', 'additives', 'address', 'address bio', 'address potential', 'addresss', 'addresss ongoing', 'aderol', 'aderol prozac', 'admire', 'admire husband', 'admit', 'admit jeff', 'admits', 'admits cannabis', 'admitted', 'admitted ed', 'admitting', 'admitting using', 'adolescents', 'adolescents use', 'adult', 'adult make', 'adult neurological', 'adult use', 'adults', 'adults cannabis', 'adults children', 'adults legal', 'adultuse', 'adultuse legalization', 'adv', 'adv meanwhile', 'advance', 'advance benefits', 'advance bill', 'advance cannabis', 'advance knowledge', 'advance medical', 'advance proposed', 'advanced', 'advanced lol', 'advisor', 'advisor dr', 'advisory', 'advocacy', 'advocacy activism', 'advocacy research', 'advocacy seniors', 'advocate', 'advocate medical', 'advocates', 'advocates adv', 'advocates advance', 'advocates board', 'affect', 'affect permanent', 'affect us', 'affects', 'affects allwalksoflife', 'afford', 'afford plus', 'afternoon', 'afternoon team', 'afzalutely', 'agains', 'age', 'age limit', 'age purchase', 'age years', 'agency', 'agency checkpoint', 'agenda', 'agenda carrying', 'agent', 'agent orange', 'ages', 'ages medical', 'aggravate', 'aggravated', 'aggravated vehicle', 'aggression', 'aggression increased', 'aggressive', 'aggressive federal', 'aggressive person', 'ago', 'ago cultivated', 'ago regarding', 'ago seemed', 'ago would', 'ago young', 'agree', 'agree dangers', 'agree lloyd', 'agree use', 'agree way', 'agree would', 'agreed', 'agreed cannabis', 'agreeing', 'agreeing bcomes', 'ahead', 'ahead call', 'ahead reply', 'aid', 'ailments', 'ailments cures', 'ailments im', 'aint', 'aint even', 'aisle', 'aisle issue', 'aka', 'aka legalized', 'al', 'al examined', 'alabama', 'alabama georgia', 'albeit', 'albeit read', 'alcohol', 'alcohol annual', 'alcohol breath', 'alcohol cigarettes', 'alcohol didnt', 'alcohol drugs', 'alcohol industry', 'alcohol involved', 'alcohol meth', 'alcohol never', 'alcohol real', 'alcohol safer', 'alcohol thing', 'alcohol think', 'alcohol tobacco', 'alcoholic', 'alcoholic beverage', 'alcoholics', 'alcoholics dysfunctional', 'alcoholimpaired', 'alcoholimpaired drivers', 'alcoholism', 'alcoholism great', 'alcoholism prohibition', 'alert', 'alert found', 'alexandre', 'alexis', 'alexis bortel', 'alexoleinic', 'alfie', 'alfie dingleys', 'alfies', 'alfies mother', 'aliens', 'allow', 'allow ask', 'allow cannabis', 'allow citizens', 'allow dispensaries', 'allow home', 'allow homedelivery', 'allow marijuana', 'allow people', 'allow recreational', 'allow super', 'allow use', 'allowable', 'allowable quantity', 'allowed', 'allowed california', 'allowed grow', 'allowed meet', 'allowed much', 'allowed shops', 'allowed state', 'allowed take', 'allowed units', 'allowing', 'allowing essentially', 'allowing medicinal', 'allowing residents', 'allows', 'allows people', 'allows use', 'allwalksoflife', 'allwalksoflife ca', 'allwalksoflife cannabis', 'ally', 'ally back', 'almost', 'almost centurylong', 'almost checked', 'almost everywhere', 'almost unanimously', 'almost year', 'alone', 'alone death', 'alone unmixed', 'already', 'already afternoon', 'already impact', 'already know', 'already pay', 'already sold', 'alright', 'alright david', 'also', 'also approved', 'also cautioned', 'also changing', 'also dealt', 'also dont', 'also expensive', 'also help', 'also honorable', 'also include', 'also instances', 'also lead', 'also learned', 'also little', 'also located', 'also logistical', 'also means', 'also medicine', 'also par', 'also proved', 'also strong', 'also take', 'also teach', 'also think', 'also wanted', 'also working', 'alternatemeded', 'alternatemeded much', 'alternative', 'alternative cbd', 'alternative healing', 'alternatives', 'alternatives pharmaceutical', 'although', 'although popular', 'although recreational', 'aluminum', 'aluminum especially', 'always', 'always done', 'always loved', 'alzheimers', 'alzheimers disease', 'alzheimersdisease', 'alzheimersdisease epilepsy', 'amanda', 'amanda bynes', 'amandabynes', 'amandabynes smoke', 'amazing', 'amazing beauty', 'amazing benefits', 'amazing progress', 'amd', 'amd suicide', 'amend', 'amend narcotics', 'amendment', 'amendment cannabis', 'amendments', 'amendments countrys', 'america', 'america get', 'america vote', 'american', 'american abroad', 'american medical', 'americans', 'americans say', 'amid', 'amid loopholes', 'ammo', 'ammo openly', 'ammonia', 'amnewyork', 'among', 'among first', 'among healthcare', 'among legalize', 'among lower', 'among patients', 'among players', 'among teens', 'among vaping', 'amount', 'amount breathing', 'amount cannabis', 'amount drug', 'amount possible', 'amount want', 'amp', 'amp acmpr', 'amp also', 'amp available', 'amp bake', 'amp cannabis', 'amp change', 'amp continued', 'amp criminalisationalienation', 'amp dozens', 'amp email', 'amp enjoy', 'amp eric', 'amp funions', 'amp gave', 'amp indications', 'amp info', 'amp masturbation', 'amp medical', 'amp medicinal', 'amp missed', 'amp people', 'amp physically', 'amp politically', 'amp ptsd', 'amp recreational', 'amp revenue', 'amp solvents', 'amp stops', 'amp texas', 'amp thats', 'amp type', 'amp understand', 'amp us', 'amp use', 'amp used', 'amp wellbeing', 'analgesic', 'analgesic treatment', 'analyze', 'analyzing', 'analyzing whats', 'ancient', 'ancient colonization', 'andmedicinal', 'andmedicinal marijuana', 'andor', 'andor jail', 'andrewkittle', 'andrewkittle nothing', 'andrxwlxnn', 'andrxwlxnn duckgang', 'andthenrobsaid', 'andthenrobsaid bcchcnj', 'anecdotal', 'anecdotal pinpoint', 'angry', 'angry company', 'angusreidorg', 'angusreidorg legalization', 'animal', 'animal owners', 'annmariaberger', 'annmariaberger looks', 'announce', 'announce full', 'announce strategic', 'announced', 'announced two', 'announcements', 'announcements cannabis', 'announces', 'announces first', 'announces largest', 'announces research', 'annual', 'annual deaths', 'annual revenue', 'another', 'another ca', 'another country', 'another gatewaydrug', 'another good', 'another mistake', 'another one', 'another positive', 'another reason', 'another sat', 'another study', 'another weight', 'another win', 'answered', 'answered questions', 'answering', 'answering questions', 'anti', 'anti nausea', 'anticancer', 'anticancer drug', 'antiepileptic', 'antiepileptic australia', 'anxiety', 'anxiety depression', 'anxiety disorders', 'anxiety knew', 'anxiety led', 'anxiety medical', 'anxiety prescribed', 'anxiety ptsd', 'anxiety relief', 'anxiety sexual', 'anxiety stresscancer', 'anxiety think', 'anxietydepression', 'anxietydepression amp', 'anybody', 'anybody ever', 'anybody horrormovie', 'anymore', 'anymore justine', 'anyone', 'anyone asked', 'anyone remember', 'anyone sick', 'anyone wants', 'anything', 'anything agenda', 'anything bad', 'anything medicalmarijuana', 'anything us', 'anyway', 'anyway awesome', 'anyway hi', 'anyway prof', 'anyways', 'anyways read', 'ao', 'ao hobi', 'aphriainc', 'aphriainc pleasure', 'apparel', 'apparel glass', 'apparently', 'apparently medical', 'apparently south', 'appear', 'appear lead', 'appeared', 'appeared first', 'appears', 'appears comparable', 'appetitestimulator', 'appetitestimulator anti', 'applauds', 'applauds new', 'apples', 'application', 'application normalization', 'applied', 'applied analyzing', 'appointment', 'appointment pain', 'appointment scheduled', 'appoints', 'appoints canadas', 'appreciate', 'appreciate believe', 'appreciate work', 'appreciated', 'appreciated givingtuesday', 'approval', 'approval central', 'approval pr', 'approval today', 'approval would', 'approve', 'approve cannabisderived', 'approve medical', 'approve recommendations', 'approve recreational', 'approve use', 'approved', 'approved amendments', 'approved first', 'approved four', 'approved identical', 'approved michigan', 'approved patients', 'approved permanent', 'approved still', 'approved todaynew', 'approved use', 'approves', 'approves first', 'approves home', 'approves rules', 'approving', 'approving recreational', 'approving sports', 'approx', 'approx cannabis', 'apps', 'apps late', 'april', 'april use', 'area', 'area koreans', 'area previously', 'area walthamabbey', 'areas', 'areas brain', 'areas hippocampus', 'arent', 'arent addicts', 'arent concerned', 'arent sold', 'arfonj', 'arfonj condidered', 'arfonj julie', 'arfonj melissabone', 'arguing', 'arguing lol', 'arizona', 'arizona lawmakers', 'arkansas', 'arkansas oklahoma', 'arkansas years', 'aroma', 'aroma shown', 'around', 'around cannabis', 'around cannabisimpaired', 'around cbd', 'around corner', 'around dependanceyaddiction', 'around feel', 'around many', 'around state', 'arrest', 'arrest ruin', 'arrested', 'arrested drink', 'arrested driver', 'arrested drugdrive', 'arrested drugs', 'arrested evidential', 'arrested felony', 'arrested nuneaton', 'arrested possession', 'arrested result', 'arrested revoked', 'arrestedx', 'arrestedx portpolice', 'arresting', 'arresting people', 'arrests', 'arrests bad', 'arrests huge', 'arrests krcr', 'arrests near', 'arthritis', 'arthritis years', 'article', 'article cbdoil', 'article dope', 'article informed', 'article sportsnet', 'asb', 'asb tolerated', 'ashtrays', 'ashtrays drink', 'asia', 'asia approve', 'asia country', 'asia harshest', 'asia itd', 'asia legalise', 'asia legalize', 'asia potheadcoffee', 'asia yesterday', 'asian', 'asian boss', 'asian countries', 'asian country', 'asian nation', 'ask', 'ask additionally', 'ask questions', 'ask read', 'ask support', 'asked', 'asked abn', 'asked addicts', 'asked interview', 'asked leader', 'asked state', 'asking', 'asking medical', 'asking questions', 'asking rd', 'asleep', 'asleep night', 'asleep stay', 'aspects', 'aspects cannabis', 'aspects patient', 'aspertame', 'aspertame bpa', 'ass', 'ass medical', 'assault', 'assault rifle', 'assembly', 'assembly approved', 'assembly lawmakers', 'assemblywoman', 'assemblywoman sandygalef', 'asses', 'asses kicked', 'assessment', 'assholes', 'assholes fancy', 'associated', 'associated cbd', 'associated decreased', 'associated increased', 'associated legalizing', 'associated localized', 'associated reduced', 'associated yearoveryear', 'association', 'association cannabis', 'athlete', 'athlete wants', 'athletes', 'athletes using', 'atkins', 'atkins mp', 'atlantic', 'atlantic canada', 'attack', 'attack beating', 'attack followed', 'attempt', 'attendee', 'attendee public', 'attention', 'attention canadian', 'attention coordination', 'attention reaction', 'attention seeking', 'attorney', 'attorney general', 'attorney marylou', 'attract', 'attract billions', 'attracts', 'attracts major', 'audacity', 'audacity write', 'audio', 'audio mdedge', 'aurora', 'aurora cannabis', 'aurora enters', 'aurorammj', 'aurorammj medicalcannabis', 'auroras', 'auroras leadership', 'australia', 'australia certain', 'australia read', 'authorities', 'authorities approve', 'authorities like', 'authorization', 'authorization contact', 'autism', 'autism made', 'autism meltdowns', 'av', 'availability', 'availability medicinal', 'available', 'available arkansas', 'available brattleboro', 'available everywhere', 'available florida', 'available hit', 'available ireland', 'available market', 'available outside', 'available patients', 'available people', 'available stoners', 'available strains', 'available todays', 'available uk', 'available us', 'avoid', 'avoid days', 'avoid detection', 'awaits', 'awaits father', 'awake', 'awake causes', 'aware', 'aware lowkey', 'aware risks', 'awareness', 'awareness understanding', 'awareness week', 'away', 'away dangerous', 'away drugs', 'away infrastructure', 'away legalizing', 'away public', 'awesome', 'awesome awesome', 'awesome health', 'awesome im', 'ayyyyyyyyy', 'ayyyyyyyyy start', 'back', 'back control', 'back crib', 'back florida', 'back home', 'back let', 'back medical', 'back pain', 'back popular', 'back pot', 'back ricky', 'back seat', 'back smile', 'back state', 'back work', 'background', 'background checksassault', 'backup', 'backup increase', 'bad', 'bad anxiety', 'bad decisions', 'bad investigations', 'bad last', 'bad learned', 'bad marijuana', 'bad remind', 'bad smells', 'bad thing', 'bad understand', 'bake', 'bake day', 'baker', 'baker agreed', 'ballot', 'ballot amp', 'ballot say', 'ban', 'ban edibles', 'ban fine', 'ban medical', 'ban outdoor', 'ban recreational', 'ban smoking', 'bank', 'bank runner', 'banking', 'banking issues', 'banks', 'banks make', 'banning', 'banning athletes', 'banning home', 'bar', 'bar kush', 'barbarian', 'barbarian leverage', 'barmpot', 'barriers', 'barriers access', 'based', 'based laws', 'based products', 'basically', 'basically life', 'basis', 'basis reading', 'battelle', 'battelle canopy', 'battle', 'battle recreational', 'battled', 'battled traffic', 'bay', 'bay area', 'bc', 'bcchcnj', 'bcchcnj learnaboutsam', 'bcome', 'bcomes', 'bcomes hate', 'bcomes seen', 'bcpoli', 'bcpoli cannabis', 'bcpoli onpoli', 'beating', 'beating depression', 'beautiful', 'beautiful im', 'beauty', 'beauty medicinal', 'beauty writer', 'became', 'became debate', 'became first', 'became pothead', 'became second', 'become', 'become another', 'become first', 'become increasingly', 'become leading', 'become legal', 'become legally', 'become medi', 'become medical', 'become next', 'become pot', 'become reality', 'become statistic', 'become th', 'becomes', 'becomes first', 'becomes legal', 'becoming', 'becoming experts', 'becoming latest', 'becoming legalthey', 'bed', 'bed starvation', 'beds', 'beds painting', 'beer', 'beer would', 'began', 'began using', 'begin', 'begin mass', 'begin massachusetts', 'begin rec', 'begin sobermovement', 'begin walsh', 'beginning', 'beginning according', 'behavior', 'behavior libertarian', 'behaviour', 'behaviour visiting', 'behind', 'behind push', 'belief', 'belief lower', 'believe', 'believe didnt', 'believe korea', 'believe legalization', 'believe marijuana', 'believe minimum', 'believe nature', 'believed', 'believed would', 'believes', 'believes medical', 'believes potent', 'believing', 'believing cannabis', 'belts', 'belts nhl', 'beneath', 'beneath desert', 'beneficial', 'beneficial aspects', 'beneficial dont', 'beneficial mental', 'beneficial parts', 'beneficial ur', 'beneficialmedical', 'beneficialmedical use', 'benefit', 'benefit glaucoma', 'benefit ky', 'benefit longterm', 'benefits', 'benefits addiction', 'benefits also', 'benefits amp', 'benefits associated', 'benefits become', 'benefits canakush', 'benefits cannabis', 'benefits cure', 'benefits delawaregov', 'benefits epidolex', 'benefits getting', 'benefits glyphosate', 'benefits hemp', 'benefits legal', 'benefits legalization', 'benefits legalizing', 'benefits marijuana', 'benefits may', 'benefits medical', 'benefits negatives', 'benefits outweigh', 'benefits people', 'benefits plant', 'benefits please', 'benefits prohibition', 'benefits raw', 'benefits result', 'benefits treating', 'benefits using', 'benefits worth', 'benefits zero', 'benefitstrump', 'benmlake', 'benmlake received', 'benyiju', 'benyiju cfalerts', 'benzinga', 'benzinga alexoleinic', 'bermuda', 'bermuda opening', 'bermuda set', 'besos', 'best', 'best cannabis', 'best cools', 'best evidence', 'best marijuana', 'best part', 'best recreational', 'best strain', 'best things', 'best tools', 'best ways', 'bet', 'bet opitox', 'bet wife', 'better', 'better arrested', 'better driver', 'better health', 'better lets', 'better medicine', 'better memory', 'better mental', 'better mom', 'better nights', 'better nothing', 'better phrase', 'better protect', 'better smoking', 'better somethingtons', 'betting', 'betting edibles', 'betting legalizing', 'beverage', 'beverage discards', 'beverages', 'beverages drive', 'beware', 'beware working', 'beyond', 'beyond symptom', 'big', 'big money', 'big numbers', 'big small', 'big step', 'big tobacco', 'bill', 'bill cannabis', 'bill emboldened', 'bill goes', 'bill got', 'bill legalise', 'bill legalize', 'bill legalizing', 'bill must', 'bill nj', 'bill njleg', 'bill people', 'bill set', 'bill would', 'billboards', 'billboards said', 'billdittrich', 'billdittrich discover', 'billesley', 'billesley raids', 'billion', 'billion criminal', 'billion dollar', 'billions', 'billions away', 'billions could', 'billions domestic', 'bills', 'bills legalize', 'bills pass', 'bills several', 'bills veterans', 'billspadea', 'billspadea problem', 'bio', 'bioactive', 'bioactive substances', 'bioavailability', 'bioavailability precise', 'bit', 'bit away', 'bit crime', 'bitch', 'bitch threatening', 'bitcoin', 'bitcoin recovery', 'biz', 'biz earlier', 'black', 'black followers', 'black males', 'black market', 'blackmarket', 'blackmarket sales', 'blame', 'blame allowed', 'blame clintons', 'blames', 'blames goes', 'blaming', 'blaming cannabis', 'blaming things', 'blaming weed', 'blank', 'blank prescriptions', 'blast', 'blast leaves', 'block', 'block cannabis', 'block twitter', 'block via', 'blockchain', 'blockchain business', 'blocked', 'blocked us', 'blocks', 'blocks prodisease', 'blog', 'blog anxiety', 'blog cannabis', 'blog month', 'blood', 'blood results', 'blood sample', 'bloomthc', 'blowing', 'blowing past', 'blunt', 'bmav', 'bmav realcamdavies', 'board', 'board canvassers', 'board natural', 'board successfully', 'board utah', 'boasting', 'boasting highest', 'body', 'body data', 'body refuses', 'body scientific', 'bodys', 'bodys heel', 'boggles', 'boggles mind', 'bohemians', 'bolhuis', 'bolhuis et', 'bolus', 'bolus top', 'bonding', 'bonding lt', 'bone', 'bone brain', 'bong', 'bong drivingistoughenough', 'book', 'book go', 'boom', 'boom canadian', 'boomers', 'booming', 'booming massachusetts', 'booth', 'booth ceo', 'booth see', 'border', 'border illegal', 'border shit', 'bore', 'bore legalize', 'bortel', 'bortel please', 'bosma', 'bosma thinks', 'bospoli', 'bospoli mapoli', 'boss', 'boss mother', 'boston', 'boston mayor', 'bostonglobe', 'botox', 'botox injections', 'bottom', 'bought', 'bought get', 'bouta', 'bouta get', 'box', 'boy', 'boy cancer', 'boy suffering', 'boy underbelly', 'bp', 'bp cardiomegally', 'bpa', 'bpa mercury', 'brain', 'brain ages', 'brain extensive', 'brain function', 'brain maturing', 'brain one', 'brain strengthening', 'brains', 'brains succeed', 'brainstem', 'brainstem cannabis', 'brake', 'brake light', 'brampton', 'brands', 'brands giving', 'brattleboro', 'brattleboro medical', 'brattleboro reformer', 'brave', 'brave step', 'brazil', 'brazil bill', 'break', 'break policing', 'break saw', 'break undeveloped', 'breaking', 'breaking boston', 'breaking news', 'breaks', 'breaks heart', 'breakthrough', 'breakthrough country', 'breakthrough global', 'breath', 'breath let', 'breathing', 'breathing rates', 'breathing someone', 'breezed', 'breezed key', 'breezes', 'breezes key', 'breitbartnews', 'breitbartnews neighborhood', 'breitbartnews poster', 'brenteppingcpt', 'brenteppingcpt epcontrolroom', 'brexit', 'brexit wont', 'brian', 'brian bosma', 'bring', 'bring cannabis', 'bring dog', 'bring good', 'bring health', 'bring illinois', 'bring medical', 'bring oil', 'brings', 'brings medical', 'british', 'british columbia', 'british medical', 'britishcolumbia', 'broadcastings', 'broadcastings think', 'brock', 'brock jeremiah', 'broke', 'broke diesel', 'brother', 'brother laws', 'brother lucky', 'brought', 'brought brazil', 'brought knees', 'brownies', 'brownies get', 'bs', 'bscottfindley', 'bscottfindley disentangling', 'bubble', 'bubble hash', 'bud', 'bud ganjagirls', 'bud medicalmarijuana', 'budget', 'budget higher', 'build', 'build cathedral', 'build wall', 'bullshit', 'bullshitting', 'bullshitting america', 'busboystakoma', 'busboystakoma learn', 'busine', 'business', 'business apps', 'business change', 'business cnn', 'business communities', 'business conference', 'business daily', 'business opportunity', 'business owner', 'business times', 'business usual', 'business worldwide', 'businesses', 'businesses theyll', 'bust', 'bust cannabis', 'butt', 'butt cannabis', 'buy', 'buy cbd', 'buy illegally', 'buy least', 'buy marijuana', 'buy weekend', 'bye', 'bye bye', 'bye pills', 'bymikedavis', 'bynes', 'bynes talking', 'ca', 'ca boston', 'ca whomeless', 'calgary', 'calgary crime', 'calgary yyc', 'cali', 'cali crumble', 'california', 'california almost', 'california cannabis', 'california recreational', 'california slowly', 'california worlds', 'californiacannabis', 'call', 'call addiction', 'call discover', 'call feel', 'call taxi', 'called', 'called acmpr', 'called cruel', 'called mom', 'called search', 'called war', 'calling', 'calling debate', 'calling less', 'calling medical', 'calling stupid', 'calph', 'calph driving', 'camdentown', 'camdentown proactivepolicing', 'came', 'came increasingly', 'came started', 'came yesterday', 'campaign', 'campaign already', 'campaign regulated', 'campaign scare', 'campaigns', 'campaigns like', 'campuses', 'campuses premiladsa', 'canada', 'canada amp', 'canada aurora', 'canada became', 'canada cbd', 'canada client', 'canada every', 'canada failed', 'canada greatest', 'canada happy', 'canada home', 'canada house', 'canada huge', 'canada imposing', 'canada learn', 'canada legal', 'canada legalization', 'canada legalized', 'canada legislating', 'canada link', 'canada market', 'canada medium', 'canada months', 'canada pays', 'canada really', 'canada recently', 'canada repor', 'canada serves', 'canada south', 'canada things', 'canada wake', 'canada well', 'canada youre', 'canadas', 'canadas abi', 'canadas best', 'canadas first', 'canadas foremost', 'canadas legalization', 'canadas new', 'canadas recent', 'canadian', 'canadian cannabis', 'canadian citizens', 'canadian firms', 'canadian licensed', 'canadian police', 'canadians', 'canadians believe', 'canadians serious', 'canadiansto', 'canadiansto keep', 'canakush', 'canakush cannabiscanada', 'cancer', 'cancer amp', 'cancer anxiety', 'cancer cells', 'cancer cellstubongecancer', 'cancer epilep', 'cancer fighting', 'cancer one', 'cancer patients', 'cancer screening', 'cancer second', 'cancer time', 'cancer treatment', 'canceralzheimers', 'candidate', 'candidate potus', 'candidate says', 'candidates', 'candidates combined', 'canna', 'cannab', 'cannabakebox', 'cannabakebox weed', 'cannabidiol', 'cannabidiol component', 'cannabidiol extracted', 'cannabidiol scientifically', 'cannabidiol shamanicreiki', 'cannabidoil', 'cannabidoil one', 'cannabinoids', 'cannabinoids allowed', 'cannabinoids prevent', 'cannabinol', 'cannabinol consultation', 'cannabis', 'cannabis able', 'cannabis across', 'cannabis act', 'cannabis addictive', 'cannabis adults', 'cannabis advocacy', 'cannabis albeit', 'cannabis alcohol', 'cannabis allowed', 'cannabis already', 'cannabis also', 'cannabis alternative', 'cannabis although', 'cannabis analgesic', 'cannabis arrested', 'cannabis associated', 'cannabis available', 'cannabis bad', 'cannabis based', 'cannabis bcome', 'cannabis becomes', 'cannabis believe', 'cannabis believes', 'cannabis beneficialmedical', 'cannabis benefits', 'cannabis better', 'cannabis bill', 'cannabis bills', 'cannabis build', 'cannabis business', 'cannabis businesses', 'cannabis came', 'cannabis canada', 'cannabis canna', 'cannabis cannabis', 'cannabis cannabiscommunity', 'cannabis cannabisculture', 'cannabis cannabisjobs', 'cannabis capsules', 'cannabis card', 'cannabis care', 'cannabis caution', 'cannabis cbd', 'cannabis chronic', 'cannabis cigarettes', 'cannabis claimed', 'cannabis club', 'cannabis clubs', 'cannabis coalition', 'cannabis cocaine', 'cannabis coke', 'cannabis come', 'cannabis coming', 'cannabis commission', 'cannabis companion', 'cannabis company', 'cannabis completed', 'cannabis completes', 'cannabis compound', 'cannabis concealed', 'cannabis congrats', 'cannabis congratulations', 'cannabis contraband', 'cannabis could', 'cannabis cultivation', 'cannabis culture', 'cannabis cultures', 'cannabis cup', 'cannabis cure', 'cannabis cures', 'cannabis current', 'cannabis currently', 'cannabis czech', 'cannabis dad', 'cannabis dan', 'cannabis dangerous', 'cannabis days', 'cannabis delivery', 'cannabis demonstrated', 'cannabis depression', 'cannabis dispensaries', 'cannabis dispensary', 'cannabis doctor', 'cannabis dont', 'cannabis dosage', 'cannabis driver', 'cannabis drug', 'cannabis education', 'cannabis effect', 'cannabis efficacious', 'cannabis eliminated', 'cannabis employers', 'cannabis end', 'cannabis equals', 'cannabis even', 'cannabis experience', 'cannabis expert', 'cannabis explained', 'cannabis fabulously', 'cannabis fails', 'cannabis far', 'cannabis farm', 'cannabis felony', 'cannabis festival', 'cannabis fibromyalgia', 'cannabis field', 'cannabis finally', 'cannabis firms', 'cannabis flowers', 'cannabis following', 'cannabis forum', 'cannabis found', 'cannabis freetheleaf', 'cannabis full', 'cannabis getting', 'cannabis gift', 'cannabis given', 'cannabis go', 'cannabis good', 'cannabis greeces', 'cannabis grow', 'cannabis growing', 'cannabis hands', 'cannabis hanf', 'cannabis harvest', 'cannabis healsnot', 'cannabis heckled', 'cannabis held', 'cannabis help', 'cannabis helped', 'cannabis helps', 'cannabis hemp', 'cannabis heroin', 'cannabis hidden', 'cannabis high', 'cannabis hightimes', 'cannabis holiday', 'cannabis huge', 'cannabis hugely', 'cannabis impact', 'cannabis impair', 'cannabis impaired', 'cannabis impairs', 'cannabis important', 'cannabis including', 'cannabis industr', 'cannabis industry', 'cannabis inhibit', 'cannabis inside', 'cannabis interactions', 'cannabis interested', 'cannabis interesting', 'cannabis intoxication', 'cannabis investments', 'cannabis jersey', 'cannabis kids', 'cannabis kosher', 'cannabis laws', 'cannabis lead', 'cannabis leads', 'cannabis leafly', 'cannabis learn', 'cannabis legal', 'cannabis legalised', 'cannabis legalization', 'cannabis legalized', 'cannabis legislation', 'cannabis lets', 'cannabis license', 'cannabis licensed', 'cannabis licenses', 'cannabis like', 'cannabis lmfao', 'cannabis long', 'cannabis luckily', 'cannabis lungs', 'cannabis made', 'cannabis make', 'cannabis marijuana', 'cannabis marijuanadoctors', 'cannabis market', 'cannabis marketplace', 'cannabis marking', 'cannabis may', 'cannabis means', 'cannabis medical', 'cannabis medicalcannabis', 'cannabis medicalmarijuana', 'cannabis medicinal', 'cannabis medicine', 'cannabis menopause', 'cannabis might', 'cannabis movement', 'cannabis multi', 'cannabis namelythc', 'cannabis naturalhealth', 'cannabis nd', 'cannabis need', 'cannabis netflix', 'cannabis never', 'cannabis new', 'cannabis news', 'cannabis obtainable', 'cannabis officially', 'cannabis oil', 'cannabis opmoonshotcity', 'cannabis opposing', 'cannabis oral', 'cannabis othet', 'cannabis paid', 'cannabis part', 'cannabis patient', 'cannabis patiently', 'cannabis patients', 'cannabis peace', 'cannabis penalties', 'cannabis perfect', 'cannabis personal', 'cannabis pilot', 'cannabis plants', 'cannabis poses', 'cannabis positive', 'cannabis possible', 'cannabis postlegalization', 'cannabis prescribed', 'cannabis prior', 'cannabis production', 'cannabis products', 'cannabis professional', 'cannabis professionals', 'cannabis program', 'cannabis prohibition', 'cannabis promotions', 'cannabis properly', 'cannabis pushing', 'cannabis radio', 'cannabis raised', 'cannabis read', 'cannabis reason', 'cannabis red', 'cannabis reduces', 'cannabis reform', 'cannabis removable', 'cannabis replaces', 'cannabis research', 'cannabis responsive', 'cannabis roadside', 'cannabis sales', 'cannabis saved', 'cannabis schedule', 'cannabis science', 'cannabis seeds', 'cannabis seriously', 'cannabis sex', 'cannabis ship', 'cannabis shouldnt', 'cannabis showing', 'cannabis sleep', 'cannabis slow', 'cannabis small', 'cannabis smell', 'cannabis smoke', 'cannabis sought', 'cannabis space', 'cannabis specialists', 'cannabis specifically', 'cannabis specified', 'cannabis st', 'cannabis states', 'cannabis stigma', 'cannabis still', 'cannabis stocks', 'cannabis stop', 'cannabis stores', 'cannabis strain', 'cannabis strains', 'cannabis sunshine', 'cannabis support', 'cannabis tax', 'cannabis terpinolene', 'cannabis thailand', 'cannabis thats', 'cannabis therapies', 'cannabis therapy', 'cannabis theres', 'cannabis till', 'cannabis time', 'cannabis tip', 'cannabis tourism', 'cannabis training', 'cannabis treat', 'cannabis treating', 'cannabis treatment', 'cannabis tub', 'cannabis uk', 'cannabis unexpected', 'cannabis unlocks', 'cannabis update', 'cannabis usa', 'cannabis use', 'cannabis used', 'cannabis user', 'cannabis users', 'cannabis vaping', 'cannabis vehicle', 'cannabis veteransday', 'cannabis via', 'cannabis website', 'cannabis wellness', 'cannabis went', 'cannabis without', 'cannabis wont', 'cannabis working', 'cannabis worth', 'cannabis would', 'cannabis yvr', 'cannabisampmarijuana', 'cannabisbased', 'cannabisbased medicin', 'cannabisbased products', 'cannabisbiznews', 'cannabisbiznews cannabis', 'cannabisbiznews dont', 'cannabisbiznews malta', 'cannabisbiznews three', 'cannabisbusiness', 'cannabisbusiness creates', 'cannabisbusiness ht', 'cannabiscanada', 'cannabiscanada medicalmarijuana', 'cannabiscbd', 'cannabiscbd qs', 'cannabiscommunity', 'cannabiscommunity cannabis', 'cannabiscommunity cannabisculture', 'cannabiscommunity green', 'cannabiscommunity medicalcannabis', 'cannabisconversations', 'cannabisculture', 'cannabisculture cannabisnews', 'cannabisculture medicinal', 'cannabisculturepoll', 'cannabisculturepoll civilizedlife', 'cannabisderived', 'cannabisderived products', 'cannabisfriendly', 'cannabisfriendly san', 'cannabishallowell', 'cannabishallowell cannabisnews', 'cannabisimpaired', 'cannabisimpaired driving', 'cannabisindustry', 'cannabisindustry betting', 'cannabisjobs', 'cannabisjobs dopecfo', 'cannabislawohio', 'cannabislawohio ohio', 'cannabislawtm', 'cannabislawtm mikedevillaer', 'cannabislegalization', 'cannabislegalization cannabisnews', 'cannabislegalization southkorea', 'cannabisnews', 'cannabisnews weed', 'cannabispolicy', 'cannabispolicy medicalmarijuana', 'cannabisrelated', 'cannabisrelated crimes', 'cannabiss', 'cannabiss schedule', 'cannabisstudies', 'cannabisstudies share', 'cannabissubscriptionbox', 'cannabissubscriptionbox cannabakebox', 'cannabistimes', 'cannabisuse', 'cannabisuse road', 'cannabusinesses', 'cannabusinesses didnt', 'cannaessentials', 'cannalawblog', 'cannaspecialist', 'cannaspecialist ignorance', 'cannaspecialist medical', 'cannaspecialist time', 'cannibis', 'cannibis curing', 'cannmart', 'cannmart launches', 'cannot', 'cannot charged', 'cannot seen', 'cannot true', 'cannot wait', 'canntrust', 'canntrust holdings', 'canopy', 'canopy growth', 'canpoli', 'canpoli cdnpoli', 'cant', 'cant afford', 'cant believe', 'cant grow', 'cant open', 'cant prevent', 'cant speak', 'cant wait', 'canvassers', 'canvassers certi', 'capitol', 'capitol report', 'capnflummox', 'capnflummox regulatevermont', 'capsules', 'capsules form', 'car', 'car accident', 'car failed', 'card', 'card anxiety', 'card cannot', 'card even', 'card today', 'cardholders', 'cardholders homes', 'cardiomegally', 'cardiomegally years', 'cards', 'cards cant', 'care', 'care academic', 'care concern', 'care home', 'care package', 'care pro', 'care system', 'care well', 'carlcannova', 'carlcannova breitbartnews', 'carolina', 'carolina sign', 'carolina step', 'carpinteria', 'carpinteria city', 'carry', 'carry many', 'carrying', 'carrying attention', 'cars', 'cars safety', 'cartels', 'cartels creepypotlawyers', 'cartoon', 'cartoon addresss', 'cartoon medical', 'cartoonist', 'cartoonist gary', 'cartridge', 'cartridge ounce', 'cascading', 'cascading links', 'case', 'case death', 'case im', 'case man', 'case medical', 'case mother', 'case study', 'casebycase', 'casebycase basis', 'cases', 'cases legacy', 'cases marijuana', 'cash', 'cash dangerous', 'cash medicinal', 'cash seized', 'castleberry', 'castleberry talks', 'catching', 'catching activists', 'catecholamine', 'catecholamine effect', 'categor', 'cathedral', 'catmarqueelv', 'catmarqueelv juanrojas', 'caught', 'caught government', 'caught illegal', 'caught jailed', 'caught lawsregulations', 'caught pushing', 'caught smoking', 'caught threatened', 'caught traveling', 'causation', 'causation yet', 'cause', 'cause fatal', 'cause harm', 'cause pain', 'cause premature', 'caused', 'caused billion', 'caused zero', 'causes', 'causes hallucinations', 'caution', 'caution issued', 'cautioned', 'cautioned male', 'cb', 'cb insights', 'cbd', 'cbd allowing', 'cbd aurora', 'cbd bioactive', 'cbd cannabidiol', 'cbd cannabinoids', 'cbd cannabis', 'cbd cbdhemp', 'cbd cbdoil', 'cbd contained', 'cbd depression', 'cbd dose', 'cbd drivethru', 'cbd etc', 'cbd everyone', 'cbd hemp', 'cbd massage', 'cbd medicalmarijuana', 'cbd oil', 'cbd oils', 'cbd products', 'cbd see', 'cbd skincarefacials', 'cbd smoking', 'cbd southkorea', 'cbd start', 'cbd stock', 'cbd thc', 'cbd us', 'cbd weed', 'cbdbased', 'cbdbased cannabis', 'cbdbased products', 'cbdhemp', 'cbdhemp cbdworld', 'cbdivahealth', 'cbdivahealth cbdivahealth', 'cbdlife', 'cbdoil', 'cbdoil cannabidiol', 'cbdoil cannabis', 'cbdoil dispnensary', 'cbdoil hemp', 'cbdproducts', 'cbdproducts vapeoils', 'cbds', 'cbds role', 'cbds without', 'cbdus', 'cbdus medical', 'cbdworld', 'cbdworld cbdlife', 'cbinsights', 'cbinsights cb', 'cbs', 'cbs boston', 'cbsnewyork', 'cbsnewyork state', 'cbtmag', 'cbtmag indian', 'cdn', 'cdn cannabis', 'cdnpoli', 'cdnpoli bcpoli', 'cdnpoli nspoli', 'celebrating', 'celebrating legalization', 'cellphone', 'cellphone legal', 'cells', 'cells fresh', 'cellstubongecancer', 'cellular', 'cellular inflammationtokers', 'center', 'center anything', 'center offering', 'centers', 'centers able', 'central', 'central government', 'central team', 'centre', 'centre last', 'centrelink', 'centrelink centrelink', 'centrelink good', 'centurylong', 'centurylong ban', 'ceo', 'ceo medical', 'ceo support', 'certain', 'certain ailments', 'certain disabilities', 'certainly', 'certainly dangerous', 'certainly keep', 'certi', 'certificate', 'certificate think', 'certification', 'certification among', 'cessation', 'cessation another', 'cfalerts', 'cfalerts drjaneofficial', 'cfsme', 'cfsme nhs', 'cgc', 'cgc nbev', 'chance', 'chance via', 'change', 'change coming', 'change know', 'change needed', 'change regarding', 'change world', 'changed', 'changed drug', 'changed folks', 'changed sort', 'changing', 'changing many', 'changing marijuana', 'changing stance', 'changing structure', 'charged', 'charged dui', 'charged failing', 'charged remanded', 'charged york', 'charges', 'charges caught', 'charges fines', 'charges pending', 'charlottetown', 'charlottetown pei', 'chased', 'chased arrested', 'chc', 'chc malibu', 'cheap', 'cheap therapy', 'check', 'check physician', 'check place', 'check standrewsroad', 'check vehicle', 'check yoruba', 'checked', 'checked psych', 'checkpoint', 'checkpoint driver', 'checks', 'checks angry', 'checks arrests', 'checksassault', 'checksassault ban', 'checkstop', 'checkstop program', 'cheering', 'cheering even', 'cheers', 'cheers weed', 'chemicals', 'chemicals found', 'chemo', 'chemo death', 'chemo radiationthose', 'cherylnunn', 'cherylnunn dozens', 'cheshirepolice', 'cheshirepolice arrestedx', 'chesterfield', 'chesterfield routine', 'chicago', 'chicago mayoral', 'chicago suburban', 'chief', 'chief superintendent', 'child', 'child legalizing', 'child welfare', 'children', 'children need', 'children please', 'children tackle', 'chill', 'chill selling', 'chloe', 'chloe swarbrick', 'chloeswarbrick', 'chloeswarbrick staff', 'chocolate', 'chocolate brownies', 'choices', 'choices good', 'choose', 'choose live', 'choose medical', 'choosing', 'choosing safe', 'chriscerasoli', 'chriscerasoli realdonaldtrump', 'christiansarkis', 'christiansarkis davidhogg', 'christine', 'christine stenquist', 'christmas', 'christmas gift', 'chronic', 'chronic back', 'chronic pain', 'chronicblogs', 'chronicblogs lot', 'chronicpain', 'chronicpain psychoticdisorder', 'church', 'church faces', 'church interfering', 'churchgoin', 'churchgoin family', 'cigarettes', 'cigarettes killed', 'cigarettes large', 'circumstances', 'circumstances one', 'cities', 'cities co', 'citizen', 'citizen medical', 'citizens', 'citizens access', 'citizens could', 'citizens least', 'citizens looking', 'citizentvkenya', 'citizentvkenya husseinmohamedg', 'city', 'city clerk', 'city council', 'city leaders', 'city suburb', 'citys', 'citys first', 'civilizedlife', 'claimed', 'claimed thousands', 'claims', 'claims made', 'clarity', 'clarity socialmedia', 'clarkemicah', 'clarkemicah powerful', 'class', 'class cash', 'class drugs', 'class group', 'class misdemeanor', 'classification', 'classification medical', 'classification used', 'cleaning', 'cleaning kitchen', 'clear', 'clear campaign', 'clear cannabis', 'clear double', 'clear hundreds', 'clear marijuana', 'clear understanding', 'clear way', 'clearly', 'clearly stated', 'clerk', 'clerk approves', 'clevebryan', 'clevebryan kennedy', 'clickondetroit', 'clickondetroit marijuana', 'client', 'client sjkwealthmanage', 'clients', 'clients sign', 'clinic', 'clinic go', 'clintons', 'clmcefc', 'clmcefc katelallyx', 'closed', 'closed gm', 'closer', 'closer cannabis', 'closer getting', 'closer legal', 'closer legalization', 'closer legalizing', 'closer medical', 'closer sin', 'clothes', 'clothes houses', 'clothing', 'clothing dont', 'clothing even', 'clouds', 'clouds instead', 'clown', 'clown faves', 'club', 'club london', 'club model', 'clubs', 'clubs shows', 'clue', 'clue lets', 'cmwmedia', 'cmwmedia unexpected', 'cnn', 'cnn bet', 'cnn issues', 'cnn lives', 'cnn marijuana', 'cnw', 'cnw battelle', 'co', 'co legal', 'co oil', 'co whos', 'coalition', 'coalition hawaii', 'coast', 'coast daily', 'cocaine', 'cocaine heroin', 'cocaine increased', 'cocaine ketamine', 'cocaine kills', 'coconut', 'coconut ebd', 'cofcdevsci', 'coffee', 'coffee beer', 'coffee meatloaf', 'cognition', 'cognition attention', 'cohort', 'cohort maternal', 'coincidence', 'coke', 'coke weed', 'coke xanax', 'collaboration', 'collaboration advance', 'collect', 'collecting', 'collecting cash', 'college', 'college nfl', 'college offering', 'college virginia', 'collision', 'collision arrested', 'colombia', 'colombia great', 'colon', 'colon cancer', 'colonization', 'colonization plants', 'colorado', 'colorado allow', 'colorado changed', 'colorado mj', 'colorado nichecioc', 'colorado shakes', 'colorado since', 'colorado traffic', 'colour', 'columbia', 'columbia appoints', 'combat', 'combat epidemic', 'combined', 'combined cannabis', 'come', 'come closer', 'come curaleaf', 'come gone', 'come must', 'come online', 'come risks', 'come safety', 'come stop', 'come sudden', 'come work', 'comes', 'comes brain', 'comes cannabis', 'comes lots', 'comes play', 'comes weed', 'comfort', 'comfort read', 'coming', 'coming bit', 'coming dighton', 'coming straight', 'coming town', 'comment', 'comment agree', 'comments', 'comments last', 'commerce', 'commerce based', 'commercialization', 'commercialization exploitation', 'commercialization thus', 'commission', 'commission mostly', 'commissioner', 'commissioner upholds', 'commissioner visiting', 'commit', 'commit one', 'committee', 'committee approved', 'committee nj', 'committee passes', 'committees', 'committees hear', 'common', 'common illness', 'common terpenes', 'communication', 'communication promotes', 'communities', 'communities economically', 'communities healthnotpunishment', 'communities need', 'communities sensibly', 'community', 'community get', 'communityengagement', 'communityengagement transparency', 'companies', 'companies contacted', 'companies monopolise', 'companies started', 'companies trucking', 'companion', 'companion plant', 'company', 'company called', 'company creating', 'company drugs', 'company history', 'company large', 'company licenses', 'comparable', 'comparable risks', 'compare', 'compare vaccines', 'comparison', 'comparison gives', 'comparison like', 'comparison sugar', 'compassion', 'compassion mission', 'competitors', 'complain', 'complain self', 'complaint', 'complaint madalena', 'complaints', 'complaints confusion', 'complete', 'complete medical', 'complete psychotic', 'completed', 'completed first', 'completely', 'completely ban', 'completely legalized', 'completely topless', 'completely turned', 'completes', 'completes first', 'complication', 'complication overdose', 'component', 'component cannabis', 'compound', 'compound cbd', 'compounds', 'concealed', 'concealed handgun', 'concentrates', 'concentrates apparel', 'concentration', 'concentration slower', 'concern', 'concern center', 'concerned', 'concerned widespread', 'concerns', 'concerns around', 'concerns cbs', 'concerns first', 'concerns high', 'concerns problem', 'concerns youth', 'concussions', 'concussions also', 'concussions standard', 'condemn', 'condemn northwalespcc', 'condidered', 'condidered evedence', 'condition', 'condition allows', 'condition cause', 'condition fresno', 'condition im', 'condition obviously', 'condition state', 'conditions', 'conditions consider', 'conditions face', 'conditions im', 'conditions including', 'conditions medicinal', 'conditions strictly', 'conduct', 'conduct problems', 'conducted', 'conducted traffic', 'conf', 'conf learn', 'conference', 'conference brings', 'confidence', 'confidence cannabis', 'confidence via', 'confident', 'confident ill', 'confidential', 'confidential unless', 'confirmation', 'confirmation great', 'confusion', 'confusion recreational', 'congrats', 'congrats korea', 'congrats people', 'congrats south', 'congratulations', 'congratulations canada', 'congratulations korea', 'congratulations maryland', 'congratulations newjersey', 'congratulations sokor', 'congratulations south', 'congressional', 'congressional candidates', 'connect', 'connect dots', 'connected', 'connected acreage', 'connected nycanna', 'connected people', 'connecticut', 'connecticut dems', 'connecton', 'connecton organized', 'cons', 'cons cannabis', 'cons side', 'consequences', 'consequences financial', 'conservative', 'conservative dont', 'conservative societies', 'consider', 'consider choosing', 'consider giving', 'consider passing', 'consider pump', 'consider registering', 'considerations', 'considerations cannabis', 'considered', 'considered cannabis', 'considered medical', 'considering', 'considering marijuana', 'constables', 'constables stopandsearchworks', 'constantly', 'constantly started', 'constructionsafety', 'consultant', 'consultant believe', 'consultation', 'consultation cbd', 'consulting', 'consulting doctor', 'consume', 'consume cannabis', 'consume marijuana', 'consume methamphetamine', 'consume overcame', 'consumed', 'consumed cannabis', 'consumed large', 'consumerrights', 'consumerrights theyoungjurks', 'consumers', 'consumers need', 'consuming', 'consuming expensive', 'consuming medical', 'consumption', 'consumption cars', 'consumption closer', 'consumption spaces', 'consumption wi', 'contact', 'contact us', 'contacted', 'contacted medfordmass', 'contain', 'contain lt', 'contained', 'contained plant', 'contaminated', 'contaminated dangerous', 'contender', 'content', 'content order', 'context', 'context crains', 'context create', 'continue', 'continue grow', 'continue massachusetts', 'continue pop', 'continued', 'continued fraud', 'continued investigation', 'continues', 'continues cannabis', 'contraband', 'contraband cannabis', 'contraband tobacco', 'contracts', 'contracts dont', 'contradicting', 'contradicting cannabiss', 'control', 'control cannabis', 'control education', 'control life', 'control much', 'control paranoia', 'control program', 'control seek', 'controlall', 'controlall critical', 'controlled', 'controlled cannabis', 'controlled limited', 'controversy', 'controversy legalization', 'convert', 'convert medicinal', 'conviction', 'conviction caught', 'convictions', 'convictions dating', 'convictions effort', 'cookies', 'cookies edibles', 'cooking', 'cooking thc', 'cool', 'cool go', 'cools', 'cools canada', 'coordination', 'coordination driving', 'cork', 'cork mother', 'corner', 'corner best', 'cornflakes', 'cornflakes inland', 'correctly', 'correctly epilepsy', 'correlation', 'correlation doesnt', 'corrupt', 'corrupt drugs', 'cos', 'cos second', 'cost', 'cost get', 'cost government', 'cost health', 'cost job', 'costs', 'costs associated', 'cought', 'cought growing', 'could', 'could affect', 'could benefit', 'could bring', 'could clear', 'could cost', 'could create', 'could die', 'could exact', 'could good', 'could head', 'could help', 'could lead', 'could lifeline', 'could marijuana', 'could maybe', 'could medical', 'could path', 'could position', 'could punished', 'could reach', 'could recreational', 'could saved', 'could soon', 'could take', 'could useful', 'could weeks', 'couldnt', 'couldnt persuade', 'couldnt stop', 'couldnt tweet', 'council', 'council blog', 'council said', 'council voted', 'count', 'count irresponsible', 'countable', 'counties', 'counties dispensaries', 'counting', 'counting im', 'countries', 'countries conservative', 'countries like', 'countries mental', 'country', 'country canada', 'country cannabis', 'country could', 'country drunkdriver', 'country east', 'country goes', 'country import', 'country laden', 'country legalize', 'country make', 'country many', 'country meanwhile', 'country medical', 'country theres', 'countrys', 'countrys mental', 'countrys narcotics', 'county', 'county va', 'couple', 'couple decades', 'couple hits', 'couple months', 'courier', 'courier journal', 'course', 'course failing', 'course helps', 'course marijuana', 'course medical', 'court', 'court fatal', 'court miraculous', 'court ruled', 'court rules', 'courts', 'courts decision', 'courts hopefully', 'courvoiserking', 'courvoiserking breitbartnews', 'cousin', 'cousin good', 'cover', 'cover costs', 'cover office', 'coverage', 'coverage gun', 'covered', 'covered insurances', 'covered new', 'coworker', 'coworker recommended', 'cpweek', 'cpweek greenrelieflp', 'crack', 'crack falls', 'crack impaired', 'crack keep', 'crack muffin', 'crack opioid', 'crack plus', 'crackdown', 'crackdown response', 'crackmacs', 'crackmacs suggestion', 'crains', 'crains explored', 'crashed', 'crashed lamppost', 'crazy', 'crazy interesting', 'crazy stretch', 'crc', 'crc internalmed', 'cream', 'cream andmedicinal', 'create', 'create lot', 'create policies', 'created', 'created plant', 'creates', 'creates jobs', 'creating', 'creating drug', 'creating opioids', 'creative', 'creative potential', 'creativity', 'creativity fighting', 'credit', 'credit union', 'creepypotlawyers', 'creepypotlawyers tngop', 'crib', 'crime', 'crime amp', 'crime associated', 'crime bc', 'crime calgary', 'crime cant', 'crime cdnpoli', 'crime commissioner', 'crime denver', 'crime driving', 'crime expert', 'crime fears', 'crime humanity', 'crime increasing', 'crime network', 'crime nichecioc', 'crime prevention', 'crime rate', 'crime risen', 'crime seems', 'crime st', 'crime stats', 'crime street', 'crime task', 'crimes', 'crimes commit', 'crimes could', 'criminal', 'criminal charges', 'criminal convictions', 'criminal defence', 'criminal market', 'criminal offence', 'criminal organizationselements', 'criminalisation', 'criminalisation cannabisconversations', 'criminalisationalienation', 'criminalisationalienation young', 'criminalized', 'criminalized ruined', 'criminalizing', 'criminalizing plant', 'criminals', 'criminals grow', 'criminals high', 'criminals organized', 'criminals put', 'crisis', 'crisis crisis', 'crisis veterans', 'crisishas', 'crisishas anyone', 'critical', 'critical condition', 'critical skills', 'crohnsdisease', 'crohnsdisease alzheimersdisease', 'cron', 'cron tlry', 'crooksandliars', 'crooksandliars mebi', 'cross', 'cross border', 'cross daily', 'cross prevalent', 'crotononhudson', 'crotononhudson hosted', 'crucified', 'crucified seunghyun', 'cruel', 'cruel unnecessary', 'crumble', 'crumble cannabis', 'crumbles', 'crumbles theyre', 'crusading', 'crusading mother', 'crutch', 'crutch leaves', 'crypto', 'crypto newyork', 'ct', 'ct cought', 'ct face', 'cultivated', 'cultivated strains', 'cultivating', 'cultivating online', 'cultivation', 'cultivation export', 'cultivation industry', 'culture', 'culture business', 'culture canada', 'culture currentevents', 'cultures', 'cultures marc', 'cumberland', 'cumberland county', 'cup', 'cup kk', 'cura', 'cura begin', 'curaleaf', 'curaleaf could', 'curaleaf dispensary', 'cure', 'cure everything', 'cure fad', 'cure lot', 'cure need', 'cure sweet', 'cures', 'cures cancer', 'cures pharmaceuticals', 'curing', 'curing cancer', 'curious', 'curious using', 'current', 'current market', 'currentevents', 'currentevents medicalmarijuana', 'currently', 'currently signatures', 'currently use', 'custody', 'custody charged', 'customer', 'customer preferences', 'customer protection', 'customers', 'customers spent', 'customs', 'customs get', 'customs officers', 'cut', 'cut green', 'cut half', 'cut risk', 'cyprusmail', 'cyprusmail medical', 'czech', 'czech republic', 'dabs', 'dabs kushboxes', 'dad', 'dad dont', 'dad first', 'dad onto', 'daddy', 'daherbmon', 'daherbmon south', 'daily', 'daily cannabis', 'daily fight', 'daily follow', 'daily news', 'daily painsleepanxiety', 'daily seizures', 'daily smartnews', 'daily uneducated', 'daily users', 'dakotans', 'dakotans gave', 'dakotans spoke', 'damage', 'damage concussions', 'dambrosio', 'dambrosio urged', 'damn', 'damn country', 'damn recreational', 'damn state', 'damnnn', 'dan', 'dan rowland', 'danger', 'danger prohibitionists', 'dangerous', 'dangerous also', 'dangerous cannabis', 'dangerous criminals', 'dangerous dont', 'dangerous driving', 'dangerous drugspolicy', 'dangerous harmful', 'dangerous harming', 'dangerous lies', 'dangerous organised', 'dangerous pets', 'dangerous prescriptions', 'dangerous theresa', 'dangerous things', 'dangers', 'dangers cannabis', 'dangling', 'dangling shiney', 'danielcoronanv', 'danielcoronanv told', 'dank', 'dank ganja', 'darren', 'darren millar', 'darrenmillaram', 'darrenmillaram arfonj', 'darrenmillaram northwalespcc', 'data', 'data addiction', 'data indicating', 'data none', 'date', 'date sugg', 'date take', 'dating', 'datolivokid', 'datolivokid citizens', 'daughter', 'daughter yr', 'daughters', 'daughters daily', 'davetimesone', 'davetimesone capnflummox', 'daveweigel', 'daveweigel conditions', 'david', 'david baker', 'davidc', 'davidc people', 'davidhogg', 'davidhogg people', 'davidrheins', 'davidrheins medical', 'day', 'day cannabisbusiness', 'day day', 'day everyday', 'day marijuana', 'day millions', 'day pass', 'day romaine', 'day starting', 'day still', 'day tuesday', 'day xmas', 'days', 'days aggressive', 'days december', 'days live', 'days living', 'days recreational', 'days son', 'days traffic', 'dayton', 'dayton credit', 'dc', 'dc usa', 'dea', 'dea made', 'deacon', 'deacon alfies', 'dead', 'dead rip', 'deal', 'deal evidence', 'deal gender', 'deal living', 'dealer', 'dealer arrested', 'dealers', 'dealers state', 'dealing', 'dealing amp', 'dealing contraband', 'dealing injurys', 'dealing poor', 'dealt', 'dealt poss', 'dear', 'dear politicians', 'death', 'death also', 'death beneath', 'death cannabis', 'death check', 'death complication', 'death cross', 'death definition', 'death destruction', 'death dontdrivehigh', 'death hospice', 'death huge', 'death penalty', 'death person', 'death us', 'deaths', 'deaths consumption', 'deaths increased', 'deaths rate', 'deaths year', 'debate', 'debate bill', 'debate cancer', 'debate legalization', 'debate race', 'debate speech', 'debate yet', 'debating', 'debating recreational', 'debt', 'debt one', 'dec', 'dec hmlsf', 'dec know', 'dec wh', 'decades', 'decades hot', 'decades south', 'december', 'december new', 'december ounce', 'december state', 'december th', 'deci', 'decision', 'decision banning', 'decision save', 'decision strike', 'decisions', 'decisions actions', 'declaration', 'declaration sharing', 'declines', 'declines fatal', 'decrease', 'decrease counties', 'decrease pain', 'decrease risksdeveloping', 'decreased', 'decreased could', 'decreased prescription', 'decriminalization', 'decriminalization across', 'decriminalize', 'decriminalize cannabis', 'decriminalize medical', 'decriminalizing', 'decriminalizing pot', 'dedicated', 'dedicated local', 'dedicated providing', 'deep', 'deep ashtrays', 'defence', 'defence lawyer', 'defending', 'defending support', 'deficiency', 'deficiency need', 'definitely', 'definitely need', 'definitely right', 'definitely time', 'definitely worried', 'definition', 'definition overdose', 'definition overwhelmed', 'defoe', 'defoe addiction', 'delawaregov', 'delawaregov need', 'delete', 'delete kid', 'delete seed', 'deleterious', 'deleterious effects', 'deli', 'deliver', 'deliver drug', 'deliver ounces', 'deliveries', 'deliveries time', 'delivery', 'delivery approved', 'delivery driver', 'delivery michigan', 'delivery rules', 'delivery toronto', 'delivery waiting', 'delta', 'delta mans', 'deluxe', 'deluxe maximum', 'demand', 'demand candidate', 'demand liberal', 'demand pot', 'demand purchase', 'demands', 'demands fast', 'demi', 'demi mckechnie', 'demi youre', 'democracymum', 'democracymum chloeswarbrick', 'democratic', 'democratic ally', 'democrats', 'democrats gained', 'democrats still', 'demographic', 'demographic groups', 'demonstrate', 'demonstrate regulated', 'demonstrated', 'demonstrated potential', 'dems', 'dems eye', 'denial', 'denial real', 'denver', 'denver directly', 'denverpost', 'denverpost alcohol', 'deny', 'deny take', 'denying', 'denying patients', 'depart', 'depart via', 'department', 'department health', 'department says', 'department south', 'dependanceyaddiction', 'dependanceyaddiction opiate', 'dependence', 'dependence cannabis', 'dependence etc', 'dependency', 'dependency detox', 'depression', 'depression anxiety', 'depression cancer', 'depression crazy', 'depression fucking', 'depression made', 'depression may', 'depression migraines', 'depression mind', 'depression natural', 'depression pain', 'depression research', 'depression thc', 'depressive', 'depressive symptoms', 'deputy', 'deputy yes', 'derived', 'derived cannabis', 'desert', 'desert dries', 'designated', 'designated driver', 'designed', 'designed better', 'designing', 'designing effective', 'desperate', 'desperate patients', 'despite', 'despite people', 'despite recent', 'despite strict', 'destroy', 'destroy prevents', 'destroyed', 'destroyed ravages', 'destruction', 'destruction vanity', 'details', 'detained', 'detained later', 'detect', 'detect drug', 'detection', 'detection need', 'deter', 'deter crime', 'determination', 'determination establish', 'determines', 'determines driver', 'detox', 'detox relapse', 'detroit', 'detroit get', 'develop', 'develop recreational', 'developing', 'developing brain', 'developing psychosis', 'development', 'developmental', 'developmental cascading', 'develops', 'develops new', 'devil', 'devil manage', 'dfcrorg', 'dfcrorg first', 'dfs', 'dfs reminds', 'diabetes', 'diabetes colon', 'diagnosed', 'diagnosed one', 'diagnosis', 'diagnosis substancerelated', 'didnt', 'didnt even', 'didnt get', 'didnt impact', 'didnt intend', 'didnt know', 'didnt respond', 'didnt use', 'didnt want', 'didnt warn', 'die', 'die legalizers', 'die marijuana', 'died', 'died arkansas', 'died long', 'died thx', 'died using', 'dies', 'dies blames', 'dies potheads', 'diesel', 'diesel customs', 'diesel kush', 'diesel marijuana', 'differen', 'difference', 'difference greatly', 'different', 'different effects', 'different medical', 'different need', 'different routes', 'different types', 'difficult', 'difficult incureable', 'difficult time', 'dig', 'dig hallucinogens', 'dighton', 'digital', 'digital transactions', 'diner', 'diner poised', 'dingleys', 'dingleys case', 'direct', 'direct secondary', 'direction', 'direction congrats', 'direction fixing', 'direction hopefully', 'directly', 'directly related', 'director', 'director la', 'director meanwhile', 'disabil', 'disabil rehabil', 'disabilities', 'disabilities lkekannabis', 'disabilities scoping', 'disability', 'disability gets', 'disabled', 'disabled sick', 'disaster', 'discard', 'discard knife', 'discard take', 'discards', 'discards discard', 'discover', 'discover many', 'discover medical', 'discovering', 'discovering cannabidoil', 'discovery', 'discovery make', 'discriminate', 'discriminate affects', 'discrimination', 'discrimination eliastheodorou', 'discussed', 'discussed bill', 'discussed drugimpaired', 'disease', 'disease addiction', 'disease study', 'diseases', 'disentangling', 'disentangling longitudinal', 'disgrace', 'disgrace two', 'dishonest', 'dishonest comparison', 'disorder', 'disorder defoe', 'disorder linked', 'disorders', 'disorders panic', 'disorders years', 'dispensaries', 'dispensaries associated', 'dispensaries brands', 'dispensaries cannabis', 'dispensaries cdnpoli', 'dispensaries city', 'dispensaries connect', 'dispensaries deli', 'dispensaries deliver', 'dispensaries fully', 'dispensaries northampton', 'dispensaries open', 'dispensaries paying', 'dispensaries process', 'dispensaries remove', 'dispensary', 'dispensary buy', 'dispensary ive', 'dispensary lush', 'dispensary opens', 'dispensary problemsolved', 'dispensary smokeweedeveryday', 'dispensary still', 'dispensary today', 'display', 'dispnensary', 'dispnensary weed', 'distance', 'distance legal', 'distinction', 'distinction read', 'distributed', 'distributed cocaine', 'distributing', 'distributing millions', 'distribution', 'distribution taxed', 'district', 'district legislative', 'district resulted', 'distupt', 'distupt protect', 'div', 'div results', 'diversify', 'diversify maize', 'diverting', 'diverting medical', 'dizzy', 'dizzy bitch', 'dmvsredbonerebl', 'dmvsredbonerebl whole', 'docile', 'doctor', 'doctor cannabis', 'doctor medical', 'doctor patient', 'doctor started', 'doctor would', 'doctor wrote', 'doctors', 'doctors convert', 'doctors embracing', 'doctors recommend', 'doctors stand', 'doctors thankfully', 'doctors tried', 'doctors wont', 'documentary', 'documentary roll', 'documented', 'documented continued', 'doesnt', 'doesnt expect', 'doesnt make', 'doesnt prove', 'doesnt smell', 'dog', 'dog everywhere', 'dog using', 'dogo', 'dogo cali', 'dogs', 'dogs everywhere', 'dogs getting', 'dollar', 'dollar industry', 'dollar year', 'dollars', 'dollars increase', 'dolly', 'dolly marijuana', 'domestic', 'domestic foreign', 'donate', 'donate generously', 'done', 'done asian', 'done donate', 'done good', 'done ive', 'done marijuana', 'dont', 'dont admire', 'dont clue', 'dont come', 'dont consume', 'dont deal', 'dont drive', 'dont feel', 'dont forget', 'dont get', 'dont jerk', 'dont judge', 'dont know', 'dont let', 'dont like', 'dont medical', 'dont overdose', 'dont put', 'dont see', 'dont sell', 'dont smoke', 'dont surprised', 'dont take', 'dont think', 'dont understand', 'dont use', 'dont want', 'dont wish', 'dontcha', 'dontcha love', 'dontdrivehigh', 'dontdrivehigh cannabis', 'dontdriveimpaired', 'dontdriveimpaired drivesober', 'dontdrugdrive', 'dontdrugdrive fatal', 'donttaxmedicine', 'donttaxmedicine drhartweek', 'door', 'door medical', 'door recommended', 'doors', 'doors amp', 'doors jobs', 'doorstep', 'doovers', 'doovers comes', 'dope', 'dope magazine', 'dopecfo', 'dopecfo cannabiscommunity', 'dopey', 'dopey times', 'doriandargan', 'doriandargan love', 'doritos', 'doritos amp', 'dosage', 'dosage also', 'dosage endourpain', 'dosage may', 'dosage people', 'dosage pharmacist', 'dosage would', 'dose', 'dose safe', 'doses', 'dots', 'dots dfcrorg', 'double', 'double standard', 'dougpolkpoker', 'dougpolkpoker medicinal', 'downingstreet', 'downingstreet theresamay', 'downnot', 'downnot mention', 'dozens', 'dozens existing', 'dozens plead', 'dpfhawaii', 'dpfhawaii worked', 'dpfhi', 'dr', 'dr frank', 'dr kishan', 'dr morning', 'dr qu', 'dr stuart', 'draft', 'draft bill', 'draft medical', 'drcarlhart', 'drcarlhart weed', 'drfranklive', 'drfranklive american', 'drg', 'drg place', 'drg rteprimetime', 'drhartweek', 'drhartweek speakup', 'dried', 'dried manicured', 'dries', 'dries lure', 'drink', 'drink drive', 'drink responsibly', 'drinkdrug', 'drinkdrug drive', 'drinking', 'drinking far', 'drinks', 'drinks happyhandler', 'drive', 'drive campaign', 'drive driving', 'drive drugimpaired', 'drive future', 'drive high', 'drive passenger', 'drive puttin', 'driven', 'driven courts', 'driven large', 'driver', 'driver arrested', 'driver cannabis', 'driver facing', 'driver failed', 'driver fails', 'driver find', 'driver found', 'driver hit', 'driver impaired', 'driver possession', 'driver provides', 'driver summonsed', 'driver suspicion', 'driver taking', 'driver tested', 'driver theft', 'driver vehicle', 'drivers', 'drivers consume', 'drivers impaired', 'drivers license', 'drivers risk', 'drivers roads', 'drivers seat', 'drivesober', 'drivethru', 'drivethru opens', 'driving', 'driving believing', 'driving cannabisrelated', 'driving distance', 'driving drunk', 'driving fast', 'driving going', 'driving high', 'driving influence', 'driving insurance', 'driving licence', 'driving one', 'driving plan', 'driving postlegalization', 'driving says', 'driving serious', 'driving takes', 'driving traffic', 'driving use', 'drivingistoughenough', 'drivingistoughenough pictwittercomklwuuxsnt', 'drjaneofficial', 'drjaneofficial mmj', 'drlindadykes', 'drlindadykes notoriousbeg', 'drmikehart', 'drove', 'drove drug', 'drug', 'drug addicted', 'drug addiction', 'drug alcoholimpaired', 'drug also', 'drug another', 'drug cannabis', 'drug cardholders', 'drug charged', 'drug charges', 'drug consumption', 'drug dealer', 'drug dealers', 'drug dependence', 'drug driving', 'drug including', 'drug info', 'drug know', 'drug laws', 'drug like', 'drug list', 'drug nondrug', 'drug perceived', 'drug policies', 'drug researcher', 'drug schedules', 'drug seizure', 'drug stop', 'drug takers', 'drug use', 'drug war', 'drug whole', 'drug wipe', 'drugdrive', 'drugdrive lsac', 'drugdriver', 'drugdriver stop', 'drugdriving', 'drugdriving possession', 'drugimpaired', 'drugimpaired dangerous', 'drugimpaired driving', 'drugpolicyaz', 'drugpolicyaz marijuana', 'drugs', 'drugs across', 'drugs alcohol', 'drugs amp', 'drugs appears', 'drugs asb', 'drugs barmpot', 'drugs cannabis', 'drugs combined', 'drugs come', 'drugs crackdown', 'drugs fentanyl', 'drugs festival', 'drugs know', 'drugs make', 'drugs minister', 'drugs tobacco', 'drugs years', 'drugspolicy', 'drugspolicy endourpain', 'drugspolicy maximises', 'drugsruinlives', 'drugsruinlives rj', 'drugwipeuk', 'drugwipeuk cannabis', 'drugwipeuk fatal', 'drugwipeuk kits', 'drugwipeuk possession', 'drunk', 'drunk cannabis', 'drunk people', 'drunkdriver', 'drunkdriver took', 'dry', 'dry skin', 'duchessk', 'duchessk according', 'duckgang', 'duckgang weedporns', 'dude', 'dude stopped', 'due', 'due gastroparesis', 'due illegal', 'dueless', 'dueless cellular', 'dui', 'dumbed', 'dumbed downnot', 'dumbs', 'dumbs many', 'dump', 'dump scheme', 'dunno', 'dunno definitely', 'duterte', 'duterte admitting', 'dyk', 'dyk teens', 'dysfunctional', 'dysfunctional behavior', 'earlier', 'earlier morning', 'earlier today', 'earlier year', 'early', 'early death', 'early hours', 'early midyear', 'early next', 'earlystage', 'earlystage relationships', 'ease', 'ease ms', 'easier', 'easier access', 'easier get', 'easier manipulate', 'east', 'east asia', 'east asian', 'east kilbride', 'eastside', 'eastside holistic', 'eastteam', 'eastteam drugdriver', 'easy', 'easy ordering', 'eat', 'eat lawmakers', 'eating', 'eating weed', 'eatyourkimchi', 'eatyourkimchi know', 'ebd', 'ebd oils', 'eckerts', 'eckerts apples', 'economically', 'economically sound', 'economically speaking', 'economy', 'economy cannabisculturepoll', 'ecstasy', 'ecstasy cannabis', 'ed', 'ed governance', 'ed marijuana', 'edible', 'edible cut', 'edibles', 'edibles better', 'edibles beverages', 'edibles concentrates', 'edibles deluxe', 'edibles follow', 'edibles home', 'edibles marijuanalegalization', 'edibles medicinalmarijuanaedibles', 'edibles shatterwax', 'educate', 'educate promote', 'educatio', 'education', 'education advocacy', 'education comes', 'education funding', 'education page', 'educational', 'educational stuff', 'ef', 'effect', 'effect adding', 'effect areas', 'effect cannabis', 'effect encourage', 'effective', 'effective efficient', 'effective even', 'effective options', 'effective reducing', 'effective safer', 'effective treating', 'effectively', 'effectively provides', 'effects', 'effects cbd', 'effects drive', 'effects frequent', 'effects helpful', 'effects ingested', 'effects miracle', 'effects policing', 'effects pre', 'effects smoking', 'effects terminally', 'efficacious', 'efficacious treatment', 'efficacy', 'efficacy latter', 'efficacy medicinal', 'efficient', 'efficient methods', 'effort', 'effort crack', 'effort legalize', 'efforts', 'efforts advance', 'efforts us', 'eight', 'eight companies', 'either', 'either way', 'ek', 'ek boy', 'elected', 'elected remove', 'election', 'election crusading', 'election read', 'elections', 'electronic', 'electronic highway', 'elevates', 'elevates issue', 'elevating', 'elevating importance', 'eliastheodorou', 'eliminated', 'eliminated daughters', 'elite', 'elite schools', 'elliminated', 'elliminated grand', 'elroraps', 'elroraps habitual', 'email', 'email address', 'email mp', 'emailed', 'emailed months', 'emailmsgtweet', 'emails', 'emails cbd', 'emboldened', 'emboldened sell', 'embrace', 'embrace becoming', 'embracing', 'embracing cannabis', 'emerged', 'emerged many', 'emergency', 'emergency room', 'emery', 'employees', 'employees manage', 'employees use', 'employers', 'employers council', 'employers fire', 'employment', 'employment rights', 'enable', 'enable us', 'enacting', 'enacting paid', 'encourage', 'encourage ask', 'encourage everyone', 'encourages', 'encourages people', 'end', 'end epilepsyawareness', 'end scapegoating', 'ended', 'ended cons', 'ending', 'ending sept', 'endourpain', 'enforcement', 'enforcement costs', 'engagement', 'engagement residents', 'england', 'england asked', 'enhancing', 'enhancing creativity', 'enjoy', 'enjoy ful', 'enough', 'enough make', 'enough monitored', 'enough play', 'enough prescribed', 'enters', 'enters czech', 'enthusiasts', 'enthusiasts visit', 'entire', 'entire federal', 'entirely', 'entirely cash', 'enviable', 'enviable body', 'environment', 'epcontrolroom', 'epcontrolroom sw', 'epidemic', 'epidemic libertyosd', 'epidemic please', 'epidemic real', 'epidolex', 'epidolex derived', 'epidolex scheduled', 'epilep', 'epilepsy', 'epilepsy actually', 'epilepsy chronicpain', 'epilepsy contradicting', 'epilepsy guidance', 'epilepsy mother', 'epilepsyawareness', 'epilepsyawareness month', 'epilepsyawarenessmonth', 'epilepsysociety', 'epileptic', 'epileptic east', 'epileptic seizures', 'epionymous', 'epionymous drlindadykes', 'episode', 'episode arfonj', 'eproadspolicing', 'eproadspolicing brenteppingcpt', 'equal', 'equal healthy', 'equals', 'equals freedom', 'era', 'era dead', 'erecting', 'erecting electronic', 'eric', 'eric came', 'eric needed', 'esp', 'esp us', 'especially', 'especially cancer', 'especially teeth', 'essentially', 'essentially write', 'establish', 'establish enviable', 'establishment', 'establishment tnleg', 'estimate', 'estimate catecholamine', 'estimates', 'estimates potential', 'et', 'et al', 'etc', 'etc never', 'etc remarkable', 'etc safety', 'etcbut', 'etcbut promote', 'ethical', 'ethical considerations', 'ethically', 'ethically focused', 'ethics', 'ethics slow', 'evedence', 'evedence cannabis', 'even', 'even allowed', 'even autism', 'even cannabis', 'even count', 'even federal', 'even guts', 'even health', 'even know', 'even legal', 'even legalize', 'even licensed', 'even lowthc', 'even medical', 'even narrow', 'even need', 'even negative', 'even people', 'even potent', 'even regulated', 'even thirds', 'even though', 'even tightly', 'evening', 'evening penclawdd', 'evening post', 'evenings', 'evenings nobody', 'event', 'event cannabis', 'events', 'events happening', 'eventually', 'eventually thought', 'ever', 'ever considered', 'ever consumed', 'ever died', 'ever directly', 'ever seen', 'ever since', 'ever smoked', 'ever stop', 'ever teach', 'ever use', 'every', 'every citizen', 'every day', 'every one', 'every state', 'everybody', 'everybody allowed', 'everyday', 'everyday mentality', 'everyone', 'everyone access', 'everyone came', 'everyone celebrating', 'everyone go', 'everyone happy', 'everyone know', 'everyone left', 'everyone right', 'everyone transporting', 'everything', 'everything cannabis', 'everything coming', 'everything couldnt', 'everything issue', 'everywhere', 'everywhere like', 'everywhere tech', 'evidence', 'evidence allow', 'evidence cannabidiol', 'evidence clear', 'evidence date', 'evidence emerged', 'evidence formal', 'evidence medical', 'evidence receptors', 'evidential', 'evidential blood', 'evil', 'evil dangerous', 'exact', 'exact snakeoil', 'exactly', 'exactly waiting', 'exactly without', 'examined', 'examined relationship', 'examines', 'examines issues', 'exceeded', 'exceeded mil', 'except', 'except perhaps', 'excise', 'excise tax', 'excited', 'excited pay', 'excitement', 'excitement opportunity', 'exclusively', 'exclusively marijuana', 'executive', 'executive director', 'exfighter', 'exfighter finds', 'exhibits', 'exhibits pineycitrus', 'existence', 'existence please', 'existing', 'existing grey', 'existing med', 'expand', 'expand legalization', 'expanded', 'expanded healthcare', 'expanded medical', 'expands', 'expands new', 'expect', 'expect going', 'expect heart', 'expect leftward', 'expect pass', 'expectations', 'expectations could', 'expected', 'expected gifts', 'expensive', 'expensive enough', 'expensive people', 'experience', 'experience beauty', 'experience recreational', 'experience relief', 'experiences', 'experiences ples', 'experiment', 'experiment us', 'experimented', 'experimented mushrooms', 'expert', 'expert dr', 'expert leaf', 'expert medicinal', 'expertise', 'expertise wouldve', 'experts', 'experts demand', 'experts field', 'explained', 'explanation', 'explanation works', 'exploding', 'exploding demand', 'exploitation', 'exploitation even', 'explore', 'explore health', 'explored', 'explored banking', 'explores', 'explores medical', 'explores path', 'explores policy', 'exploring', 'exploring medical', 'expomedeweed', 'expomedeweed international', 'exporing', 'exporing earlystage', 'export', 'express', 'express interest', 'express support', 'expresscbd', 'expresscbd reactions', 'extensive', 'extensive explanation', 'extensive research', 'extract', 'extract cbd', 'extracted', 'extracted flowersbuds', 'extracted wifes', 'extreme', 'extreme pain', 'extremely', 'extremely addictive', 'extremely dry', 'extremely thankful', 'eye', 'eye five', 'eyes', 'eyes gt', 'eyes pot', 'eying', 'eying fast', 'fabbo', 'fabbo say', 'fabulous', 'fabulously', 'fabulously fudgy', 'face', 'face years', 'faces', 'faces felony', 'faces potential', 'facilitating', 'facilitating digital', 'facility', 'facility medford', 'facing', 'facing ban', 'facing recall', 'fact', 'fact also', 'fact chemicals', 'fact crime', 'fact daily', 'fact gone', 'fact medicine', 'fact narcotic', 'fact recreational', 'fact theyre', 'fact world', 'factor', 'factor developing', 'factors', 'factors leading', 'facts', 'facts clear', 'facts keep', 'factual', 'factual backup', 'fad', 'fad used', 'fail', 'fail reach', 'failed', 'failed offset', 'failed status', 'failed stop', 'failing', 'failing drugwipeuk', 'failing stop', 'fails', 'fails listen', 'fails roadside', 'fair', 'fair colombia', 'fairness', 'fairness new', 'faith', 'faith communities', 'fake', 'fake stoner', 'fall', 'fall asleep', 'fallen', 'fallen cannabis', 'falling', 'falling abortion', 'falls', 'falls categor', 'false', 'false arrests', 'false many', 'fame', 'fame hungry', 'families', 'families seek', 'family', 'family life', 'family medical', 'family member', 'fan', 'fan dealing', 'fancy', 'fancy suits', 'fans', 'fans cheering', 'fantastic', 'fantastic turnout', 'fantastic write', 'far', 'far cbds', 'far easier', 'far lessadvanced', 'far much', 'far safer', 'far scholar', 'far wide', 'farm', 'farm billesley', 'farm near', 'farmers', 'farmers back', 'farmers courier', 'farmers sen', 'fashionable', 'fashionable lobbydriven', 'fast', 'fast failing', 'fast legalization', 'fast route', 'faster', 'faster help', 'faster onset', 'faster prevent', 'faster recover', 'fatal', 'fatal fires', 'fatal norfolkpolice', 'fatal notworththerisk', 'fatal pylenpt', 'fatal sgtchrisharris', 'fatal workplace', 'father', 'father actually', 'father gary', 'father horribly', 'father medical', 'father tried', 'fatty', 'fatty liver', 'fault', 'fault need', 'faves', 'faves become', 'faves jail', 'faves use', 'favor', 'favor medical', 'favor mentioned', 'favor pick', 'favorite', 'favorite strains', 'favoriteproducts', 'favoriteproducts includingweedvape', 'fda', 'fda says', 'fdaapproved', 'fdaapproved better', 'fear', 'fear foreign', 'fears', 'fears city', 'features', 'features checks', 'fed', 'fed gov', 'fed tariffs', 'federal', 'federal debt', 'federal government', 'federal interference', 'federal jobs', 'federal opposition', 'federal prohibition', 'federal research', 'federal state', 'feel', 'feel abuse', 'feel crack', 'feel free', 'feel increasingly', 'feel like', 'feel pretty', 'feel proud', 'feeling', 'feeling fabulous', 'feeling ugly', 'feelings', 'feelings dont', 'feelings narcotics', 'felonies', 'felonies since', 'felony', 'felony charges', 'felony drug', 'felony possession', 'female', 'female cannabis', 'fentanyl', 'fentanyl marijuana', 'festival', 'festival kids', 'festival mana', 'festiveride', 'fewer', 'fewer opioid', 'fibromyalgia', 'fibromyalgia cfsme', 'fibromyalgia observ', 'field', 'field leading', 'field medical', 'fight', 'fight addiction', 'fight wpain', 'fighting', 'fighting addiction', 'fighting benefits', 'fighting depression', 'fighting fact', 'fighting legalize', 'file', 'file submitted', 'finalized', 'finalized mi', 'finally', 'finally admits', 'finally allowing', 'finally catching', 'finally finalized', 'finally legalized', 'finally pot', 'finally something', 'finally succeeds', 'finally well', 'financial', 'financial toll', 'find', 'find different', 'find information', 'find ive', 'find kaitlyn', 'finding', 'finding university', 'findings', 'findings suggest', 'finds', 'finds second', 'finds weed', 'fine', 'fine ha', 'fine ian', 'fine saferroads', 'fines', 'fines andor', 'fingertips', 'fingertips visit', 'finna', 'finna legal', 'finna open', 'fire', 'fire employees', 'firearms', 'firearms federal', 'firearms use', 'firearms within', 'fires', 'fires holidays', 'firm', 'firm put', 'firms', 'firms cannabis', 'firms eying', 'firms importing', 'firms struggle', 'first', 'first approve', 'first business', 'first cannabis', 'first cbd', 'first country', 'first east', 'first glimpse', 'first integrative', 'first licenses', 'first medical', 'first medicinal', 'first nation', 'first place', 'first private', 'first professor', 'first reading', 'first shipment', 'first started', 'first step', 'first ten', 'first thing', 'first think', 'first time', 'first week', 'first whiff', 'firstineastasia', 'fish', 'fish coconut', 'fishb', 'five', 'five hours', 'five policies', 'fixed', 'fixed incomes', 'fixing', 'fixing pensionamp', 'flaring', 'flaring amp', 'flips', 'flips cannabis', 'floodgates', 'floor', 'floor going', 'floor medical', 'floor vote', 'florida', 'florida medical', 'florida relief', 'florida rep', 'floridas', 'floridas medical', 'flotus', 'flotus speaking', 'flower', 'flower edibles', 'flowers', 'flowers amazing', 'flowers dried', 'flowersbuds', 'flowersbuds marijuana', 'fluid', 'fluid bolus', 'fluoride', 'fluoride additives', 'fmqs', 'fo', 'focus', 'focus improving', 'focused', 'focused investors', 'focuses', 'focuses sensible', 'folks', 'folks except', 'folks teens', 'follies', 'follies cannabis', 'follow', 'follow luke', 'follow reasoning', 'followed', 'followed question', 'followers', 'followers invest', 'following', 'following driving', 'following know', 'following stop', 'food', 'food youve', 'forbidden', 'forbidden medical', 'force', 'force identified', 'force people', 'forced', 'forced transact', 'forecast', 'foreign', 'foreign companies', 'foreign investment', 'foreign nationals', 'foremost', 'foremost anticancer', 'forever', 'forever cannabis', 'forget', 'forget buy', 'forget condition', 'forget nixons', 'forgot', 'forgot share', 'form', 'form consumption', 'formal', 'formal anecdotal', 'former', 'former star', 'forum', 'forum attracts', 'forum last', 'forward', 'forward deci', 'forward floor', 'forward kaltf', 'found', 'found cannabis', 'found inside', 'found nearly', 'found possession', 'found relief', 'found running', 'found stop', 'four', 'four types', 'fox', 'fox utpol', 'foxnews', 'foxnews crypto', 'foxnews get', 'foxnews michigan', 'francisco', 'francisco clear', 'francisco hispanic', 'francisco kalw', 'francisco total', 'frank', 'frank dambrosio', 'fraud', 'fraud fed', 'free', 'free swag', 'freedom', 'freetheleaf', 'freetheleaf thepotshopandmuseum', 'frequencyin', 'frequencyin fact', 'frequent', 'frequent marijuana', 'frequent urination', 'fresh', 'fresh toast', 'fresno', 'fresno marijuana', 'friday', 'friend', 'friend eric', 'friends', 'friends sam', 'front', 'front bermuda', 'front lines', 'fuck', 'fuck habitual', 'fuck im', 'fuck lines', 'fuck making', 'fuck mandyland', 'fuck yeah', 'fucken', 'fucken trash', 'fuckers', 'fuckers crucified', 'fuckers start', 'fucking', 'fucking early', 'fucking liter', 'fudgy', 'fudgy triple', 'fuel', 'fuel clothes', 'fueledbythc', 'fueledbythc ganjagirls', 'fuelling', 'fuelling jobs', 'fuels', 'fuels spike', 'ful', 'full', 'full article', 'full benefits', 'full bore', 'full legalisation', 'full legislature', 'full senate', 'full swing', 'fully', 'fully vetted', 'fun', 'fun rest', 'fun stress', 'function', 'functioning', 'functioning quality', 'fund', 'fund organized', 'funding', 'funding crime', 'funding january', 'funding legalized', 'funions', 'funny', 'funny hear', 'funny highsociety', 'funny johnny', 'future', 'future growth', 'future prospects', 'fyi', 'fyi still', 'gaetz', 'gaetz democratic', 'gained', 'gained new', 'gallup', 'gallup reported', 'gamaanj', 'gamaanj unknowledge', 'gambling', 'gaming', 'gaming good', 'gangs', 'gangs cartels', 'gangs used', 'gangsterism', 'gangsterism cannabis', 'ganja', 'ganja thc', 'ganjagirls', 'ganjagirls ganjaguys', 'ganjagirls pot', 'ganjaguys', 'ganjaguys weedporn', 'ganjalove', 'ganjalove bud', 'ganjaoklahoma', 'ganjaoklahoma helloive', 'ganjapreneur', 'ganjapreneur canadian', 'ganjapreneur congratulations', 'garden', 'garden state', 'gardener', 'gardener waves', 'gary', 'gary find', 'gary varvel', 'gas', 'gas advocates', 'gas flaring', 'gasand', 'gasand give', 'gastroparesis', 'gastroparesis cannabis', 'gateway', 'gateway drugs', 'gateway help', 'gatewaydrug', 'gave', 'gave churchgoin', 'gave high', 'gave substantial', 'gay', 'gay ass', 'gblainny', 'gblainny nydailynews', 'gd', 'gender', 'gender insecurity', 'general', 'general election', 'general jeff', 'generation', 'generation times', 'generously', 'generously support', 'genome', 'genome viruses', 'genuinely', 'genuinely shocked', 'georgia', 'georgia indiana', 'get', 'get addicted', 'get better', 'get cannabis', 'get caught', 'get chronic', 'get cure', 'get customs', 'get data', 'get done', 'get even', 'get facts', 'get first', 'get gangsterism', 'get government', 'get herb', 'get high', 'get initiated', 'get judged', 'get legal', 'get lit', 'get medical', 'get money', 'get munchies', 'get need', 'get one', 'get paranoid', 'get regulate', 'get something', 'get sweeping', 'get things', 'get two', 'get watered', 'get winning', 'get work', 'getbaked', 'getbaked getlit', 'getlit', 'getlit cannaessentials', 'getongab', 'getongab true', 'gets', 'gets extremely', 'gets first', 'gets month', 'gets votes', 'gets years', 'getting', 'getting asses', 'getting cannabis', 'getting caught', 'getting closer', 'getting greener', 'getting hang', 'getting high', 'getting laid', 'getting licenses', 'getting medical', 'getting medicinal', 'getting prescription', 'getting shot', 'gfm', 'gfm allow', 'gift', 'gift matter', 'gifts', 'gifts cannabis', 'ginosocialist', 'ginosocialist sure', 'girl', 'girl amp', 'girl nichecioc', 'give', 'give legal', 'give real', 'given', 'given severely', 'gives', 'gives comfort', 'gives pretty', 'gives take', 'giving', 'giving addiction', 'giving back', 'giving death', 'giving free', 'giving heroin', 'giving mustard', 'givingtuesday', 'givingtuesday mycompassioninc', 'gknapp', 'gknapp federal', 'glad', 'glad able', 'glad agree', 'glad fight', 'glad outburst', 'glad see', 'gladly', 'gladly substitute', 'glass', 'glass vape', 'glasscartridge', 'glaucoma', 'glaucoma kind', 'glimpse', 'glimpse screen', 'global', 'global cannabis', 'global group', 'global industry', 'global legalization', 'global market', 'globaldomination', 'glyphosate', 'glyphosate vaccines', 'gm', 'gm box', 'gm closed', 'gm oshawaontariocanada', 'gm right', 'go', 'go ahead', 'go beyond', 'go buy', 'go dispensary', 'go midnight', 'go see', 'go south', 'go southkorea', 'go wendover', 'go work', 'go would', 'god', 'god amp', 'god created', 'god legalization', 'gods', 'gods natural', 'goes', 'goes full', 'goes man', 'goes medical', 'going', 'going announce', 'going back', 'going forward', 'going full', 'going happen', 'going harm', 'going house', 'going huge', 'going ignore', 'going lead', 'going mo', 'going seizures', 'going state', 'going stop', 'going viral', 'gold', 'gold bar', 'gold medicinal', 'gold report', 'goldmanvision', 'goldmanvision laurahday', 'gone', 'gone show', 'gone sky', 'gonna', 'gonna get', 'gonna need', 'good', 'good bad', 'good economy', 'good evidence', 'good grow', 'good harm', 'good hockey', 'good idea', 'good korea', 'good medical', 'good money', 'good month', 'good morning', 'good news', 'good omg', 'good otherwise', 'good pccs', 'good practical', 'good quality', 'good reas', 'gop', 'gop pass', 'gordonslife', 'gordonslife riedle', 'gosedon', 'gosedon abbygoodnough', 'got', 'got bad', 'got best', 'got increase', 'got key', 'got little', 'got look', 'got medical', 'got official', 'got one', 'got real', 'got step', 'got wrong', 'gov', 'gov needs', 'governance', 'governance ethics', 'government', 'government believes', 'government dea', 'government doctor', 'government elected', 'government finally', 'government florida', 'government garden', 'government legalise', 'government loses', 'government relax', 'government respect', 'government run', 'government scientists', 'government seen', 'government sho', 'government societal', 'government start', 'government wont', 'governments', 'governments could', 'governor', 'governor philmurphy', 'governor wants', 'governortomwolf', 'governortomwolf better', 'governortomwolf false', 'governortomwolf legalizing', 'govinslee', 'govinslee washington', 'govmurphy', 'govmurphy senatorscutari', 'govts', 'govts plan', 'gowernpt', 'gowernpt officers', 'grabs', 'grabs hallowell', 'grade', 'grade medical', 'graijoseph', 'graijoseph saw', 'grams', 'grams cannabis', 'grand', 'grand mal', 'grannybgoods', 'grannybgoods pain', 'grant', 'grant medical', 'granted', 'granted casebycase', 'grantpa', 'grantpa first', 'grappling', 'grappling question', 'grass', 'grass getting', 'great', 'great article', 'great bonding', 'great deal', 'great enhancing', 'great job', 'great losing', 'great musician', 'great news', 'great see', 'great step', 'great substitution', 'great time', 'great work', 'greater', 'greater bioavailability', 'greater conduct', 'greater manchester', 'greatest', 'greatest case', 'greatly', 'greatly appreciated', 'greece', 'greece eyes', 'greece issues', 'greeces', 'greeces syriza', 'green', 'green colour', 'green diesel', 'green plant', 'green seen', 'green talk', 'green thumbs', 'greener', 'greener garden', 'greenrelieflp', 'greenrelieflp torontopolice', 'greg', 'greg jejebob', 'greghuntmp', 'greghuntmp wonder', 'gregoryjon', 'grenadines', 'grenadines poised', 'grey', 'grey market', 'gross', 'gross also', 'ground', 'group', 'group debating', 'group limited', 'groups', 'groups reported', 'grow', 'grow acres', 'grow cannabis', 'grow lights', 'grow marijuana', 'grow medical', 'grow medicinal', 'grow operation', 'grow plants', 'grow realize', 'grow support', 'grow thats', 'growers', 'growers incorporating', 'growers medical', 'growing', 'growing cannabis', 'growing concerns', 'growing fear', 'growing medicinal', 'growing plant', 'growing popularity', 'growing recreational', 'growing selling', 'grown', 'grown like', 'growth', 'growth announce', 'growth legal', 'growth originhouseoh', 'growth work', 'grueling', 'grueling may', 'gruntlelife', 'gruntlelife im', 'gs', 'gs homesecretary', 'gt', 'gt bospoli', 'gt looking', 'gtgtgt', 'gtgtgt south', 'guess', 'guess canada', 'guess know', 'guess nj', 'guidance', 'guidance released', 'guidance use', 'guide', 'guide doctors', 'guide revegging', 'guidelines', 'guidelines use', 'gums', 'gums provide', 'gun', 'gun control', 'gun joint', 'gun owners', 'gun reform', 'guns', 'guns people', 'gupta', 'gupta medica', 'guts', 'guts mention', 'guys', 'guys bymikedavis', 'guys lets', 'ha', 'habitual', 'habitual cannabis', 'habitual use', 'hadnt', 'hadnt wouldnt', 'haha', 'half', 'half crime', 'half even', 'halflife', 'hallowell', 'hallowell cannabishallowell', 'hallucinations', 'hallucinations paranoia', 'hallucinogens', 'hallucinogens benefits', 'hamilton', 'hamilton weed', 'hand', 'hand physical', 'handgun', 'handgun previously', 'handgun well', 'hands', 'hands criminals', 'hands dangerous', 'hands youth', 'handsfree', 'handsfree cellphone', 'handsome', 'handsome korean', 'hanf', 'hang', 'hang ao', 'hannah', 'hannah deacon', 'hanyak', 'hanyak traditional', 'happen', 'happen cannabis', 'happen secret', 'happen supervised', 'happening', 'happening tomorrow', 'happy', 'happy death', 'happy holidays', 'happy legalization', 'happy seeing', 'happyhandler', 'happyhandler secondshiftoutwithnewhandler', 'harassment', 'harassment agreeing', 'hard', 'hard admit', 'hard data', 'harder', 'harder sounds', 'hardly', 'hardly ever', 'harm', 'harm decrease', 'harm harmed', 'harm individuals', 'harm real', 'harm reduction', 'harmed', 'harmful', 'harmful compounds', 'harmful side', 'harming', 'harming children', 'harmless', 'harmless without', 'harms', 'harms cannabis', 'harms mdma', 'harsh', 'harsh symptoms', 'harshest', 'harshest penalties', 'harshest policies', 'harvest', 'harvest amp', 'harvesting', 'harvesting announcements', 'hasbeensports', 'hasbeensports yeah', 'hash', 'hate', 'hate bank', 'hate crime', 'hate green', 'hate headlines', 'havent', 'havent discussed', 'havent even', 'havent heard', 'havent made', 'havent noticed', 'havent st', 'hawaii', 'hawaii dpfhi', 'hawaii medical', 'hawaii suck', 'hazard', 'hazard assessment', 'hazards', 'hazards us', 'hazy', 'hazy impairment', 'hdrpf', 'hdrpf expands', 'head', 'head start', 'headdock', 'headdock medscape', 'headed', 'headed superbowl', 'headline', 'headline mjbizdaily', 'headlines', 'headlines consider', 'heads', 'heads medical', 'heads mom', 'heads sjsj', 'healing', 'healsnot', 'healsnot chemo', 'health', 'health already', 'health amp', 'health around', 'health authorities', 'health benefits', 'health canada', 'health care', 'health condition', 'health conditions', 'health consequences', 'health department', 'health diagnosis', 'health donttaxmedicine', 'health going', 'health ht', 'health illnesses', 'health instead', 'health insurance', 'health insurers', 'health isaac', 'health know', 'health pesticides', 'health policies', 'health report', 'health safety', 'health wellness', 'health youth', 'healthandsafety', 'healthandsafety pesticide', 'healthbenefits', 'healthbenefits hopegrownstore', 'healthcare', 'healthcare coverage', 'healthcare hamilton', 'healthcare services', 'healthnews', 'healthnews healthandsafety', 'healthnotpunishment', 'healthy', 'healthy alternatives', 'healthy effective', 'healthy glasscartridge', 'healthy healthy', 'healthy positive', 'healthy sh', 'healthycoins', 'healthycoins healthycoins', 'healthycoins medicinal', 'hear', 'hear talk', 'hear testimony', 'heard', 'heard many', 'hearing', 'hearing medical', 'hearing weedvgreed', 'heart', 'heart attack', 'heart government', 'hearts', 'hearts many', 'heavy', 'heavy recreational', 'heckled', 'heckled millar', 'heel', 'heel faster', 'heel injurys', 'held', 'held week', 'hell', 'hell leicester', 'hell yeah', 'helloive', 'helloive got', 'help', 'help acknowledges', 'help another', 'help bodys', 'help cannabis', 'help combat', 'help countries', 'help countrys', 'help doctors', 'help facilitating', 'help faster', 'help get', 'help heel', 'help help', 'help lots', 'help management', 'help meds', 'help mental', 'help much', 'help municipalities', 'help pain', 'help patients', 'help people', 'help pr', 'help prevent', 'help ptsd', 'help reduce', 'help sell', 'help sleep', 'help son', 'help stay', 'help stop', 'help supervisors', 'help understand', 'help us', 'help various', 'help wrestle', 'helped', 'helped addiction', 'helped manage', 'helped many', 'helped open', 'helped tremendously', 'helpful', 'helpful sleep', 'helpful thanks', 'helping', 'helping bring', 'helping isis', 'helping maryland', 'helping sleep', 'helping suffering', 'helpmeplease', 'helpmeplease imnotevenstoned', 'helppsychosis', 'helppsychosis drugs', 'helps', 'helps case', 'helps managers', 'hemp', 'hemp cannabis', 'hemp cbd', 'hemp clothing', 'hemp could', 'hemp locally', 'hemp low', 'hemp medical', 'hemp news', 'hemp oil', 'hemp plant', 'hemp plants', 'hemp total', 'herb', 'herb legalized', 'herbs', 'herbs pulls', 'herbworthy', 'herbworthy legalization', 'heres', 'heres buy', 'heres pharmacists', 'heroin', 'heroin addiction', 'heroin addicts', 'heroin cannabis', 'heroin legalized', 'heroin stop', 'hes', 'hes adult', 'hes favor', 'hes obviously', 'hesitant', 'hesitant legislators', 'hexo', 'hexo cannabisculture', 'hey', 'hey josh', 'hey paige', 'hey thats', 'hey tonywi', 'hi', 'hi good', 'hidden', 'hidden inside', 'high', 'high addiction', 'high cannabis', 'high could', 'high dabs', 'high illegal', 'high keeping', 'high like', 'high never', 'high ohigho', 'high operationrednose', 'high pain', 'high quality', 'high road', 'high rodales', 'high shit', 'high smartnews', 'high times', 'high valuations', 'high work', 'higher', 'higher ed', 'highereducation', 'highest', 'highest quality', 'highest thc', 'highlife', 'highlife funny', 'highlife reach', 'highlighting', 'highlighting main', 'highlights', 'highlights niece', 'highly', 'highly neglected', 'highsociety', 'highsociety bud', 'hightimes', 'hightimes advocacy', 'hightimesmag', 'hightimesmag im', 'hightimesmag south', 'highway', 'highway tolls', 'highwayed', 'highwayed governortomwolf', 'hineighbor', 'hineighbor helpmeplease', 'hip', 'hip trends', 'hippocampus', 'hippocampus store', 'hispanic', 'hispanic dude', 'history', 'history medical', 'history mjna', 'history news', 'history prnewswire', 'history world', 'hit', 'hit car', 'hit need', 'hit started', 'hits', 'hits bong', 'hiv', 'hiv cancer', 'hm', 'hm dont', 'hmlsf', 'hmlsf mj', 'hmmm', 'hmmm alcohol', 'hobi', 'hockey', 'hockey player', 'hockey season', 'hold', 'hold active', 'holdings', 'holdings inc', 'holdmybluntt', 'holdmybluntt helloive', 'holiday', 'holiday hemp', 'holiday season', 'holidays', 'holidays got', 'holidays medical', 'holidays often', 'holistic', 'holistic helped', 'holistic medicine', 'hollyweed', 'hollyweednorth', 'hollyweednorth maryland', 'home', 'home bed', 'home delivery', 'home growing', 'home made', 'home smoking', 'home staff', 'homedelivery', 'homedelivery medical', 'homes', 'homesecretary', 'homesecretary amp', 'hometown', 'hometown newton', 'honestly', 'honestly one', 'honestly superskeptical', 'honeychiro', 'honeychiro cream', 'hong', 'hong kong', 'honorable', 'honorable distinction', 'honourablehappy', 'honourablehappy perhaps', 'hooray', 'hope', 'hope also', 'hope medical', 'hope people', 'hopefully', 'hopefully going', 'hopefully legalize', 'hopegrown', 'hopegrown flowers', 'hopegrown medicalmarijuana', 'hopegrownstore', 'hopes', 'hoping', 'hoping consider', 'horribly', 'horribly abusive', 'horrific', 'horrific like', 'horrormovie', 'horrormovie twitter', 'hospice', 'hospice gives', 'hosted', 'hosted assemblywoman', 'hosts', 'hosts first', 'hot', 'hot coffee', 'hot world', 'hours', 'hours morning', 'hours stop', 'house', 'house announces', 'house cannabinoids', 'house condemn', 'house days', 'house increases', 'house lol', 'house looking', 'houses', 'houses medicine', 'however', 'however cannabis', 'hpra', 'hpra report', 'hs', 'hs became', 'ht', 'huge', 'huge advocate', 'huge benefit', 'huge body', 'huge drug', 'huge fan', 'huge hopefully', 'huge mistake', 'huge moment', 'huge risk', 'huge step', 'hugely', 'hugely beneficial', 'huh', 'huh id', 'human', 'human toll', 'humanity', 'humanity first', 'humanity make', 'hundreds', 'hundreds thousands', 'hungry', 'hungry much', 'hurdle', 'hurdle cbd', 'hurdle national', 'hurting', 'hurting country', 'hurting mothers', 'husband', 'husband company', 'husband grow', 'husband made', 'husseinmohamedg', 'husseinmohamedg lets', 'huuuuge', 'huwpenylan', 'huwpenylan wrexhamcote', 'hybrid', 'hybrid high', 'hybrid medical', 'hydrosoil', 'hydrosoil new', 'hypocritical', 'hypocritical drug', 'iamcnnu', 'iamcnnu christiansarkis', 'ian', 'ian see', 'ianhamilton', 'ianhamilton ginosocialist', 'icsativapodcast', 'icsativapodcast south', 'icymi', 'icymi ontario', 'id', 'id hate', 'id like', 'id love', 'id rather', 'id urge', 'id vape', 'idea', 'idea amp', 'idea non', 'ideal', 'ideal growing', 'ideal helping', 'identical', 'identical legislation', 'identified', 'identified male', 'ideologue', 'ideologue denial', 'idiotic', 'idiotic statement', 'idol', 'idol names', 'igg', 'igg deficiency', 'ignorance', 'ignorance continues', 'ignorant', 'ignorant narcissistic', 'ignore', 'ignore fact', 'ill', 'ill addicted', 'ill besos', 'ill ek', 'ill lupusra', 'ill part', 'ill patients', 'ill receive', 'illegal', 'illegal aliens', 'illegal begin', 'illegal cannabis', 'illegal danielcoronanv', 'illegal drive', 'illegal first', 'illegal pesticide', 'illegal private', 'illegal stuff', 'illegally', 'illegally cost', 'illegally risk', 'illinformed', 'illinformed ideologue', 'illinois', 'illinois chicago', 'illinois million', 'illness', 'illness sickness', 'illnesses', 'illnesses make', 'illnesses particularly', 'im', 'im black', 'im confident', 'im excited', 'im far', 'im fuck', 'im genuinely', 'im glad', 'im happy', 'im honestly', 'im huge', 'im laughing', 'im lbs', 'im medical', 'im moving', 'im one', 'im pleased', 'im reading', 'im really', 'im sad', 'im someone', 'im stoner', 'im take', 'im tired', 'im trying', 'im wrong', 'im yr', 'imgadgett', 'imgadgett important', 'immediate', 'immediate licence', 'imnotevenstoned', 'impact', 'impact black', 'impact calgary', 'impact cannabisuse', 'impact crime', 'impact environment', 'impact part', 'impacts', 'impacts lives', 'impacts regular', 'impair', 'impair driving', 'impaired', 'impaired checkstop', 'impaired concentration', 'impaired driving', 'impaired drug', 'impaired rest', 'impaired serious', 'impaired steering', 'impairedisimpaired', 'impairedisimpaired dontdrivehigh', 'impairedisimpaired festiveride', 'impairment', 'impairment judgement', 'impairment workplace', 'impairs', 'impairs cognition', 'implications', 'implications cannabis', 'import', 'import aurora', 'importance', 'importance medical', 'importance scientific', 'important', 'important animal', 'important buy', 'important cannabis', 'important ever', 'important know', 'important opiod', 'important pet', 'important things', 'importing', 'importing workers', 'imposing', 'imposing tough', 'impoundment', 'impoundment criminal', 'improve', 'improve issues', 'improve level', 'improve overall', 'improves', 'improves brain', 'improving', 'improving patients', 'inadvertently', 'inadvertently suppressing', 'inattentive', 'inattentive said', 'inc', 'inc announces', 'inc applauds', 'inc total', 'inc tsx', 'incentive', 'incentive pick', 'inches', 'inches closer', 'include', 'include immediate', 'include increased', 'include marijuana', 'include medical', 'included', 'included fdaapproved', 'includes', 'includes alcohol', 'including', 'including cannabis', 'including cbd', 'including epilepsy', 'including legal', 'including new', 'including provision', 'including tobacco', 'includingweedvape', 'includingweedvape oilsvape', 'incomes', 'incomes cant', 'incoming', 'incoming nv', 'incorporating', 'incorporating cannabis', 'increase', 'increase amount', 'increase awareness', 'increase prior', 'increase revenue', 'increase st', 'increased', 'increased aggression', 'increased percent', 'increased rates', 'increased risk', 'increased sexual', 'increased voter', 'increases', 'increases cannabisimpaired', 'increases years', 'increasing', 'increasing tax', 'increasingly', 'increasingly everyone', 'increasingly risk', 'increasingly spurious', 'increasingly widespread', 'incredible', 'incredible benefits', 'incredible fucken', 'incredibly', 'incredibly gross', 'incs', 'incs revenue', 'incureable', 'incureable diseases', 'indeed', 'indeed person', 'independently', 'independently associated', 'india', 'india medical', 'indian', 'indian government', 'indian science', 'indiana', 'indiana missouri', 'indianapolis', 'indianapolis star', 'indianas', 'indianas tax', 'indica', 'indica hybrid', 'indicating', 'indicating prohealthampantidisease', 'indications', 'indications pass', 'indigenous', 'indigenous naturals', 'individuals', 'individuals certain', 'individuals health', 'individuals society', 'indoors', 'indoors californiacannabis', 'indoors personal', 'indust', 'industr', 'industries', 'industries tell', 'industry', 'industry attract', 'industry billions', 'industry block', 'industry cannabislegalization', 'industry communityengagement', 'industry dangerous', 'industry dr', 'industry eckerts', 'industry forced', 'industry grappling', 'industry marijuananews', 'industry marketing', 'industry medical', 'industry need', 'industry phoenix', 'industry potential', 'indystar', 'indystar could', 'inflammationampoxidative', 'inflammationampoxidative harm', 'inflammationtokers', 'inflammationtokers need', 'influence', 'influence cannabis', 'influence dont', 'influence post', 'influence result', 'influences', 'influences inflammationampoxidative', 'info', 'info amp', 'info medical', 'info network', 'info reca', 'inform', 'inform people', 'information', 'information law', 'informed', 'infrastructure', 'infrastructure isnt', 'ingested', 'ingestion', 'ingestion keepthemsafe', 'ingests', 'ingests cannabis', 'inhibit', 'inhibit motivation', 'initiated', 'initiated patients', 'initiative', 'initiative threatening', 'injections', 'injections tried', 'injuries', 'injuries death', 'injury', 'injury comes', 'injurys', 'injurys faster', 'injurys neck', 'inland', 'inland port', 'innocent', 'innocent drivers', 'insecurity', 'insecurity canpoli', 'inside', 'inside drinks', 'inside drivers', 'inside look', 'inside unsurprisingly', 'inside veh', 'insights', 'insights medical', 'insist', 'insist youre', 'insomnia', 'insomnia let', 'inspsouthshrops', 'instagram', 'instagram alabama', 'instagram qs', 'installing', 'installing heroin', 'instances', 'instances put', 'instaweed', 'instaweed cannabissubscriptionbox', 'instead', 'instead popping', 'institute', 'institute announces', 'insurance', 'insurance course', 'insurance possession', 'insurance via', 'insurances', 'insurances disabled', 'insurers', 'insurers obligation', 'integrative', 'integrative cannabis', 'intellectually', 'intellectually dishonest', 'intend', 'intend mock', 'interacting', 'interacting criminal', 'interactions', 'interactions getting', 'interest', 'interest cbd', 'interest opening', 'interested', 'interested finding', 'interested info', 'interested obtaining', 'interested tex', 'interested text', 'interesting', 'interesting meeting', 'interesting read', 'interesting threequarters', 'interests', 'interests medicinal', 'interference', 'interference elevates', 'interfering', 'interfering legi', 'interim', 'interim guidance', 'internalmed', 'international', 'international cannabis', 'international front', 'international medicalcannabis', 'intervention', 'intervention addiction', 'interview', 'interview banks', 'intoxicating', 'intoxicating thc', 'intoxication', 'intoxication alone', 'intractable', 'intractable pain', 'intrainter', 'intrainter state', 'intraoral', 'intraoral product', 'inv', 'inv driver', 'inve', 'invest', 'invest industry', 'invest medical', 'investigate', 'investigation', 'investigation efficacy', 'investigations', 'investigations thats', 'investigative', 'investigative article', 'investing', 'investing medical', 'investment', 'investment industry', 'investment post', 'investments', 'investments mjbizdaily', 'investors', 'investors av', 'investors business', 'investors could', 'inviting', 'inviting talk', 'involved', 'involved butt', 'involvement', 'involvement project', 'ireland', 'ireland early', 'ires', 'ires see', 'irplawyer', 'irplawyer cannabislawtm', 'irplawyer said', 'irresponsible', 'irresponsible behaviour', 'irresponsible drunk', 'irresponsible parents', 'isaac', 'isaac brock', 'isis', 'isis medical', 'island', 'island indigenous', 'isnt', 'isnt actively', 'isnt cure', 'isnt fda', 'isnt reason', 'isnt taxed', 'isomike', 'isomike kevinsabet', 'issue', 'issue availability', 'issue please', 'issue safe', 'issued', 'issued drugs', 'issued last', 'issues', 'issues first', 'issues getting', 'issues like', 'issues surrounding', 'issuing', 'issuing local', 'isuckatpicking', 'isuckatpicking cnn', 'itd', 'itd bad', 'itd top', 'iteam', 'iteam recreational', 'ive', 'ive also', 'ive home', 'ive lot', 'ive never', 'ive seeing', 'ive sent', 'ive worked', 'jac', 'jac called', 'jac locating', 'jackson', 'jackson michigan', 'jacktemp', 'jacktemp hell', 'jacobi', 'jacobi thekuhnerreport', 'jail', 'jail growing', 'jail morean', 'jail time', 'jailed', 'jailed man', 'jailed years', 'james', 'james wouldnt', 'january', 'january help', 'january rolling', 'japan', 'japan right', 'jar', 'jar cannabis', 'javierhasse', 'javierhasse michigans', 'jayweber', 'jayweber gregoryjon', 'jb', 'jb didnt', 'jeff', 'jeff dont', 'jeff sessions', 'jejebob', 'jejebob chriscerasoli', 'jeopardy', 'jeremiah', 'jeremiah green', 'jeremyolander', 'jeremyolander another', 'jerk', 'jerk pot', 'jersey', 'jersey could', 'jersey evening', 'jersey got', 'jersey inches', 'jersey joint', 'jersey legalizes', 'jersey legislative', 'jersey linked', 'jersey michigan', 'jersey moved', 'jersey story', 'jersey took', 'jersey votes', 'jersey would', 'jerseys', 'jerseys medical', 'jesus', 'jesus said', 'jimmoran', 'jimmoran tomangell', 'jlohouls', 'jlohouls know', 'jmvan', 'jmvan isuckatpicking', 'job', 'job losing', 'job op', 'job petergrinspoon', 'job washington', 'jobs', 'jobs boom', 'jobs even', 'jobs govinslee', 'jobs investors', 'jobs medical', 'jobs provides', 'jobs scientists', 'jodie', 'jodie emery', 'joerogan', 'joerogan shzamm', 'joethepikr', 'joethepikr cbd', 'johnny', 'johno', 'johno normalnow', 'join', 'join association', 'join attack', 'join clear', 'join people', 'join soba', 'joins', 'joins journey', 'joint', 'joint blame', 'joint committee', 'joint committees', 'joint hadnt', 'jointed', 'jointed phillys', 'joke', 'joke feel', 'jokes', 'jokes snoopdogg', 'jones', 'jones attendee', 'jongiftosmd', 'jongiftosmd cannabis', 'jongiftosmd find', 'jonmurray', 'jonmurray denverpost', 'jordan', 'jordan tishler', 'jordanbpeterson', 'josephs', 'josephs healthcare', 'josh', 'josh want', 'journal', 'journal aware', 'journal courier', 'journal medical', 'journal psychopharmacology', 'journal warned', 'journey', 'journey uncover', 'juanrojas', 'juanrojas nickjvar', 'judge', 'judge choose', 'judged', 'judged like', 'judgement', 'julie', 'julie james', 'junction', 'junction delivery', 'junglestrikeguy', 'junglestrikeguy crime', 'junglestrikeguy lindsay', 'junglestrikeguy mary', 'junglestrikeguy terry', 'jurisdictions', 'jurisdictions issuing', 'justblaisee', 'justblaisee south', 'justfortoday', 'justify', 'justify mainstreaming', 'justine', 'justine cannabis', 'jut', 'jut legalized', 'jvprny', 'jvprny rt', 'kaitlyn', 'kaitlyn father', 'kaitlyn nearly', 'kaltf', 'kalw', 'kalw ever', 'kansas', 'kansas soooo', 'kardcanada', 'kardcanada congratulations', 'katelallyx', 'katelallyx please', 'katelyn', 'katelyn castleberry', 'katvmarine', 'katvmarine katvnews', 'katvnews', 'katvnews disgrace', 'keebler', 'keebler catmarqueelv', 'keep', 'keep black', 'keep cannabis', 'keep going', 'keep medical', 'keep mental', 'keep prices', 'keep profits', 'keep reading', 'keep receiving', 'keep renewing', 'keep status', 'keep trying', 'keep young', 'keeping', 'keeping people', 'keeps', 'keeps well', 'keepthemsafe', 'kelly', 'kelly jones', 'kennedy', 'kennedy sad', 'kentucky', 'kentucky could', 'kentucky farmers', 'kentucky legalizemarijuanainky', 'kenwhalenc', 'kenwhalenc robinetjoe', 'kept', 'kept confidential', 'kerry', 'kerry charlottetown', 'ketamine', 'ketamine ecstasy', 'kevinsabet', 'kevinsabet intellectually', 'kevinsabet support', 'key', 'key approval', 'key hurdle', 'keys', 'keys tell', 'khh', 'khh community', 'kicked', 'kicked california', 'kicked shit', 'kicks', 'kicks dec', 'kid', 'kid cannabis', 'kid suffering', 'kiddo', 'kids', 'kids around', 'kids cancer', 'kids even', 'kids sold', 'kilbride', 'kilbride boy', 'kill', 'kill po', 'kill viability', 'killed', 'killed anyone', 'killed cannabis', 'killed led', 'killed millions', 'killed ther', 'killing', 'killing gs', 'kills', 'kills people', 'kimguadagnonj', 'kimguadagnonj billspadea', 'kimringtg', 'kimringtg leicester', 'kind', 'kind funny', 'kind patient', 'kind product', 'kip', 'kip offers', 'kipu', 'kipu krooninenkipu', 'kishan', 'kishan mahabir', 'kitchen', 'kitchen making', 'kits', 'kits really', 'kk', 'kk also', 'knausc', 'knausc trishhepworth', 'knees', 'knees devil', 'knew', 'knew passed', 'knife', 'knife chased', 'knife wrench', 'knots', 'knots untangle', 'know', 'know adultuse', 'know allwalksoflife', 'know anyways', 'know benefits', 'know cannabis', 'know chloe', 'know criminalizing', 'know drug', 'know every', 'know expect', 'know facts', 'know feel', 'know feeling', 'know going', 'know got', 'know holiday', 'know hopegrown', 'know hypocritical', 'know im', 'know interested', 'know know', 'know legal', 'know legalize', 'know living', 'know meaning', 'know medical', 'know much', 'know options', 'know people', 'know risks', 'know someone', 'know thats', 'know thingsll', 'know think', 'know videos', 'know wdiv', 'know whether', 'know whos', 'knowing', 'knowing conviction', 'knowledge', 'knowledge surrounding', 'known', 'known medical', 'known tastee', 'known yrs', 'kong', 'kong elite', 'korea', 'korea advanced', 'korea approved', 'korea became', 'korea become', 'korea becomes', 'korea come', 'korea evil', 'korea finally', 'korea first', 'korea firstineastasia', 'korea japan', 'korea jut', 'korea leads', 'korea legalized', 'korea legalizes', 'korea legalizing', 'korea made', 'korea making', 'korea moves', 'korea officially', 'korea passed', 'korea passes', 'korea play', 'korea progressing', 'korea recently', 'korea see', 'korea strictest', 'korean', 'korean cannabis', 'korean doctor', 'korean national', 'korean weed', 'koreans', 'koreans maybe', 'kosher', 'kosher kush', 'kpopkhh', 'kpopkhh clown', 'krcr', 'krooninenkipu', 'ks', 'ks longer', 'kush', 'kush cannabis', 'kush female', 'kush taste', 'kushboxes', 'kushboxes highlife', 'ky', 'ky direction', 'kylelapp', 'kylelapp thats', 'la', 'la cannabis', 'la mamma', 'lack', 'lack better', 'lack clarity', 'lack legal', 'laden', 'laden alcoholism', 'ladies', 'ladies life', 'lady', 'lady makes', 'laid', 'laid cannabis', 'lamppost', 'lamppost road', 'lansing', 'lansing city', 'large', 'large amount', 'large deep', 'large growers', 'large part', 'large pharma', 'largely', 'largely driven', 'largest', 'largest legal', 'largest medicinal', 'largest revenue', 'last', 'last among', 'last april', 'last days', 'last meeting', 'last night', 'last one', 'last six', 'last thing', 'last tweet', 'last vape', 'last week', 'late', 'late cbd', 'later', 'later arrested', 'later recreational', 'later voters', 'latest', 'latest department', 'latest medical', 'latest newsletter', 'latest state', 'latter', 'latter lesser', 'latter part', 'laughed', 'laughed made', 'laughing', 'laughing cannabis', 'launch', 'launch monday', 'launched', 'launched recreational', 'launches', 'launches new', 'launches sameday', 'laurahday', 'laurahday purrrcell', 'law', 'law allows', 'law changed', 'law enforcement', 'law impaired', 'law kicks', 'law leaving', 'law legalizing', 'law one', 'law thailand', 'lawfully', 'lawfully right', 'lawmakers', 'lawmakers advance', 'lawmakers approve', 'lawmakers approved', 'lawmakers discussed', 'lawmakers keep', 'lawmakers regulate', 'lawmakers spend', 'lawmakers voted', 'lawmakers want', 'lawns', 'lawns long', 'laws', 'laws actually', 'laws aka', 'laws approval', 'laws around', 'laws fewer', 'laws hurting', 'laws legalizing', 'laws medicinalcannab', 'laws notwill', 'laws recreational', 'laws shop', 'laws years', 'lawsregulations', 'lawsregulations intrainter', 'lawsuit', 'lawsuit medical', 'lawyer', 'lawyer next', 'lazy', 'lazy st', 'lb', 'lb bp', 'lbs', 'lbs thats', 'lds', 'lds church', 'lead', 'lead disaster', 'lead greater', 'lead increased', 'lead less', 'lead number', 'lead world', 'leader', 'leader house', 'leaders', 'leaders quick', 'leadership', 'leadership medical', 'leading', 'leading cause', 'leading producer', 'leading spin', 'leading way', 'leads', 'leads complete', 'leads memory', 'leads way', 'leaf', 'leaf cannabis', 'leafly', 'leannewood', 'leannewood calling', 'learn', 'learn cdn', 'learn different', 'learn give', 'learn happy', 'learn justine', 'learn medical', 'learn medicine', 'learn ohio', 'learn recreational', 'learn reduce', 'learn south', 'learn terpene', 'learnaboutsam', 'learnaboutsam case', 'learnaboutsam foxnews', 'learned', 'learned benefits', 'learned friend', 'learned medical', 'least', 'least potent', 'leave', 'leave erecting', 'leave house', 'leave state', 'leaves', 'leaves lawmakers', 'leaves man', 'leaves voting', 'leaves worse', 'leaving', 'leaving dosage', 'led', 'led death', 'led grow', 'led pair', 'led points', 'led sex', 'lee', 'lee criminal', 'left', 'left sitting', 'leftward', 'leftward push', 'legacy', 'legacy patients', 'legal', 'legal almost', 'legal amp', 'legal australia', 'legal california', 'legal canada', 'legal cannabis', 'legal cbd', 'legal days', 'legal driving', 'legal equal', 'legal limit', 'legal marijuana', 'legal medical', 'legal medicinal', 'legal michigan', 'legal new', 'legal nj', 'legal people', 'legal period', 'legal rcs', 'legal reason', 'legal recreational', 'legal regulation', 'legal sales', 'legal see', 'legal slog', 'legal smoke', 'legal south', 'legal sports', 'legal states', 'legal ways', 'legal weed', 'legalisation', 'legalisation cannabis', 'legalise', 'legalise asia', 'legalise marijuana', 'legalise medical', 'legalise pounds', 'legalised', 'legalised brexit', 'legalised medicinal', 'legalising', 'legalising amp', 'legalising medical', 'legalities', 'legalities topical', 'legalization', 'legalization across', 'legalization belts', 'legalization canada', 'legalization cannabis', 'legalization cultivation', 'legalization date', 'legalization day', 'legalization didnt', 'legalization different', 'legalization efforts', 'legalization expanded', 'legalization fail', 'legalization follies', 'legalization good', 'legalization hemp', 'legalization impaired', 'legalization important', 'legalization joerogan', 'legalization liberalization', 'legalization little', 'legalization long', 'legalization mainstreaming', 'legalization marijuana', 'legalization medical', 'legalization might', 'legalization ny', 'legalization published', 'legalization recreational', 'legalization south', 'legalization suspect', 'legalization today', 'legalization total', 'legalization yet', 'legalize', 'legalize adult', 'legalize cannabis', 'legalize establishment', 'legalize hemp', 'legalize herb', 'legalize illnesses', 'legalize marijuana', 'legalize medica', 'legalize medical', 'legalize medicalmarijuana', 'legalize medicinal', 'legalize mmj', 'legalize people', 'legalize pot', 'legalize recreatio', 'legalize recreational', 'legalize recreationalcannabis', 'legalize tax', 'legalize thc', 'legalized', 'legalized available', 'legalized canada', 'legalized cannabis', 'legalized country', 'legalized crime', 'legalized drivers', 'legalized marijuana', 'legalized massachusetts', 'legalized medical', 'legalized recreational', 'legalized sick', 'legalized use', 'legalizeit', 'legalizeit cannabislegalization', 'legalizeit medicalmarijuana', 'legalizeit taxit', 'legalizeitlala', 'legalizeitlala mverbora', 'legalizemarijuana', 'legalizemarijuana legalizeit', 'legalizemarijuanainky', 'legalizemarijuanainky marijuanalawreform', 'legalizers', 'legalizers love', 'legalizes', 'legalizes medical', 'legalizes medicinal', 'legalizes recreational', 'legalizing', 'legalizing cannabis', 'legalizing marijuana', 'legalizing medical', 'legalizing medicinal', 'legalizing pot', 'legalizing recreational', 'legally', 'legally available', 'legally brought', 'legalmarijuana', 'legalmarijuana cannabis', 'legalregulated', 'legalregulated dosage', 'legalthey', 'legalthey need', 'legalu', 'legalu fuel', 'legi', 'legislating', 'legislating impaired', 'legislatio', 'legislation', 'legislation allow', 'legislation amend', 'legislation canada', 'legislation could', 'legislation efforts', 'legislation sent', 'legislative', 'legislative assembly', 'legislative body', 'legislative committee', 'legislative forum', 'legislative panel', 'legislative session', 'legislators', 'legislators towards', 'legislature', 'legislature earlier', 'legislature fox', 'legislature vote', 'leicester', 'leicester got', 'leicester residents', 'lemon', 'lemon terpene', 'less', 'less half', 'less harmful', 'less month', 'less stringent', 'less workplace', 'lessadvanced', 'lessadvanced medical', 'lesser', 'lesser issue', 'let', 'let alone', 'let consultant', 'let driving', 'let know', 'let people', 'let us', 'let use', 'lets', 'lets change', 'lets get', 'lets go', 'lets legalize', 'lets pair', 'lets really', 'lets say', 'lets stop', 'letter', 'letter north', 'letter regarding', 'letterkenny', 'letterkenny roads', 'letting', 'letting legalized', 'lettuce', 'lettuce dangerous', 'level', 'level evidence', 'level functioning', 'levels', 'levels gets', 'levels intoxicating', 'leverage', 'leverage world', 'liberal', 'liberal regulatory', 'liberalization', 'liberalization medcann', 'libertarian', 'libertarian rec', 'libertyosd', 'libertyu', 'libertyu opioids', 'library', 'licence', 'licence insurance', 'licence suspension', 'license', 'license insurance', 'license losing', 'license politically', 'licensed', 'licensed cannabis', 'licensed dispensaries', 'licensed producer', 'licenses', 'licenses full', 'licenses grabs', 'licenses grow', 'licenses medical', 'licenses people', 'licenses produce', 'licenses sampb', 'licenses via', 'licensing', 'licensing black', 'licensing rules', 'lied', 'lied knowing', 'lies', 'lies perpetuated', 'life', 'life able', 'life back', 'life cannabis', 'life father', 'life individuals', 'life medical', 'life mental', 'life months', 'life sentence', 'life still', 'life suspicions', 'life thanks', 'lifeline', 'lifeline small', 'light', 'light van', 'lights', 'lights medical', 'like', 'like agent', 'like alcohol', 'like allowed', 'like anxiety', 'like arguing', 'like bcomes', 'like cbds', 'like chemo', 'like coffee', 'like colorado', 'like crack', 'like day', 'like even', 'like experiences', 'like factual', 'like feelings', 'like heroin', 'like know', 'like korea', 'like literally', 'like medical', 'like muscle', 'like people', 'like pinesol', 'like products', 'like project', 'like rocket', 'like spreading', 'like state', 'like substance', 'like take', 'like uk', 'like vampires', 'like visit', 'like white', 'liked', 'liked youtube', 'likely', 'likely legislative', 'limit', 'limit cannabis', 'limit drugwipeuk', 'limit effect', 'limited', 'limited basis', 'limited hdrpf', 'limited product', 'limited services', 'limiting', 'limiting promotion', 'lindsay', 'lindsay medical', 'line', 'line fine', 'lines', 'lines bouta', 'lines cannabis', 'link', 'link amp', 'link take', 'linked', 'linked proposal', 'linked psychotic', 'links', 'links cannabis', 'liquor', 'liquor stores', 'list', 'list ailments', 'list gonna', 'list please', 'list resources', 'listen', 'listen let', 'listen people', 'listen truceutahs', 'listening', 'listening south', 'lists', 'lists marijuana', 'lit', 'lit minghaos', 'liter', 'liter jar', 'literally', 'literally medicinal', 'literally would', 'little', 'little closer', 'little hazy', 'little impact', 'little margin', 'little pushback', 'live', 'live asia', 'live educate', 'live highlife', 'live job', 'live joint', 'live like', 'live ppl', 'live state', 'live stream', 'lived', 'lived years', 'liver', 'liver disease', 'lives', 'lives accidents', 'lives canada', 'lives cannabispolicy', 'lives community', 'lives destroyed', 'living', 'living everyone', 'living fishb', 'living japan', 'living sicklecell', 'liza', 'liza important', 'lkekannabis', 'lkekannabis kipu', 'lkekannabis tutkimuskatsaus', 'lloyd', 'lloyd kerry', 'lmao', 'lmfao', 'lmfao love', 'lnp', 'lnp opposed', 'loaded', 'loaded handgun', 'lobbydriven', 'lobbydriven rush', 'local', 'local cannabis', 'local industry', 'local medical', 'local officers', 'local rcmp', 'localized', 'localized reductions', 'locally', 'locally known', 'located', 'located inside', 'located quantity', 'locating', 'locating cannabis', 'locked', 'locked put', 'logic', 'logistical', 'logistical nightmare', 'lol', 'lol everything', 'lol finally', 'lol live', 'lol think', 'lol wolf', 'lol yesterday', 'london', 'london north', 'long', 'long days', 'long going', 'long overdue', 'long part', 'long wait', 'longer', 'longer needs', 'longer sentences', 'longer trained', 'longitudinal', 'longitudinal relations', 'longterm', 'longterm damage', 'longterm growth', 'longterm impacts', 'look', 'look amazing', 'look benefits', 'look cannabis', 'look cool', 'look greece', 'look guidance', 'look shiiid', 'look sioux', 'look south', 'look use', 'looked', 'looked rolling', 'looking', 'looking global', 'looking opiod', 'looking sales', 'looking ways', 'looks', 'looks like', 'looooong', 'looooong overdue', 'loopholes', 'loopholes lack', 'loosen', 'loosen laws', 'losers', 'loses', 'loses power', 'losing', 'losing job', 'losing license', 'losing life', 'loss', 'loss processing', 'lot', 'lot common', 'lot democrats', 'lot drug', 'lot jobs', 'lot knots', 'lot research', 'lot success', 'lots', 'lots pot', 'lots sick', 'lots trouble', 'loud', 'loud program', 'louis', 'louis speaks', 'louisiana', 'louisiana trying', 'love', 'love concerned', 'love know', 'love people', 'love thread', 'love using', 'loved', 'loved one', 'loved time', 'loving', 'loving since', 'low', 'low back', 'low levels', 'low snuff', 'low tax', 'lower', 'lower attention', 'lower back', 'lower crime', 'lower opioid', 'lower would', 'lowestoftpolice', 'lowestoftpolice area', 'lowkey', 'lowlevel', 'lowlevel marijuana', 'lowthc', 'lowthc cbd', 'lps', 'lps diverting', 'lsac', 'lt', 'lt thc', 'luckily', 'luckily nobody', 'lucky', 'lucky enough', 'lucky perspective', 'luke', 'lungs', 'lungs healthy', 'lupusra', 'lupusra sjogrens', 'lure', 'lure recognize', 'lush', 'lush facing', 'lynnpaltrow', 'lynnpaltrow drcarlhart', 'macannabis', 'madalena', 'madalena silverstone', 'made', 'made available', 'made better', 'made cannibis', 'made cbd', 'made decision', 'made depart', 'made huge', 'made killing', 'made legalize', 'made legalregulated', 'made medical', 'made past', 'made qualifying', 'made realize', 'made really', 'made recreational', 'made symptoms', 'madonnai', 'madonnai ill', 'magaamericangal', 'magaamericangal michael', 'magazine', 'magazine regarding', 'mahabir', 'mahabir shares', 'mailordermarijuana', 'mailordermarijuana weed', 'main', 'main risk', 'maingate', 'maingate junction', 'mainstreaming', 'mainstreaming marijuana', 'mainstreaming recreational', 'maize', 'major', 'major cause', 'major new', 'major overseas', 'major surgerywith', 'major university', 'majority', 'majority say', 'make', 'make better', 'make clients', 'make covered', 'make difficult', 'make expert', 'make far', 'make illegal', 'make legal', 'make medical', 'make mistake', 'make much', 'make public', 'make stupid', 'make sure', 'makeitmedicine', 'makeitmedicine simonharristd', 'maker', 'maker even', 'makes', 'makes happy', 'makes people', 'makes real', 'makes sense', 'making', 'making beds', 'making cannabis', 'making choices', 'making comparison', 'making drug', 'making first', 'making medical', 'making moves', 'making one', 'making serious', 'mal', 'mal seizures', 'malavemark', 'malavemark thecryptohippo', 'male', 'male acting', 'male arrested', 'male possession', 'males', 'males evening', 'males prison', 'malibu', 'malibu ca', 'malta', 'malta hosts', 'mamma', 'mamma katelyn', 'man', 'man critical', 'man faces', 'man huuuuge', 'man planted', 'man tf', 'man whos', 'man wife', 'mana', 'mana supply', 'manage', 'manage avoid', 'manage epilepsy', 'manage impairment', 'manage pain', 'manage spoiler', 'management', 'management cancer', 'managers', 'managers address', 'manchester', 'manchester west', 'mandyland', 'mandyland fuck', 'manicured', 'maninthehoody', 'maninthehoody omg', 'manipulate', 'manipulate levels', 'mans', 'mans wife', 'many', 'many available', 'many believed', 'many benefits', 'many cases', 'many cbdbased', 'many concerns', 'many doctors', 'many favoriteproducts', 'many health', 'many little', 'many patients', 'many people', 'many plans', 'many police', 'many reasons', 'many rxs', 'many successful', 'many taking', 'many thats', 'many things', 'many underestimate', 'mapoli', 'mapoli alcoholism', 'marc', 'marc jodie', 'margin', 'margin dumbed', 'margokingston', 'margokingston knausc', 'mari', 'mariju', 'marijuana', 'marijuana addiction', 'marijuana alcoholic', 'marijuana allowable', 'marijuana allowed', 'marijuana already', 'marijuana also', 'marijuana although', 'marijuana another', 'marijuana anxiety', 'marijuana anyone', 'marijuana anyway', 'marijuana appointment', 'marijuana arent', 'marijuana ask', 'marijuana associated', 'marijuana authorization', 'marijuana available', 'marijuana back', 'marijuana ballot', 'marijuana ban', 'marijuana become', 'marijuana becoming', 'marijuana beneficial', 'marijuana benefit', 'marijuana benefits', 'marijuana big', 'marijuana bill', 'marijuana bills', 'marijuana biz', 'marijuana black', 'marijuana blocks', 'marijuana bloomthc', 'marijuana brazil', 'marijuana britishcolumbia', 'marijuana business', 'marijuana businesses', 'marijuana bye', 'marijuana canada', 'marijuana cannabis', 'marijuana cannabiscommunity', 'marijuana cannabisindustry', 'marijuana cannabislegalization', 'marijuana card', 'marijuana cards', 'marijuana caused', 'marijuana cbd', 'marijuana certificate', 'marijuana certification', 'marijuana christmas', 'marijuana chronic', 'marijuana clinic', 'marijuana come', 'marijuana companies', 'marijuana company', 'marijuana consumers', 'marijuana consumption', 'marijuana control', 'marijuana could', 'marijuana culture', 'marijuana cure', 'marijuana dank', 'marijuana dayton', 'marijuana delivery', 'marijuana democrats', 'marijuana disease', 'marijuana dispensaries', 'marijuana dispensary', 'marijuana doctor', 'marijuana doctors', 'marijuana dont', 'marijuana dopey', 'marijuana eat', 'marijuana edibles', 'marijuana education', 'marijuana effective', 'marijuana embracing', 'marijuana emergency', 'marijuana ended', 'marijuana eventually', 'marijuana ever', 'marijuana express', 'marijuana extracted', 'marijuana facility', 'marijuana fact', 'marijuana firm', 'marijuana first', 'marijuana fuck', 'marijuana fun', 'marijuana get', 'marijuana getbaked', 'marijuana gets', 'marijuana gfm', 'marijuana great', 'marijuana haha', 'marijuana halflife', 'marijuana hawaii', 'marijuana help', 'marijuana helping', 'marijuana hemp', 'marijuana highway', 'marijuana hiv', 'marijuana home', 'marijuana huh', 'marijuana illinois', 'marijuana im', 'marijuana important', 'marijuana improves', 'marijuana inc', 'marijuana incs', 'marijuana industries', 'marijuana industry', 'marijuana initiative', 'marijuana interested', 'marijuana investors', 'marijuana isnt', 'marijuana keep', 'marijuana kentucky', 'marijuana kids', 'marijuana kill', 'marijuana last', 'marijuana law', 'marijuana laws', 'marijuana legal', 'marijuana legalised', 'marijuana legalization', 'marijuana legalized', 'marijuana legislation', 'marijuana licenses', 'marijuana licensing', 'marijuana lucky', 'marijuana made', 'marijuana makes', 'marijuana making', 'marijuana many', 'marijuana marijuana', 'marijuana market', 'marijuana may', 'marijuana medical', 'marijuana medicalmarijuana', 'marijuana medicinal', 'marijuana medicine', 'marijuana michigan', 'marijuana miracle', 'marijuana misdemeanour', 'marijuana municipalities', 'marijuana nc', 'marijuana need', 'marijuana nervous', 'marijuana new', 'marijuana news', 'marijuana next', 'marijuana nfl', 'marijuana nj', 'marijuana north', 'marijuana nys', 'marijuana offenses', 'marijuana officially', 'marijuana ogogorodelta', 'marijuana one', 'marijuana opposition', 'marijuana option', 'marijuana overdoses', 'marijuana overseas', 'marijuana pain', 'marijuana passes', 'marijuana patient', 'marijuana patients', 'marijuana people', 'marijuana per', 'marijuana perceived', 'marijuana prescriptions', 'marijuana profitable', 'marijuana program', 'marijuana programs', 'marijuana prohibition', 'marijuana prohibitionists', 'marijuana promoting', 'marijuana published', 'marijuana putting', 'marijuana raise', 'marijuana really', 'marijuana recreational', 'marijuana redistricting', 'marijuana related', 'marijuana required', 'marijuana right', 'marijuana robbery', 'marijuana robert', 'marijuana rules', 'marijuana safe', 'marijuana said', 'marijuana sales', 'marijuana says', 'marijuana scientifically', 'marijuana separate', 'marijuana shame', 'marijuana sharpen', 'marijuana shop', 'marijuana shoukd', 'marijuana shouldnt', 'marijuana snake', 'marijuana sniffing', 'marijuana somehow', 'marijuana soon', 'marijuana spliff', 'marijuana state', 'marijuana still', 'marijuana stocks', 'marijuana stokes', 'marijuana strain', 'marijuana studies', 'marijuana sucks', 'marijuana supplier', 'marijuana sweeping', 'marijuana technically', 'marijuana telling', 'marijuana tested', 'marijuana testingstandards', 'marijuana think', 'marijuana together', 'marijuana treatment', 'marijuana truly', 'marijuana two', 'marijuana unconstitutional', 'marijuana us', 'marijuana use', 'marijuana used', 'marijuana users', 'marijuana va', 'marijuana via', 'marijuana victimless', 'marijuana voted', 'marijuana wasnt', 'marijuana wasteful', 'marijuana well', 'marijuana wha', 'marijuana wi', 'marijuana works', 'marijuana world', 'marijuana would', 'marijuana wouldnt', 'marijuana wthc', 'marijuana yall', 'marijuana yesterday', 'marijuana youareunltd', 'marijuanadoctor', 'marijuanadoctor cannabiscommunity', 'marijuanadoctors', 'marijuanadoctors medicalmarijuana', 'marijuanaincposted', 'marijuanaincposted cannabis', 'marijuanalawreform', 'marijuanalegalization', 'marijuananews', 'marijuananews healthnews', 'marijuanaonline', 'marijuanaonline weeddeliveryservice', 'marijuanapolicy', 'marijuanapolicy poppot', 'marijuanarelated', 'marijuanarelated bills', 'marijuanarelated services', 'marijuanathen', 'marijuanathen watched', 'mark', 'mark end', 'market', 'market allow', 'market away', 'market benefits', 'market drugspolicy', 'market economically', 'market effective', 'market far', 'market gangs', 'market girl', 'market growing', 'market like', 'market marijuana', 'market medical', 'market must', 'market never', 'market number', 'market opportunities', 'market reporting', 'market taking', 'market tightly', 'marketing', 'marketing profiting', 'marketplace', 'marketplace sticking', 'marketplace vegas', 'marking', 'marking significant', 'marksaplang', 'markstacey', 'markstacey apparently', 'markstacey appointment', 'marry', 'marry handsome', 'marty', 'marty walsh', 'martywalsh', 'martywalsh worried', 'mary', 'mary highlights', 'maryjanes', 'maryjanes cannabis', 'maryland', 'maryland medical', 'maryland medicalmarijuana', 'maryland proud', 'maryland reps', 'maryland resident', 'maryland residents', 'maryland stand', 'maryland took', 'marylands', 'marylands medical', 'marylou', 'marylou fabbo', 'mass', 'mass launched', 'mass recreational', 'mass via', 'massachusetts', 'massachusetts begin', 'massachusetts cannabis', 'massachusetts dispensaries', 'massachusetts employers', 'massachusetts gets', 'massachusetts recreational', 'massage', 'massage benefits', 'massage cbd', 'massage message', 'masscann', 'masscann macannabis', 'massive', 'massive international', 'masslivenews', 'masslivenews gt', 'masturbation', 'masturbation dont', 'maternal', 'maternal paternal', 'matt', 'matt gaetz', 'matt headdock', 'matter', 'matter big', 'matthabusby', 'matthabusby south', 'matthayescfb', 'matthayescfb medical', 'mattpmaurer', 'mattpmaurer south', 'maturing', 'maximises', 'maximises harms', 'maximum', 'maximum hybrid', 'maximum risk', 'may', 'may able', 'may cut', 'may ease', 'may improve', 'may include', 'may physical', 'may risk', 'may stop', 'may want', 'may wrong', 'maybe', 'maybe addiction', 'maybe finally', 'maybe get', 'maybe led', 'maybe police', 'maybe silly', 'mayor', 'mayor marty', 'mayor martywalsh', 'mayoral', 'mayoral candidate', 'mays', 'mays husband', 'mcconnell', 'mcconnell pushes', 'mckechnie', 'mckechnie cannabis', 'mcmaster', 'mcmaster university', 'md', 'mdedge', 'mdedge daily', 'mdma', 'mean', 'mean theres', 'meaning', 'meaning important', 'meaning medical', 'meaning vote', 'means', 'means cant', 'means overdose', 'means progressive', 'means safer', 'meanwhile', 'meanwhile mpp', 'meanwhile united', 'meatloaf', 'meatloaf known', 'mebi', 'mebi tarrr', 'med', 'med cannabis', 'med card', 'med dispensaries', 'medcann', 'medcann parliamentary', 'medford', 'medford hopes', 'medfordmass', 'medfordmass express', 'medi', 'mediaicov', 'mediaicov agree', 'medica', 'medica marijuana', 'medical', 'medical advisor', 'medical amp', 'medical application', 'medical benefits', 'medical benefitstrump', 'medical bullshit', 'medical cannabinol', 'medical cannabis', 'medical cannabisampmarijuana', 'medical cbd', 'medical college', 'medical conditions', 'medical evidence', 'medical experts', 'medical folks', 'medical harder', 'medical information', 'medical insurance', 'medical jeopardy', 'medical journal', 'medical leave', 'medical legal', 'medical marijuana', 'medical marijuanaincposted', 'medical marijuanarelated', 'medical market', 'medical patient', 'medical patients', 'medical perspective', 'medical potential', 'medical practitioner', 'medical presence', 'medical profession', 'medical professional', 'medical professionals', 'medical program', 'medical purposes', 'medical reasons', 'medical recreational', 'medical regime', 'medical research', 'medical rmd', 'medical silver', 'medical state', 'medical supply', 'medical treatment', 'medical use', 'medical uses', 'medical yet', 'medicalcannabis', 'medicalcannabis cannabis', 'medicalcannabis fair', 'medicalcannabis marijuana', 'medicalcannabiscbd', 'medicalcannabiscbd cannabis', 'medically', 'medically treat', 'medicalmarijuana', 'medicalmarijuana crc', 'medicalmarijuana east', 'medicalmarijuana edibles', 'medicalmarijuana healthbenefits', 'medicalmarijuana legalize', 'medicalmarijuana legalizeit', 'medicalmarijuana legalmarijuana', 'medicalmarijuana medicalcannabis', 'medicalmarijuana mmj', 'medicalmarijuana recreationalmarijuana', 'medicalmarijuana rok', 'medicalmarijuanapatient', 'medicalmarijuanapatient marijuanadoctor', 'medicate', 'medicate evenings', 'medication', 'medication evidence', 'medication pharmacy', 'medication us', 'medications', 'medications less', 'medicin', 'medicin cannabis', 'medicinal', 'medicinal amp', 'medicinal cannabis', 'medicinal cannabiscommunity', 'medicinal cbd', 'medicinal effect', 'medicinal herbs', 'medicinal marijuana', 'medicinal purposes', 'medicinal reasons', 'medicinal relief', 'medicinal thousands', 'medicinal use', 'medicinalcannab', 'medicinally', 'medicinally jointed', 'medicinally makes', 'medicinalmarijuanaedibles', 'medicinalmarijuanaedibles cbdproducts', 'medicine', 'medicine amp', 'medicine communication', 'medicine eastside', 'medicine etcbut', 'medicine fo', 'medicine good', 'medicine isnt', 'medicine legalize', 'medicine many', 'medicine offering', 'medicine options', 'medicine outright', 'medicine people', 'medicine sick', 'medicine use', 'medium', 'medmarijcardaz', 'medmarijcardaz thanksgiving', 'meds', 'meds help', 'meds including', 'meds years', 'medscape', 'medscape sgottliebfda', 'medtwitter', 'medtwitter medicalmarijuana', 'mee', 'meet', 'meet kaitlyn', 'meet medical', 'meeting', 'meeting med', 'meeting parliament', 'meeting special', 'melania', 'melania god', 'melaniatrump', 'melaniatrump thank', 'melanoma', 'melanoma cancer', 'melissabone', 'melissabone met', 'meltdowns', 'meltdowns controlled', 'member', 'member criminalized', 'memesyndrome', 'memesyndrome get', 'memory', 'memory help', 'memory longer', 'memory loss', 'memory thc', 'menopause', 'menopause cannabis', 'menopause symptoms', 'mental', 'mental health', 'mental pain', 'mental physical', 'mental safety', 'mentalhealth', 'mentalhealth blog', 'mentality', 'mentality like', 'mentally', 'mentally ill', 'mention', 'mention idol', 'mention marijuana', 'mentioned', 'mentioned legalizing', 'mentioned opposes', 'merchant', 'merchant gateway', 'mercury', 'mercury aluminum', 'message', 'message info', 'met', 'met ukcannabisclubs', 'meth', 'meth perfectly', 'methamphetamine', 'methamphetamine rats', 'methods', 'methods consuming', 'mexican', 'mexican health', 'mexico', 'mexico residents', 'mexicos', 'mexicos new', 'mexicos presidentelect', 'mexicos supreme', 'mgalekgalek', 'mgalekgalek sure', 'mi', 'mi sets', 'miami', 'miami la', 'miamicannabis', 'miamicannabis florida', 'michael', 'michael myfox', 'michaelpollan', 'michaelpollan really', 'michigan', 'michigan approves', 'michigan become', 'michigan cannabis', 'michigan dec', 'michigan december', 'michigan easy', 'michigan lawmakers', 'michigan lots', 'michigan medical', 'michigan next', 'michigan opts', 'michigan others', 'michigan prop', 'michigans', 'michigans recreational', 'midas', 'midas yea', 'midlands', 'midlands jailed', 'midnight', 'midnight vote', 'midterm', 'midterm elections', 'midtowngtgt', 'midyear', 'midyear providing', 'might', 'might associated', 'might know', 'migraines', 'migraines depression', 'migraines seen', 'migraines stress', 'mikedevillaer', 'mikedevillaer cannalawblog', 'mikephager', 'mikephager wow', 'mil', 'mil dollars', 'milestone', 'milestone changing', 'milestone global', 'military', 'military govts', 'millar', 'millar blocked', 'millar spoke', 'million', 'million annual', 'million first', 'million maryland', 'million year', 'millions', 'millions cannabis', 'millions funding', 'millions many', 'millions suffer', 'mind', 'mind states', 'mind uses', 'mine', 'mine didnt', 'minghaos', 'minghaos medical', 'minimum', 'minimum age', 'minimum wage', 'minister', 'minister husband', 'minister theresa', 'minister victoria', 'minnesota', 'minnesota medical', 'minority', 'minority say', 'miracle', 'miracle cure', 'miracle drug', 'miraculous', 'miraculous medicinal', 'mirandajwillson', 'mirandajwillson eight', 'misconception', 'misconception propaganda', 'misdemeanor', 'misdemeanor classification', 'misdemeanour', 'misdemeanour convictions', 'miss', 'miss anxiety', 'missed', 'missed another', 'mission', 'mission best', 'mission increase', 'mission sam', 'mission team', 'missouri', 'missouri amp', 'missouri beware', 'missouri residents', 'mistake', 'mistake canada', 'mistake irresponsible', 'mistake tough', 'misunderstood', 'misunderstood plant', 'mitch', 'mitch mcconnell', 'mj', 'mj ad', 'mj crime', 'mj via', 'mjba', 'mjba mjnews', 'mjbizdaily', 'mjbizdaily today', 'mjbiztraining', 'mjna', 'mjna good', 'mjna medical', 'mjnews', 'mma', 'mma dependency', 'mma mmj', 'mmj', 'mmj exfighter', 'mmj marijuana', 'mmj medicalmarijuanapatient', 'mmj patients', 'mmj strict', 'mmjprogram', 'mmpconnect', 'mmpconnect cork', 'mmtc', 'mmtc focus', 'mo', 'mo medical', 'mock', 'mock medical', 'model', 'model could', 'model dealing', 'modest', 'modest mouse', 'moh', 'moh stats', 'mold', 'mold cannabis', 'mold etc', 'mom', 'mom dad', 'mom rent', 'moment', 'moment canada', 'momentswithbren', 'momentswithbren canada', 'monday', 'monday newjersey', 'monday night', 'monday toward', 'money', 'money consume', 'money hands', 'money investing', 'money leave', 'money made', 'money maker', 'money trying', 'monitored', 'monitored customer', 'monopolise', 'monopolise new', 'month', 'month blog', 'month cannabis', 'month explores', 'month later', 'month latter', 'month live', 'month miracle', 'month period', 'month since', 'month take', 'months', 'months ago', 'months debate', 'months legalization', 'months without', 'moon', 'moon rocks', 'morean', 'morean era', 'mormon', 'mormon church', 'morning', 'morning complaint', 'morning im', 'morning located', 'morning since', 'moron', 'moron legalized', 'mossmo', 'mossmo weed', 'mostly', 'mostly blame', 'mostly indica', 'mother', 'mother extreme', 'mother fighting', 'mother helped', 'mother lied', 'mother paved', 'mother said', 'mother south', 'mother tells', 'mothers', 'motion', 'motion demands', 'motion requires', 'motivation', 'motivation consume', 'motor', 'motor possession', 'mouse', 'mouse using', 'mouth', 'mouth round', 'move', 'move india', 'moved', 'moved forward', 'movement', 'movement fight', 'movement needs', 'moves', 'moves generation', 'moves incentive', 'moves legalize', 'moving', 'moving back', 'moving hawaii', 'mp', 'mp benmlake', 'mp profits', 'mph', 'mph area', 'mph mph', 'mpp', 'mpp also', 'mps', 'mps recognise', 'mris', 'mris botox', 'mrnoblesht', 'mrnoblesht helloive', 'mrobertsqld', 'mrobertsqld greghuntmp', 'ms', 'ms symptoms', 'msrunoff', 'mssen', 'mssen msrunoff', 'much', 'much assholes', 'much death', 'much easier', 'much everything', 'much evidence', 'much exclusively', 'much impact', 'much mission', 'much much', 'much person', 'much production', 'much rate', 'much recreational', 'much rest', 'muffin', 'muffin cookies', 'multi', 'multi agency', 'multi billion', 'multibillion', 'multibillion dollar', 'multiple', 'multiple specialists', 'multiple ways', 'multiplesclerosis', 'multiplesclerosis crohnsdisease', 'multiplesclerosis neuropathicpain', 'multiplication', 'multiplication cancer', 'multitude', 'multitude research', 'munchies', 'municipalities', 'municipalities cover', 'municipalities cultivating', 'murder', 'murder connecticut', 'murky', 'murky state', 'murphy', 'murphy wants', 'muscle', 'muscle stiffness', 'mushrooms', 'mushrooms etc', 'musician', 'musician accident', 'must', 'must contain', 'must deny', 'must indoors', 'must keep', 'must yet', 'mustard', 'mustard gasand', 'mustweed', 'mustweed mi', 'mustweed recreational', 'mustweed south', 'mverbora', 'mverbora also', 'mycompassioninc', 'myfox', 'myfox legalization', 'myfox wrong', 'myotherlife', 'mzstoned', 'mzstoned mrnoblesht', 'na', 'na justfortoday', 'namelythc', 'namelythc tetrahydrocannabinol', 'names', 'names dont', 'nanosphere', 'nanosphere develops', 'narcissistic', 'narcissistic sociopath', 'narcotic', 'narcotic cannabis', 'narcotic poison', 'narcotics', 'narcotics act', 'narcotics laws', 'narcotics replacing', 'narcotics service', 'narrow', 'narrow without', 'nat', 'nat gas', 'nation', 'nation legalize', 'nation world', 'national', 'national addictions', 'national assembly', 'national cannabis', 'national legislative', 'nationals', 'nationals tak', 'nationalsafedrivingweek', 'nationalsafedrivingweek talk', 'natural', 'natural medication', 'natural plantbased', 'natural substances', 'naturalhealth', 'naturalhealth depression', 'naturals', 'naturals provides', 'nature', 'nature got', 'nausea', 'nausea depression', 'navigated', 'navigated murky', 'nbclindsay', 'nbclindsay phew', 'nbcwashington', 'nbcwashington six', 'nbev', 'nbev cron', 'nc', 'nc every', 'nc representative', 'nd', 'nd amendment', 'ndas', 'near', 'near let', 'near north', 'nearly', 'nearly elliminated', 'nearly harmless', 'nearly killed', 'nearly times', 'nearly year', 'neck', 'neck try', 'need', 'need able', 'need access', 'need adapt', 'need authorities', 'need brave', 'need consider', 'need context', 'need doritos', 'need employment', 'need get', 'need help', 'need kiddo', 'need know', 'need legislative', 'need less', 'need like', 'need look', 'need marijuana', 'need medical', 'need nonaddictive', 'need people', 'need pictwittercomtrbhgqbc', 'need real', 'need receive', 'need ride', 'need simple', 'need something', 'need stop', 'need think', 'need use', 'need wall', 'needed', 'needed legalu', 'needlessly', 'needlessly died', 'needs', 'needs medicinal', 'needs police', 'needs stop', 'needs wheelchair', 'negative', 'negative health', 'negatives', 'negatives proven', 'neglected', 'neglected marksaplang', 'neighborhood', 'neighborhood favor', 'neighbors', 'neighbors asked', 'neighbors yard', 'neither', 'neither kpopkhh', 'nervous', 'nervous didnt', 'netflix', 'netflix never', 'network', 'network accessible', 'network distributed', 'neurological', 'neurological conditions', 'neuropathic', 'neuropathic physical', 'neuropathicpain', 'neuropathicpain crohnsdisease', 'never', 'never accepted', 'never anyone', 'never boggles', 'never criminalized', 'never cross', 'never delete', 'never estimate', 'never ever', 'never expected', 'never experimented', 'never illegal', 'never killed', 'never know', 'never run', 'never touch', 'never tried', 'never used', 'new', 'new bill', 'new bohemians', 'new cbd', 'new competitors', 'new concerns', 'new governor', 'new instagram', 'new intraoral', 'new jersey', 'new led', 'new legalization', 'new marijuana', 'new market', 'new meaning', 'new mexico', 'new mexicos', 'new michigan', 'new motion', 'new penalties', 'new post', 'new products', 'new report', 'new stronger', 'new study', 'new thalidomide', 'new times', 'new toolbox', 'new ubc', 'new way', 'new york', 'new zealand', 'newest', 'newest medical', 'newjersey', 'newjersey lawmakers', 'newjersey making', 'news', 'news available', 'news culture', 'news department', 'news east', 'news ethical', 'news marijuana', 'news people', 'news press', 'news recreational', 'news south', 'newsian', 'newsian crackmacs', 'newsletter', 'newsletter need', 'newsnj', 'newsnj murphy', 'newsnug', 'newsnug mormon', 'newsnug worldreefers', 'newsworthy', 'newsworthy headline', 'newton', 'newton rejecting', 'newyork', 'newyork health', 'newyork miami', 'next', 'next couple', 'next door', 'next heroin', 'next kentucky', 'next legalise', 'next podcast', 'next state', 'next time', 'next year', 'nfl', 'nfl players', 'nfl running', 'nfl teams', 'nhl', 'nhl changing', 'nhs', 'nhs denying', 'nhs england', 'nhs told', 'nice', 'nice cant', 'nice piece', 'nice shout', 'nichecanada', 'nichecanada hexo', 'nichecioc', 'nichecioc vancouvercannabis', 'nickjvar', 'nickjvar iamcnnu', 'nickkovacevich', 'nickkovacevich cbdbased', 'niece', 'niece suffers', 'night', 'night ban', 'night district', 'night found', 'night medical', 'night neighbors', 'nightmare', 'nightmare tokes', 'nights', 'nights rest', 'nikolaspham', 'nikolaspham kylelapp', 'nixons', 'nixons medical', 'nj', 'nj became', 'nj bill', 'nj cbsnewyork', 'nj grant', 'nj kimguadagnonj', 'nj lawmakers', 'nj legalizing', 'nj legislature', 'nj spotlight', 'nj va', 'njcannabismedia', 'njcannabismedia latest', 'njleg', 'nobody', 'nobody help', 'nobody path', 'non', 'non medical', 'non medicinal', 'non synthetic', 'nonaddictive', 'nonaddictive therapies', 'nonaddictive thoughts', 'nonalcoholic', 'nonalcoholic fatty', 'nondrug', 'nondrug users', 'none', 'nonsense', 'nonsense surrounds', 'norfolkpolice', 'normal', 'normal bp', 'normalization', 'normalization well', 'normalize', 'normalize dogs', 'normalnow', 'normalnow daveweigel', 'normalnow im', 'norml', 'norml canadas', 'north', 'north carolina', 'north dakotans', 'north platte', 'north wales', 'northampton', 'northampton leicester', 'northlandvapor', 'northlandvapor prageru', 'northport', 'northport library', 'northwalespcc', 'northwalespcc irresponsible', 'northwalespcc pcc', 'note', 'note self', 'nothing', 'nothing changed', 'nothing new', 'noticed', 'noticed rarely', 'notkyla', 'notkyla lee', 'notoriousbeg', 'notoriousbeg huwpenylan', 'notwill', 'notwill change', 'notworthit', 'notworthit fatal', 'notworththerisk', 'notworththerisk drugwipeuk', 'nov', 'nov lkekannabis', 'novel', 'novel product', 'november', 'november th', 'noxignorance', 'noxignorance live', 'nspoli', 'nspoli bcpoli', 'number', 'number different', 'number false', 'number states', 'numbers', 'nuneaton', 'nuneaton town', 'nv', 'nv state', 'ny', 'ny mmjprogram', 'ny older', 'ny recreational', 'nycanna', 'nycanna flips', 'nydailynews', 'nyhammond', 'nyhammond medical', 'nypd', 'nypd announced', 'nypmetro', 'nys', 'nytimes', 'nytimes reuters', 'nytimes tried', 'oacpofficial', 'oacpofficial onsafety', 'obligation', 'obligation cover', 'observ', 'obtainable', 'obtainable adults', 'obtained', 'obtained dontdrugdrive', 'obtaining', 'obtaining medical', 'obviously', 'obviously dont', 'obviously gonna', 'obviously im', 'ocasio', 'ocasio keep', 'october', 'october cannabis', 'october come', 'october marijuana', 'ofc', 'ofc pizarro', 'offence', 'offence officer', 'offences', 'offences driver', 'offense', 'offense block', 'offenses', 'offenses since', 'offensive', 'offensive weapon', 'offer', 'offer cbd', 'offer medical', 'offer travelers', 'offer widest', 'offering', 'offering course', 'offering hope', 'offering medical', 'offers', 'offers limited', 'offers medicinal', 'office', 'office visits', 'officer', 'officer determines', 'officers', 'officers camdentown', 'officers stop', 'officers violent', 'official', 'official december', 'official recreational', 'official thumbs', 'officially', 'officially become', 'officially legal', 'officially legalized', 'officials', 'officials bring', 'offs', 'offs recreational', 'offset', 'offset growing', 'offspring', 'offspring age', 'offspring cohort', 'often', 'often alcohol', 'often prevented', 'ogogorodelta', 'ogogorodelta guess', 'oh', 'oh cannabis', 'oh okay', 'ohamkrw', 'ohamkrw would', 'ohigho', 'ohio', 'ohio fact', 'ohio medical', 'ohio picks', 'ohio relying', 'ohmes', 'ohmes finally', 'ohmes right', 'ohmes wonder', 'oil', 'oil absorbed', 'oil amp', 'oil available', 'oil benefits', 'oil class', 'oil dosage', 'oil gas', 'oil incredible', 'oil injury', 'oil interested', 'oil keeps', 'oil opportunity', 'oil pain', 'oil really', 'oil schedule', 'oil shelter', 'oil try', 'oils', 'oils edibles', 'oils hemp', 'oilsvape', 'oilsvape penscbd', 'oise', 'oise hm', 'ok', 'ok fuck', 'ok yeah', 'okay', 'okay korea', 'okay looked', 'okay south', 'oklahoma', 'oklahoma lawmakers', 'oklahoma voted', 'oks', 'oks recreational', 'old', 'old male', 'old shit', 'old thank', 'old war', 'older', 'older suffering', 'olds', 'olds medical', 'omg', 'omg amazing', 'omg im', 'omg medicinal', 'omohtee', 'omohtee tinatinny', 'one', 'one best', 'one brain', 'one canadas', 'one choose', 'one cocaine', 'one common', 'one crimes', 'one dangerous', 'one day', 'one destroy', 'one drug', 'one encourages', 'one ever', 'one get', 'one healthy', 'one im', 'one incredible', 'one list', 'one many', 'one month', 'one papas', 'one qualify', 'one remember', 'one safest', 'one smart', 'one south', 'one stateapproved', 'one step', 'one trick', 'one whole', 'one youre', 'one youve', 'ongoing', 'ongoing controversy', 'online', 'online engagement', 'online library', 'online nichecanada', 'onpoli', 'onroadsafety', 'onroadsafety impairedisimpaired', 'onsafety', 'onsafety cpweek', 'onset', 'onset greater', 'ontario', 'ontario government', 'onto', 'onto provincial', 'onto yrs', 'op', 'op addict', 'op vulture', 'open', 'open business', 'open door', 'open doors', 'open expect', 'open eyes', 'open floodgates', 'open government', 'open maybe', 'open th', 'opening', 'opening door', 'opening retail', 'openly', 'openly use', 'opens', 'opens brattleboro', 'opens doors', 'opens midtowngtgt', 'operation', 'operation time', 'operationrednose', 'operationrednose help', 'opiate', 'opiate epidemic', 'opiate users', 'opiates', 'opiates hardly', 'opiates unless', 'opinion', 'opinion marijuana', 'opiod', 'opiod crisis', 'opiod crisishas', 'opiod epidemic', 'opioid', 'opioid addiction', 'opioid addictionyoure', 'opioid overdose', 'opioid overdoses', 'opioid use', 'opioidrelated', 'opioidrelated overdose', 'opioids', 'opioids company', 'opioids especially', 'opioids question', 'opitox', 'opitox foxnews', 'opmoonshotcity', 'opmoonshotcity distupt', 'opp', 'opp tools', 'opportunities', 'opportunities cbd', 'opportunity', 'opportunity explore', 'opportunity last', 'opportunity try', 'opposed', 'opposed medical', 'opposes', 'opposes legal', 'opposing', 'opposing commercialization', 'opposing michigan', 'opposition', 'opposition newsnug', 'opposition states', 'option', 'option maryland', 'option veterans', 'options', 'options call', 'options could', 'options proven', 'opts', 'opts medical', 'oral', 'oral spray', 'orange', 'orange diesel', 'orange smooth', 'order', 'order mailordermarijuana', 'order medical', 'ordered', 'ordered surrender', 'ordering', 'ordering pizza', 'oregon', 'oregon many', 'oregon public', 'organic', 'organic life', 'organic medical', 'organised', 'organised crime', 'organizationselements', 'organizationselements oacpofficial', 'organized', 'organized crime', 'orgcouncil', 'orgcouncil perspective', 'origin', 'origin house', 'originhouseoh', 'originhouseoh afzalutely', 'orlando', 'orlando weekly', 'oshawaontariocanada', 'oshawaontariocanada plantnowi', 'others', 'others seeing', 'otherwise', 'otherwise across', 'otherwise old', 'othet', 'othet hand', 'ounce', 'ounce recreational', 'ounce scam', 'ounce week', 'ounces', 'ounces marijuana', 'outburst', 'outburst going', 'outcomes', 'outcomes month', 'outdoor', 'outdoor growing', 'outofstate', 'outofstate workers', 'outright', 'outright discrimination', 'outside', 'outside dispensary', 'outside gm', 'outside sphere', 'outside weve', 'outweigh', 'outweigh risks', 'overall', 'overall wellness', 'overcame', 'overcame petty', 'overdose', 'overdose death', 'overdose deaths', 'overdose die', 'overdose means', 'overdose rates', 'overdose recreational', 'overdoses', 'overdoses thing', 'overdue', 'overdue benefits', 'overdue fact', 'overhaul', 'overhaul make', 'overseas', 'overseas firms', 'overseas useful', 'overwhelmed', 'overwhelmed today', 'owner', 'owners', 'owners aware', 'owners federal', 'owners know', 'ownership', 'ownership firearms', 'oxycontin', 'oxycontin vicadin', 'oz', 'oz per', 'ozhemprocks', 'ozhemprocks mrobertsqld', 'package', 'package things', 'padems', 'padems governortomwolf', 'page', 'pagop', 'pagop padems', 'paid', 'paid alcohol', 'paid family', 'paige', 'paige huge', 'pain', 'pain anxiety', 'pain boasting', 'pain brother', 'pain cannabis', 'pain cannot', 'pain chronic', 'pain constantly', 'pain designing', 'pain ef', 'pain falling', 'pain frequent', 'pain give', 'pain medical', 'pain medication', 'pain meds', 'pain migraines', 'pain multiplesclerosis', 'pain neuropathic', 'pain never', 'pain ny', 'pain ok', 'pain one', 'pain opiates', 'pain patients', 'pain recovery', 'pain related', 'pain relief', 'pain relieving', 'pain seeing', 'pain shes', 'pain stated', 'pain symptoms', 'pain visible', 'pain wont', 'pains', 'pains insomnia', 'painsleepanxiety', 'painting', 'painting wana', 'pair', 'pair cannabis', 'pair legalization', 'pairsonnalitesu', 'pairsonnalitesu stigmabase', 'panel', 'panel crotononhudson', 'panel oks', 'panel starting', 'panels', 'panels senate', 'panic', 'panic around', 'panic disorders', 'papas', 'papas billboards', 'paper', 'paper legalizing', 'par', 'par course', 'paranoia', 'paranoia impairment', 'paranoid', 'paranoid visionary', 'parental', 'parental cannabis', 'parents', 'parents smoke', 'parents split', 'parentsguardians', 'parentsguardians havent', 'parliament', 'parliament almost', 'parliament cannabis', 'parliamentary', 'parliamentary motion', 'part', 'part cannabis', 'part effort', 'part expomedeweed', 'part hanyak', 'part hazard', 'part panel', 'part sons', 'part work', 'partially', 'partially fault', 'particularly', 'particularly psychosis', 'partnered', 'partnered mcmaster', 'partnering', 'partnering major', 'parts', 'parts cannabis', 'pass', 'pass bill', 'pass legislatio', 'pass legislative', 'pass marijuana', 'pass senate', 'pass thr', 'passed', 'passed legislation', 'passed prop', 'passenger', 'passenger also', 'passes', 'passes bill', 'passes legislative', 'passes recreational', 'passing', 'passing law', 'passionate', 'passionate cannabis', 'past', 'past criminal', 'past previous', 'past years', 'patents', 'patents foreign', 'paternal', 'paternal cannabis', 'path', 'path become', 'path legalising', 'path partnering', 'path pub', 'patient', 'patient advocates', 'patient care', 'patient deliveries', 'patient id', 'patient learn', 'patient physicians', 'patient qualifying', 'patient relationship', 'patient respect', 'patient today', 'patiently', 'patiently wait', 'patients', 'patients access', 'patients ask', 'patients ct', 'patients cut', 'patients decrease', 'patients details', 'patients dont', 'patients drug', 'patients easier', 'patients go', 'patients help', 'patients join', 'patients low', 'patients lower', 'patients making', 'patients migraines', 'patients need', 'patients new', 'patients ny', 'patients per', 'patients quality', 'patients recreational', 'patients seeking', 'patients step', 'patients whose', 'paved', 'paved way', 'pay', 'pay alcoholics', 'pay mentally', 'pay product', 'paying', 'paying taxes', 'pays', 'pays entire', 'pc', 'pc fatal', 'pc pc', 'pcc', 'pcc seeing', 'pccs', 'pccs mps', 'pd', 'pd jac', 'peace', 'peace us', 'peacefully', 'peacefully demi', 'peer', 'peer cannabis', 'pei', 'pei clear', 'penalties', 'penalties cannabis', 'penalties impaired', 'penalties include', 'penalties people', 'penalty', 'penalty anybody', 'penclawdd', 'penclawdd found', 'pending', 'pens', 'pens available', 'pens much', 'pens top', 'penscbd', 'penscbd honeychiro', 'pensionamp', 'pensionamp issues', 'people', 'people admitted', 'people anxiety', 'people arrested', 'people benefits', 'people board', 'people break', 'people buy', 'people caught', 'people complain', 'people consume', 'people discovering', 'people docile', 'people dont', 'people drugs', 'people explores', 'people fixed', 'people get', 'people grow', 'people hate', 'people increasingly', 'people influence', 'people insist', 'people lazy', 'people like', 'people lowlevel', 'people medical', 'people narcotics', 'people need', 'people needlessly', 'people promoting', 'people prosecuted', 'people relax', 'people right', 'people set', 'people severe', 'people south', 'people starting', 'people struggling', 'people talked', 'people theyre', 'people urinating', 'people use', 'people various', 'people veterans', 'people well', 'people whod', 'people wouldnt', 'per', 'per month', 'per patient', 'per study', 'perceived', 'perceived traditionally', 'percent', 'percent colorado', 'percent jayweber', 'percent rt', 'perfect', 'perfect comparison', 'perfectly', 'perfectly fine', 'perform', 'perform national', 'performance', 'performance poor', 'perhaps', 'perhaps battle', 'perhaps reality', 'period', 'period cannabis', 'period ending', 'period indeed', 'periscopetv', 'periscopetv rickilake', 'permanent', 'permanent medical', 'permanent resident', 'perpetuate', 'perpetuate selling', 'perpetuated', 'perpetuated marijuana', 'person', 'person disability', 'person high', 'person investigate', 'person let', 'personal', 'personal use', 'personally', 'personally licensed', 'perspective', 'perspective growers', 'perspective see', 'perspective stvincent', 'persuade', 'persuade switch', 'pesticide', 'pesticide toxin', 'pesticides', 'pesticides mold', 'pet', 'pet accidentally', 'pet owners', 'petergrinspoon', 'petergrinspoon jongiftosmd', 'peterjonathanna', 'peterjonathanna south', 'petermartin', 'petermartin margokingston', 'petition', 'petition allow', 'petition calling', 'petition health', 'petition medical', 'petition petition', 'petition put', 'petition via', 'pets', 'pets important', 'pets legalization', 'petty', 'petty shit', 'pharma', 'pharma influence', 'pharma meds', 'pharmaceutical', 'pharmaceutical prescription', 'pharmaceuticals', 'pharmaceuticals medical', 'pharmaceuticals without', 'pharmacist', 'pharmacist patient', 'pharmacists', 'pharmacists help', 'pharmacists wont', 'pharmacy', 'pharmacy specialist', 'phew', 'phillys', 'phillys first', 'philmurphy', 'philmurphy supports', 'phoenix', 'phoenix new', 'phrase', 'phrase im', 'physical', 'physical addiction', 'physical condition', 'physical health', 'physical pain', 'physical violence', 'physically', 'physically nonaddictive', 'physician', 'physician know', 'physicians', 'physicians allowing', 'physicians hold', 'physicians yet', 'physiological', 'physiological effects', 'pick', 'pick among', 'pick korean', 'pick recreational', 'picks', 'picks large', 'pictwittercomklwuuxsnt', 'pictwittercomsbvbfqrw', 'pictwittercomtrbhgqbc', 'piece', 'piece rollingstone', 'pills', 'pills mental', 'pills put', 'pilot', 'pilot studies', 'pineapple', 'pineapple express', 'pinesol', 'pinesol amp', 'pineycitrus', 'pineycitrus aroma', 'pinned', 'pinned instagram', 'pinpoint', 'pinpoint cbd', 'pinpoint medical', 'pizarro', 'pizarro conducted', 'pizza', 'place', 'place debate', 'place narcotic', 'place went', 'placed', 'places', 'places american', 'plaids', 'plaids leannewood', 'plan', 'plan ahead', 'plan legalize', 'plans', 'plans seminars', 'plant', 'plant extract', 'plant marijuana', 'plant medical', 'plant opens', 'plant relieves', 'plant suit', 'plant unique', 'plant used', 'plant yall', 'plantbased', 'plantbased alternative', 'planted', 'planted head', 'planted marijuana', 'plantnowi', 'plantnowi see', 'plants', 'plants florida', 'plants genome', 'plants indoors', 'plants personal', 'plants use', 'platte', 'play', 'play comes', 'play kids', 'play requires', 'player', 'player hs', 'players', 'players cbdivahealth', 'playing', 'playing rules', 'playlist', 'playlist hydrosoil', 'plead', 'plead case', 'please', 'please also', 'please black', 'please check', 'please donate', 'please help', 'please legalize', 'please post', 'please pray', 'please read', 'please shes', 'please sign', 'please spread', 'please stop', 'please take', 'please visit', 'please work', 'pleased', 'pleased shown', 'pleased wayland', 'pleasure', 'pleasure part', 'ples', 'ples offspring', 'plus', 'plus dont', 'plus tyle', 'pm', 'pm complete', 'po', 'podcast', 'podcast debate', 'podcast episode', 'podcast staytuned', 'point', 'point consulting', 'point drug', 'point garden', 'pointless', 'pointless prohibiting', 'points', 'points last', 'points remain', 'poised', 'poised become', 'poison', 'poison drug', 'poisonouspearl', 'poisonouspearl victoriaxxviii', 'police', 'police aggravated', 'police bust', 'police caught', 'police crime', 'police detect', 'police dogs', 'police early', 'police ks', 'police protect', 'police say', 'police seen', 'police stop', 'policies', 'policies keep', 'policies penalties', 'policies upcoming', 'policies world', 'policing', 'policing across', 'policing drugs', 'policing unit', 'policy', 'policy options', 'political', 'political ad', 'political cartoon', 'political cornflakes', 'politically', 'politically connected', 'politician', 'politician tells', 'politicians', 'politicians responsible', 'politicians support', 'politicians supporting', 'pony', 'pony amp', 'poor', 'poor quality', 'poor sleep', 'pop', 'pop amid', 'popping', 'popping around', 'popping pills', 'poppot', 'poppot psychosis', 'popular', 'popular belief', 'popular demand', 'popularity', 'popularity health', 'port', 'port officials', 'portpolice', 'portpolice fatal', 'poses', 'poses risk', 'poses significant', 'position', 'position cura', 'positive', 'positive cannabis', 'positive change', 'positive drug', 'positive drugwipeuk', 'positive event', 'positive fed', 'positive jac', 'positive response', 'positively', 'positively impacts', 'poss', 'poss cannabis', 'possessing', 'possessing cannabis', 'possession', 'possession cannabis', 'possession class', 'possession grams', 'possession knife', 'possession marijuana', 'possession offensive', 'possession small', 'possible', 'possible class', 'possible vehicle', 'post', 'post bottom', 'post cannabis', 'post comment', 'post greece', 'post jokes', 'post police', 'post publicly', 'post south', 'poster', 'poster child', 'postlegalization', 'postlegalization seeing', 'postlegalization surprising', 'posts', 'posts like', 'pot', 'pot another', 'pot died', 'pot doesnt', 'pot effect', 'pot fuelling', 'pot gold', 'pot heads', 'pot hes', 'pot listen', 'pot means', 'pot nj', 'pot parents', 'pot pills', 'pot professor', 'pot stock', 'pot stoned', 'pot use', 'potent', 'potent cannabis', 'potent edible', 'potential', 'potential antiepileptic', 'potential cannabis', 'potential could', 'potential impact', 'potential lawsuit', 'potential new', 'potential reach', 'potential revolutionise', 'potential risks', 'potential role', 'potential turning', 'potential used', 'potential worlds', 'pothead', 'pothead dies', 'potheadcoffee', 'potheads', 'potheads live', 'potheads need', 'potus', 'potus remove', 'potus understand', 'pounds', 'pounds marijuana', 'pounds stolen', 'pounds weed', 'power', 'power people', 'powerful', 'powerful reasons', 'powers', 'powers midterm', 'ppl', 'ppl act', 'pr', 'practical', 'practical aspects', 'practitioner', 'practitioner approval', 'prageru', 'prageru dont', 'pray', 'pray boy', 'pre', 'pre fluid', 'precise', 'precise dosage', 'predicted', 'predicted million', 'preferences', 'pregnancy', 'pregnancy cannabis', 'pregnancy child', 'pregnancy lol', 'pregnancy psychotic', 'preliminary', 'preliminary findings', 'premature', 'premature death', 'premature deaths', 'premiladsa', 'premiladsa via', 'prepares', 'prepares legalization', 'prescribed', 'prescribed cannabis', 'prescribed doctor', 'prescribed severely', 'prescription', 'prescription medical', 'prescription opiates', 'prescription opioid', 'prescriptions', 'prescriptions new', 'prescriptions saying', 'presence', 'presence colorado', 'presenters', 'presenters st', 'president', 'president giving', 'presidentelect', 'presidentelect says', 'press', 'press release', 'pretty', 'pretty cool', 'pretty good', 'pretty much', 'pretty town', 'prevalent', 'prevalent everywhere', 'prevent', 'prevent alzheimers', 'prevent arrests', 'prevent concussions', 'prevent longterm', 'prevent studys', 'prevent take', 'prevent treat', 'preventative', 'preventative care', 'prevented', 'prevented getting', 'prevention', 'prevention help', 'prevents', 'prevents product', 'prevents thousands', 'previous', 'previous estimates', 'previously', 'previously driver', 'previously reported', 'prices', 'prices low', 'prices lower', 'prime', 'prime minister', 'principal', 'principal advisory', 'prior', 'prior collision', 'prior year', 'prison', 'prison dont', 'private', 'private cannabis', 'private company', 'private dispensaries', 'prnewswire', 'prnewswire mjba', 'pro', 'pro patients', 'proactivepolicing', 'proactivepolicing stopandsearch', 'probably', 'probably know', 'problem', 'problem cannabis', 'problem really', 'problems', 'problems developmental', 'problems study', 'problemsolved', 'process', 'process renewing', 'process securing', 'processing', 'processing info', 'prodisease', 'prodisease influences', 'produce', 'produce medical', 'produce sedative', 'produced', 'produced cannabis', 'producer', 'producer aurora', 'product', 'product caused', 'product development', 'product never', 'product potential', 'product regulated', 'product selection', 'product shortages', 'product street', 'production', 'production distribution', 'production repeats', 'production stupid', 'products', 'products canada', 'products chronic', 'products customer', 'products czech', 'products growing', 'products improve', 'products legally', 'products medical', 'products medication', 'products medicinal', 'products multiple', 'products strains', 'products supplements', 'products theczech', 'products trustory', 'products us', 'prof', 'prof ruck', 'profession', 'profession kill', 'professional', 'professional guide', 'professional sports', 'professionals', 'professionals laughed', 'professionals look', 'professionals using', 'professor', 'professor cannabis', 'professor research', 'profiles', 'profiles favorite', 'profitable', 'profitable investment', 'profiting', 'profiting addiction', 'profits', 'profits certainly', 'profits crime', 'profits funding', 'profits hands', 'profits personally', 'profound', 'profound physiological', 'program', 'program existence', 'program ground', 'program inviting', 'program launches', 'program maryland', 'program put', 'program registration', 'program released', 'program total', 'program would', 'programs', 'programs turned', 'progress', 'progress omg', 'progress weve', 'progressing', 'progressive', 'progressive moves', 'prohealthampantidisease', 'prohealthampantidisease effects', 'prohibiting', 'prohibiting cannabis', 'prohibition', 'prohibition cannabis', 'prohibition even', 'prohibition protect', 'prohibition revealed', 'prohibition socialequity', 'prohibitionists', 'prohibitionists alcohol', 'prohibitionists keep', 'prohibitionists want', 'project', 'project called', 'project red', 'project shipments', 'project underlines', 'promiscuous', 'promiscuous yoruba', 'promising', 'promising studies', 'promote', 'promote getting', 'promote healthy', 'promotes', 'promotes better', 'promoting', 'promoting benefits', 'promoting products', 'promotion', 'promotion legal', 'promotions', 'promotions continue', 'prop', 'prop fox', 'prop recreational', 'prop voted', 'propaganda', 'propaganda make', 'propensity', 'propensity arfonj', 'properly', 'properly tested', 'properties', 'properties fluoride', 'proposal', 'proposal clear', 'proposed', 'proposed law', 'pros', 'pros cons', 'prosecuted', 'prosecuted possessing', 'prospects', 'prospects included', 'protect', 'protect alcohol', 'protect children', 'protect health', 'protect inspsouthshrops', 'protect pc', 'protecting', 'protecting health', 'protection', 'protection thanks', 'protocols', 'protocols public', 'proud', 'proud hometown', 'proud specifically', 'proud year', 'prove', 'prove causation', 'proved', 'proved positive', 'proven', 'proven effective', 'proven reduce', 'proven slow', 'proven time', 'provide', 'provide faster', 'provide interim', 'provides', 'provides evidence', 'provides healthy', 'provides manage', 'provides positive', 'provides safemedicine', 'providing', 'providing highest', 'providing positive', 'providing significant', 'provincial', 'provincial drug', 'provision', 'provision allow', 'provisioning', 'provisioning centers', 'prozac', 'prozac xanax', 'psych', 'psych ward', 'psychiatryadv', 'psychomotor', 'psychomotor controlall', 'psychopharmacology', 'psychopharmacology provides', 'psychosis', 'psychosis comes', 'psychosis direct', 'psychotic', 'psychotic break', 'psychotic depressive', 'psychotic disorders', 'psychotic like', 'psychoticdisorder', 'psychoticdisorder weightloss', 'ptsd', 'ptsd carlcannova', 'ptsd crack', 'ptsd gupta', 'ptsd symptoms', 'ptsd visit', 'pub', 'pub time', 'public', 'public broadcastings', 'public health', 'public hearing', 'public revenues', 'public safety', 'public think', 'publichealth', 'publicly', 'publicly medical', 'published', 'published pot', 'pulling', 'pulling trigger', 'pulls', 'pulls fucking', 'pump', 'pump dangling', 'pump dump', 'punished', 'punished back', 'purchase', 'purchase consume', 'purchase weed', 'purpose', 'purpose legalizing', 'purposes', 'purposes cannabis', 'purposes limited', 'purposes marijuana', 'purposes recreational', 'purposes see', 'purrrcell', 'purrrcell amandabynes', 'push', 'push expanded', 'push legalize', 'push likely', 'push loosen', 'push made', 'pushback', 'pushback maybe', 'pushes', 'pushes bill', 'pushing', 'pushing consumption', 'pushing dolly', 'put', 'put back', 'put farmers', 'put floor', 'put innocent', 'put kind', 'put medical', 'put pharma', 'put politically', 'puttin', 'putting', 'putting canadians', 'putting high', 'pyle', 'pyle vehicle', 'pylenpt', 'pylenpt rc', 'qs', 'qs let', 'qs lol', 'qu', 'qu determination', 'qualifing', 'qualifing medical', 'qualify', 'qualify treatment', 'qualifying', 'qualifying condition', 'qualifying conditions', 'quality', 'quality cannabis', 'quality cbd', 'quality differen', 'quality life', 'quality medical', 'quality medicalcannabiscbd', 'quality product', 'quality products', 'quantity', 'quantity cannabis', 'quantity raised', 'quarter', 'quarter company', 'question', 'question ever', 'question panel', 'question plaids', 'question starts', 'question states', 'questions', 'questions call', 'questions decriminalizing', 'questions didnt', 'questions giving', 'quick', 'quick remind', 'quickly', 'quickly detained', 'quietly', 'quietly serving', 'quite', 'quite bit', 'quite care', 'quo', 'quo arrest', 'quo explores', 'race', 'race fairness', 'radiationthose', 'radiationthose kill', 'radio', 'radiobenparker', 'radiobenparker wbznewsradio', 'raids', 'raids appeared', 'raids three', 'raise', 'raise revenue', 'raise safety', 'raise traffic', 'raised', 'raised new', 'raised oz', 'raising', 'raising minimum', 'ran', 'ran police', 'randall', 'randall testified', 'range', 'range quality', 'rarely', 'rarely smell', 'rate', 'rate co', 'rate fact', 'rate firm', 'rate legalized', 'rate project', 'rates', 'rates decreased', 'rates relationship', 'rates states', 'rates youth', 'rather', 'rather see', 'rather smoke', 'rats', 'rats preliminary', 'ravages', 'ravages drugs', 'ravenwolf', 'ravenwolf stephaniedejag', 'raw', 'raw cannabis', 'rc', 'rcmp', 'rcmp said', 'rcs', 'rd', 'rd december', 'rd watch', 'reach', 'reach cannabisbusiness', 'reach communities', 'reach highereducation', 'reach million', 'reaction', 'reaction psychomotor', 'reaction times', 'reactions', 'reactions impaired', 'reactions receive', 'read', 'read anxiety', 'read article', 'read couple', 'read extensive', 'read full', 'read post', 'read sweet', 'read th', 'read tracys', 'read updates', 'read via', 'reading', 'reading bill', 'reading clearly', 'reading hpra', 'reading legislation', 'reading people', 'reading smoking', 'ready', 'ready legalized', 'ready relief', 'real', 'real bad', 'real cannabis', 'real difference', 'real excitement', 'real gateway', 'real health', 'real hope', 'real hurting', 'real legal', 'realcamdavies', 'realcamdavies adamschefter', 'realdonaldtrump', 'realdonaldtrump big', 'realdonaldtrump gm', 'realdonaldtrump please', 'reality', 'reality cannabis', 'reality potheads', 'realize', 'realize completely', 'realize medicine', 'realjeffholiday', 'realjeffholiday live', 'really', 'really appreciate', 'really beginning', 'really beneficial', 'really bring', 'really dig', 'really dont', 'really finna', 'really grueling', 'really helpful', 'really hoping', 'really interesting', 'really loving', 'really recommend', 'really sad', 'really worth', 'realpaigewwe', 'realpaigewwe hey', 'reas', 'reason', 'reason ban', 'reason canadas', 'reason communities', 'reason look', 'reason need', 'reason needed', 'reason simple', 'reason support', 'reasonable', 'reasonable regulation', 'reasoning', 'reasoning tell', 'reasons', 'reasons deputy', 'reasons need', 'reasons passionate', 'reasons resist', 'rebuke', 'rebuke legalization', 'rec', 'rec contracts', 'rec pot', 'rec sales', 'reca', 'recall', 'recall correctly', 'recall days', 'recall due', 'receive', 'receive prescription', 'receive simila', 'receive whenever', 'received', 'received confirmation', 'received life', 'received positive', 'receiving', 'receiving emails', 'recent', 'recent legalization', 'recent somewhat', 'recently', 'recently legalized', 'recently warned', 'recentlyheld', 'recentlyheld general', 'recentlypassed', 'recentlypassed medical', 'receptors', 'receptors brainstem', 'reckon', 'reckon next', 'recognise', 'recognise working', 'recognize', 'recognize dependence', 'recommend', 'recommend read', 'recommend sleep', 'recommendations', 'recommendations medical', 'recommended', 'recommended book', 'recommended cooking', 'recommended medical', 'recordhigh', 'recordhigh americans', 'recover', 'recover help', 'recover pounds', 'recovery', 'recovery loaded', 'recovery major', 'recovery studys', 'recovery wsj', 'recreatio', 'recreational', 'recreational amp', 'recreational cannabis', 'recreational doses', 'recreational drug', 'recreational drugs', 'recreational keep', 'recreational legalization', 'recreational licenses', 'recreational marijuana', 'recreational medical', 'recreational pot', 'recreational purposes', 'recreational push', 'recreational sales', 'recreational side', 'recreational supplier', 'recreational use', 'recreational usebut', 'recreational user', 'recreational users', 'recreational weed', 'recreationalcannabis', 'recreationali', 'recreationali think', 'recreationalmarijuana', 'recreationalmarijuana trichromes', 'red', 'red ribbon', 'redistricting', 'redistricting gun', 'redseattlebot', 'redseattlebot worst', 'reduce', 'reduce deter', 'reduce organised', 'reduce risks', 'reduced', 'reduced opioid', 'reduces', 'reduces risk', 'reducing', 'reducing crime', 'reduction', 'reduction good', 'reductions', 'reductions dangerous', 'reductions opioidrelated', 'reflect', 'reflect youre', 'reform', 'reform increased', 'reform thinking', 'reform yes', 'reformer', 'refuses', 'refuses listen', 'regarding', 'regarding cannabis', 'regarding medical', 'regarding medicinal', 'regarding ownership', 'regards', 'regards accessible', 'regime', 'regime cannabisbased', 'regime largely', 'region', 'region despite', 'register', 'register patients', 'registering', 'registering become', 'registration', 'regular', 'regular cannabis', 'regulate', 'regulate consumption', 'regulate pain', 'regulated', 'regulated access', 'regulated cannabis', 'regulated enough', 'regulated legal', 'regulated like', 'regulated medical', 'regulated tested', 'regulatevermont', 'regulatevermont marijuanapolicy', 'regulation', 'regulation bill', 'regulation legalization', 'regulation protect', 'regulatory', 'regulatory laws', 'regulatory regime', 'rehabil', 'rehabil nov', 'rejecting', 'rejecting shabby', 'relapse', 'relapse bitcoin', 'related', 'related cannabis', 'related fibromyalgia', 'related traffic', 'relations', 'relations youth', 'relationship', 'relationship anxietydepression', 'relationship parental', 'relationships', 'relationships takes', 'relax', 'relax amp', 'relax regulatory', 'release', 'release medical', 'released', 'released roster', 'released within', 'relief', 'relief added', 'relief cbd', 'relief come', 'relief effectively', 'relief harsh', 'relief medical', 'relief stop', 'relief via', 'relief without', 'reliever', 'reliever even', 'relieves', 'relieves pain', 'relieving', 'relieving benefits', 'relieving ptsd', 'religion', 'religion dunno', 'religious', 'religious declaration', 'relying', 'relying outofstate', 'remain', 'remains', 'remains outside', 'remanded', 'remanded custody', 'remarkable', 'remarkable recovery', 'remember', 'remember pot', 'remember seeing', 'remember yrs', 'remembering', 'remembering demi', 'remind', 'remind ammonia', 'remind everyone', 'reminds', 'reminds health', 'removable', 'removable drug', 'remove', 'remove barriers', 'remove prohibition', 'remove schedule', 'removing', 'removing excise', 'rendering', 'rendering barbarian', 'renewing', 'renewing shit', 'renewing zaidyns', 'rent', 'rent one', 'rep', 'rep matt', 'repeats', 'repeats dangerous', 'replacement', 'replacement prop', 'replaces', 'replaces rendering', 'replacing', 'replacing medical', 'reply', 'reply tell', 'repor', 'report', 'report angusreidorg', 'report doesnt', 'report file', 'report mmj', 'report recreational', 'reported', 'reported recordhigh', 'reported sex', 'reported stolen', 'reported wrightpatt', 'reporting', 'reporting big', 'representative', 'representative says', 'represents', 'represents another', 'represents significant', 'represents tremendous', 'repression', 'repression open', 'reps', 'reps local', 'republic', 'republic acb', 'republic amp', 'republic aurora', 'republic cannabis', 'republic st', 'republican', 'republican caught', 'republican government', 'required', 'required firearms', 'requires', 'requires brains', 'requires medical', 'research', 'research battelle', 'research benefits', 'research bet', 'research chronic', 'research developing', 'research great', 'research medical', 'research novel', 'research potential', 'research spoke', 'research study', 'research support', 'researcher', 'researcher joins', 'researchers', 'researchers found', 'residence', 'residence across', 'resident', 'resident diagnosed', 'resident status', 'residents', 'residents crime', 'residents number', 'residents raise', 'residents register', 'residents say', 'residents try', 'residents vote', 'residents weigh', 'resignation', 'resignation us', 'resist', 'resist fashionable', 'resist temptation', 'resources', 'resources help', 'respect', 'respect share', 'respect supreme', 'respond', 'respond asked', 'response', 'response emailed', 'response residents', 'responses', 'responses enjoy', 'responsible', 'responsible investment', 'responsible safety', 'responsibly', 'responsive', 'responsive single', 'rest', 'rest learn', 'rest peacefully', 'rest us', 'rest world', 'restorativejustice', 'restorativejustice consumerrights', 'restricted', 'restricted laws', 'restricted south', 'result', 'result car', 'result providing', 'result using', 'resulted', 'resulted recovery', 'results', 'results notworthit', 'results show', 'results stop', 'results surfacing', 'retail', 'retail marijuana', 'retail medical', 'reuters', 'reuters blockchain', 'revealed', 'revealed major', 'revegging', 'revegging cannabis', 'revenue', 'revenue exceeded', 'revenue federal', 'revenue id', 'revenue making', 'revenue month', 'revenue quarter', 'revenue sale', 'revenue taking', 'revenue via', 'revenues', 'revenues fund', 'review', 'review disabil', 'revoked', 'revoked drivers', 'revolutionise', 'revolutionise cannabis', 'ribbon', 'ribbon help', 'richzeoli', 'richzeoli gives', 'rickilake', 'rickilake abbyepstein', 'rickmoraller', 'rickmoraller cnn', 'ricky', 'ricky williams', 'ride', 'ride designated', 'ride youre', 'riedle', 'riedle use', 'rifle', 'rifle also', 'right', 'right cbd', 'right circumstances', 'right direction', 'right done', 'right marijuana', 'right medicinal', 'right nichecioc', 'right question', 'right silver', 'right step', 'right support', 'right thing', 'right way', 'right works', 'rights', 'rights medical', 'rigor', 'rigor applied', 'rile', 'rile cannabisfriendly', 'rip', 'risen', 'risen fact', 'risk', 'risk cannabis', 'risk changing', 'risk criminalisation', 'risk factor', 'risk interacting', 'risk know', 'risk mental', 'risk need', 'risk nonalcoholic', 'risk ples', 'risk progress', 'risk stroke', 'risk taking', 'risk transplantation', 'risks', 'risks gblainny', 'risks pet', 'risks pets', 'risks signs', 'risks simply', 'risks talking', 'risks thisispublichealth', 'risks veterinarian', 'risks yes', 'risksbenefits', 'risksbenefits clearly', 'risksdeveloping', 'risksdeveloping canceralzheimers', 'ritalin', 'ritalin aderol', 'rj', 'rj ab', 'rmd', 'rmd coming', 'rmsawakening', 'roach', 'roach oh', 'road', 'road arrested', 'road safety', 'road wood', 'roads', 'roads impairedisimpaired', 'roads policing', 'roadside', 'roadside drugwipeuk', 'roadside long', 'robbery', 'robbery attempt', 'robert', 'robert randall', 'robinetjoe', 'robinetjoe youtube', 'robmkendall', 'robmkendall indianas', 'rocket', 'rocket blowing', 'rocks', 'rocks oils', 'rodales', 'rodales organic', 'rok', 'rokhanna', 'rokhanna michigan', 'role', 'role mariju', 'role sports', 'roll', 'roll medical', 'rolling', 'rolling stone', 'rollingstone', 'rollingstone highlighting', 'rollodeq', 'rollodeq sales', 'rollout', 'rollout medical', 'rolls', 'rolls san', 'romaine', 'romaine lettuce', 'room', 'room visits', 'room yesterday', 'roop', 'roster', 'roster physicians', 'rosy', 'rosy lack', 'round', 'round soft', 'route', 'route cannabis', 'routes', 'routes young', 'routine', 'routine traffic', 'rowland', 'rowland lot', 'rowland principal', 'rt', 'rt alternatemeded', 'rt andrewkittle', 'rt andrxwlxnn', 'rt aphriainc', 'rt billdittrich', 'rt calph', 'rt cannabisbiznews', 'rt cannabislawohio', 'rt cannabisstudies', 'rt cannaspecialist', 'rt cbinsights', 'rt cbtmag', 'rt cherylnunn', 'rt chronicblogs', 'rt clarkemicah', 'rt cmwmedia', 'rt cyprusmail', 'rt davidc', 'rt davidrheins', 'rt dfcrorg', 'rt dmvsredbonerebl', 'rt doriandargan', 'rt drfranklive', 'rt drugpolicyaz', 'rt expresscbd', 'rt ganjapreneur', 'rt gordonslife', 'rt graijoseph', 'rt grantpa', 'rt gruntlelife', 'rt helppsychosis', 'rt herbworthy', 'rt hightimesmag', 'rt hollyweednorth', 'rt honourablehappy', 'rt hopegrown', 'rt icsativapodcast', 'rt imgadgett', 'rt jacktemp', 'rt javierhasse', 'rt jayweber', 'rt jeremyolander', 'rt jimmoran', 'rt joethepikr', 'rt junglestrikeguy', 'rt justblaisee', 'rt jvprny', 'rt kardcanada', 'rt kimringtg', 'rt liza', 'rt matthabusby', 'rt mattpmaurer', 'rt mediaicov', 'rt medmarijcardaz', 'rt miamicannabis', 'rt mikephager', 'rt mirandajwillson', 'rt mmpconnect', 'rt mossmo', 'rt nbclindsay', 'rt nbcwashington', 'rt newsnug', 'rt nickkovacevich', 'rt njcannabismedia', 'rt nyhammond', 'rt orgcouncil', 'rt pairsonnalitesu', 'rt peterjonathanna', 'rt propensity', 'rt redseattlebot', 'rt rmsawakening', 'rt robmkendall', 'rt rokhanna', 'rt rollodeq', 'rt saksithcna', 'rt seedbankme', 'rt shelbaaabe', 'rt slicecomm', 'rt sllizs', 'rt sltrib', 'rt speedweed', 'rt ssaaddiction', 'rt tauhidchappell', 'rt tay', 'rt tgtv', 'rt thecbdinsider', 'rt thegarden', 'rt therealmannwell', 'rt thewire', 'rt thommenjose', 'rt toninobologny', 'rt toxicreverend', 'rt ualbertasph', 'rt ukmccs', 'rt unitymarguerite', 'rt usveteran', 'rt vetscannabisc', 'rt votemadsen', 'rt whyzguy', 'rt wndu', 'rt wsbt', 'rteprimetime', 'rteprimetime medical', 'rteprimetime non', 'rubbish', 'rubbish sense', 'ruck', 'ruck one', 'ruin', 'ruin fun', 'ruined', 'ruined future', 'ruining', 'ruining lives', 'ruining society', 'ruled', 'ruled absolute', 'rules', 'rules allow', 'rules including', 'rules lb', 'rules limiting', 'rules medical', 'rules rile', 'rules would', 'rumor', 'rumor either', 'run', 'run dispensaries', 'run doctors', 'run seunghyun', 'run youre', 'runner', 'runner though', 'running', 'running back', 'running green', 'rush', 'rush legalise', 'rxs', 'rxs day', 'sad', 'sad illinformed', 'sad made', 'sad man', 'sad political', 'safe', 'safe healthy', 'safe medication', 'safe pain', 'safe safer', 'safe zone', 'safemedicine', 'safemedicine positively', 'safer', 'safer cannabis', 'safer liquor', 'safer medications', 'safer treatment', 'safer weakest', 'saferroads', 'saferroads fatal', 'safest', 'safest effective', 'safety', 'safety canadiansto', 'safety concerns', 'safety efficacy', 'safety features', 'safety first', 'safety mind', 'safety onroadsafety', 'safety risk', 'said', 'said anyone', 'said business', 'said feel', 'said marijuana', 'said must', 'said opinion', 'said parentsguardians', 'said pleased', 'said rubbish', 'said tell', 'said utahns', 'said worries', 'said yeg', 'saksithcna', 'saksithcna thai', 'sale', 'sale blunt', 'sale cannabis', 'sales', 'sales begin', 'sales booming', 'sales continue', 'sales could', 'sales early', 'sales harvesting', 'sales kicked', 'sales last', 'sales maryland', 'sales massachusetts', 'sales predicted', 'sales raise', 'sales recreational', 'sales say', 'sales surpasses', 'sales surpassing', 'sales tax', 'sales thank', 'sales utlegs', 'sales via', 'sam', 'sam francisco', 'sam girl', 'sameday', 'sameday medical', 'sampb', 'sampb thrilled', 'sample', 'sample obtained', 'san', 'san francisco', 'sandygalef', 'sandygalef examines', 'sat', 'sat northport', 'sativex', 'sativex help', 'save', 'save life', 'saved', 'saved law', 'saved life', 'saw', 'saw display', 'saw patients', 'saw sad', 'saw seei', 'say', 'say black', 'say cannabis', 'say dont', 'say learned', 'say legalize', 'say masslivenews', 'say must', 'say sign', 'say star', 'say thank', 'say theyve', 'say toronto', 'saycannabischicago', 'saycannabischicago cannabisbusiness', 'saying', 'saying patient', 'saying shit', 'says', 'says alright', 'says campaigns', 'says cannabis', 'says danger', 'says depression', 'says government', 'says legal', 'says marijuana', 'says risks', 'says whateversusan', 'says wncn', 'scam', 'scam tasted', 'scapegoating', 'scapegoating cannabis', 'scare', 'scare tactics', 'schedule', 'schedule classification', 'schedule drug', 'schedule meaning', 'schedule one', 'schedule period', 'scheduled', 'scheduled however', 'schedules', 'schedules place', 'scheme', 'scheme medical', 'scholar', 'scholar havent', 'school', 'school youre', 'schools', 'schools anxiety', 'science', 'science benefits', 'science finally', 'science institute', 'science study', 'scientific', 'scientific evidence', 'scientific medical', 'scientific rigor', 'scientifically', 'scientifically proven', 'scientists', 'scientists looking', 'scientists pinpoint', 'scientists see', 'scoping', 'scoping review', 'scott', 'scott sheppard', 'screen', 'screen article', 'screening', 'screening medtwitter', 'search', 'search myotherlife', 'search two', 'search vehicle', 'searched', 'searched males', 'searchlight', 'searchlight news', 'season', 'season dont', 'season full', 'seat', 'seat amp', 'seat stop', 'seattletimes', 'seattletimes washington', 'second', 'second nation', 'second newsworthy', 'second shipment', 'second time', 'second wind', 'secondary', 'secondary harm', 'secondshiftoutwithnewhandler', 'secondshiftoutwithnewhandler pictwittercomsbvbfqrw', 'secret', 'secret recreational', 'secure', 'secure employment', 'securing', 'securing recreational', 'sedative', 'sedative effects', 'see', 'see attorney', 'see calling', 'see day', 'see dedicated', 'see family', 'see faves', 'see issue', 'see look', 'see loved', 'see many', 'see medical', 'see new', 'see people', 'see point', 'see posts', 'see potential', 'see real', 'see reasonable', 'see video', 'see weed', 'seed', 'seed planted', 'seedbankme', 'seedbankme effect', 'seeds', 'seeds fuels', 'seeds hash', 'seeds honestly', 'seeds sales', 'seei', 'seei perform', 'seeing', 'seeing benefits', 'seeing failed', 'seeing irplawyer', 'seeing medical', 'seeing opportunity', 'seeing reductions', 'seeing video', 'seek', 'seek medical', 'seek religion', 'seeking', 'seeking ignorant', 'seeking jobs', 'seemed', 'seemed unthinkable', 'seems', 'seems quite', 'seems small', 'seen', 'seen breakthrough', 'seen cbd', 'seen discard', 'seen harassment', 'seen multiple', 'seen spike', 'sehrbear', 'sehrbear decriminalize', 'seized', 'seized police', 'seized tax', 'seizure', 'seizure counting', 'seizure team', 'seizures', 'seizures chronic', 'seizures month', 'seizures since', 'seizures speaks', 'seizures suggested', 'seizures used', 'selection', 'selection represents', 'self', 'self control', 'self never', 'sell', 'sell block', 'sell illegally', 'sell marijuana', 'selling', 'selling drugs', 'selling illegally', 'selling medical', 'selling right', 'seminars', 'seminars run', 'sen', 'sen mitch', 'senate', 'senate assembly', 'senate committee', 'senate floor', 'senate nj', 'senate votes', 'senatemajldr', 'senatemajldr make', 'senatorscutari', 'senatorscutari stevesweeneynj', 'seniors', 'seniors high', 'seniors medical', 'sense', 'sense medical', 'sense smell', 'sensible', 'sensible cannabis', 'sensibly', 'sensibly voted', 'sent', 'sent email', 'sent full', 'sent way', 'sentence', 'sentence growing', 'sentence know', 'sentences', 'sentences better', 'sentencing', 'sentencing awaits', 'seoul', 'seoul south', 'separate', 'separate panels', 'separate traffic', 'sept', 'sept exceeded', 'serious', 'serious criminal', 'serious injuries', 'serious legal', 'serious revenue', 'seriously', 'seriously ill', 'serves', 'serves experiment', 'service', 'service dog', 'services', 'services medical', 'serving', 'serving cannabusinesses', 'session', 'session raising', 'session via', 'sessions', 'sessions represents', 'set', 'set dosage', 'set open', 'set voted', 'setourbrothersfree', 'sets', 'sets recreational', 'seunghyun', 'seunghyun check', 'seunghyun smoked', 'several', 'several states', 'severe', 'severe cases', 'severe illnesses', 'severely', 'severely epileptic', 'severely ill', 'sex', 'sex amp', 'sex never', 'sex thanks', 'sexual', 'sexual frequencyin', 'sexual performance', 'sfolks', 'sfolks boomers', 'sgottliebfda', 'sgottliebfda absolutely', 'sgtchrisharris', 'sh', 'shabby', 'shabby campaign', 'shagged', 'shagged people', 'shakes', 'shakes medical', 'shaleentitle', 'shaleentitle appreciate', 'shamanicreiki', 'shamanicreiki really', 'shame', 'shame see', 'shape', 'shape get', 'shaping', 'shaping local', 'share', 'share best', 'share many', 'share ride', 'share unb', 'shares', 'shares pros', 'sharing', 'sharing faith', 'sharpen', 'sharpen memory', 'shatterwax', 'shatterwax vapescartridges', 'shawnee', 'shelbaaabe', 'shelbaaabe amanda', 'shelter', 'shelter vape', 'sheppard', 'sheppard says', 'shes', 'shes also', 'shes best', 'shes front', 'shielded', 'shielded physicians', 'shiiid', 'shiiid kansas', 'shiney', 'shiney keys', 'ship', 'ship medical', 'shipment', 'shipment medical', 'shipment us', 'shipments', 'shipments continue', 'shit', 'shit dont', 'shit lmao', 'shit lol', 'shit medical', 'shit people', 'shit working', 'sho', 'shocked', 'shocked south', 'shoot', 'shoot school', 'shop', 'shop mission', 'shop next', 'shops', 'shops open', 'short', 'short sighted', 'shortage', 'shortage medical', 'shortages', 'shortages licensing', 'shot', 'shot pulling', 'shotgun', 'shotgun blast', 'shoukd', 'shoukd legal', 'shouldnt', 'shouldnt agains', 'shouldnt schedule', 'shout', 'shout aurorammj', 'shouting', 'shouting clouds', 'show', 'show driver', 'show hard', 'show medical', 'showing', 'showing nonsense', 'shown', 'shown letter', 'shown marijuana', 'shown produce', 'shows', 'shows absolutely', 'shows decrease', 'shows medical', 'shropshire', 'shropshire div', 'shzamm', 'shzamm jordanbpeterson', 'sick', 'sick cannabis', 'sick citizens', 'sick co', 'sick people', 'sick years', 'sicklecell', 'sicklecell non', 'sickness', 'sickness gods', 'side', 'side effects', 'side god', 'side short', 'side wut', 'sighted', 'sighted driven', 'sign', 'sign mssen', 'sign ndas', 'sign petition', 'signatures', 'signatures please', 'signed', 'signed theactionnet', 'significant', 'significant breakthrough', 'significant head', 'significant health', 'significant milestone', 'signing', 'signing religious', 'signs', 'signs accidental', 'signs find', 'silly', 'silly accidents', 'silly rumor', 'silver', 'silver heads', 'silver times', 'silverstone', 'silverstone says', 'simila', 'similar', 'similar cocaine', 'similar path', 'simonharristd', 'simple', 'simple cannabis', 'simple dont', 'simple legalizemarijuana', 'simply', 'simply great', 'sin', 'sin stocks', 'since', 'since began', 'since cannabis', 'since charged', 'since colorado', 'since legalization', 'since made', 'since marijuana', 'since october', 'since people', 'since recreational', 'since voters', 'single', 'single death', 'sioux', 'sioux citys', 'sir', 'sir one', 'sites', 'sites giving', 'sitting', 'sitting home', 'six', 'six decades', 'six weeks', 'sjkwealthmanage', 'sjkwealthmanage tips', 'sjogrens', 'sjogrens igg', 'sjsj', 'skills', 'skills driving', 'skills enable', 'skin', 'skin oil', 'skincarefacials', 'skincarefacials cbd', 'skorea', 'skorea definitely', 'sky', 'sky fallen', 'slee', 'sleep', 'sleep aid', 'sleep cbd', 'sleep see', 'sleep stop', 'slicecomm', 'slicecomm legalization', 'sllizs', 'sllizs go', 'slog', 'slow', 'slow reaction', 'slow rollout', 'slow stop', 'slower', 'slower reactions', 'slowly', 'slowly normalize', 'sltrib', 'sltrib supporters', 'sltrib today', 'small', 'small amount', 'small business', 'small farmers', 'small kentucky', 'small makes', 'small step', 'smart', 'smart lady', 'smart move', 'smartnews', 'smartnews tomangell', 'smell', 'smell alcohol', 'smell bad', 'smell havent', 'smell want', 'smells', 'smells awesome', 'smile', 'smile realize', 'smile without', 'smoke', 'smoke clothing', 'smoke high', 'smoke kind', 'smoke marijuana', 'smoke mean', 'smoke medical', 'smoke medicate', 'smoke ounce', 'smoke twice', 'smoke weed', 'smoke young', 'smoked', 'smoked cannabis', 'smoked marijuana', 'smoked weedmedical', 'smokeweedeveryday', 'smokeweedeveryday weedsmoke', 'smoking', 'smoking cannabis', 'smoking cessation', 'smoking crack', 'smoking gun', 'smoking individuals', 'smoking leading', 'smoking marijuana', 'smoking medical', 'smoking tobacco', 'smoking weed', 'smooth', 'smooth strong', 'snake', 'snake oil', 'snakeoil', 'snakeoil cartoon', 'sniff', 'sniff marijuana', 'sniffing', 'sniffing dog', 'snl', 'snl please', 'snoopdogg', 'snoopdogg govmurphy', 'snowbla', 'snowbla glad', 'snuff', 'snuff black', 'soba', 'soba movement', 'sober', 'sober make', 'sober treatement', 'sobermovement', 'sobermovement na', 'social', 'social club', 'socialequity', 'socialequity restorativejustice', 'socially', 'socially responsible', 'socialmedia', 'societal', 'societal cost', 'societies', 'society', 'society dangerous', 'sociopath', 'sociopath wastes', 'soft', 'soft orange', 'sokor', 'sokor cannabisindustry', 'sold', 'sold cocaine', 'sold legalizing', 'sold need', 'solution', 'solution addiction', 'solvents', 'somanythings', 'somanythings greg', 'somehow', 'somehow led', 'someone', 'someone consumed', 'someone struggling', 'someone whos', 'someone would', 'something', 'something different', 'something joke', 'something right', 'something straight', 'something wrong', 'somethingtons', 'somethingtons money', 'somewhat', 'somewhat positive', 'son', 'son forget', 'son hit', 'son killed', 'son recover', 'son selling', 'sons', 'sons autism', 'sons treatment', 'soon', 'soon asking', 'soon available', 'soon covered', 'soon whole', 'soooo', 'soooo stupid', 'sort', 'sort panic', 'sought', 'sought medical', 'sound', 'sound gangs', 'sounds', 'sounds cnn', 'south', 'south carolina', 'south korea', 'south korean', 'south uproot', 'southern', 'southern california', 'southkorea', 'southkorea become', 'southkorea becomes', 'southkorea cannabislegalization', 'southkorea first', 'southkorea medicalcannabis', 'sovereignty', 'sovereignty hard', 'space', 'space kaltf', 'spaces', 'spaces federal', 'spartygirl', 'spartygirl maninthehoody', 'spatience', 'spatience guess', 'spatience used', 'speak', 'speak specific', 'speaker', 'speaker house', 'speaking', 'speaking huge', 'speaking libertyu', 'speaks', 'speaks longer', 'speaks podcast', 'speakup', 'speakup drmikehart', 'special', 'special constables', 'special session', 'specialist', 'specialist holistic', 'specialist soon', 'specialists', 'specialists educatio', 'specialists mris', 'specialized', 'specialized knowledge', 'specific', 'specific condition', 'specifically', 'specifically alfie', 'specifically mentioned', 'specified', 'specified limit', 'spectrum', 'spectrum hemp', 'speech', 'speech class', 'speedweed', 'speedweed missouri', 'spend', 'spend five', 'spend speaker', 'spent', 'spent million', 'spent seoul', 'sphere', 'sphere federal', 'spike', 'spike blackmarket', 'spike cannabisimpaired', 'spin', 'spin offs', 'spliff', 'spliff wit', 'split', 'split received', 'spoiler', 'spoiler alert', 'spoke', 'spoke doctor', 'spoke fmqs', 'spoke theyre', 'sponsored', 'sponsored medical', 'sports', 'sports athlete', 'sports betting', 'sports gambling', 'sports really', 'sportsnet', 'sportsnet former', 'spotlight', 'spray', 'spray sativex', 'spread', 'spread word', 'spreading', 'spreading word', 'sprung', 'sprung life', 'spurious', 'spurious reasons', 'sputnikint', 'sputnikint smart', 'ssaaddiction', 'ssaaddiction university', 'st', 'st country', 'st cousin', 'st josephs', 'st louis', 'st marijuana', 'st month', 'st vincent', 'staff', 'staff dont', 'staff said', 'stakeholder', 'stakeholder meeting', 'stalling', 'stalling cannabis', 'stance', 'stance marijuana', 'stand', 'stand election', 'stand medical', 'stand million', 'standard', 'standard model', 'standard preventative', 'standrewsroad', 'standrewsroad maingate', 'star', 'star cannabis', 'star cartoonist', 'star nfl', 'stars', 'stars able', 'start', 'start defending', 'start distributing', 'start good', 'start new', 'start potential', 'start yayayyy', 'started', 'started asking', 'started popping', 'started take', 'started talking', 'started using', 'started vaping', 'starting', 'starting melania', 'starting research', 'starting today', 'starts', 'starts says', 'starvation', 'starvation due', 'state', 'state aint', 'state approval', 'state approves', 'state board', 'state budget', 'state cannabis', 'state commerce', 'state crumbles', 'state governments', 'state governor', 'state law', 'state laws', 'state legalize', 'state make', 'state medical', 'state new', 'state offer', 'state problem', 'state recentlyheld', 'state residence', 'state state', 'state substance', 'state sucks', 'state tough', 'state treasurer', 'state us', 'state wants', 'stateapproved', 'stateapproved qualifying', 'stated', 'stated obviously', 'stated terry', 'statement', 'statement wise', 'states', 'states approve', 'states completely', 'states decriminalize', 'states expect', 'states exploring', 'states going', 'states jobs', 'states legal', 'states medical', 'states retail', 'states shielded', 'states throat', 'states using', 'states washington', 'statistic', 'statistic cannabis', 'stats', 'stats colorado', 'stats mental', 'stats police', 'status', 'status ability', 'status quo', 'stay', 'stay asleep', 'stay awake', 'stay away', 'stayed', 'stayed house', 'staytuned', 'staytuned irplawyer', 'steal', 'steal billions', 'steals', 'steals potential', 'steering', 'steering control', 'stenquist', 'stenquist told', 'step', 'step closer', 'step congratulations', 'step forward', 'step monday', 'step outside', 'step regards', 'step right', 'step still', 'step towards', 'step within', 'stephaniedejag', 'stephaniedejag definitely', 'stevesweeneynj', 'sticking', 'sticking points', 'stickyicky', 'stickyicky dispensary', 'stiffness', 'stiffness pain', 'stigma', 'stigma cost', 'stigmabase', 'stigmabase drug', 'stigmatisation', 'stigmatisation people', 'still', 'still arent', 'still audacity', 'still believe', 'still beneficial', 'still dont', 'still enjoy', 'still forbidden', 'still get', 'still havent', 'still lists', 'still little', 'still pretty', 'still profound', 'still tightly', 'still years', 'stinks', 'stinks cannabis', 'stlthward', 'stlthward cannot', 'stock', 'stock news', 'stocks', 'stocks acb', 'stocks cannabis', 'stocks curaleaf', 'stocks like', 'stocks tumbled', 'stokes', 'stokes concerns', 'stolen', 'stolen assault', 'stolen marijuana', 'stone', 'stone probably', 'stoned', 'stoned id', 'stoned im', 'stoned joint', 'stoneddadlife', 'stoneddadlife love', 'stoner', 'stoner im', 'stoner logic', 'stoner smoke', 'stoner use', 'stoners', 'stoners cancer', 'stop', 'stop arresting', 'stop beneficial', 'stop blaming', 'stop brake', 'stop breathing', 'stop bullshitting', 'stop check', 'stop checks', 'stop eventually', 'stop fighting', 'stop following', 'stop getting', 'stop inv', 'stop last', 'stop like', 'stop lowestoftpolice', 'stop making', 'stop multiplication', 'stop next', 'stop nhs', 'stop nj', 'stop opioid', 'stop patents', 'stop police', 'stop quickly', 'stop repression', 'stop search', 'stop searched', 'stop seizures', 'stop stalling', 'stop swproads', 'stop treating', 'stop treatments', 'stop trilogy', 'stop unfortunately', 'stop us', 'stop using', 'stop vehicle', 'stop wax', 'stopandsearch', 'stopandsearch used', 'stopandsearchworks', 'stopped', 'stopped check', 'stops', 'stops profits', 'stops ruining', 'stops yielded', 'store', 'store memory', 'stores', 'stores safe', 'stores theres', 'stories', 'stories include', 'story', 'story read', 'straight', 'straight death', 'straight doorstep', 'strain', 'strain grown', 'strain medical', 'strain mostly', 'straincentral', 'straincentral hey', 'strains', 'strains factors', 'strains great', 'strains ideal', 'strains moon', 'strains struggling', 'strains text', 'strategic', 'strategic collaboration', 'stream', 'stream question', 'street', 'street dealing', 'street stops', 'strengthening', 'strengthening properties', 'stress', 'stress pains', 'stress reliever', 'stresscancer', 'stresscancer ptsd', 'stretch', 'stretch good', 'strict', 'strict confidence', 'strict rules', 'strictest', 'strictest drug', 'strictly', 'strictly regulated', 'strike', 'strike ban', 'stringent', 'stringent guidelines', 'stroke', 'stroke cbd', 'strong', 'strong interest', 'strong mouth', 'strong recreational', 'stronger', 'stronger powers', 'structure', 'structure brain', 'struggle', 'struggle product', 'struggling', 'struggling chronic', 'struggling depression', 'struggling fall', 'struggling mari', 'struggling marijuana', 'stuart', 'stuart titus', 'stuck', 'stuck forever', 'students', 'students canada', 'students impact', 'studies', 'studies around', 'studies get', 'studies show', 'studies shown', 'studies suggested', 'study', 'study cannabis', 'study demonstrate', 'study finds', 'study history', 'study journal', 'study lower', 'study medical', 'study potential', 'study results', 'study says', 'study shows', 'study work', 'studys', 'studys back', 'studys show', 'stuff', 'stuff talked', 'stuff would', 'stupid', 'stupid become', 'stupid cannabis', 'stupid claims', 'stupid letting', 'stupid things', 'stvincent', 'stvincent grenadines', 'submitted', 'submitted eastteam', 'submitted offences', 'substance', 'substance abuse', 'substance cannabis', 'substance could', 'substance nearly', 'substancerelated', 'substancerelated includes', 'substances', 'substances produced', 'substances risksbenefits', 'substantial', 'substantial rebuke', 'substitute', 'substitute one', 'substitute pot', 'substitution', 'substitution opioids', 'suburb', 'suburb cannabis', 'suburban', 'suburban voters', 'succeed', 'succeed specialized', 'succeeds', 'succeeds get', 'success', 'success medical', 'success switch', 'successful', 'successful people', 'successfully', 'successfully navigated', 'successfully opiate', 'suck', 'suck gay', 'sucks', 'sucks last', 'sudden', 'sudden stop', 'sue', 'sue lds', 'suffer', 'suffer finally', 'suffer intractable', 'suffer wexcruciating', 'suffering', 'suffering chronic', 'suffering cos', 'suffering difficult', 'suffering recall', 'suffers', 'suffers seizures', 'sufficient', 'sufficient evidence', 'sugar', 'sugar extremely', 'sugg', 'suggest', 'suggest substance', 'suggested', 'suggested cannabis', 'suggested medical', 'suggestion', 'suggestion maybe', 'suicide', 'suicide ptsd', 'suit', 'suit varied', 'suits', 'suits get', 'summonsed', 'summonsed court', 'sunshine', 'sunshine coast', 'suntimes', 'super', 'super stars', 'superblink', 'superblink ohmes', 'superbowl', 'superbowl coincidence', 'superintendent', 'superintendent scott', 'superskeptical', 'superskeptical quality', 'supervised', 'supervised drug', 'supervisors', 'supervisors employees', 'supplements', 'supplier', 'supplier dedicated', 'supplier gave', 'supply', 'supply rec', 'support', 'support cannabis', 'support decriminalization', 'support dispensaries', 'support faves', 'support involvement', 'support jail', 'support legalization', 'support low', 'support medical', 'support politicians', 'support signing', 'support wake', 'support welfare', 'supporters', 'supporters utahs', 'supporting', 'supporting cannabis', 'supportive', 'supportive use', 'supports', 'supports richzeoli', 'suppress', 'suppress communities', 'suppressing', 'suppressing feelings', 'supreme', 'supreme court', 'supreme courts', 'sure', 'sure everyone', 'sure line', 'sure never', 'sure private', 'sure youre', 'sure zero', 'surfacing', 'surfacing daily', 'surgerywith', 'surgerywith medical', 'surpasses', 'surpasses expectations', 'surpassing', 'surpassing forecast', 'surprised', 'surprised saying', 'surprised woke', 'surprising', 'surprising one', 'surrender', 'surrender firearms', 'surrounding', 'surrounding cannabis', 'surrounding legal', 'surrounding legalizing', 'surrounds', 'surrounds getting', 'survived', 'survived abuse', 'suspect', 'suspect cannabis', 'suspect happen', 'suspected', 'suspected drug', 'suspension', 'suspension vehicle', 'suspicion', 'suspicion drugdriving', 'suspicions', 'suspicions went', 'suspiciously', 'suspiciously high', 'sw', 'swag', 'swag helping', 'swarbrick', 'swarbrick uses', 'sweeping', 'sweeping country', 'sweeping overhaul', 'sweet', 'sweet addiction', 'sweet comments', 'swing', 'swing canada', 'switch', 'switch cannabis', 'switch tittat', 'switzerland', 'switzerland prepares', 'swproads', 'swproads driver', 'symptom', 'symptom relief', 'symptoms', 'symptoms fingertips', 'symptoms isnt', 'symptoms like', 'symptoms mentalhealth', 'symptoms really', 'symptoms use', 'symptoms via', 'symptoms worse', 'synthetic', 'synthetic cannab', 'syriza', 'syriza government', 'system', 'system millions', 'tackle', 'tackle violence', 'tactics', 'tactics cannabis', 'tak', 'take', 'take advance', 'take back', 'take busine', 'take business', 'take cbd', 'take cross', 'take drug', 'take first', 'take im', 'take legalizing', 'take life', 'take list', 'take look', 'take many', 'take medical', 'take pills', 'take president', 'take room', 'take stayed', 'take time', 'takers', 'takes', 'takes back', 'takes legalizeit', 'takes whole', 'taking', 'taking confidence', 'taking couple', 'taking drink', 'taking money', 'taking people', 'taking shape', 'taking similar', 'talk', 'talk constructionsafety', 'talk experience', 'talk investigative', 'talk jordan', 'talk mental', 'talk modest', 'talk teens', 'talk vet', 'talked', 'talked canadas', 'talked really', 'talked years', 'talking', 'talking handsfree', 'talking marijuana', 'talking medical', 'talks', 'talks cnn', 'talks sure', 'tallahassees', 'tallahassees newest', 'tanyaplibersek', 'tanyaplibersek going', 'tanzanian', 'tanzanian government', 'tap', 'tap medical', 'tar', 'tar death', 'tariffs', 'tariffs talks', 'tarrr', 'tarrr worship', 'task', 'task force', 'taste', 'taste crazy', 'tasted', 'tasted like', 'tastee', 'tastee diner', 'tauhidchappell', 'tauhidchappell bill', 'tax', 'tax better', 'tax build', 'tax force', 'tax found', 'tax rate', 'tax recreational', 'tax revenue', 'tax spend', 'taxed', 'taxed much', 'taxes', 'taxes state', 'taxi', 'taxi share', 'taxit', 'taxit setourbrothersfree', 'tay', 'tay keep', 'teach', 'teach legalities', 'teach students', 'team', 'team approx', 'team arrested', 'team conducted', 'team two', 'teams', 'teams headed', 'tech', 'tech cannabis', 'technically', 'technically recreationali', 'teenagers', 'teenagers try', 'teens', 'teens appear', 'teens driving', 'teens kept', 'teens said', 'teeth', 'teeth bone', 'telfordtaurus', 'telfordtaurus theresamay', 'tell', 'tell im', 'tell potus', 'tell range', 'tell trade', 'tell us', 'telling', 'telling everyone', 'tells', 'tells court', 'tells weed', 'temptation', 'temptation side', 'ten', 'ten medical', 'tent', 'tent cities', 'terminally', 'terminally ill', 'terpene', 'terpene amp', 'terpene exhibits', 'terpene profiles', 'terpenes', 'terpenes found', 'terpenes fueledbythc', 'terpinolene', 'terpinolene terpene', 'terry', 'terry booth', 'terry think', 'tested', 'tested currently', 'tested pesticides', 'tested positive', 'tested used', 'testified', 'testified wisconsin', 'testimony', 'testimony bills', 'testingstandards', 'tetrahydrocannabinol', 'tetrahydrocannabinol cbd', 'tex', 'texas', 'texas harshest', 'text', 'text call', 'tf', 'tf detroit', 'tgtv', 'tgtv youre', 'th', 'th already', 'th recreational', 'th state', 'th weed', 'thai', 'thai military', 'thailand', 'thailand breezed', 'thailand breezes', 'thailand got', 'thailands', 'thailands parliament', 'thalidomide', 'thalidomide british', 'thank', 'thank cannabis', 'thank god', 'thank gt', 'thank love', 'thank next', 'thank videos', 'thankful', 'thankful able', 'thankful medical', 'thankfully', 'thankfully embrace', 'thanks', 'thanks ancient', 'thanks benyiju', 'thanks oregon', 'thanks republican', 'thanks ton', 'thanksgiving', 'thanksgiving around', 'thats', 'thats amount', 'thats behind', 'thats bs', 'thats decision', 'thats dont', 'thats good', 'thats ive', 'thats list', 'thats right', 'thats silly', 'thats start', 'thats stay', 'thats stoner', 'thats wrap', 'thc', 'thc break', 'thc cbd', 'thc content', 'thc get', 'thc global', 'thc implications', 'thc medicinal', 'thc strains', 'thc weedporn', 'thcvibes', 'thcvibes helloive', 'theactionnet', 'theactionnet petition', 'thecbdinsider', 'thecbdinsider need', 'thecryptohippo', 'thecryptohippo keebler', 'theczech', 'theczech republic', 'theft', 'theft motor', 'thegarden', 'thegarden study', 'thejournalie', 'thekuhnerreport', 'thekuhnerreport pay', 'thekuhnerreport sovereignty', 'theory', 'theory ohio', 'thepotshopandmuseum', 'ther', 'therapies', 'therapies oil', 'therapies treat', 'therapy', 'therapy daughter', 'therapy modest', 'therapy normal', 'therealmannwell', 'therealmannwell looooong', 'theres', 'theres absolutely', 'theres case', 'theres literally', 'theres lot', 'theres reason', 'theres right', 'theresa', 'theresa may', 'theresa mays', 'theresamay', 'theresamay say', 'theresamay thought', 'theros', 'theros bring', 'thewire', 'thewire canada', 'theyll', 'theyll answering', 'theyoungjurks', 'theyoungjurks masscann', 'theyre', 'theyre finally', 'theyre finna', 'theyre hazards', 'theyre making', 'theyre notkyla', 'theyre ready', 'theyve', 'theyve battled', 'thing', 'thing dont', 'thing everyone', 'thing im', 'thing need', 'thing theyre', 'things', 'things cannabis', 'things done', 'things dont', 'things gardener', 'things need', 'things still', 'things teenagers', 'things thankful', 'thingsll', 'thingsll affect', 'think', 'think allow', 'think anything', 'think avoid', 'think bad', 'think called', 'think dangerous', 'think huge', 'think itd', 'think later', 'think loud', 'think lps', 'think made', 'think marijuana', 'think may', 'think medicalmarijuana', 'think need', 'think opp', 'think outside', 'think pharmacists', 'think recreational', 'think social', 'think something', 'think thats', 'think utmost', 'thinking', 'thinking arent', 'thinks', 'thinks cannabis', 'thinks youre', 'thirds', 'thirds know', 'thisispublichealth', 'thisispublichealth publichealth', 'thommenjose', 'thommenjose significant', 'though', 'though comes', 'though would', 'thought', 'thought better', 'thought marijuana', 'thought video', 'thought wed', 'thoughts', 'thoughts legalizing', 'thousands', 'thousands lives', 'thousands past', 'thousands premature', 'thousands sign', 'thousands years', 'thr', 'thread', 'threatened', 'threatened physical', 'threatening', 'threatening fake', 'threatening sue', 'three', 'three campuses', 'three people', 'three states', 'threequarters', 'threequarters canadians', 'thrilled', 'thrilled read', 'throat', 'throat big', 'thumbs', 'thumbs collect', 'thumbs open', 'thumbs snl', 'thus', 'thus demand', 'thx', 'thx daddy', 'ticket', 'ticket crime', 'tightly', 'tightly controlled', 'tightly regulated', 'tightly restricted', 'tilbury', 'tilbury day', 'till', 'till drinking', 'time', 'time analyze', 'time arthritis', 'time consuming', 'time doctors', 'time dontdriveimpaired', 'time eproadspolicing', 'time expand', 'time get', 'time learn', 'time mee', 'time multitude', 'time politician', 'time reflect', 'time shows', 'time spent', 'time think', 'time time', 'time weekend', 'times', 'times cheers', 'times heads', 'times hope', 'times legal', 'times lower', 'times medical', 'times mma', 'times phoenix', 'times years', 'tinatinny', 'tinatinny promiscuous', 'tip', 'tip use', 'tips', 'tips inve', 'tips invest', 'tips using', 'tired', 'tired daily', 'tishler', 'tishler md', 'titsup', 'titsup hineighbor', 'tittat', 'tittat finally', 'titus', 'titus ceo', 'tks', 'tlry', 'tngop', 'tngop majority', 'tnleg', 'tnleg minority', 'toast', 'tobacco', 'tobacco alcohol', 'tobacco cannabis', 'tobacco deleterious', 'tobacco ethically', 'tobacco mine', 'tobacco profits', 'tobacco steal', 'today', 'today asked', 'today canadian', 'today cleaning', 'today gtgtgt', 'today im', 'today learn', 'today national', 'today pm', 'today political', 'today south', 'todaynew', 'todaynew jerseys', 'todays', 'todays stories', 'together', 'together advance', 'together cannabis', 'tokes', 'tokes merchant', 'told', 'told legislature', 'told stakeholder', 'told west', 'tolerated', 'tolerated drugsruinlives', 'toll', 'toll legal', 'toll mj', 'tolls', 'tolls approving', 'tomangell', 'tomangell also', 'tomorrow', 'tomorrow brampton', 'tomorrow busboystakoma', 'tomorrow ill', 'ton', 'toninobologny', 'toninobologny hmmm', 'tonycaputo', 'tonycaputo newsnj', 'tonywi', 'tonywi im', 'took', 'took big', 'took like', 'took young', 'toolbox', 'toolbox talk', 'tools', 'tools help', 'tools skills', 'top', 'top contender', 'top grade', 'top health', 'top pick', 'top post', 'top ways', 'topical', 'topical cannabis', 'topless', 'topless titsup', 'toronto', 'toronto despite', 'toronto star', 'toronto uoft', 'toronto via', 'torontopolice', 'torontopolice wednesdaywisdom', 'torontostar', 'total', 'total views', 'touch', 'touch either', 'touch marijuana', 'touch medical', 'tough', 'tough collecting', 'tough medicinal', 'tough new', 'tourism', 'tourism companies', 'tourism rolls', 'toward', 'toward becoming', 'towards', 'towards helping', 'towards reform', 'towards right', 'town', 'town brought', 'town centre', 'town open', 'town town', 'townspeople', 'townspeople adult', 'toxicreverend', 'toxicreverend gknapp', 'toxin', 'toxin colorado', 'tracys', 'tracys helped', 'trade', 'traditional', 'traditional medicine', 'traditionally', 'traditionally conservative', 'traffic', 'traffic concerns', 'traffic deaths', 'traffic shagged', 'traffic stop', 'traffic stops', 'traffic ticket', 'trained', 'trained sniff', 'training', 'training course', 'training mjbiztraining', 'transact', 'transact entirely', 'transactions', 'transactions tks', 'transition', 'transparency', 'transplantation', 'transporting', 'transporting drugs', 'trap', 'trap gun', 'trash', 'trash ruining', 'travelers', 'travelers chance', 'traveling', 'traveling medical', 'travisjamal', 'travisjamal recall', 'treasurer', 'treasurer talked', 'treat', 'treat addiction', 'treat anxiety', 'treat depression', 'treat epilepsy', 'treat pain', 'treat psychotic', 'treat qualifing', 'treat reading', 'treatement', 'treatement intervention', 'treating', 'treating cannabis', 'treating chronic', 'treating disabilities', 'treating epileptic', 'treating opioid', 'treatment', 'treatment college', 'treatment makeitmedicine', 'treatment often', 'treatment option', 'treatment patients', 'treatment protocols', 'treatment questions', 'treatment skorea', 'treatment stand', 'treatment variety', 'treatments', 'tremendous', 'tremendous victory', 'tremendously', 'trends', 'trends offer', 'trenton', 'trenton nj', 'trichromes', 'trichromes terpenes', 'trick', 'trick pony', 'tried', 'tried cannabis', 'tried drug', 'tried everything', 'tried help', 'tried made', 'tried medical', 'tried pharmaceuticals', 'trigger', 'trillion', 'trillion us', 'trilogy', 'trilogy today', 'triple', 'triple chocolate', 'tripleh', 'tripleh think', 'trishhepworth', 'trishhepworth ozhemprocks', 'trouble', 'trouble voters', 'trst', 'trst partnered', 'truceutahs', 'truceutahs christine', 'trucking', 'trucking rate', 'true', 'true everyone', 'true havent', 'true promising', 'trulieves', 'trulieves medical', 'truly', 'truly moron', 'trustory', 'trustory trustorytuesday', 'trustorytuesday', 'trustorytuesday epilepsyawarenessmonth', 'try', 'try cannabis', 'try cbd', 'try including', 'try medical', 'trying', 'trying ban', 'trying chill', 'trying deal', 'trying get', 'trying keep', 'trying stoned', 'tsx', 'tsx trst', 'tub', 'tub found', 'tuesday', 'tuesday friends', 'tumbled', 'tumbled last', 'turn', 'turn violent', 'turned', 'turned hesitant', 'turned life', 'turning', 'turning point', 'turnout', 'turnout district', 'turtle', 'turtle island', 'turtleislandmed', 'turtleislandmed provides', 'tutkimuskatsaus', 'tweet', 'tweet last', 'tweet thank', 'twice', 'twice day', 'twitter', 'twitter accounts', 'twitter canada', 'two', 'two arrests', 'two driver', 'two important', 'two months', 'two one', 'two separate', 'two special', 'two years', 'tyle', 'type', 'type diabetes', 'types', 'types medical', 'types pens', 'ualbertasph', 'ualbertasph week', 'ubc', 'ubc pot', 'ugly', 'ugly anymore', 'uk', 'uk amount', 'uk asking', 'uk government', 'uk seems', 'ukcannabisclubs', 'ukcannabisclubs listen', 'ukcannabisclubs ukhomeoffice', 'ukchange', 'ukhomeoffice', 'ukhomeoffice ive', 'ukmccs', 'ukmccs thank', 'unanimously', 'unanimously accepted', 'unb', 'unb dr', 'unconstitutional', 'unconstitutional making', 'uncover', 'uncover cannabis', 'uncovered', 'uncovered cancer', 'underbelly', 'underestimate', 'underestimate effects', 'underlines', 'underlines auroras', 'understand', 'understand calling', 'understand fans', 'understand interests', 'understand risks', 'understand someone', 'understand world', 'understanding', 'understanding education', 'understanding post', 'undeveloped', 'undeveloped brain', 'uneducated', 'uneducated people', 'unexpected', 'unexpected good', 'unexpected news', 'unexpected resignation', 'unexpected welcome', 'unfortunately', 'unfortunately using', 'uni', 'uni background', 'union', 'union offer', 'union offers', 'unique', 'unique benefits', 'unit', 'unit stop', 'united', 'united states', 'units', 'units cannabisbased', 'unitymarguerite', 'unitymarguerite less', 'university', 'university british', 'university canntrust', 'university college', 'university medicinal', 'university toronto', 'unknowledge', 'unknowledge democracymum', 'unless', 'unless unusual', 'unless youth', 'unlike', 'unlike alcohol', 'unlocks', 'unlocks creative', 'unmixed', 'unmixed alcohol', 'unnecessary', 'unnecessary stigmatisation', 'unsurprisingly', 'unsurprisingly driver', 'untangle', 'untangle existing', 'unthinkable', 'unthinkable country', 'unusual', 'unusual severe', 'uoft', 'uoft ban', 'upcoming', 'upcoming legislative', 'update', 'update epilepsysociety', 'updates', 'updates support', 'upholds', 'upholds law', 'uproot', 'uproot families', 'ur', 'ur med', 'urge', 'urge let', 'urged', 'urged uk', 'urinating', 'urinating lawns', 'urination', 'us', 'us allow', 'us attorney', 'us called', 'us contaminated', 'us didnt', 'us diversify', 'us drugspolicy', 'us esp', 'us farmers', 'us get', 'us growth', 'us help', 'us information', 'us jail', 'us know', 'us look', 'us mph', 'us much', 'us need', 'us socially', 'us states', 'us still', 'us suffer', 'us take', 'us think', 'us used', 'us weedstagram', 'us whove', 'usa', 'usa executive', 'usa legalising', 'usa medical', 'use', 'use actually', 'use adult', 'use age', 'use among', 'use anything', 'use anyway', 'use approved', 'use benefits', 'use cannabis', 'use carpinteria', 'use cause', 'use cbd', 'use cofcdevsci', 'use coke', 'use conduct', 'use could', 'use daily', 'use disorder', 'use dueless', 'use fuck', 'use going', 'use help', 'use highly', 'use illegal', 'use increased', 'use independently', 'use leads', 'use leaves', 'use marijuana', 'use may', 'use medical', 'use medicinal', 'use minnesota', 'use nationalsafedrivingweek', 'use onto', 'use opiates', 'use outcomes', 'use overdose', 'use peer', 'use places', 'use pregnancy', 'use prevents', 'use public', 'use recreational', 'use regulated', 'use regulation', 'use represents', 'use ritalin', 'use stop', 'use support', 'use treating', 'use weed', 'use well', 'use would', 'use yes', 'usebut', 'usebut isnt', 'used', 'used cannabis', 'used control', 'used heroin', 'used justify', 'used lawfully', 'used medical', 'used medically', 'used medicinally', 'used poses', 'used pretty', 'used successfully', 'used suppress', 'used treat', 'useful', 'useful fighting', 'useful sons', 'user', 'user smoke', 'user years', 'users', 'users across', 'users cannot', 'users criminals', 'users get', 'users missouri', 'users ordered', 'users overdose', 'users petition', 'users safer', 'users sprung', 'users treat', 'uses', 'uses cannabis', 'uses money', 'uses recreational', 'using', 'using cannabis', 'using co', 'using drugs', 'using fish', 'using helped', 'using marijuana', 'using med', 'using medical', 'using medicine', 'using misconception', 'using trulieves', 'usual', 'usual since', 'usveteran', 'usveteran shotgun', 'utah', 'utah congressional', 'utah lawmakers', 'utahns', 'utahns knew', 'utahs', 'utahs medical', 'utahs recentlypassed', 'utlegs', 'utlegs replacement', 'utmost', 'utmost importance', 'utpol', 'va', 'va nc', 'va sputnikint', 'va wants', 'vaccines', 'vaccines aspertame', 'vaccines recreational', 'valuations', 'vampires', 'vampires slee', 'van', 'van stinks', 'vancouvercannabis', 'vancouvercannabis cdnpoli', 'vancouvercannabis conf', 'vanity', 'vanity project', 'vape', 'vape anyway', 'vape cartridge', 'vape medical', 'vape pens', 'vapeoils', 'vapeoils vapepens', 'vapepens', 'vapepens shawnee', 'vapescartridges', 'vapescartridges many', 'vaping', 'vaping cannabis', 'vaping enthusiasts', 'vaping three', 'varied', 'varied customer', 'variety', 'variety flower', 'various', 'various conditions', 'various mental', 'varvel', 'varvel indystar', 'varvel marijuana', 'vegas', 'vegas beautiful', 'veh', 'vehicle', 'vehicle also', 'vehicle didnt', 'vehicle earlier', 'vehicle impoundment', 'vehicle multi', 'vehicle ran', 'vehicle relieving', 'vehicle seized', 'vehicle stop', 'vehicle taking', 'vet', 'vet potential', 'vet use', 'veterans', 'veterans amd', 'veterans cumberland', 'veterans get', 'veterans orlando', 'veteransday', 'veterinarian', 'veterinarian help', 'vets', 'vets know', 'vetscannabisc', 'vetscannabisc heres', 'vetted', 'vetted make', 'via', 'via abc', 'via amnewyork', 'via benzinga', 'via bostonglobe', 'via cannabistimes', 'via countable', 'via emailmsgtweet', 'via jacktemp', 'via masslivenews', 'via nypmetro', 'via pineapple', 'via psychiatryadv', 'via sfolks', 'via suntimes', 'via thejournalie', 'via torontostar', 'via ukchange', 'via washingtonpost', 'via xztho', 'via yahoosg', 'viability', 'viability melanoma', 'vicadin', 'victimless', 'victimless crime', 'victoria', 'victoria atkins', 'victoriaxxviii', 'victoriaxxviii normalnow', 'victory', 'video', 'video asian', 'video documentary', 'video kid', 'video tried', 'video youtube', 'videos', 'videos educational', 'videos first', 'views', 'views cbd', 'vincemcmahon', 'vincemcmahon tripleh', 'vincent', 'vincent grenadines', 'violence', 'violence drove', 'violence street', 'violent', 'violent crime', 'violent father', 'viral', 'viral id', 'virginia', 'virginia uncovered', 'viruses', 'viruses researchers', 'visible', 'visible mental', 'visionary', 'visionary turn', 'visit', 'visit booth', 'visit cannabis', 'visit see', 'visit study', 'visiting', 'visiting cannabis', 'visits', 'visits also', 'visits edibles', 'vitalitybio', 'vitalitybio substitute', 'vote', 'vote alexis', 'vote favor', 'vote utpol', 'vote whatever', 'voted', 'voted advance', 'voted friday', 'voted joint', 'voted know', 'voted legalize', 'voted monday', 'voted voted', 'voted yes', 'votemadsen', 'votemadsen medical', 'voter', 'voter support', 'voters', 'voters acted', 'voters approved', 'voters saycannabischicago', 'voters wishes', 'votes', 'votes pass', 'votes recreational', 'votes utah', 'voting', 'voting yall', 'vulture', 'vulture shropshire', 'wage', 'wage enacting', 'wait', 'wait live', 'wait medica', 'wait results', 'wait see', 'waiting', 'waiting nj', 'wake', 'wake amp', 'wake bake', 'wake legalization', 'wales', 'wales needs', 'wall', 'wall anyway', 'wall partially', 'walsh', 'walsh said', 'walsh worried', 'walthamabbey', 'walthamabbey crashed', 'wana', 'wana marry', 'wanna', 'wanna sign', 'want', 'want approve', 'want deal', 'want fame', 'want leave', 'want medical', 'want read', 'want say', 'want stop', 'want take', 'want think', 'want us', 'wanted', 'wanted cheshirepolice', 'wants', 'wants become', 'wants come', 'wants secure', 'wants tax', 'wants use', 'wants vets', 'war', 'war drugs', 'war indust', 'war vet', 'ward', 'ward yikes', 'warn', 'warn students', 'warned', 'warned citizens', 'warned widespread', 'washington', 'washington colorado', 'washington dc', 'washington marijuana', 'washington states', 'washingtonpost', 'wasnt', 'wasnt addictive', 'wasteful', 'wasteful nat', 'wastes', 'wastes money', 'watch', 'watch mission', 'watch whole', 'watched', 'watched funny', 'watching', 'watching hes', 'watered', 'wave', 'wave back', 'waves', 'waves neighbors', 'wax', 'wax wednesdays', 'way', 'way another', 'way around', 'way become', 'way go', 'way grow', 'way hes', 'way legalizing', 'way medical', 'way medicinal', 'way perpetuate', 'way positive', 'wayland', 'wayland working', 'ways', 'ways get', 'ways police', 'ways take', 'ways tap', 'wbznewsradio', 'wbznewsradio feel', 'wcrime', 'wcrime become', 'wdiv', 'wdiv clickondetroit', 'weakest', 'weakest alcohol', 'weapon', 'weapon cannabis', 'webmd', 'webmd studies', 'website', 'website link', 'wed', 'wed see', 'wednesday', 'wednesday mexicos', 'wednesdays', 'wednesdays dogo', 'wednesdaywisdom', 'weed', 'weed actions', 'weed bad', 'weed business', 'weed canada', 'weed cannabis', 'weed criminals', 'weed dumbs', 'weed edibles', 'weed every', 'weed fact', 'weed ganjalove', 'weed help', 'weed january', 'weed marijuana', 'weed people', 'weed pregnancy', 'weed shoot', 'weed still', 'weed talk', 'weed trap', 'weed weedlife', 'weed weedlover', 'weed wellness', 'weeddeliveryservice', 'weeddeliveryservice marijuana', 'weedlife', 'weedlife marijuanaonline', 'weedlover', 'weedlover marijuana', 'weedmedical', 'weedmedical marijuanathen', 'weedporn', 'weedporn stickyicky', 'weedporn stoner', 'weedporns', 'weedporns nikolaspham', 'weedsmoke', 'weedsmoke pot', 'weedstagram', 'weedstagram instaweed', 'weedthepplfilm', 'weedthepplfilm periscopetv', 'weedvgreed', 'week', 'week addiction', 'week almost', 'week fine', 'week gallup', 'week mass', 'week national', 'week recreational', 'week said', 'week west', 'weekend', 'weekend heavy', 'weekly', 'weekly blog', 'weeks', 'weeks away', 'weeks legalization', 'weeks nhs', 'weigh', 'weigh shaping', 'weight', 'weight gold', 'weight placed', 'weightloss', 'weightloss appetitestimulator', 'welcome', 'welcome news', 'welcome visit', 'welfare', 'welfare illegal', 'welfare lynnpaltrow', 'well', 'well aaro', 'well aaron', 'well cannabis', 'well documented', 'well enough', 'well global', 'well grams', 'well protecting', 'well stop', 'well thats', 'well treatment', 'wellbeing', 'wellness', 'wellness benefits', 'wellness center', 'wellness hemp', 'wellness mmj', 'wendover', 'wendover city', 'wendover get', 'wendovers', 'wendovers recreational', 'went', 'went back', 'went cannabis', 'went legal', 'went medical', 'west', 'west midlands', 'west wendover', 'west wendovers', 'weve', 'weve always', 'weve made', 'wexcruciating', 'wexcruciating pain', 'wh', 'wha', 'whatever', 'whatever call', 'whatever takes', 'whateversusan', 'whateversusan doesnt', 'whats', 'whats effects', 'wheelchair', 'wheelchair weedthepplfilm', 'whenever', 'whenever inform', 'whether', 'whether health', 'whiff', 'whiff recreational', 'white', 'white guys', 'whod', 'whod never', 'whole', 'whole country', 'whole damn', 'whole khh', 'whole life', 'whole new', 'whomeless', 'whomeless tent', 'whoop', 'whoop southkorea', 'whoop whoop', 'whos', 'whos getting', 'whos installing', 'whos struggling', 'whos yea', 'whose', 'whose lives', 'whove', 'whove survived', 'whyzguy', 'whyzguy states', 'wi', 'wi id', 'wide', 'wide hollyweed', 'widespread', 'widespread use', 'widest', 'widest variety', 'wife', 'wife died', 'wife dies', 'wife one', 'wifes', 'wifes medicine', 'wiley', 'wiley online', 'williamlamberth', 'williamlamberth marijuana', 'williams', 'williams thinks', 'willvjones', 'willvjones shaleentitle', 'willvjones whatever', 'win', 'win today', 'wind', 'wind medical', 'winning', 'winning war', 'winnipeg', 'winnipeg impaired', 'wipe', 'wipe cannabis', 'wisconsin', 'wisconsin hearing', 'wise', 'wise responses', 'wish', 'wish transition', 'wishes', 'wishes still', 'wit', 'wit bubble', 'within', 'within days', 'within next', 'within weeks', 'without', 'without cannabis', 'without ever', 'without feeling', 'without getting', 'without jurisdictions', 'without seizure', 'without side', 'without success', 'without thc', 'wncn', 'wncn cbs', 'wndu', 'wndu michigan', 'woke', 'woke fuckers', 'wolf', 'wolf answered', 'women', 'women continue', 'women gets', 'wonder', 'wonder lnp', 'wonder medicinal', 'wondering', 'wondering federal', 'wont', 'wont horrific', 'wont legalized', 'wont risk', 'wont touch', 'wont work', 'wood', 'wood green', 'word', 'word far', 'word medical', 'work', 'work access', 'work canada', 'work day', 'work dispensaries', 'work dispensary', 'work food', 'work gop', 'work impaired', 'work legalizeit', 'work officers', 'work stoned', 'work tax', 'work together', 'worked', 'worked medical', 'worked vape', 'workers', 'workers get', 'workers keep', 'working', 'working amp', 'working drunk', 'working high', 'working mother', 'working patient', 'working theros', 'workplace', 'workplace accidents', 'workplace including', 'workplace training', 'works', 'works california', 'works health', 'works living', 'world', 'world country', 'world focuses', 'world legalize', 'world listening', 'world make', 'world new', 'world one', 'world south', 'world tell', 'world watching', 'world worthless', 'worldreefers', 'worlds', 'worlds largest', 'worldwide', 'worldwide fantastic', 'worried', 'worried law', 'worried marijuana', 'worried profits', 'worries', 'worries human', 'worry', 'worry illegal', 'worse', 'worse steals', 'worse worsened', 'worsened', 'worsened pain', 'worship', 'worship tar', 'worst', 'worst part', 'worth', 'worth risk', 'worth weight', 'worthless', 'worthless death', 'would', 'would allow', 'would banning', 'would certainly', 'would come', 'would dont', 'would get', 'would gladly', 'would government', 'would granted', 'would help', 'would ideal', 'would know', 'would last', 'would like', 'would make', 'would order', 'would rather', 'would see', 'would stop', 'would thought', 'would tightly', 'wouldnt', 'wouldnt even', 'wouldnt inattentive', 'wouldnt join', 'wouldnt smoke', 'wouldve', 'wouldve nice', 'wow', 'wow lived', 'wow medical', 'wpain', 'wpain dont', 'wrap', 'wrap yall', 'wrench', 'wrench cannabis', 'wrestle', 'wrestle control', 'wrexhamcote', 'wrexhamcote quite', 'wrightpatt', 'wrightpatt credit', 'wrightpatt quietly', 'write', 'write blank', 'write impaired', 'write launch', 'writer', 'writer ive', 'writes', 'writes paper', 'wrong', 'wrong murder', 'wrong top', 'wrote', 'wrote prescription', 'wsbt', 'wsbt official', 'wsj', 'wsj nytimes', 'wthc', 'wut', 'wwe', 'wwe vincemcmahon', 'wwolf', 'wwolf midas', 'xanax', 'xanax oxycontin', 'xmas', 'xmas drinkdrug', 'xztho', 'xztho sale', 'yahoosg', 'yall', 'yall bay', 'yall im', 'yall wanna', 'yard', 'yard wave', 'yay', 'yay remember', 'yayayyy', 'yea', 'yea marijuana', 'yeah', 'yeah gaming', 'yeah going', 'yeah good', 'yeah recreational', 'year', 'year cannabis', 'year history', 'year industry', 'year maryland', 'year month', 'year old', 'year olds', 'year one', 'year push', 'year recreational', 'year reported', 'year saw', 'yearold', 'yearold man', 'yearoveryear', 'yearoveryear declines', 'years', 'years ago', 'years amp', 'years basically', 'years brian', 'years cannabis', 'years go', 'years helping', 'years im', 'years ires', 'years later', 'years lets', 'years offense', 'years old', 'years police', 'years roop', 'years since', 'years something', 'years way', 'yeg', 'yep', 'yep shes', 'yes', 'yes ammo', 'yes cannabis', 'yes even', 'yes korea', 'yes november', 'yes uni', 'yes yes', 'yesterday', 'yesterday point', 'yesterday smoked', 'yesterday south', 'yet', 'yet another', 'yet dispensaries', 'yet much', 'yet pass', 'yet prosecuted', 'yet sponsored', 'yielded', 'yielded pounds', 'yikes', 'yikes lol', 'yoooo', 'yoooo south', 'york', 'york health', 'york new', 'york region', 'yoruba', 'yoruba delta', 'yoruba marijuana', 'youareunltd', 'youareunltd medicalcannabis', 'youll', 'youll ruin', 'young', 'young black', 'young boy', 'young kids', 'young ladies', 'young people', 'youre', 'youre better', 'youre curious', 'youre going', 'youre hearts', 'youre high', 'youre inadvertently', 'youre looking', 'youre republican', 'youre sober', 'youre stuck', 'youre stupid', 'youre wondering', 'youth', 'youth allowed', 'youth cannabis', 'youth drug', 'youth going', 'youth keep', 'youth substance', 'youtube', 'youtube need', 'youtube playlist', 'youtube video', 'youve', 'youve done', 'youve got', 'youve never', 'yr', 'yr old', 'yr op', 'yrs', 'yrs ago', 'yukonrcmp', 'yukonrcmp chief', 'yvr', 'yyc', 'zaidyns', 'zaidyns medical', 'zealand', 'zealand medicinal', 'zero', 'zero connecton', 'zero deaths', 'zero side', 'zone', 'zone st']\n",
      "(1000, 14693)\n"
     ]
    }
   ],
   "source": [
    "from sklearn.feature_extraction.text import CountVectorizer\n",
    "\n",
    "count_bigram = CountVectorizer(ngram_range=(1,2))\n",
    "x_bigrams = count_bigram.fit_transform(tweets['text'])\n",
    "print(x_bigrams.shape)\n",
    "print(count_bigram.get_feature_names())\n",
    "print(x.shape)"
   ]
  },
  {
   "cell_type": "code",
   "execution_count": 146,
   "metadata": {},
   "outputs": [
    {
     "data": {
      "text/html": [
       "<div>\n",
       "<style scoped>\n",
       "    .dataframe tbody tr th:only-of-type {\n",
       "        vertical-align: middle;\n",
       "    }\n",
       "\n",
       "    .dataframe tbody tr th {\n",
       "        vertical-align: top;\n",
       "    }\n",
       "\n",
       "    .dataframe thead th {\n",
       "        text-align: right;\n",
       "    }\n",
       "</style>\n",
       "<table border=\"1\" class=\"dataframe\">\n",
       "  <thead>\n",
       "    <tr style=\"text-align: right;\">\n",
       "      <th></th>\n",
       "      <th>aaro</th>\n",
       "      <th>aaron</th>\n",
       "      <th>aaron alexandre</th>\n",
       "      <th>ab</th>\n",
       "      <th>abbyepstein</th>\n",
       "      <th>abbygoodnough</th>\n",
       "      <th>abbygoodnough marijuana</th>\n",
       "      <th>abbygoodnough theory</th>\n",
       "      <th>abc</th>\n",
       "      <th>abi</th>\n",
       "      <th>...</th>\n",
       "      <th>zaidyns</th>\n",
       "      <th>zaidyns medical</th>\n",
       "      <th>zealand</th>\n",
       "      <th>zealand medicinal</th>\n",
       "      <th>zero</th>\n",
       "      <th>zero connecton</th>\n",
       "      <th>zero deaths</th>\n",
       "      <th>zero side</th>\n",
       "      <th>zone</th>\n",
       "      <th>zone st</th>\n",
       "    </tr>\n",
       "  </thead>\n",
       "  <tbody>\n",
       "    <tr>\n",
       "      <th>0</th>\n",
       "      <td>0</td>\n",
       "      <td>0</td>\n",
       "      <td>0</td>\n",
       "      <td>0</td>\n",
       "      <td>0</td>\n",
       "      <td>0</td>\n",
       "      <td>0</td>\n",
       "      <td>0</td>\n",
       "      <td>0</td>\n",
       "      <td>0</td>\n",
       "      <td>...</td>\n",
       "      <td>0</td>\n",
       "      <td>0</td>\n",
       "      <td>0</td>\n",
       "      <td>0</td>\n",
       "      <td>1</td>\n",
       "      <td>0</td>\n",
       "      <td>1</td>\n",
       "      <td>0</td>\n",
       "      <td>0</td>\n",
       "      <td>0</td>\n",
       "    </tr>\n",
       "    <tr>\n",
       "      <th>1</th>\n",
       "      <td>0</td>\n",
       "      <td>0</td>\n",
       "      <td>0</td>\n",
       "      <td>0</td>\n",
       "      <td>0</td>\n",
       "      <td>0</td>\n",
       "      <td>0</td>\n",
       "      <td>0</td>\n",
       "      <td>0</td>\n",
       "      <td>0</td>\n",
       "      <td>...</td>\n",
       "      <td>0</td>\n",
       "      <td>0</td>\n",
       "      <td>0</td>\n",
       "      <td>0</td>\n",
       "      <td>0</td>\n",
       "      <td>0</td>\n",
       "      <td>0</td>\n",
       "      <td>0</td>\n",
       "      <td>0</td>\n",
       "      <td>0</td>\n",
       "    </tr>\n",
       "    <tr>\n",
       "      <th>2</th>\n",
       "      <td>0</td>\n",
       "      <td>0</td>\n",
       "      <td>0</td>\n",
       "      <td>0</td>\n",
       "      <td>0</td>\n",
       "      <td>0</td>\n",
       "      <td>0</td>\n",
       "      <td>0</td>\n",
       "      <td>0</td>\n",
       "      <td>0</td>\n",
       "      <td>...</td>\n",
       "      <td>0</td>\n",
       "      <td>0</td>\n",
       "      <td>0</td>\n",
       "      <td>0</td>\n",
       "      <td>0</td>\n",
       "      <td>0</td>\n",
       "      <td>0</td>\n",
       "      <td>0</td>\n",
       "      <td>0</td>\n",
       "      <td>0</td>\n",
       "    </tr>\n",
       "    <tr>\n",
       "      <th>3</th>\n",
       "      <td>0</td>\n",
       "      <td>0</td>\n",
       "      <td>0</td>\n",
       "      <td>0</td>\n",
       "      <td>0</td>\n",
       "      <td>0</td>\n",
       "      <td>0</td>\n",
       "      <td>0</td>\n",
       "      <td>0</td>\n",
       "      <td>0</td>\n",
       "      <td>...</td>\n",
       "      <td>0</td>\n",
       "      <td>0</td>\n",
       "      <td>0</td>\n",
       "      <td>0</td>\n",
       "      <td>0</td>\n",
       "      <td>0</td>\n",
       "      <td>0</td>\n",
       "      <td>0</td>\n",
       "      <td>0</td>\n",
       "      <td>0</td>\n",
       "    </tr>\n",
       "    <tr>\n",
       "      <th>4</th>\n",
       "      <td>0</td>\n",
       "      <td>0</td>\n",
       "      <td>0</td>\n",
       "      <td>0</td>\n",
       "      <td>0</td>\n",
       "      <td>0</td>\n",
       "      <td>0</td>\n",
       "      <td>0</td>\n",
       "      <td>0</td>\n",
       "      <td>0</td>\n",
       "      <td>...</td>\n",
       "      <td>0</td>\n",
       "      <td>0</td>\n",
       "      <td>0</td>\n",
       "      <td>0</td>\n",
       "      <td>0</td>\n",
       "      <td>0</td>\n",
       "      <td>0</td>\n",
       "      <td>0</td>\n",
       "      <td>0</td>\n",
       "      <td>0</td>\n",
       "    </tr>\n",
       "  </tbody>\n",
       "</table>\n",
       "<p>5 rows × 14693 columns</p>\n",
       "</div>"
      ],
      "text/plain": [
       "   aaro  aaron  aaron alexandre  ab  abbyepstein  abbygoodnough  \\\n",
       "0     0      0                0   0            0              0   \n",
       "1     0      0                0   0            0              0   \n",
       "2     0      0                0   0            0              0   \n",
       "3     0      0                0   0            0              0   \n",
       "4     0      0                0   0            0              0   \n",
       "\n",
       "   abbygoodnough marijuana  abbygoodnough theory  abc  abi   ...     zaidyns  \\\n",
       "0                        0                     0    0    0   ...           0   \n",
       "1                        0                     0    0    0   ...           0   \n",
       "2                        0                     0    0    0   ...           0   \n",
       "3                        0                     0    0    0   ...           0   \n",
       "4                        0                     0    0    0   ...           0   \n",
       "\n",
       "   zaidyns medical  zealand  zealand medicinal  zero  zero connecton  \\\n",
       "0                0        0                  0     1               0   \n",
       "1                0        0                  0     0               0   \n",
       "2                0        0                  0     0               0   \n",
       "3                0        0                  0     0               0   \n",
       "4                0        0                  0     0               0   \n",
       "\n",
       "   zero deaths  zero side  zone  zone st  \n",
       "0            1          0     0        0  \n",
       "1            0          0     0        0  \n",
       "2            0          0     0        0  \n",
       "3            0          0     0        0  \n",
       "4            0          0     0        0  \n",
       "\n",
       "[5 rows x 14693 columns]"
      ]
     },
     "execution_count": 146,
     "metadata": {},
     "output_type": "execute_result"
    }
   ],
   "source": [
    "x = pd.DataFrame(x_bigrams.toarray())\n",
    "x.columns = count_bigram.get_feature_names()\n",
    "x.head()"
   ]
  },
  {
   "cell_type": "code",
   "execution_count": 147,
   "metadata": {},
   "outputs": [],
   "source": [
    "x_train,x_test,y_train,y_test=train_test_split(x,y,test_size=0.3,random_state=0)"
   ]
  },
  {
   "cell_type": "code",
   "execution_count": 148,
   "metadata": {},
   "outputs": [],
   "source": [
    "algorithm_a=MultinomialNB()"
   ]
  },
  {
   "cell_type": "code",
   "execution_count": 149,
   "metadata": {},
   "outputs": [
    {
     "name": "stderr",
     "output_type": "stream",
     "text": [
      "/anaconda3/lib/python3.6/site-packages/sklearn/utils/validation.py:761: DataConversionWarning: A column-vector y was passed when a 1d array was expected. Please change the shape of y to (n_samples, ), for example using ravel().\n",
      "  y = column_or_1d(y, warn=True)\n"
     ]
    },
    {
     "data": {
      "text/plain": [
       "MultinomialNB(alpha=1.0, class_prior=None, fit_prior=True)"
      ]
     },
     "execution_count": 149,
     "metadata": {},
     "output_type": "execute_result"
    }
   ],
   "source": [
    "algorithm_a.fit(x_train,y_train)"
   ]
  },
  {
   "cell_type": "code",
   "execution_count": 150,
   "metadata": {},
   "outputs": [],
   "source": [
    "y_pred3=algorithm_a.predict(x_test)"
   ]
  },
  {
   "cell_type": "code",
   "execution_count": 151,
   "metadata": {},
   "outputs": [
    {
     "name": "stdout",
     "output_type": "stream",
     "text": [
      "              precision    recall  f1-score   support\n",
      "\n",
      "          -1       0.50      0.61      0.55        90\n",
      "           1       0.82      0.74      0.78       210\n",
      "\n",
      "   micro avg       0.70      0.70      0.70       300\n",
      "   macro avg       0.66      0.68      0.67       300\n",
      "weighted avg       0.72      0.70      0.71       300\n",
      "\n",
      "Accuracy of Naive Bayes Classifier using n-grams on test set: 0.70\n"
     ]
    }
   ],
   "source": [
    "print(classification_report(y_test,y_pred3))  \n",
    "print('Accuracy of Naive Bayes Classifier using n-grams on test set: {:.2f}'.format(accuracy_score(y_test, y_pred3)))"
   ]
  },
  {
   "cell_type": "markdown",
   "metadata": {},
   "source": [
    "## Random Forest Classifier using n-grams"
   ]
  },
  {
   "cell_type": "code",
   "execution_count": 152,
   "metadata": {},
   "outputs": [],
   "source": [
    "classifier = RandomForestClassifier(n_estimators=500, random_state=0)   "
   ]
  },
  {
   "cell_type": "code",
   "execution_count": 153,
   "metadata": {},
   "outputs": [
    {
     "name": "stderr",
     "output_type": "stream",
     "text": [
      "/anaconda3/lib/python3.6/site-packages/ipykernel_launcher.py:1: DataConversionWarning: A column-vector y was passed when a 1d array was expected. Please change the shape of y to (n_samples,), for example using ravel().\n",
      "  \"\"\"Entry point for launching an IPython kernel.\n"
     ]
    },
    {
     "data": {
      "text/plain": [
       "RandomForestClassifier(bootstrap=True, class_weight=None, criterion='gini',\n",
       "            max_depth=None, max_features='auto', max_leaf_nodes=None,\n",
       "            min_impurity_decrease=0.0, min_impurity_split=None,\n",
       "            min_samples_leaf=1, min_samples_split=2,\n",
       "            min_weight_fraction_leaf=0.0, n_estimators=500, n_jobs=None,\n",
       "            oob_score=False, random_state=0, verbose=0, warm_start=False)"
      ]
     },
     "execution_count": 153,
     "metadata": {},
     "output_type": "execute_result"
    }
   ],
   "source": [
    "classifier.fit(x_train, y_train)"
   ]
  },
  {
   "cell_type": "code",
   "execution_count": 154,
   "metadata": {},
   "outputs": [],
   "source": [
    "y_pred5 = classifier.predict(x_test)  "
   ]
  },
  {
   "cell_type": "code",
   "execution_count": 155,
   "metadata": {},
   "outputs": [
    {
     "name": "stdout",
     "output_type": "stream",
     "text": [
      "              precision    recall  f1-score   support\n",
      "\n",
      "          -1       0.88      0.16      0.26        90\n",
      "           1       0.73      0.99      0.84       210\n",
      "\n",
      "   micro avg       0.74      0.74      0.74       300\n",
      "   macro avg       0.80      0.57      0.55       300\n",
      "weighted avg       0.78      0.74      0.67       300\n",
      "\n",
      "Accuracy of Random Forest classifier on test set: 0.74\n"
     ]
    }
   ],
   "source": [
    "print(classification_report(y_test,y_pred5))  \n",
    "print('Accuracy of Random Forest classifier on test set: {:.2f}'.format(accuracy_score(y_test, y_pred5)))"
   ]
  },
  {
   "cell_type": "markdown",
   "metadata": {},
   "source": [
    "## Predicting the non-Classified Tweets"
   ]
  },
  {
   "cell_type": "code",
   "execution_count": 106,
   "metadata": {},
   "outputs": [],
   "source": [
    "raw = pd.read_csv(\"rawtweets.csv\")"
   ]
  },
  {
   "cell_type": "code",
   "execution_count": 107,
   "metadata": {},
   "outputs": [
    {
     "data": {
      "text/html": [
       "<div>\n",
       "<style scoped>\n",
       "    .dataframe tbody tr th:only-of-type {\n",
       "        vertical-align: middle;\n",
       "    }\n",
       "\n",
       "    .dataframe tbody tr th {\n",
       "        vertical-align: top;\n",
       "    }\n",
       "\n",
       "    .dataframe thead th {\n",
       "        text-align: right;\n",
       "    }\n",
       "</style>\n",
       "<table border=\"1\" class=\"dataframe\">\n",
       "  <thead>\n",
       "    <tr style=\"text-align: right;\">\n",
       "      <th></th>\n",
       "      <th>Text</th>\n",
       "      <th>sentimal</th>\n",
       "    </tr>\n",
       "  </thead>\n",
       "  <tbody>\n",
       "    <tr>\n",
       "      <th>0</th>\n",
       "      <td>The legal marijuana farm set to supply medical...</td>\n",
       "      <td>NaN</td>\n",
       "    </tr>\n",
       "    <tr>\n",
       "      <th>1</th>\n",
       "      <td>The legal marijuana farm set to supply medical...</td>\n",
       "      <td>NaN</td>\n",
       "    </tr>\n",
       "    <tr>\n",
       "      <th>2</th>\n",
       "      <td>Louisiana is trying to keep medical marijuana ...</td>\n",
       "      <td>NaN</td>\n",
       "    </tr>\n",
       "    <tr>\n",
       "      <th>3</th>\n",
       "      <td>RT @aftertheXhale: @economicalCA I participate...</td>\n",
       "      <td>NaN</td>\n",
       "    </tr>\n",
       "    <tr>\n",
       "      <th>4</th>\n",
       "      <td>The legal marijuana farm set to supply medical...</td>\n",
       "      <td>NaN</td>\n",
       "    </tr>\n",
       "  </tbody>\n",
       "</table>\n",
       "</div>"
      ],
      "text/plain": [
       "                                                Text  sentimal\n",
       "0  The legal marijuana farm set to supply medical...       NaN\n",
       "1  The legal marijuana farm set to supply medical...       NaN\n",
       "2  Louisiana is trying to keep medical marijuana ...       NaN\n",
       "3  RT @aftertheXhale: @economicalCA I participate...       NaN\n",
       "4  The legal marijuana farm set to supply medical...       NaN"
      ]
     },
     "execution_count": 107,
     "metadata": {},
     "output_type": "execute_result"
    }
   ],
   "source": [
    "raw.head()"
   ]
  },
  {
   "cell_type": "code",
   "execution_count": 108,
   "metadata": {},
   "outputs": [],
   "source": [
    "x_raw = pd.DataFrame(raw.Text)"
   ]
  },
  {
   "cell_type": "code",
   "execution_count": 109,
   "metadata": {},
   "outputs": [
    {
     "data": {
      "text/html": [
       "<div>\n",
       "<style scoped>\n",
       "    .dataframe tbody tr th:only-of-type {\n",
       "        vertical-align: middle;\n",
       "    }\n",
       "\n",
       "    .dataframe tbody tr th {\n",
       "        vertical-align: top;\n",
       "    }\n",
       "\n",
       "    .dataframe thead th {\n",
       "        text-align: right;\n",
       "    }\n",
       "</style>\n",
       "<table border=\"1\" class=\"dataframe\">\n",
       "  <thead>\n",
       "    <tr style=\"text-align: right;\">\n",
       "      <th></th>\n",
       "      <th>Text</th>\n",
       "    </tr>\n",
       "  </thead>\n",
       "  <tbody>\n",
       "    <tr>\n",
       "      <th>0</th>\n",
       "      <td>The legal marijuana farm set to supply medical...</td>\n",
       "    </tr>\n",
       "    <tr>\n",
       "      <th>1</th>\n",
       "      <td>The legal marijuana farm set to supply medical...</td>\n",
       "    </tr>\n",
       "    <tr>\n",
       "      <th>2</th>\n",
       "      <td>Louisiana is trying to keep medical marijuana ...</td>\n",
       "    </tr>\n",
       "    <tr>\n",
       "      <th>3</th>\n",
       "      <td>RT @aftertheXhale: @economicalCA I participate...</td>\n",
       "    </tr>\n",
       "    <tr>\n",
       "      <th>4</th>\n",
       "      <td>The legal marijuana farm set to supply medical...</td>\n",
       "    </tr>\n",
       "  </tbody>\n",
       "</table>\n",
       "</div>"
      ],
      "text/plain": [
       "                                                Text\n",
       "0  The legal marijuana farm set to supply medical...\n",
       "1  The legal marijuana farm set to supply medical...\n",
       "2  Louisiana is trying to keep medical marijuana ...\n",
       "3  RT @aftertheXhale: @economicalCA I participate...\n",
       "4  The legal marijuana farm set to supply medical..."
      ]
     },
     "execution_count": 109,
     "metadata": {},
     "output_type": "execute_result"
    }
   ],
   "source": [
    "x_raw.head()"
   ]
  },
  {
   "cell_type": "code",
   "execution_count": 110,
   "metadata": {},
   "outputs": [
    {
     "data": {
      "text/html": [
       "<div>\n",
       "<style scoped>\n",
       "    .dataframe tbody tr th:only-of-type {\n",
       "        vertical-align: middle;\n",
       "    }\n",
       "\n",
       "    .dataframe tbody tr th {\n",
       "        vertical-align: top;\n",
       "    }\n",
       "\n",
       "    .dataframe thead th {\n",
       "        text-align: right;\n",
       "    }\n",
       "</style>\n",
       "<table border=\"1\" class=\"dataframe\">\n",
       "  <thead>\n",
       "    <tr style=\"text-align: right;\">\n",
       "      <th></th>\n",
       "      <th>Text</th>\n",
       "    </tr>\n",
       "  </thead>\n",
       "  <tbody>\n",
       "    <tr>\n",
       "      <th>0</th>\n",
       "      <td>The legal marijuana farm set to supply medical...</td>\n",
       "    </tr>\n",
       "    <tr>\n",
       "      <th>1</th>\n",
       "      <td>The legal marijuana farm set to supply medical...</td>\n",
       "    </tr>\n",
       "    <tr>\n",
       "      <th>2</th>\n",
       "      <td>Louisiana is trying to keep medical marijuana ...</td>\n",
       "    </tr>\n",
       "    <tr>\n",
       "      <th>3</th>\n",
       "      <td>RT @aftertheXhale: @economicalCA I participate...</td>\n",
       "    </tr>\n",
       "    <tr>\n",
       "      <th>4</th>\n",
       "      <td>The legal marijuana farm set to supply medical...</td>\n",
       "    </tr>\n",
       "  </tbody>\n",
       "</table>\n",
       "</div>"
      ],
      "text/plain": [
       "                                                Text\n",
       "0  The legal marijuana farm set to supply medical...\n",
       "1  The legal marijuana farm set to supply medical...\n",
       "2  Louisiana is trying to keep medical marijuana ...\n",
       "3  RT @aftertheXhale: @economicalCA I participate...\n",
       "4  The legal marijuana farm set to supply medical..."
      ]
     },
     "execution_count": 110,
     "metadata": {},
     "output_type": "execute_result"
    }
   ],
   "source": [
    "# remove urls on dataset\n",
    "x_raw['Text'] = x_raw.Text.str.replace(r'http\\S+', '')\n",
    "x_raw = x_raw.reset_index().drop(['index'],axis=1)\n",
    "x_raw.head()"
   ]
  },
  {
   "cell_type": "code",
   "execution_count": 111,
   "metadata": {},
   "outputs": [
    {
     "data": {
      "text/html": [
       "<div>\n",
       "<style scoped>\n",
       "    .dataframe tbody tr th:only-of-type {\n",
       "        vertical-align: middle;\n",
       "    }\n",
       "\n",
       "    .dataframe tbody tr th {\n",
       "        vertical-align: top;\n",
       "    }\n",
       "\n",
       "    .dataframe thead th {\n",
       "        text-align: right;\n",
       "    }\n",
       "</style>\n",
       "<table border=\"1\" class=\"dataframe\">\n",
       "  <thead>\n",
       "    <tr style=\"text-align: right;\">\n",
       "      <th></th>\n",
       "      <th>Text</th>\n",
       "    </tr>\n",
       "  </thead>\n",
       "  <tbody>\n",
       "    <tr>\n",
       "      <th>0</th>\n",
       "      <td>The legal marijuana farm set to supply medical...</td>\n",
       "    </tr>\n",
       "    <tr>\n",
       "      <th>1</th>\n",
       "      <td>The legal marijuana farm set to supply medical...</td>\n",
       "    </tr>\n",
       "    <tr>\n",
       "      <th>2</th>\n",
       "      <td>Louisiana is trying to keep medical marijuana ...</td>\n",
       "    </tr>\n",
       "    <tr>\n",
       "      <th>3</th>\n",
       "      <td>RT aftertheXhale economicalCA I participated i...</td>\n",
       "    </tr>\n",
       "    <tr>\n",
       "      <th>4</th>\n",
       "      <td>The legal marijuana farm set to supply medical...</td>\n",
       "    </tr>\n",
       "  </tbody>\n",
       "</table>\n",
       "</div>"
      ],
      "text/plain": [
       "                                                Text\n",
       "0  The legal marijuana farm set to supply medical...\n",
       "1  The legal marijuana farm set to supply medical...\n",
       "2  Louisiana is trying to keep medical marijuana ...\n",
       "3  RT aftertheXhale economicalCA I participated i...\n",
       "4  The legal marijuana farm set to supply medical..."
      ]
     },
     "execution_count": 111,
     "metadata": {},
     "output_type": "execute_result"
    }
   ],
   "source": [
    "# remove special characters and numbers on dataset\n",
    "x_raw['Text'] = x_raw.Text.str.replace('[^A-Za-z\\s]+', '')\n",
    "x_raw= x_raw.reset_index().drop(['index'],axis=1)\n",
    "x_raw.head()"
   ]
  },
  {
   "cell_type": "code",
   "execution_count": 112,
   "metadata": {},
   "outputs": [
    {
     "data": {
      "text/html": [
       "<div>\n",
       "<style scoped>\n",
       "    .dataframe tbody tr th:only-of-type {\n",
       "        vertical-align: middle;\n",
       "    }\n",
       "\n",
       "    .dataframe tbody tr th {\n",
       "        vertical-align: top;\n",
       "    }\n",
       "\n",
       "    .dataframe thead th {\n",
       "        text-align: right;\n",
       "    }\n",
       "</style>\n",
       "<table border=\"1\" class=\"dataframe\">\n",
       "  <thead>\n",
       "    <tr style=\"text-align: right;\">\n",
       "      <th></th>\n",
       "      <th>Text</th>\n",
       "    </tr>\n",
       "  </thead>\n",
       "  <tbody>\n",
       "    <tr>\n",
       "      <th>0</th>\n",
       "      <td>the legal marijuana farm set to supply medical...</td>\n",
       "    </tr>\n",
       "    <tr>\n",
       "      <th>1</th>\n",
       "      <td>the legal marijuana farm set to supply medical...</td>\n",
       "    </tr>\n",
       "    <tr>\n",
       "      <th>2</th>\n",
       "      <td>louisiana is trying to keep medical marijuana ...</td>\n",
       "    </tr>\n",
       "    <tr>\n",
       "      <th>3</th>\n",
       "      <td>rt afterthexhale economicalca i participated i...</td>\n",
       "    </tr>\n",
       "    <tr>\n",
       "      <th>4</th>\n",
       "      <td>the legal marijuana farm set to supply medical...</td>\n",
       "    </tr>\n",
       "  </tbody>\n",
       "</table>\n",
       "</div>"
      ],
      "text/plain": [
       "                                                Text\n",
       "0  the legal marijuana farm set to supply medical...\n",
       "1  the legal marijuana farm set to supply medical...\n",
       "2  louisiana is trying to keep medical marijuana ...\n",
       "3  rt afterthexhale economicalca i participated i...\n",
       "4  the legal marijuana farm set to supply medical..."
      ]
     },
     "execution_count": 112,
     "metadata": {},
     "output_type": "execute_result"
    }
   ],
   "source": [
    "# change to lower case characters on dataset\n",
    "x_raw['Text'] = x_raw.Text.apply(lambda x: x.lower())\n",
    "x_raw = x_raw.reset_index().drop(['index'],axis=1)\n",
    "x_raw.head()"
   ]
  },
  {
   "cell_type": "code",
   "execution_count": 113,
   "metadata": {},
   "outputs": [
    {
     "data": {
      "text/plain": [
       "['the legal marijuana farm set to supply medical cannabis to the uk',\n",
       " 'the legal marijuana farm set to supply medical cannabis to the uk',\n",
       " 'louisiana is trying to keep medical marijuana medical its harder than it sounds  ',\n",
       " 'rt afterthexhale economicalca i participated in an ontario landlord tenant tribunal where my landlord his attorney and his insurance ag',\n",
       " 'the legal marijuana farm set to supply medical cannabis to the uk']"
      ]
     },
     "execution_count": 113,
     "metadata": {},
     "output_type": "execute_result"
    }
   ],
   "source": [
    "rawclean=x_raw['Text'].values.tolist()\n",
    "rawclean[0:5]"
   ]
  },
  {
   "cell_type": "code",
   "execution_count": 114,
   "metadata": {},
   "outputs": [
    {
     "data": {
      "text/plain": [
       "array([[0, 0, 0, ..., 0, 0, 0],\n",
       "       [0, 0, 0, ..., 0, 0, 0],\n",
       "       [0, 0, 0, ..., 0, 0, 0],\n",
       "       ...,\n",
       "       [0, 0, 0, ..., 0, 0, 0],\n",
       "       [0, 0, 0, ..., 0, 0, 0],\n",
       "       [0, 0, 0, ..., 0, 0, 0]])"
      ]
     },
     "execution_count": 114,
     "metadata": {},
     "output_type": "execute_result"
    }
   ],
   "source": [
    "vectorizer.transform(rawclean).toarray()"
   ]
  },
  {
   "cell_type": "code",
   "execution_count": 115,
   "metadata": {},
   "outputs": [],
   "source": [
    "dfraw=pd.DataFrame(vectorizer.transform(rawclean).toarray(),columns=vectorizer.get_feature_names())"
   ]
  },
  {
   "cell_type": "code",
   "execution_count": 118,
   "metadata": {},
   "outputs": [
    {
     "data": {
      "text/html": [
       "<div>\n",
       "<style scoped>\n",
       "    .dataframe tbody tr th:only-of-type {\n",
       "        vertical-align: middle;\n",
       "    }\n",
       "\n",
       "    .dataframe tbody tr th {\n",
       "        vertical-align: top;\n",
       "    }\n",
       "\n",
       "    .dataframe thead th {\n",
       "        text-align: right;\n",
       "    }\n",
       "</style>\n",
       "<table border=\"1\" class=\"dataframe\">\n",
       "  <thead>\n",
       "    <tr style=\"text-align: right;\">\n",
       "      <th></th>\n",
       "      <th>aaro</th>\n",
       "      <th>aaron</th>\n",
       "      <th>abbyepstein</th>\n",
       "      <th>abbygoodnough</th>\n",
       "      <th>abc</th>\n",
       "      <th>abi</th>\n",
       "      <th>ability</th>\n",
       "      <th>able</th>\n",
       "      <th>abroad</th>\n",
       "      <th>absolute</th>\n",
       "      <th>...</th>\n",
       "      <th>youth</th>\n",
       "      <th>youtube</th>\n",
       "      <th>youve</th>\n",
       "      <th>yr</th>\n",
       "      <th>yrs</th>\n",
       "      <th>yvr</th>\n",
       "      <th>zaidyns</th>\n",
       "      <th>zealand</th>\n",
       "      <th>zero</th>\n",
       "      <th>zone</th>\n",
       "    </tr>\n",
       "  </thead>\n",
       "  <tbody>\n",
       "    <tr>\n",
       "      <th>0</th>\n",
       "      <td>0</td>\n",
       "      <td>0</td>\n",
       "      <td>0</td>\n",
       "      <td>0</td>\n",
       "      <td>0</td>\n",
       "      <td>0</td>\n",
       "      <td>0</td>\n",
       "      <td>0</td>\n",
       "      <td>0</td>\n",
       "      <td>0</td>\n",
       "      <td>...</td>\n",
       "      <td>0</td>\n",
       "      <td>0</td>\n",
       "      <td>0</td>\n",
       "      <td>0</td>\n",
       "      <td>0</td>\n",
       "      <td>0</td>\n",
       "      <td>0</td>\n",
       "      <td>0</td>\n",
       "      <td>0</td>\n",
       "      <td>0</td>\n",
       "    </tr>\n",
       "    <tr>\n",
       "      <th>1</th>\n",
       "      <td>0</td>\n",
       "      <td>0</td>\n",
       "      <td>0</td>\n",
       "      <td>0</td>\n",
       "      <td>0</td>\n",
       "      <td>0</td>\n",
       "      <td>0</td>\n",
       "      <td>0</td>\n",
       "      <td>0</td>\n",
       "      <td>0</td>\n",
       "      <td>...</td>\n",
       "      <td>0</td>\n",
       "      <td>0</td>\n",
       "      <td>0</td>\n",
       "      <td>0</td>\n",
       "      <td>0</td>\n",
       "      <td>0</td>\n",
       "      <td>0</td>\n",
       "      <td>0</td>\n",
       "      <td>0</td>\n",
       "      <td>0</td>\n",
       "    </tr>\n",
       "    <tr>\n",
       "      <th>2</th>\n",
       "      <td>0</td>\n",
       "      <td>0</td>\n",
       "      <td>0</td>\n",
       "      <td>0</td>\n",
       "      <td>0</td>\n",
       "      <td>0</td>\n",
       "      <td>0</td>\n",
       "      <td>0</td>\n",
       "      <td>0</td>\n",
       "      <td>0</td>\n",
       "      <td>...</td>\n",
       "      <td>0</td>\n",
       "      <td>0</td>\n",
       "      <td>0</td>\n",
       "      <td>0</td>\n",
       "      <td>0</td>\n",
       "      <td>0</td>\n",
       "      <td>0</td>\n",
       "      <td>0</td>\n",
       "      <td>0</td>\n",
       "      <td>0</td>\n",
       "    </tr>\n",
       "    <tr>\n",
       "      <th>3</th>\n",
       "      <td>0</td>\n",
       "      <td>0</td>\n",
       "      <td>0</td>\n",
       "      <td>0</td>\n",
       "      <td>0</td>\n",
       "      <td>0</td>\n",
       "      <td>0</td>\n",
       "      <td>0</td>\n",
       "      <td>0</td>\n",
       "      <td>0</td>\n",
       "      <td>...</td>\n",
       "      <td>0</td>\n",
       "      <td>0</td>\n",
       "      <td>0</td>\n",
       "      <td>0</td>\n",
       "      <td>0</td>\n",
       "      <td>0</td>\n",
       "      <td>0</td>\n",
       "      <td>0</td>\n",
       "      <td>0</td>\n",
       "      <td>0</td>\n",
       "    </tr>\n",
       "    <tr>\n",
       "      <th>4</th>\n",
       "      <td>0</td>\n",
       "      <td>0</td>\n",
       "      <td>0</td>\n",
       "      <td>0</td>\n",
       "      <td>0</td>\n",
       "      <td>0</td>\n",
       "      <td>0</td>\n",
       "      <td>0</td>\n",
       "      <td>0</td>\n",
       "      <td>0</td>\n",
       "      <td>...</td>\n",
       "      <td>0</td>\n",
       "      <td>0</td>\n",
       "      <td>0</td>\n",
       "      <td>0</td>\n",
       "      <td>0</td>\n",
       "      <td>0</td>\n",
       "      <td>0</td>\n",
       "      <td>0</td>\n",
       "      <td>0</td>\n",
       "      <td>0</td>\n",
       "    </tr>\n",
       "  </tbody>\n",
       "</table>\n",
       "<p>5 rows × 3427 columns</p>\n",
       "</div>"
      ],
      "text/plain": [
       "   aaro  aaron  abbyepstein  abbygoodnough  abc  abi  ability  able  abroad  \\\n",
       "0     0      0            0              0    0    0        0     0       0   \n",
       "1     0      0            0              0    0    0        0     0       0   \n",
       "2     0      0            0              0    0    0        0     0       0   \n",
       "3     0      0            0              0    0    0        0     0       0   \n",
       "4     0      0            0              0    0    0        0     0       0   \n",
       "\n",
       "   absolute  ...   youth  youtube  youve  yr  yrs  yvr  zaidyns  zealand  \\\n",
       "0         0  ...       0        0      0   0    0    0        0        0   \n",
       "1         0  ...       0        0      0   0    0    0        0        0   \n",
       "2         0  ...       0        0      0   0    0    0        0        0   \n",
       "3         0  ...       0        0      0   0    0    0        0        0   \n",
       "4         0  ...       0        0      0   0    0    0        0        0   \n",
       "\n",
       "   zero  zone  \n",
       "0     0     0  \n",
       "1     0     0  \n",
       "2     0     0  \n",
       "3     0     0  \n",
       "4     0     0  \n",
       "\n",
       "[5 rows x 3427 columns]"
      ]
     },
     "execution_count": 118,
     "metadata": {},
     "output_type": "execute_result"
    }
   ],
   "source": [
    "dfraw.head()"
   ]
  },
  {
   "cell_type": "code",
   "execution_count": 202,
   "metadata": {},
   "outputs": [],
   "source": [
    "prediction = algorithm_a.predict(dfraw)"
   ]
  },
  {
   "cell_type": "code",
   "execution_count": 203,
   "metadata": {},
   "outputs": [
    {
     "name": "stdout",
     "output_type": "stream",
     "text": [
      "[1 1 1 ... 1 1 1]\n"
     ]
    }
   ],
   "source": [
    "print (prediction)"
   ]
  }
 ],
 "metadata": {
  "kernelspec": {
   "display_name": "Python 3",
   "language": "python",
   "name": "python3"
  },
  "language_info": {
   "codemirror_mode": {
    "name": "ipython",
    "version": 3
   },
   "file_extension": ".py",
   "mimetype": "text/x-python",
   "name": "python",
   "nbconvert_exporter": "python",
   "pygments_lexer": "ipython3",
   "version": "3.7.1"
  }
 },
 "nbformat": 4,
 "nbformat_minor": 2
}
